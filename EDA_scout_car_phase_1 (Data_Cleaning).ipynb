{
 "cells": [
  {
   "cell_type": "markdown",
   "id": "9b923fda-b8fc-4372-ab14-f48b633676f6",
   "metadata": {},
   "source": [
    "## What is Exploratory Data Analysis?"
   ]
  },
  {
   "cell_type": "markdown",
   "id": "f38da288-eb38-40cb-aae9-48214c376652",
   "metadata": {},
   "source": [
    "Exploratory Data Analysis (EDA), also known as Data Exploration, is a step in the Data Analysis Process,\n",
    "where a number of techniques are used to better understand the dataset being used.\n",
    "Exploratory Data Analysis does two main things:\n",
    "\n",
    "It helps clean up a dataset.\n",
    "It gives you a better understanding of the variables and the relationships between them.\n",
    "\n",
    "The project consists of 3 parts:\n",
    "\n",
    "   -First part is related to 'data cleaning'     \n",
    "   -Second part is related to 'filling data'       \n",
    "   -Third part is related to 'handling outliers of data'"
   ]
  },
  {
   "cell_type": "markdown",
   "id": "d34f595c-aa43-430b-893c-397233a49c09",
   "metadata": {},
   "source": [
    "### Importing Libraries Needed in This Notebook"
   ]
  },
  {
   "cell_type": "code",
   "execution_count": 1,
   "id": "218620b6",
   "metadata": {},
   "outputs": [],
   "source": [
    "import numpy as np\n",
    "import pandas as pd\n",
    "import matplotlib.pyplot as plt\n",
    "import seaborn as sns\n",
    "\n",
    "import matplotlib.pyplot as plt\n",
    "plt.style.use('seaborn-whitegrid')\n",
    "import seaborn as sbn \n",
    "sbn.set_style('whitegrid')\n",
    "%matplotlib inline\n",
    "\n",
    "import warnings\n",
    "warnings.filterwarnings(\"ignore\")\n",
    "warnings.warn(\"this will not show\")\n",
    "\n",
    "# Set it None to display all rows in the dataframe\n",
    "# pd.set_option('display.max_rows', None)\n",
    "\n",
    "# Set it to None to display all columns in the dataframe\n",
    "pd.set_option('display.max_columns', None)"
   ]
  },
  {
   "cell_type": "code",
   "execution_count": 2,
   "id": "b363cd23",
   "metadata": {},
   "outputs": [],
   "source": [
    "df0 = pd.read_json(\"as24_cars.json\")\n",
    "df = df0.copy()"
   ]
  },
  {
   "cell_type": "code",
   "execution_count": 3,
   "id": "05db55fe-5155-41bf-98b8-f2b2affd1d93",
   "metadata": {},
   "outputs": [
    {
     "data": {
      "text/html": [
       "<div>\n",
       "<style scoped>\n",
       "    .dataframe tbody tr th:only-of-type {\n",
       "        vertical-align: middle;\n",
       "    }\n",
       "\n",
       "    .dataframe tbody tr th {\n",
       "        vertical-align: top;\n",
       "    }\n",
       "\n",
       "    .dataframe thead th {\n",
       "        text-align: right;\n",
       "    }\n",
       "</style>\n",
       "<table border=\"1\" class=\"dataframe\">\n",
       "  <thead>\n",
       "    <tr style=\"text-align: right;\">\n",
       "      <th></th>\n",
       "      <th>0</th>\n",
       "      <th>1</th>\n",
       "      <th>2</th>\n",
       "    </tr>\n",
       "  </thead>\n",
       "  <tbody>\n",
       "    <tr>\n",
       "      <th>make_model</th>\n",
       "      <td>Mercedes-Benz A 160</td>\n",
       "      <td>Mercedes-Benz EQE 350</td>\n",
       "      <td>Mercedes-Benz A 45 AMG</td>\n",
       "    </tr>\n",
       "    <tr>\n",
       "      <th>short_description</th>\n",
       "      <td>CDi</td>\n",
       "      <td>350+</td>\n",
       "      <td>S 4Matic+ 8G-DCT</td>\n",
       "    </tr>\n",
       "    <tr>\n",
       "      <th>make</th>\n",
       "      <td>\\nMercedes-Benz\\n</td>\n",
       "      <td>\\nMercedes-Benz\\n</td>\n",
       "      <td>\\nMercedes-Benz\\n</td>\n",
       "    </tr>\n",
       "    <tr>\n",
       "      <th>model</th>\n",
       "      <td>[\\n, A 160 ,\\n]</td>\n",
       "      <td>[\\n, EQE 350 ,\\n]</td>\n",
       "      <td>[\\n, A 45 AMG ,\\n]</td>\n",
       "    </tr>\n",
       "    <tr>\n",
       "      <th>location</th>\n",
       "      <td>P.I. EL PALMAR C/FORJA 6,  11500 PUERTO DE SAN...</td>\n",
       "      <td>APARTADO DE CORREOS 1032,  26140 LOGROÑO, ES</td>\n",
       "      <td>PORT. TARRACO, MOLL DE LLEVANT, Nº 5, LOC. 6-8...</td>\n",
       "    </tr>\n",
       "    <tr>\n",
       "      <th>price</th>\n",
       "      <td>€ 16,950.-</td>\n",
       "      <td>€ 80,900.-</td>\n",
       "      <td>€ 69,900.-</td>\n",
       "    </tr>\n",
       "    <tr>\n",
       "      <th>Body type</th>\n",
       "      <td>[\\n, Compact, \\n]</td>\n",
       "      <td>[\\n, Compact, \\n]</td>\n",
       "      <td>[\\n, Compact, \\n]</td>\n",
       "    </tr>\n",
       "    <tr>\n",
       "      <th>Type</th>\n",
       "      <td>[\\n, Used, \\n]</td>\n",
       "      <td>[\\n, Pre-registered, \\n]</td>\n",
       "      <td>[\\n, Used, \\n]</td>\n",
       "    </tr>\n",
       "    <tr>\n",
       "      <th>Doors</th>\n",
       "      <td>[\\n, 5, \\n]</td>\n",
       "      <td>[\\n, 4, \\n]</td>\n",
       "      <td>[\\n, 5, \\n]</td>\n",
       "    </tr>\n",
       "    <tr>\n",
       "      <th>Country version</th>\n",
       "      <td>[\\n, Spain, \\n]</td>\n",
       "      <td>[\\n, Spain, \\n]</td>\n",
       "      <td>[\\n, Spain, \\n]</td>\n",
       "    </tr>\n",
       "    <tr>\n",
       "      <th>Offer number</th>\n",
       "      <td>[\\n, 7468157, \\n]</td>\n",
       "      <td>[\\n, 7054863, \\n]</td>\n",
       "      <td>[\\n, 7410454, \\n]</td>\n",
       "    </tr>\n",
       "    <tr>\n",
       "      <th>Warranty</th>\n",
       "      <td>[\\n, 24 months, \\n]</td>\n",
       "      <td>[\\n, 24 months, \\n]</td>\n",
       "      <td>[\\n, 12 months, \\n]</td>\n",
       "    </tr>\n",
       "    <tr>\n",
       "      <th>Mileage</th>\n",
       "      <td>120,200 km</td>\n",
       "      <td>5,000 km</td>\n",
       "      <td>18,900 km</td>\n",
       "    </tr>\n",
       "    <tr>\n",
       "      <th>First registration</th>\n",
       "      <td>06/2016</td>\n",
       "      <td>06/2022</td>\n",
       "      <td>07/2020</td>\n",
       "    </tr>\n",
       "    <tr>\n",
       "      <th>Gearbox</th>\n",
       "      <td>[\\nManual\\n]</td>\n",
       "      <td>[\\nAutomatic\\n]</td>\n",
       "      <td>[\\nAutomatic\\n]</td>\n",
       "    </tr>\n",
       "    <tr>\n",
       "      <th>Fuel type</th>\n",
       "      <td>Diesel</td>\n",
       "      <td>Electric</td>\n",
       "      <td>Gasoline</td>\n",
       "    </tr>\n",
       "    <tr>\n",
       "      <th>Colour</th>\n",
       "      <td>Black</td>\n",
       "      <td>NaN</td>\n",
       "      <td>Grey</td>\n",
       "    </tr>\n",
       "    <tr>\n",
       "      <th>Paint</th>\n",
       "      <td>Metallic</td>\n",
       "      <td>NaN</td>\n",
       "      <td>NaN</td>\n",
       "    </tr>\n",
       "    <tr>\n",
       "      <th>desc</th>\n",
       "      <td>[ , Precio al contado: 16950 euros,  ,  , Vehí...</td>\n",
       "      <td>[ , Precio al contado: 88900 euros,  , AUTO OJ...</td>\n",
       "      <td>[Gris MANUFAKTUR mountaingrau magno,  , Linea/...</td>\n",
       "    </tr>\n",
       "    <tr>\n",
       "      <th>seller</th>\n",
       "      <td>Dealer</td>\n",
       "      <td>Dealer</td>\n",
       "      <td>Dealer</td>\n",
       "    </tr>\n",
       "    <tr>\n",
       "      <th>Seats</th>\n",
       "      <td>NaN</td>\n",
       "      <td>[\\n, 5, \\n]</td>\n",
       "      <td>[\\n, 5, \\n]</td>\n",
       "    </tr>\n",
       "    <tr>\n",
       "      <th>Power</th>\n",
       "      <td>NaN</td>\n",
       "      <td>[\\n215 kW (292 hp)\\n]</td>\n",
       "      <td>[\\n310 kW (421 hp)\\n]</td>\n",
       "    </tr>\n",
       "    <tr>\n",
       "      <th>Engine size</th>\n",
       "      <td>NaN</td>\n",
       "      <td>[\\n1 cc\\n]</td>\n",
       "      <td>[\\n1,991 cc\\n]</td>\n",
       "    </tr>\n",
       "    <tr>\n",
       "      <th>Gears</th>\n",
       "      <td>NaN</td>\n",
       "      <td>[\\n9\\n]</td>\n",
       "      <td>[\\n8\\n]</td>\n",
       "    </tr>\n",
       "    <tr>\n",
       "      <th>CO₂-emissions</th>\n",
       "      <td>NaN</td>\n",
       "      <td>0 g/km (comb.)</td>\n",
       "      <td>NaN</td>\n",
       "    </tr>\n",
       "    <tr>\n",
       "      <th>Manufacturer colour</th>\n",
       "      <td>NaN</td>\n",
       "      <td>Negro Obsidiana</td>\n",
       "      <td>Mountaingrau magno</td>\n",
       "    </tr>\n",
       "    <tr>\n",
       "      <th>Drivetrain</th>\n",
       "      <td>NaN</td>\n",
       "      <td>NaN</td>\n",
       "      <td>[\\n, 4WD, \\n]</td>\n",
       "    </tr>\n",
       "    <tr>\n",
       "      <th>Cylinders</th>\n",
       "      <td>NaN</td>\n",
       "      <td>NaN</td>\n",
       "      <td>[\\n4\\n]</td>\n",
       "    </tr>\n",
       "    <tr>\n",
       "      <th>Fuel consumption</th>\n",
       "      <td>NaN</td>\n",
       "      <td>NaN</td>\n",
       "      <td>[[8.4 l/100 km (comb.)], [10.9 l/100 km (city)...</td>\n",
       "    </tr>\n",
       "    <tr>\n",
       "      <th>\\nComfort &amp; Convenience\\n</th>\n",
       "      <td>NaN</td>\n",
       "      <td>NaN</td>\n",
       "      <td>NaN</td>\n",
       "    </tr>\n",
       "    <tr>\n",
       "      <th>\\nEntertainment &amp; Media\\n</th>\n",
       "      <td>NaN</td>\n",
       "      <td>NaN</td>\n",
       "      <td>NaN</td>\n",
       "    </tr>\n",
       "    <tr>\n",
       "      <th>\\nSafety &amp; Security\\n</th>\n",
       "      <td>NaN</td>\n",
       "      <td>NaN</td>\n",
       "      <td>NaN</td>\n",
       "    </tr>\n",
       "    <tr>\n",
       "      <th>\\nExtras\\n</th>\n",
       "      <td>NaN</td>\n",
       "      <td>NaN</td>\n",
       "      <td>NaN</td>\n",
       "    </tr>\n",
       "    <tr>\n",
       "      <th>Empty weight</th>\n",
       "      <td>NaN</td>\n",
       "      <td>NaN</td>\n",
       "      <td>NaN</td>\n",
       "    </tr>\n",
       "    <tr>\n",
       "      <th>Model code</th>\n",
       "      <td>NaN</td>\n",
       "      <td>NaN</td>\n",
       "      <td>NaN</td>\n",
       "    </tr>\n",
       "    <tr>\n",
       "      <th>General inspection</th>\n",
       "      <td>NaN</td>\n",
       "      <td>NaN</td>\n",
       "      <td>NaN</td>\n",
       "    </tr>\n",
       "    <tr>\n",
       "      <th>Last service</th>\n",
       "      <td>NaN</td>\n",
       "      <td>NaN</td>\n",
       "      <td>NaN</td>\n",
       "    </tr>\n",
       "    <tr>\n",
       "      <th>Full service history</th>\n",
       "      <td>NaN</td>\n",
       "      <td>NaN</td>\n",
       "      <td>NaN</td>\n",
       "    </tr>\n",
       "    <tr>\n",
       "      <th>Non-smoker vehicle</th>\n",
       "      <td>NaN</td>\n",
       "      <td>NaN</td>\n",
       "      <td>NaN</td>\n",
       "    </tr>\n",
       "    <tr>\n",
       "      <th>Emission class</th>\n",
       "      <td>NaN</td>\n",
       "      <td>NaN</td>\n",
       "      <td>NaN</td>\n",
       "    </tr>\n",
       "    <tr>\n",
       "      <th>Emissions sticker</th>\n",
       "      <td>NaN</td>\n",
       "      <td>NaN</td>\n",
       "      <td>NaN</td>\n",
       "    </tr>\n",
       "    <tr>\n",
       "      <th>Upholstery colour</th>\n",
       "      <td>NaN</td>\n",
       "      <td>NaN</td>\n",
       "      <td>NaN</td>\n",
       "    </tr>\n",
       "    <tr>\n",
       "      <th>Upholstery</th>\n",
       "      <td>NaN</td>\n",
       "      <td>NaN</td>\n",
       "      <td>NaN</td>\n",
       "    </tr>\n",
       "    <tr>\n",
       "      <th>Production date</th>\n",
       "      <td>NaN</td>\n",
       "      <td>NaN</td>\n",
       "      <td>NaN</td>\n",
       "    </tr>\n",
       "    <tr>\n",
       "      <th>Previous owner</th>\n",
       "      <td>NaN</td>\n",
       "      <td>NaN</td>\n",
       "      <td>NaN</td>\n",
       "    </tr>\n",
       "    <tr>\n",
       "      <th>Other fuel types</th>\n",
       "      <td>NaN</td>\n",
       "      <td>NaN</td>\n",
       "      <td>NaN</td>\n",
       "    </tr>\n",
       "    <tr>\n",
       "      <th>Power consumption</th>\n",
       "      <td>NaN</td>\n",
       "      <td>NaN</td>\n",
       "      <td>NaN</td>\n",
       "    </tr>\n",
       "    <tr>\n",
       "      <th>Energy efficiency class</th>\n",
       "      <td>NaN</td>\n",
       "      <td>NaN</td>\n",
       "      <td>NaN</td>\n",
       "    </tr>\n",
       "    <tr>\n",
       "      <th>CO₂-efficiency</th>\n",
       "      <td>NaN</td>\n",
       "      <td>NaN</td>\n",
       "      <td>NaN</td>\n",
       "    </tr>\n",
       "    <tr>\n",
       "      <th>Fuel consumption (WLTP)</th>\n",
       "      <td>NaN</td>\n",
       "      <td>NaN</td>\n",
       "      <td>NaN</td>\n",
       "    </tr>\n",
       "    <tr>\n",
       "      <th>CO₂-emissions (WLTP)</th>\n",
       "      <td>NaN</td>\n",
       "      <td>NaN</td>\n",
       "      <td>NaN</td>\n",
       "    </tr>\n",
       "    <tr>\n",
       "      <th>Available from</th>\n",
       "      <td>NaN</td>\n",
       "      <td>NaN</td>\n",
       "      <td>NaN</td>\n",
       "    </tr>\n",
       "    <tr>\n",
       "      <th>Taxi or rental car</th>\n",
       "      <td>NaN</td>\n",
       "      <td>NaN</td>\n",
       "      <td>NaN</td>\n",
       "    </tr>\n",
       "    <tr>\n",
       "      <th>Availability</th>\n",
       "      <td>NaN</td>\n",
       "      <td>NaN</td>\n",
       "      <td>NaN</td>\n",
       "    </tr>\n",
       "    <tr>\n",
       "      <th>Last timing belt change</th>\n",
       "      <td>NaN</td>\n",
       "      <td>NaN</td>\n",
       "      <td>NaN</td>\n",
       "    </tr>\n",
       "    <tr>\n",
       "      <th>Electric Range (WLTP)</th>\n",
       "      <td>NaN</td>\n",
       "      <td>NaN</td>\n",
       "      <td>NaN</td>\n",
       "    </tr>\n",
       "    <tr>\n",
       "      <th>Power consumption (WLTP)</th>\n",
       "      <td>NaN</td>\n",
       "      <td>NaN</td>\n",
       "      <td>NaN</td>\n",
       "    </tr>\n",
       "    <tr>\n",
       "      <th>Battery Ownership</th>\n",
       "      <td>NaN</td>\n",
       "      <td>NaN</td>\n",
       "      <td>NaN</td>\n",
       "    </tr>\n",
       "  </tbody>\n",
       "</table>\n",
       "</div>"
      ],
      "text/plain": [
       "                                                                           0  \\\n",
       "make_model                                               Mercedes-Benz A 160   \n",
       "short_description                                                        CDi   \n",
       "make                                                       \\nMercedes-Benz\\n   \n",
       "model                                                        [\\n, A 160 ,\\n]   \n",
       "location                   P.I. EL PALMAR C/FORJA 6,  11500 PUERTO DE SAN...   \n",
       "price                                                             € 16,950.-   \n",
       "Body type                                                  [\\n, Compact, \\n]   \n",
       "Type                                                          [\\n, Used, \\n]   \n",
       "Doors                                                            [\\n, 5, \\n]   \n",
       "Country version                                              [\\n, Spain, \\n]   \n",
       "Offer number                                               [\\n, 7468157, \\n]   \n",
       "Warranty                                                 [\\n, 24 months, \\n]   \n",
       "Mileage                                                           120,200 km   \n",
       "First registration                                                   06/2016   \n",
       "Gearbox                                                         [\\nManual\\n]   \n",
       "Fuel type                                                             Diesel   \n",
       "Colour                                                                 Black   \n",
       "Paint                                                               Metallic   \n",
       "desc                       [ , Precio al contado: 16950 euros,  ,  , Vehí...   \n",
       "seller                                                                Dealer   \n",
       "Seats                                                                    NaN   \n",
       "Power                                                                    NaN   \n",
       "Engine size                                                              NaN   \n",
       "Gears                                                                    NaN   \n",
       "CO₂-emissions                                                            NaN   \n",
       "Manufacturer colour                                                      NaN   \n",
       "Drivetrain                                                               NaN   \n",
       "Cylinders                                                                NaN   \n",
       "Fuel consumption                                                         NaN   \n",
       "\\nComfort & Convenience\\n                                                NaN   \n",
       "\\nEntertainment & Media\\n                                                NaN   \n",
       "\\nSafety & Security\\n                                                    NaN   \n",
       "\\nExtras\\n                                                               NaN   \n",
       "Empty weight                                                             NaN   \n",
       "Model code                                                               NaN   \n",
       "General inspection                                                       NaN   \n",
       "Last service                                                             NaN   \n",
       "Full service history                                                     NaN   \n",
       "Non-smoker vehicle                                                       NaN   \n",
       "Emission class                                                           NaN   \n",
       "Emissions sticker                                                        NaN   \n",
       "Upholstery colour                                                        NaN   \n",
       "Upholstery                                                               NaN   \n",
       "Production date                                                          NaN   \n",
       "Previous owner                                                           NaN   \n",
       "Other fuel types                                                         NaN   \n",
       "Power consumption                                                        NaN   \n",
       "Energy efficiency class                                                  NaN   \n",
       "CO₂-efficiency                                                           NaN   \n",
       "Fuel consumption (WLTP)                                                  NaN   \n",
       "CO₂-emissions (WLTP)                                                     NaN   \n",
       "Available from                                                           NaN   \n",
       "Taxi or rental car                                                       NaN   \n",
       "Availability                                                             NaN   \n",
       "Last timing belt change                                                  NaN   \n",
       "Electric Range (WLTP)                                                    NaN   \n",
       "Power consumption (WLTP)                                                 NaN   \n",
       "Battery Ownership                                                        NaN   \n",
       "\n",
       "                                                                           1  \\\n",
       "make_model                                             Mercedes-Benz EQE 350   \n",
       "short_description                                                       350+   \n",
       "make                                                       \\nMercedes-Benz\\n   \n",
       "model                                                      [\\n, EQE 350 ,\\n]   \n",
       "location                        APARTADO DE CORREOS 1032,  26140 LOGROÑO, ES   \n",
       "price                                                             € 80,900.-   \n",
       "Body type                                                  [\\n, Compact, \\n]   \n",
       "Type                                                [\\n, Pre-registered, \\n]   \n",
       "Doors                                                            [\\n, 4, \\n]   \n",
       "Country version                                              [\\n, Spain, \\n]   \n",
       "Offer number                                               [\\n, 7054863, \\n]   \n",
       "Warranty                                                 [\\n, 24 months, \\n]   \n",
       "Mileage                                                             5,000 km   \n",
       "First registration                                                   06/2022   \n",
       "Gearbox                                                      [\\nAutomatic\\n]   \n",
       "Fuel type                                                           Electric   \n",
       "Colour                                                                   NaN   \n",
       "Paint                                                                    NaN   \n",
       "desc                       [ , Precio al contado: 88900 euros,  , AUTO OJ...   \n",
       "seller                                                                Dealer   \n",
       "Seats                                                            [\\n, 5, \\n]   \n",
       "Power                                                  [\\n215 kW (292 hp)\\n]   \n",
       "Engine size                                                       [\\n1 cc\\n]   \n",
       "Gears                                                                [\\n9\\n]   \n",
       "CO₂-emissions                                                 0 g/km (comb.)   \n",
       "Manufacturer colour                                          Negro Obsidiana   \n",
       "Drivetrain                                                               NaN   \n",
       "Cylinders                                                                NaN   \n",
       "Fuel consumption                                                         NaN   \n",
       "\\nComfort & Convenience\\n                                                NaN   \n",
       "\\nEntertainment & Media\\n                                                NaN   \n",
       "\\nSafety & Security\\n                                                    NaN   \n",
       "\\nExtras\\n                                                               NaN   \n",
       "Empty weight                                                             NaN   \n",
       "Model code                                                               NaN   \n",
       "General inspection                                                       NaN   \n",
       "Last service                                                             NaN   \n",
       "Full service history                                                     NaN   \n",
       "Non-smoker vehicle                                                       NaN   \n",
       "Emission class                                                           NaN   \n",
       "Emissions sticker                                                        NaN   \n",
       "Upholstery colour                                                        NaN   \n",
       "Upholstery                                                               NaN   \n",
       "Production date                                                          NaN   \n",
       "Previous owner                                                           NaN   \n",
       "Other fuel types                                                         NaN   \n",
       "Power consumption                                                        NaN   \n",
       "Energy efficiency class                                                  NaN   \n",
       "CO₂-efficiency                                                           NaN   \n",
       "Fuel consumption (WLTP)                                                  NaN   \n",
       "CO₂-emissions (WLTP)                                                     NaN   \n",
       "Available from                                                           NaN   \n",
       "Taxi or rental car                                                       NaN   \n",
       "Availability                                                             NaN   \n",
       "Last timing belt change                                                  NaN   \n",
       "Electric Range (WLTP)                                                    NaN   \n",
       "Power consumption (WLTP)                                                 NaN   \n",
       "Battery Ownership                                                        NaN   \n",
       "\n",
       "                                                                           2  \n",
       "make_model                                            Mercedes-Benz A 45 AMG  \n",
       "short_description                                           S 4Matic+ 8G-DCT  \n",
       "make                                                       \\nMercedes-Benz\\n  \n",
       "model                                                     [\\n, A 45 AMG ,\\n]  \n",
       "location                   PORT. TARRACO, MOLL DE LLEVANT, Nº 5, LOC. 6-8...  \n",
       "price                                                             € 69,900.-  \n",
       "Body type                                                  [\\n, Compact, \\n]  \n",
       "Type                                                          [\\n, Used, \\n]  \n",
       "Doors                                                            [\\n, 5, \\n]  \n",
       "Country version                                              [\\n, Spain, \\n]  \n",
       "Offer number                                               [\\n, 7410454, \\n]  \n",
       "Warranty                                                 [\\n, 12 months, \\n]  \n",
       "Mileage                                                            18,900 km  \n",
       "First registration                                                   07/2020  \n",
       "Gearbox                                                      [\\nAutomatic\\n]  \n",
       "Fuel type                                                           Gasoline  \n",
       "Colour                                                                  Grey  \n",
       "Paint                                                                    NaN  \n",
       "desc                       [Gris MANUFAKTUR mountaingrau magno,  , Linea/...  \n",
       "seller                                                                Dealer  \n",
       "Seats                                                            [\\n, 5, \\n]  \n",
       "Power                                                  [\\n310 kW (421 hp)\\n]  \n",
       "Engine size                                                   [\\n1,991 cc\\n]  \n",
       "Gears                                                                [\\n8\\n]  \n",
       "CO₂-emissions                                                            NaN  \n",
       "Manufacturer colour                                       Mountaingrau magno  \n",
       "Drivetrain                                                     [\\n, 4WD, \\n]  \n",
       "Cylinders                                                            [\\n4\\n]  \n",
       "Fuel consumption           [[8.4 l/100 km (comb.)], [10.9 l/100 km (city)...  \n",
       "\\nComfort & Convenience\\n                                                NaN  \n",
       "\\nEntertainment & Media\\n                                                NaN  \n",
       "\\nSafety & Security\\n                                                    NaN  \n",
       "\\nExtras\\n                                                               NaN  \n",
       "Empty weight                                                             NaN  \n",
       "Model code                                                               NaN  \n",
       "General inspection                                                       NaN  \n",
       "Last service                                                             NaN  \n",
       "Full service history                                                     NaN  \n",
       "Non-smoker vehicle                                                       NaN  \n",
       "Emission class                                                           NaN  \n",
       "Emissions sticker                                                        NaN  \n",
       "Upholstery colour                                                        NaN  \n",
       "Upholstery                                                               NaN  \n",
       "Production date                                                          NaN  \n",
       "Previous owner                                                           NaN  \n",
       "Other fuel types                                                         NaN  \n",
       "Power consumption                                                        NaN  \n",
       "Energy efficiency class                                                  NaN  \n",
       "CO₂-efficiency                                                           NaN  \n",
       "Fuel consumption (WLTP)                                                  NaN  \n",
       "CO₂-emissions (WLTP)                                                     NaN  \n",
       "Available from                                                           NaN  \n",
       "Taxi or rental car                                                       NaN  \n",
       "Availability                                                             NaN  \n",
       "Last timing belt change                                                  NaN  \n",
       "Electric Range (WLTP)                                                    NaN  \n",
       "Power consumption (WLTP)                                                 NaN  \n",
       "Battery Ownership                                                        NaN  "
      ]
     },
     "execution_count": 3,
     "metadata": {},
     "output_type": "execute_result"
    }
   ],
   "source": [
    "df.head(3).T"
   ]
  },
  {
   "cell_type": "code",
   "execution_count": 4,
   "id": "8002fca7",
   "metadata": {},
   "outputs": [],
   "source": [
    "df.rename(columns={\"make_model\" : \"Make_Model\",\n",
    "                   \"short_description\" : \"Short_Description\", \"make\" : \"Make\", \"model\" : \"Model\",\n",
    "                   \"location\" : \"Location\",\n",
    "                   \"price\" : \"Price\",\n",
    "                   \"Body type\": \"Body_Type\",\n",
    "                   \"Country version\" : \"Country_Version\",\n",
    "                   'Offer number' :\"Offer_Number\",\n",
    "                   'First registration' :\"First_Registration\",\n",
    "                   \"Fuel type\" : \"Fuel_Type\",\n",
    "                   \"desc\" : \"Desc\",\n",
    "                   \"seller\" : \"Seller\",\n",
    "                   \"Engine size\" : \"Engine_Size\",\n",
    "                   \"CO₂-emissions\" : \"CO2_Emissions\",\n",
    "                   \"Manufacturer colour\" : \"Manufacturer_Colour\",\n",
    "                   \"Fuel consumption\":\"Fuel_Consumption\",\n",
    "                   \"\\nComfort & Convenience\\n\" : \"Comfort_Convenience\",\n",
    "                   \"\\nEntertainment & Media\\n\" : \"Entertainment_Media\",\n",
    "                   \"\\nSafety & Security\\n\" : \"Safety_Security\",\n",
    "                   \"\\nExtras\\n\" : \"Extras\",\n",
    "                   \"Empty weight\" : \"Empty_Weight\",\n",
    "                   \"Model code\" : \"Model_Code\",\n",
    "                   \"General inspection\" : \"General_Inspection\",\n",
    "                   \"Last service\" : \"Last_Service\",\n",
    "                   \"Full service history\" : \"Full_Service_History\",\n",
    "                   \"Non-smoker vehicle\" : \"Non_Smoker_Vehicle\",\n",
    "                   \"Emission class\" : \"Emission_Class\",\n",
    "                   \"Emissions sticker\" : \"Emissions_Sticker\",\n",
    "                   \"Upholstery colour\" : \"Upholstery_Colour\",\n",
    "                   \"Production date\" : \"Production_Date\",\n",
    "                   \"Previous owner\" : \"Previous_Owner\",\n",
    "                   \"Other fuel types\" : \"Other_Fuel_Types\",\n",
    "                   \"Power consumption\" : \"Power_Consumption\",\n",
    "                   \"Energy efficiency class\" : \"Energy_Efficiency_Class\",\n",
    "                   \"CO₂-efficiency\" : \"CO2_Efficiency\",\n",
    "                   \"Fuel consumption (WLTP)\" : \"Fuel_Consumption_WLTP\",\n",
    "                   \"CO₂-emissions (WLTP)\" : \"CO2_Emissions_WLTP\",\n",
    "                   \"Available from\" : \"Available_From\",\n",
    "                   \"Taxi or rental car\" : \"Taxi_Rental_Car\",\n",
    "                   \"Last timing belt change\" : \"Last_Timing_Belt_Change\",\n",
    "                   \"Electric Range (WLTP)\" : \"Electric_Range\",\n",
    "                   \"Power consumption (WLTP)\" : \"Power_Consumption_WLTP\",\n",
    "                   \"Battery Ownership\" : \"Battery_Ownership\",\n",
    "                   },\n",
    "          inplace = True)"
   ]
  },
  {
   "cell_type": "code",
   "execution_count": 5,
   "id": "953eb315",
   "metadata": {},
   "outputs": [
    {
     "data": {
      "text/plain": [
       "Index(['Make_Model', 'Short_Description', 'Make', 'Model', 'Location', 'Price',\n",
       "       'Body_Type', 'Type', 'Doors', 'Country_Version', 'Offer_Number',\n",
       "       'Warranty', 'Mileage', 'First_Registration', 'Gearbox', 'Fuel_Type',\n",
       "       'Colour', 'Paint', 'Desc', 'Seller', 'Seats', 'Power', 'Engine_Size',\n",
       "       'Gears', 'CO2_Emissions', 'Manufacturer_Colour', 'Drivetrain',\n",
       "       'Cylinders', 'Fuel_Consumption', 'Comfort_Convenience',\n",
       "       'Entertainment_Media', 'Safety_Security', 'Extras', 'Empty_Weight',\n",
       "       'Model_Code', 'General_Inspection', 'Last_Service',\n",
       "       'Full_Service_History', 'Non_Smoker_Vehicle', 'Emission_Class',\n",
       "       'Emissions_Sticker', 'Upholstery_Colour', 'Upholstery',\n",
       "       'Production_Date', 'Previous_Owner', 'Other_Fuel_Types',\n",
       "       'Power_Consumption', 'Energy_Efficiency_Class', 'CO2_Efficiency',\n",
       "       'Fuel_Consumption_WLTP', 'CO2_Emissions_WLTP', 'Available_From',\n",
       "       'Taxi_Rental_Car', 'Availability', 'Last_Timing_Belt_Change',\n",
       "       'Electric_Range', 'Power_Consumption_WLTP', 'Battery_Ownership'],\n",
       "      dtype='object')"
      ]
     },
     "execution_count": 5,
     "metadata": {},
     "output_type": "execute_result"
    }
   ],
   "source": [
    "df.columns"
   ]
  },
  {
   "cell_type": "code",
   "execution_count": 6,
   "id": "30d35861",
   "metadata": {},
   "outputs": [
    {
     "data": {
      "text/plain": [
       "(29480, 58)"
      ]
     },
     "execution_count": 6,
     "metadata": {},
     "output_type": "execute_result"
    }
   ],
   "source": [
    "df.shape"
   ]
  },
  {
   "cell_type": "code",
   "execution_count": 7,
   "id": "78d43327",
   "metadata": {},
   "outputs": [
    {
     "name": "stdout",
     "output_type": "stream",
     "text": [
      "<class 'pandas.core.frame.DataFrame'>\n",
      "RangeIndex: 29480 entries, 0 to 29479\n",
      "Data columns (total 58 columns):\n",
      " #   Column                   Non-Null Count  Dtype  \n",
      "---  ------                   --------------  -----  \n",
      " 0   Make_Model               28630 non-null  object \n",
      " 1   Short_Description        28630 non-null  object \n",
      " 2   Make                     28630 non-null  object \n",
      " 3   Model                    28630 non-null  object \n",
      " 4   Location                 28630 non-null  object \n",
      " 5   Price                    28630 non-null  object \n",
      " 6   Body_Type                28630 non-null  object \n",
      " 7   Type                     28630 non-null  object \n",
      " 8   Doors                    28271 non-null  object \n",
      " 9   Country_Version          16889 non-null  object \n",
      " 10  Offer_Number             23100 non-null  object \n",
      " 11  Warranty                 15784 non-null  object \n",
      " 12  Mileage                  28629 non-null  object \n",
      " 13  First_Registration       28628 non-null  object \n",
      " 14  Gearbox                  28382 non-null  object \n",
      " 15  Fuel_Type                26843 non-null  object \n",
      " 16  Colour                   26906 non-null  object \n",
      " 17  Paint                    14495 non-null  object \n",
      " 18  Desc                     28047 non-null  object \n",
      " 19  Seller                   28630 non-null  object \n",
      " 20  Seats                    25505 non-null  object \n",
      " 21  Power                    28058 non-null  object \n",
      " 22  Engine_Size              27227 non-null  object \n",
      " 23  Gears                    18954 non-null  object \n",
      " 24  CO2_Emissions            18594 non-null  object \n",
      " 25  Manufacturer_Colour      21787 non-null  object \n",
      " 26  Drivetrain               16893 non-null  object \n",
      " 27  Cylinders                18852 non-null  object \n",
      " 28  Fuel_Consumption         23385 non-null  object \n",
      " 29  Comfort_Convenience      25433 non-null  object \n",
      " 30  Entertainment_Media      23644 non-null  object \n",
      " 31  Safety_Security          25415 non-null  object \n",
      " 32  Extras                   23480 non-null  object \n",
      " 33  Empty_Weight             17758 non-null  object \n",
      " 34  Model_Code               8367 non-null   object \n",
      " 35  General_Inspection       12254 non-null  object \n",
      " 36  Last_Service             2003 non-null   object \n",
      " 37  Full_Service_History     12565 non-null  object \n",
      " 38  Non_Smoker_Vehicle       11594 non-null  object \n",
      " 39  Emission_Class           17859 non-null  object \n",
      " 40  Emissions_Sticker        9414 non-null   object \n",
      " 41  Upholstery_Colour        14569 non-null  object \n",
      " 42  Upholstery               18610 non-null  object \n",
      " 43  Production_Date          5908 non-null   float64\n",
      " 44  Previous_Owner           14015 non-null  object \n",
      " 45  Other_Fuel_Types         2313 non-null   object \n",
      " 46  Power_Consumption        515 non-null    object \n",
      " 47  Energy_Efficiency_Class  7804 non-null   object \n",
      " 48  CO2_Efficiency           7804 non-null   object \n",
      " 49  Fuel_Consumption_WLTP    100 non-null    object \n",
      " 50  CO2_Emissions_WLTP       116 non-null    object \n",
      " 51  Available_From           393 non-null    object \n",
      " 52  Taxi_Rental_Car          422 non-null    object \n",
      " 53  Availability             301 non-null    object \n",
      " 54  Last_Timing_Belt_Change  572 non-null    object \n",
      " 55  Electric_Range           16 non-null     object \n",
      " 56  Power_Consumption_WLTP   16 non-null     object \n",
      " 57  Battery_Ownership        7 non-null      object \n",
      "dtypes: float64(1), object(57)\n",
      "memory usage: 13.0+ MB\n"
     ]
    }
   ],
   "source": [
    "df.info()"
   ]
  },
  {
   "cell_type": "markdown",
   "id": "90446bec",
   "metadata": {},
   "source": [
    "### The Examination of Missing Values"
   ]
  },
  {
   "cell_type": "code",
   "execution_count": 8,
   "id": "16c4bde9",
   "metadata": {},
   "outputs": [
    {
     "data": {
      "text/plain": [
       "Make_Model                   850\n",
       "Short_Description            850\n",
       "Make                         850\n",
       "Model                        850\n",
       "Location                     850\n",
       "Price                        850\n",
       "Body_Type                    850\n",
       "Type                         850\n",
       "Doors                       1209\n",
       "Country_Version            12591\n",
       "Offer_Number                6380\n",
       "Warranty                   13696\n",
       "Mileage                      851\n",
       "First_Registration           852\n",
       "Gearbox                     1098\n",
       "Fuel_Type                   2637\n",
       "Colour                      2574\n",
       "Paint                      14985\n",
       "Desc                        1433\n",
       "Seller                       850\n",
       "Seats                       3975\n",
       "Power                       1422\n",
       "Engine_Size                 2253\n",
       "Gears                      10526\n",
       "CO2_Emissions              10886\n",
       "Manufacturer_Colour         7693\n",
       "Drivetrain                 12587\n",
       "Cylinders                  10628\n",
       "Fuel_Consumption            6095\n",
       "Comfort_Convenience         4047\n",
       "Entertainment_Media         5836\n",
       "Safety_Security             4065\n",
       "Extras                      6000\n",
       "Empty_Weight               11722\n",
       "Model_Code                 21113\n",
       "General_Inspection         17226\n",
       "Last_Service               27477\n",
       "Full_Service_History       16915\n",
       "Non_Smoker_Vehicle         17886\n",
       "Emission_Class             11621\n",
       "Emissions_Sticker          20066\n",
       "Upholstery_Colour          14911\n",
       "Upholstery                 10870\n",
       "Production_Date            23572\n",
       "Previous_Owner             15465\n",
       "Other_Fuel_Types           27167\n",
       "Power_Consumption          28965\n",
       "Energy_Efficiency_Class    21676\n",
       "CO2_Efficiency             21676\n",
       "Fuel_Consumption_WLTP      29380\n",
       "CO2_Emissions_WLTP         29364\n",
       "Available_From             29087\n",
       "Taxi_Rental_Car            29058\n",
       "Availability               29179\n",
       "Last_Timing_Belt_Change    28908\n",
       "Electric_Range             29464\n",
       "Power_Consumption_WLTP     29464\n",
       "Battery_Ownership          29473\n",
       "dtype: int64"
      ]
     },
     "execution_count": 8,
     "metadata": {},
     "output_type": "execute_result"
    }
   ],
   "source": [
    "df.isnull().sum()"
   ]
  },
  {
   "cell_type": "code",
   "execution_count": 9,
   "id": "79b2d8ea",
   "metadata": {},
   "outputs": [
    {
     "data": {
      "text/plain": [
       "Make_Model                  2.883311\n",
       "Short_Description           2.883311\n",
       "Make                        2.883311\n",
       "Model                       2.883311\n",
       "Location                    2.883311\n",
       "Price                       2.883311\n",
       "Body_Type                   2.883311\n",
       "Type                        2.883311\n",
       "Doors                       4.101085\n",
       "Country_Version            42.710312\n",
       "Offer_Number               21.641791\n",
       "Warranty                   46.458616\n",
       "Mileage                     2.886703\n",
       "First_Registration          2.890095\n",
       "Gearbox                     3.724559\n",
       "Fuel_Type                   8.945047\n",
       "Colour                      8.731343\n",
       "Paint                      50.831072\n",
       "Desc                        4.860923\n",
       "Seller                      2.883311\n",
       "Seats                      13.483718\n",
       "Power                       4.823609\n",
       "Engine_Size                 7.642469\n",
       "Gears                      35.705563\n",
       "CO2_Emissions              36.926730\n",
       "Manufacturer_Colour        26.095658\n",
       "Drivetrain                 42.696744\n",
       "Cylinders                  36.051560\n",
       "Fuel_Consumption           20.675034\n",
       "Comfort_Convenience        13.727951\n",
       "Entertainment_Media        19.796472\n",
       "Safety_Security            13.789009\n",
       "Extras                     20.352782\n",
       "Empty_Weight               39.762551\n",
       "Model_Code                 71.618046\n",
       "General_Inspection         58.432836\n",
       "Last_Service               93.205563\n",
       "Full_Service_History       57.377883\n",
       "Non_Smoker_Vehicle         60.671642\n",
       "Emission_Class             39.419946\n",
       "Emissions_Sticker          68.066486\n",
       "Upholstery_Colour          50.580054\n",
       "Upholstery                 36.872456\n",
       "Production_Date            79.959294\n",
       "Previous_Owner             52.459294\n",
       "Other_Fuel_Types           92.154003\n",
       "Power_Consumption          98.253053\n",
       "Energy_Efficiency_Class    73.527815\n",
       "CO2_Efficiency             73.527815\n",
       "Fuel_Consumption_WLTP      99.660787\n",
       "CO2_Emissions_WLTP         99.606513\n",
       "Available_From             98.666893\n",
       "Taxi_Rental_Car            98.568521\n",
       "Availability               98.978969\n",
       "Last_Timing_Belt_Change    98.059701\n",
       "Electric_Range             99.945726\n",
       "Power_Consumption_WLTP     99.945726\n",
       "Battery_Ownership          99.976255\n",
       "dtype: float64"
      ]
     },
     "execution_count": 9,
     "metadata": {},
     "output_type": "execute_result"
    }
   ],
   "source": [
    "df.isnull().sum()*100 / df.shape[0]"
   ]
  },
  {
   "cell_type": "code",
   "execution_count": 10,
   "id": "0f338e11-53d0-4e85-bb66-7655012fc7ef",
   "metadata": {},
   "outputs": [],
   "source": [
    "# Droping columns that have missing values more than %80."
   ]
  },
  {
   "cell_type": "code",
   "execution_count": 11,
   "id": "bc3c8f9d-fd90-4daa-b904-ffbcea074c0b",
   "metadata": {},
   "outputs": [],
   "source": [
    "def df_nans(df, limit):\n",
    "    missing = df.isnull().sum()*100 / df.shape[0]\n",
    "    return missing.loc[lambda x : x >= limit]\n",
    "\n",
    "def column_nans(serial):\n",
    "    # display percentage of nans in a Series\n",
    "    return serial.isnull().sum()*100 / serial.shape[0]"
   ]
  },
  {
   "cell_type": "code",
   "execution_count": 12,
   "id": "d881b614-e685-4d66-993e-f6459c2b8182",
   "metadata": {},
   "outputs": [
    {
     "data": {
      "text/plain": [
       "Last_Service               93.205563\n",
       "Other_Fuel_Types           92.154003\n",
       "Power_Consumption          98.253053\n",
       "Fuel_Consumption_WLTP      99.660787\n",
       "CO2_Emissions_WLTP         99.606513\n",
       "Available_From             98.666893\n",
       "Taxi_Rental_Car            98.568521\n",
       "Availability               98.978969\n",
       "Last_Timing_Belt_Change    98.059701\n",
       "Electric_Range             99.945726\n",
       "Power_Consumption_WLTP     99.945726\n",
       "Battery_Ownership          99.976255\n",
       "dtype: float64"
      ]
     },
     "execution_count": 12,
     "metadata": {},
     "output_type": "execute_result"
    }
   ],
   "source": [
    "df_nans(df, 80)"
   ]
  },
  {
   "cell_type": "code",
   "execution_count": 13,
   "id": "fc53197b-5c50-4c55-9f88-4f7e22aa4d28",
   "metadata": {
    "tags": []
   },
   "outputs": [
    {
     "data": {
      "text/plain": [
       "99.94572591587517"
      ]
     },
     "execution_count": 13,
     "metadata": {},
     "output_type": "execute_result"
    }
   ],
   "source": [
    "# Let us check one of them:\n",
    "column_nans(df[\"Power_Consumption_WLTP\"])"
   ]
  },
  {
   "cell_type": "markdown",
   "id": "aa18ed85-0a45-414c-960c-c4deacc86c17",
   "metadata": {},
   "source": [
    "### Let us assign the features having missing values more than 80% to an object"
   ]
  },
  {
   "cell_type": "code",
   "execution_count": 14,
   "id": "6d79de5c-ad89-4cc9-beb9-00cf2255c374",
   "metadata": {},
   "outputs": [
    {
     "data": {
      "text/plain": [
       "Index(['Last_Service', 'Other_Fuel_Types', 'Power_Consumption',\n",
       "       'Fuel_Consumption_WLTP', 'CO2_Emissions_WLTP', 'Available_From',\n",
       "       'Taxi_Rental_Car', 'Availability', 'Last_Timing_Belt_Change',\n",
       "       'Electric_Range', 'Power_Consumption_WLTP', 'Battery_Ownership'],\n",
       "      dtype='object')"
      ]
     },
     "execution_count": 14,
     "metadata": {},
     "output_type": "execute_result"
    }
   ],
   "source": [
    "drop_columns = df_nans(df, 80).index\n",
    "drop_columns"
   ]
  },
  {
   "cell_type": "code",
   "execution_count": 15,
   "id": "1691b2f7-ca77-4e79-bd3a-0d74699b4168",
   "metadata": {},
   "outputs": [],
   "source": [
    "df.drop(drop_columns, axis=1, inplace=True)"
   ]
  },
  {
   "cell_type": "code",
   "execution_count": 16,
   "id": "778ff23d-0466-4c58-9f4f-623ae741fbed",
   "metadata": {},
   "outputs": [
    {
     "name": "stdout",
     "output_type": "stream",
     "text": [
      "<class 'pandas.core.frame.DataFrame'>\n",
      "RangeIndex: 29480 entries, 0 to 29479\n",
      "Data columns (total 46 columns):\n",
      " #   Column                   Non-Null Count  Dtype  \n",
      "---  ------                   --------------  -----  \n",
      " 0   Make_Model               28630 non-null  object \n",
      " 1   Short_Description        28630 non-null  object \n",
      " 2   Make                     28630 non-null  object \n",
      " 3   Model                    28630 non-null  object \n",
      " 4   Location                 28630 non-null  object \n",
      " 5   Price                    28630 non-null  object \n",
      " 6   Body_Type                28630 non-null  object \n",
      " 7   Type                     28630 non-null  object \n",
      " 8   Doors                    28271 non-null  object \n",
      " 9   Country_Version          16889 non-null  object \n",
      " 10  Offer_Number             23100 non-null  object \n",
      " 11  Warranty                 15784 non-null  object \n",
      " 12  Mileage                  28629 non-null  object \n",
      " 13  First_Registration       28628 non-null  object \n",
      " 14  Gearbox                  28382 non-null  object \n",
      " 15  Fuel_Type                26843 non-null  object \n",
      " 16  Colour                   26906 non-null  object \n",
      " 17  Paint                    14495 non-null  object \n",
      " 18  Desc                     28047 non-null  object \n",
      " 19  Seller                   28630 non-null  object \n",
      " 20  Seats                    25505 non-null  object \n",
      " 21  Power                    28058 non-null  object \n",
      " 22  Engine_Size              27227 non-null  object \n",
      " 23  Gears                    18954 non-null  object \n",
      " 24  CO2_Emissions            18594 non-null  object \n",
      " 25  Manufacturer_Colour      21787 non-null  object \n",
      " 26  Drivetrain               16893 non-null  object \n",
      " 27  Cylinders                18852 non-null  object \n",
      " 28  Fuel_Consumption         23385 non-null  object \n",
      " 29  Comfort_Convenience      25433 non-null  object \n",
      " 30  Entertainment_Media      23644 non-null  object \n",
      " 31  Safety_Security          25415 non-null  object \n",
      " 32  Extras                   23480 non-null  object \n",
      " 33  Empty_Weight             17758 non-null  object \n",
      " 34  Model_Code               8367 non-null   object \n",
      " 35  General_Inspection       12254 non-null  object \n",
      " 36  Full_Service_History     12565 non-null  object \n",
      " 37  Non_Smoker_Vehicle       11594 non-null  object \n",
      " 38  Emission_Class           17859 non-null  object \n",
      " 39  Emissions_Sticker        9414 non-null   object \n",
      " 40  Upholstery_Colour        14569 non-null  object \n",
      " 41  Upholstery               18610 non-null  object \n",
      " 42  Production_Date          5908 non-null   float64\n",
      " 43  Previous_Owner           14015 non-null  object \n",
      " 44  Energy_Efficiency_Class  7804 non-null   object \n",
      " 45  CO2_Efficiency           7804 non-null   object \n",
      "dtypes: float64(1), object(45)\n",
      "memory usage: 10.3+ MB\n"
     ]
    }
   ],
   "source": [
    "df.info()"
   ]
  },
  {
   "cell_type": "code",
   "execution_count": 17,
   "id": "81a6e08a-bd51-496e-920f-dc9b70f7a81d",
   "metadata": {},
   "outputs": [
    {
     "data": {
      "text/plain": [
       "(29480, 46)"
      ]
     },
     "execution_count": 17,
     "metadata": {},
     "output_type": "execute_result"
    }
   ],
   "source": [
    "df.shape"
   ]
  },
  {
   "cell_type": "markdown",
   "id": "89deabea-d236-43c0-999c-be0d7d4c3d6e",
   "metadata": {
    "tags": []
   },
   "source": [
    "### The Examination of Duplicated Values:"
   ]
  },
  {
   "cell_type": "code",
   "execution_count": 18,
   "id": "49ecc13e-dc4f-4d00-b84b-95e96e52e128",
   "metadata": {},
   "outputs": [
    {
     "data": {
      "text/plain": [
       "4384"
      ]
     },
     "execution_count": 18,
     "metadata": {},
     "output_type": "execute_result"
    }
   ],
   "source": [
    "# df.duplicated()\n",
    "\n",
    "# Gives TypeError: unhashable type: 'list'\n",
    "\n",
    "df.astype(str).duplicated(keep=False).sum()"
   ]
  },
  {
   "cell_type": "code",
   "execution_count": 19,
   "id": "a9cf3e77-3d69-4566-8b9d-185f1aed7ac6",
   "metadata": {},
   "outputs": [
    {
     "data": {
      "text/html": [
       "<div>\n",
       "<style scoped>\n",
       "    .dataframe tbody tr th:only-of-type {\n",
       "        vertical-align: middle;\n",
       "    }\n",
       "\n",
       "    .dataframe tbody tr th {\n",
       "        vertical-align: top;\n",
       "    }\n",
       "\n",
       "    .dataframe thead th {\n",
       "        text-align: right;\n",
       "    }\n",
       "</style>\n",
       "<table border=\"1\" class=\"dataframe\">\n",
       "  <thead>\n",
       "    <tr style=\"text-align: right;\">\n",
       "      <th></th>\n",
       "      <th>Make_Model</th>\n",
       "      <th>Short_Description</th>\n",
       "      <th>Make</th>\n",
       "      <th>Model</th>\n",
       "      <th>Location</th>\n",
       "      <th>Price</th>\n",
       "      <th>Body_Type</th>\n",
       "      <th>Type</th>\n",
       "      <th>Doors</th>\n",
       "      <th>Country_Version</th>\n",
       "      <th>Offer_Number</th>\n",
       "      <th>Warranty</th>\n",
       "      <th>Mileage</th>\n",
       "      <th>First_Registration</th>\n",
       "      <th>Gearbox</th>\n",
       "      <th>Fuel_Type</th>\n",
       "      <th>Colour</th>\n",
       "      <th>Paint</th>\n",
       "      <th>Desc</th>\n",
       "      <th>Seller</th>\n",
       "      <th>Seats</th>\n",
       "      <th>Power</th>\n",
       "      <th>Engine_Size</th>\n",
       "      <th>Gears</th>\n",
       "      <th>CO2_Emissions</th>\n",
       "      <th>Manufacturer_Colour</th>\n",
       "      <th>Drivetrain</th>\n",
       "      <th>Cylinders</th>\n",
       "      <th>Fuel_Consumption</th>\n",
       "      <th>Comfort_Convenience</th>\n",
       "      <th>Entertainment_Media</th>\n",
       "      <th>Safety_Security</th>\n",
       "      <th>Extras</th>\n",
       "      <th>Empty_Weight</th>\n",
       "      <th>Model_Code</th>\n",
       "      <th>General_Inspection</th>\n",
       "      <th>Full_Service_History</th>\n",
       "      <th>Non_Smoker_Vehicle</th>\n",
       "      <th>Emission_Class</th>\n",
       "      <th>Emissions_Sticker</th>\n",
       "      <th>Upholstery_Colour</th>\n",
       "      <th>Upholstery</th>\n",
       "      <th>Production_Date</th>\n",
       "      <th>Previous_Owner</th>\n",
       "      <th>Energy_Efficiency_Class</th>\n",
       "      <th>CO2_Efficiency</th>\n",
       "    </tr>\n",
       "  </thead>\n",
       "  <tbody>\n",
       "    <tr>\n",
       "      <th>579</th>\n",
       "      <td>Mercedes-Benz SLK 200</td>\n",
       "      <td>Kompressor Aut. Cabrio Final Edition</td>\n",
       "      <td>\\nMercedes-Benz\\n</td>\n",
       "      <td>[\\n, SLK 200 ,\\n]</td>\n",
       "      <td>Marienborner Str.  49,  55128 Mainz, DE</td>\n",
       "      <td>€ 15,990.-</td>\n",
       "      <td>[\\n, Convertible, \\n]</td>\n",
       "      <td>[\\n, Used, \\n]</td>\n",
       "      <td>[\\n, 2, \\n]</td>\n",
       "      <td>[\\n, Germany, \\n]</td>\n",
       "      <td>NaN</td>\n",
       "      <td>[\\n, Yes, \\n]</td>\n",
       "      <td>39,000 km</td>\n",
       "      <td>05/2003</td>\n",
       "      <td>[\\nAutomatic\\n]</td>\n",
       "      <td>Regular/Benzine 91</td>\n",
       "      <td>Silver</td>\n",
       "      <td>Metallic</td>\n",
       "      <td>[Zum Verkauf steht ein gepflegter Mercedes-Ben...</td>\n",
       "      <td>Dealer</td>\n",
       "      <td>[\\n, 2, \\n]</td>\n",
       "      <td>[\\n120 kW (163 hp)\\n]</td>\n",
       "      <td>[\\n1,998 cc\\n]</td>\n",
       "      <td>NaN</td>\n",
       "      <td>235 g/km (comb.)</td>\n",
       "      <td>Brillantsilber metallic</td>\n",
       "      <td>NaN</td>\n",
       "      <td>NaN</td>\n",
       "      <td>[[9.6 l/100 km (comb.)], [14.4 l/100 km (city)...</td>\n",
       "      <td>[Air conditioning, Armrest, Cruise control, El...</td>\n",
       "      <td>[CD player, Radio]</td>\n",
       "      <td>[Alarm system, Central door lock, Driver-side ...</td>\n",
       "      <td>[Alloy wheels, Sport seats]</td>\n",
       "      <td>NaN</td>\n",
       "      <td>NaN</td>\n",
       "      <td>New</td>\n",
       "      <td>NaN</td>\n",
       "      <td>Yes</td>\n",
       "      <td>Euro 4</td>\n",
       "      <td>4 (Green)</td>\n",
       "      <td>Black</td>\n",
       "      <td>Full leather</td>\n",
       "      <td>NaN</td>\n",
       "      <td>[[39,000 km, 05/2003], 1]</td>\n",
       "      <td>NaN</td>\n",
       "      <td>NaN</td>\n",
       "    </tr>\n",
       "    <tr>\n",
       "      <th>580</th>\n",
       "      <td>Mercedes-Benz SLK 200</td>\n",
       "      <td>Kompressor Aut. Cabrio Final Edition</td>\n",
       "      <td>\\nMercedes-Benz\\n</td>\n",
       "      <td>[\\n, SLK 200 ,\\n]</td>\n",
       "      <td>Marienborner Str.  49,  55128 Mainz, DE</td>\n",
       "      <td>€ 15,990.-</td>\n",
       "      <td>[\\n, Convertible, \\n]</td>\n",
       "      <td>[\\n, Used, \\n]</td>\n",
       "      <td>[\\n, 2, \\n]</td>\n",
       "      <td>[\\n, Germany, \\n]</td>\n",
       "      <td>NaN</td>\n",
       "      <td>[\\n, Yes, \\n]</td>\n",
       "      <td>39,000 km</td>\n",
       "      <td>05/2003</td>\n",
       "      <td>[\\nAutomatic\\n]</td>\n",
       "      <td>Regular/Benzine 91</td>\n",
       "      <td>Silver</td>\n",
       "      <td>Metallic</td>\n",
       "      <td>[Zum Verkauf steht ein gepflegter Mercedes-Ben...</td>\n",
       "      <td>Dealer</td>\n",
       "      <td>[\\n, 2, \\n]</td>\n",
       "      <td>[\\n120 kW (163 hp)\\n]</td>\n",
       "      <td>[\\n1,998 cc\\n]</td>\n",
       "      <td>NaN</td>\n",
       "      <td>235 g/km (comb.)</td>\n",
       "      <td>Brillantsilber metallic</td>\n",
       "      <td>NaN</td>\n",
       "      <td>NaN</td>\n",
       "      <td>[[9.6 l/100 km (comb.)], [14.4 l/100 km (city)...</td>\n",
       "      <td>[Air conditioning, Armrest, Cruise control, El...</td>\n",
       "      <td>[CD player, Radio]</td>\n",
       "      <td>[Alarm system, Central door lock, Driver-side ...</td>\n",
       "      <td>[Alloy wheels, Sport seats]</td>\n",
       "      <td>NaN</td>\n",
       "      <td>NaN</td>\n",
       "      <td>New</td>\n",
       "      <td>NaN</td>\n",
       "      <td>Yes</td>\n",
       "      <td>Euro 4</td>\n",
       "      <td>4 (Green)</td>\n",
       "      <td>Black</td>\n",
       "      <td>Full leather</td>\n",
       "      <td>NaN</td>\n",
       "      <td>[[39,000 km, 05/2003], 1]</td>\n",
       "      <td>NaN</td>\n",
       "      <td>NaN</td>\n",
       "    </tr>\n",
       "    <tr>\n",
       "      <th>610</th>\n",
       "      <td>Mercedes-Benz G 500</td>\n",
       "      <td>Cabrio LORINSER UMBAU/AHK/ELEKTR. SITZE</td>\n",
       "      <td>\\nMercedes-Benz\\n</td>\n",
       "      <td>[\\n, G 500 ,\\n]</td>\n",
       "      <td>Alte Bundesstr. 45,  71332 Waiblingen, DE</td>\n",
       "      <td>€ 209,000.-</td>\n",
       "      <td>[\\n, Convertible, \\n]</td>\n",
       "      <td>[\\n, Used, \\n]</td>\n",
       "      <td>[\\n, 3, \\n]</td>\n",
       "      <td>NaN</td>\n",
       "      <td>[\\n, 29474, \\n]</td>\n",
       "      <td>NaN</td>\n",
       "      <td>172,000 km</td>\n",
       "      <td>02/1999</td>\n",
       "      <td>[\\nAutomatic\\n]</td>\n",
       "      <td>Regular/Benzine 91 (Particle filter)</td>\n",
       "      <td>Black</td>\n",
       "      <td>Metallic</td>\n",
       "      <td>[unfallfrei, scheckheftgepflegt, Nichtraucher,...</td>\n",
       "      <td>Dealer</td>\n",
       "      <td>[\\n, 5, \\n]</td>\n",
       "      <td>[\\n218 kW (296 hp)\\n]</td>\n",
       "      <td>[\\n4,996 cc\\n]</td>\n",
       "      <td>NaN</td>\n",
       "      <td>400 g/km (comb.)</td>\n",
       "      <td>Schwarz obsidianschwarz metall</td>\n",
       "      <td>[\\n, 4WD, \\n]</td>\n",
       "      <td>NaN</td>\n",
       "      <td>[[16.7 l/100 km (comb.)], [21.8 l/100 km (city...</td>\n",
       "      <td>[Air conditioning, Armrest, Cruise control, El...</td>\n",
       "      <td>[On-board computer, Radio]</td>\n",
       "      <td>[Central door lock, Driver-side airbag, Fog li...</td>\n",
       "      <td>[Alloy wheels, Trailer hitch, Tuned car]</td>\n",
       "      <td>[\\n2,350 kg\\n]</td>\n",
       "      <td>[\\n, 0710/403, \\n]</td>\n",
       "      <td>New</td>\n",
       "      <td>Yes</td>\n",
       "      <td>Yes</td>\n",
       "      <td>Euro 4</td>\n",
       "      <td>4 (Green)</td>\n",
       "      <td>Black</td>\n",
       "      <td>Full leather</td>\n",
       "      <td>1999.0</td>\n",
       "      <td>[[172,000 km, 02/1999], 2]</td>\n",
       "      <td>G</td>\n",
       "      <td>Calculated on basis of measured CO₂-emissions ...</td>\n",
       "    </tr>\n",
       "    <tr>\n",
       "      <th>613</th>\n",
       "      <td>Mercedes-Benz G 500</td>\n",
       "      <td>Cabrio LORINSER UMBAU/AHK/ELEKTR. SITZE</td>\n",
       "      <td>\\nMercedes-Benz\\n</td>\n",
       "      <td>[\\n, G 500 ,\\n]</td>\n",
       "      <td>Alte Bundesstr. 45,  71332 Waiblingen, DE</td>\n",
       "      <td>€ 209,000.-</td>\n",
       "      <td>[\\n, Convertible, \\n]</td>\n",
       "      <td>[\\n, Used, \\n]</td>\n",
       "      <td>[\\n, 3, \\n]</td>\n",
       "      <td>NaN</td>\n",
       "      <td>[\\n, 29474, \\n]</td>\n",
       "      <td>NaN</td>\n",
       "      <td>172,000 km</td>\n",
       "      <td>02/1999</td>\n",
       "      <td>[\\nAutomatic\\n]</td>\n",
       "      <td>Regular/Benzine 91 (Particle filter)</td>\n",
       "      <td>Black</td>\n",
       "      <td>Metallic</td>\n",
       "      <td>[unfallfrei, scheckheftgepflegt, Nichtraucher,...</td>\n",
       "      <td>Dealer</td>\n",
       "      <td>[\\n, 5, \\n]</td>\n",
       "      <td>[\\n218 kW (296 hp)\\n]</td>\n",
       "      <td>[\\n4,996 cc\\n]</td>\n",
       "      <td>NaN</td>\n",
       "      <td>400 g/km (comb.)</td>\n",
       "      <td>Schwarz obsidianschwarz metall</td>\n",
       "      <td>[\\n, 4WD, \\n]</td>\n",
       "      <td>NaN</td>\n",
       "      <td>[[16.7 l/100 km (comb.)], [21.8 l/100 km (city...</td>\n",
       "      <td>[Air conditioning, Armrest, Cruise control, El...</td>\n",
       "      <td>[On-board computer, Radio]</td>\n",
       "      <td>[Central door lock, Driver-side airbag, Fog li...</td>\n",
       "      <td>[Alloy wheels, Trailer hitch, Tuned car]</td>\n",
       "      <td>[\\n2,350 kg\\n]</td>\n",
       "      <td>[\\n, 0710/403, \\n]</td>\n",
       "      <td>New</td>\n",
       "      <td>Yes</td>\n",
       "      <td>Yes</td>\n",
       "      <td>Euro 4</td>\n",
       "      <td>4 (Green)</td>\n",
       "      <td>Black</td>\n",
       "      <td>Full leather</td>\n",
       "      <td>1999.0</td>\n",
       "      <td>[[172,000 km, 02/1999], 2]</td>\n",
       "      <td>G</td>\n",
       "      <td>Calculated on basis of measured CO₂-emissions ...</td>\n",
       "    </tr>\n",
       "    <tr>\n",
       "      <th>839</th>\n",
       "      <td>Mercedes-Benz CLA 45 AMG</td>\n",
       "      <td>4Matic*KAMERA*NAVI*LED*DESIGNO*SHZ*</td>\n",
       "      <td>\\nMercedes-Benz\\n</td>\n",
       "      <td>[\\n, CLA 45 AMG ,\\n]</td>\n",
       "      <td>Aidlinger Straße 16 - 18,  71069 Sindelfingen-...</td>\n",
       "      <td>€ 33,890.-</td>\n",
       "      <td>[\\n, Coupe, \\n]</td>\n",
       "      <td>[\\n, Used, \\n]</td>\n",
       "      <td>[\\n, 4, \\n]</td>\n",
       "      <td>[\\n, Germany, \\n]</td>\n",
       "      <td>[\\n, M-174, \\n]</td>\n",
       "      <td>[\\n, Yes, \\n]</td>\n",
       "      <td>76,900 km</td>\n",
       "      <td>08/2016</td>\n",
       "      <td>[\\nAutomatic\\n]</td>\n",
       "      <td>Regular/Benzine 91</td>\n",
       "      <td>White</td>\n",
       "      <td>NaN</td>\n",
       "      <td>[Sonderausstattung:, LED-Scheinwerfer, Navigat...</td>\n",
       "      <td>Dealer</td>\n",
       "      <td>[\\n, 5, \\n]</td>\n",
       "      <td>[\\n280 kW (381 hp)\\n]</td>\n",
       "      <td>[\\n1,991 cc\\n]</td>\n",
       "      <td>NaN</td>\n",
       "      <td>162 g/km (comb.)</td>\n",
       "      <td>CALCITWEISS</td>\n",
       "      <td>[\\n, 4WD, \\n]</td>\n",
       "      <td>NaN</td>\n",
       "      <td>[[6.9 l/100 km (comb.)], [9.2 l/100 km (city)]...</td>\n",
       "      <td>[Air conditioning, Armrest, Automatic climate ...</td>\n",
       "      <td>[Bluetooth, CD player, Hands-free equipment, O...</td>\n",
       "      <td>[ABS, Adaptive Cruise Control, Blind spot moni...</td>\n",
       "      <td>[Alloy wheels, Ambient lighting, Automatically...</td>\n",
       "      <td>NaN</td>\n",
       "      <td>NaN</td>\n",
       "      <td>New</td>\n",
       "      <td>Yes</td>\n",
       "      <td>Yes</td>\n",
       "      <td>Euro 6</td>\n",
       "      <td>4 (Green)</td>\n",
       "      <td>Black</td>\n",
       "      <td>alcantara</td>\n",
       "      <td>NaN</td>\n",
       "      <td>[[76,900 km, 08/2016], 2]</td>\n",
       "      <td>NaN</td>\n",
       "      <td>NaN</td>\n",
       "    </tr>\n",
       "    <tr>\n",
       "      <th>...</th>\n",
       "      <td>...</td>\n",
       "      <td>...</td>\n",
       "      <td>...</td>\n",
       "      <td>...</td>\n",
       "      <td>...</td>\n",
       "      <td>...</td>\n",
       "      <td>...</td>\n",
       "      <td>...</td>\n",
       "      <td>...</td>\n",
       "      <td>...</td>\n",
       "      <td>...</td>\n",
       "      <td>...</td>\n",
       "      <td>...</td>\n",
       "      <td>...</td>\n",
       "      <td>...</td>\n",
       "      <td>...</td>\n",
       "      <td>...</td>\n",
       "      <td>...</td>\n",
       "      <td>...</td>\n",
       "      <td>...</td>\n",
       "      <td>...</td>\n",
       "      <td>...</td>\n",
       "      <td>...</td>\n",
       "      <td>...</td>\n",
       "      <td>...</td>\n",
       "      <td>...</td>\n",
       "      <td>...</td>\n",
       "      <td>...</td>\n",
       "      <td>...</td>\n",
       "      <td>...</td>\n",
       "      <td>...</td>\n",
       "      <td>...</td>\n",
       "      <td>...</td>\n",
       "      <td>...</td>\n",
       "      <td>...</td>\n",
       "      <td>...</td>\n",
       "      <td>...</td>\n",
       "      <td>...</td>\n",
       "      <td>...</td>\n",
       "      <td>...</td>\n",
       "      <td>...</td>\n",
       "      <td>...</td>\n",
       "      <td>...</td>\n",
       "      <td>...</td>\n",
       "      <td>...</td>\n",
       "      <td>...</td>\n",
       "    </tr>\n",
       "    <tr>\n",
       "      <th>29441</th>\n",
       "      <td>Volvo V40</td>\n",
       "      <td>D3 150ch R-Design Geartronic</td>\n",
       "      <td>\\nVolvo\\n</td>\n",
       "      <td>[\\n, V40 ,\\n]</td>\n",
       "      <td>19 rue des Alliés,  57050 Metz, FR</td>\n",
       "      <td>€ 18,999.-</td>\n",
       "      <td>[\\n, Sedan, \\n]</td>\n",
       "      <td>[\\n, Used, \\n]</td>\n",
       "      <td>[\\n, 5, \\n]</td>\n",
       "      <td>NaN</td>\n",
       "      <td>[\\n, 1380, \\n]</td>\n",
       "      <td>[\\n, 12 months, \\n]</td>\n",
       "      <td>93,257 km</td>\n",
       "      <td>05/2018</td>\n",
       "      <td>[\\nAutomatic\\n]</td>\n",
       "      <td>Diesel</td>\n",
       "      <td>NaN</td>\n",
       "      <td>NaN</td>\n",
       "      <td>[Gris Osmium;Préparation pour la caméra de rec...</td>\n",
       "      <td>Dealer</td>\n",
       "      <td>[\\n, 5, \\n]</td>\n",
       "      <td>[\\n112 kW (152 hp)\\n]</td>\n",
       "      <td>[\\n1,969 cc\\n]</td>\n",
       "      <td>NaN</td>\n",
       "      <td>108 g/km (comb.)</td>\n",
       "      <td>Gris Osmium</td>\n",
       "      <td>NaN</td>\n",
       "      <td>NaN</td>\n",
       "      <td>NaN</td>\n",
       "      <td>[Armrest, Automatic climate control, 2 zones, ...</td>\n",
       "      <td>NaN</td>\n",
       "      <td>[ABS, Driver-side airbag, Emergency brake assi...</td>\n",
       "      <td>[Emergency tyre]</td>\n",
       "      <td>NaN</td>\n",
       "      <td>NaN</td>\n",
       "      <td>NaN</td>\n",
       "      <td>NaN</td>\n",
       "      <td>NaN</td>\n",
       "      <td>NaN</td>\n",
       "      <td>NaN</td>\n",
       "      <td>NaN</td>\n",
       "      <td>NaN</td>\n",
       "      <td>NaN</td>\n",
       "      <td>NaN</td>\n",
       "      <td>NaN</td>\n",
       "      <td>NaN</td>\n",
       "    </tr>\n",
       "    <tr>\n",
       "      <th>29445</th>\n",
       "      <td>NaN</td>\n",
       "      <td>NaN</td>\n",
       "      <td>NaN</td>\n",
       "      <td>NaN</td>\n",
       "      <td>NaN</td>\n",
       "      <td>NaN</td>\n",
       "      <td>NaN</td>\n",
       "      <td>NaN</td>\n",
       "      <td>NaN</td>\n",
       "      <td>NaN</td>\n",
       "      <td>NaN</td>\n",
       "      <td>NaN</td>\n",
       "      <td>NaN</td>\n",
       "      <td>NaN</td>\n",
       "      <td>NaN</td>\n",
       "      <td>NaN</td>\n",
       "      <td>NaN</td>\n",
       "      <td>NaN</td>\n",
       "      <td>NaN</td>\n",
       "      <td>NaN</td>\n",
       "      <td>NaN</td>\n",
       "      <td>NaN</td>\n",
       "      <td>NaN</td>\n",
       "      <td>NaN</td>\n",
       "      <td>NaN</td>\n",
       "      <td>NaN</td>\n",
       "      <td>NaN</td>\n",
       "      <td>NaN</td>\n",
       "      <td>NaN</td>\n",
       "      <td>NaN</td>\n",
       "      <td>NaN</td>\n",
       "      <td>NaN</td>\n",
       "      <td>NaN</td>\n",
       "      <td>NaN</td>\n",
       "      <td>NaN</td>\n",
       "      <td>NaN</td>\n",
       "      <td>NaN</td>\n",
       "      <td>NaN</td>\n",
       "      <td>NaN</td>\n",
       "      <td>NaN</td>\n",
       "      <td>NaN</td>\n",
       "      <td>NaN</td>\n",
       "      <td>NaN</td>\n",
       "      <td>NaN</td>\n",
       "      <td>NaN</td>\n",
       "      <td>NaN</td>\n",
       "    </tr>\n",
       "    <tr>\n",
       "      <th>29451</th>\n",
       "      <td>NaN</td>\n",
       "      <td>NaN</td>\n",
       "      <td>NaN</td>\n",
       "      <td>NaN</td>\n",
       "      <td>NaN</td>\n",
       "      <td>NaN</td>\n",
       "      <td>NaN</td>\n",
       "      <td>NaN</td>\n",
       "      <td>NaN</td>\n",
       "      <td>NaN</td>\n",
       "      <td>NaN</td>\n",
       "      <td>NaN</td>\n",
       "      <td>NaN</td>\n",
       "      <td>NaN</td>\n",
       "      <td>NaN</td>\n",
       "      <td>NaN</td>\n",
       "      <td>NaN</td>\n",
       "      <td>NaN</td>\n",
       "      <td>NaN</td>\n",
       "      <td>NaN</td>\n",
       "      <td>NaN</td>\n",
       "      <td>NaN</td>\n",
       "      <td>NaN</td>\n",
       "      <td>NaN</td>\n",
       "      <td>NaN</td>\n",
       "      <td>NaN</td>\n",
       "      <td>NaN</td>\n",
       "      <td>NaN</td>\n",
       "      <td>NaN</td>\n",
       "      <td>NaN</td>\n",
       "      <td>NaN</td>\n",
       "      <td>NaN</td>\n",
       "      <td>NaN</td>\n",
       "      <td>NaN</td>\n",
       "      <td>NaN</td>\n",
       "      <td>NaN</td>\n",
       "      <td>NaN</td>\n",
       "      <td>NaN</td>\n",
       "      <td>NaN</td>\n",
       "      <td>NaN</td>\n",
       "      <td>NaN</td>\n",
       "      <td>NaN</td>\n",
       "      <td>NaN</td>\n",
       "      <td>NaN</td>\n",
       "      <td>NaN</td>\n",
       "      <td>NaN</td>\n",
       "    </tr>\n",
       "    <tr>\n",
       "      <th>29473</th>\n",
       "      <td>NaN</td>\n",
       "      <td>NaN</td>\n",
       "      <td>NaN</td>\n",
       "      <td>NaN</td>\n",
       "      <td>NaN</td>\n",
       "      <td>NaN</td>\n",
       "      <td>NaN</td>\n",
       "      <td>NaN</td>\n",
       "      <td>NaN</td>\n",
       "      <td>NaN</td>\n",
       "      <td>NaN</td>\n",
       "      <td>NaN</td>\n",
       "      <td>NaN</td>\n",
       "      <td>NaN</td>\n",
       "      <td>NaN</td>\n",
       "      <td>NaN</td>\n",
       "      <td>NaN</td>\n",
       "      <td>NaN</td>\n",
       "      <td>NaN</td>\n",
       "      <td>NaN</td>\n",
       "      <td>NaN</td>\n",
       "      <td>NaN</td>\n",
       "      <td>NaN</td>\n",
       "      <td>NaN</td>\n",
       "      <td>NaN</td>\n",
       "      <td>NaN</td>\n",
       "      <td>NaN</td>\n",
       "      <td>NaN</td>\n",
       "      <td>NaN</td>\n",
       "      <td>NaN</td>\n",
       "      <td>NaN</td>\n",
       "      <td>NaN</td>\n",
       "      <td>NaN</td>\n",
       "      <td>NaN</td>\n",
       "      <td>NaN</td>\n",
       "      <td>NaN</td>\n",
       "      <td>NaN</td>\n",
       "      <td>NaN</td>\n",
       "      <td>NaN</td>\n",
       "      <td>NaN</td>\n",
       "      <td>NaN</td>\n",
       "      <td>NaN</td>\n",
       "      <td>NaN</td>\n",
       "      <td>NaN</td>\n",
       "      <td>NaN</td>\n",
       "      <td>NaN</td>\n",
       "    </tr>\n",
       "    <tr>\n",
       "      <th>29479</th>\n",
       "      <td>NaN</td>\n",
       "      <td>NaN</td>\n",
       "      <td>NaN</td>\n",
       "      <td>NaN</td>\n",
       "      <td>NaN</td>\n",
       "      <td>NaN</td>\n",
       "      <td>NaN</td>\n",
       "      <td>NaN</td>\n",
       "      <td>NaN</td>\n",
       "      <td>NaN</td>\n",
       "      <td>NaN</td>\n",
       "      <td>NaN</td>\n",
       "      <td>NaN</td>\n",
       "      <td>NaN</td>\n",
       "      <td>NaN</td>\n",
       "      <td>NaN</td>\n",
       "      <td>NaN</td>\n",
       "      <td>NaN</td>\n",
       "      <td>NaN</td>\n",
       "      <td>NaN</td>\n",
       "      <td>NaN</td>\n",
       "      <td>NaN</td>\n",
       "      <td>NaN</td>\n",
       "      <td>NaN</td>\n",
       "      <td>NaN</td>\n",
       "      <td>NaN</td>\n",
       "      <td>NaN</td>\n",
       "      <td>NaN</td>\n",
       "      <td>NaN</td>\n",
       "      <td>NaN</td>\n",
       "      <td>NaN</td>\n",
       "      <td>NaN</td>\n",
       "      <td>NaN</td>\n",
       "      <td>NaN</td>\n",
       "      <td>NaN</td>\n",
       "      <td>NaN</td>\n",
       "      <td>NaN</td>\n",
       "      <td>NaN</td>\n",
       "      <td>NaN</td>\n",
       "      <td>NaN</td>\n",
       "      <td>NaN</td>\n",
       "      <td>NaN</td>\n",
       "      <td>NaN</td>\n",
       "      <td>NaN</td>\n",
       "      <td>NaN</td>\n",
       "      <td>NaN</td>\n",
       "    </tr>\n",
       "  </tbody>\n",
       "</table>\n",
       "<p>4384 rows × 46 columns</p>\n",
       "</div>"
      ],
      "text/plain": [
       "                     Make_Model                        Short_Description  \\\n",
       "579       Mercedes-Benz SLK 200     Kompressor Aut. Cabrio Final Edition   \n",
       "580       Mercedes-Benz SLK 200     Kompressor Aut. Cabrio Final Edition   \n",
       "610         Mercedes-Benz G 500  Cabrio LORINSER UMBAU/AHK/ELEKTR. SITZE   \n",
       "613         Mercedes-Benz G 500  Cabrio LORINSER UMBAU/AHK/ELEKTR. SITZE   \n",
       "839    Mercedes-Benz CLA 45 AMG      4Matic*KAMERA*NAVI*LED*DESIGNO*SHZ*   \n",
       "...                         ...                                      ...   \n",
       "29441                 Volvo V40             D3 150ch R-Design Geartronic   \n",
       "29445                       NaN                                      NaN   \n",
       "29451                       NaN                                      NaN   \n",
       "29473                       NaN                                      NaN   \n",
       "29479                       NaN                                      NaN   \n",
       "\n",
       "                    Make                 Model  \\\n",
       "579    \\nMercedes-Benz\\n     [\\n, SLK 200 ,\\n]   \n",
       "580    \\nMercedes-Benz\\n     [\\n, SLK 200 ,\\n]   \n",
       "610    \\nMercedes-Benz\\n       [\\n, G 500 ,\\n]   \n",
       "613    \\nMercedes-Benz\\n       [\\n, G 500 ,\\n]   \n",
       "839    \\nMercedes-Benz\\n  [\\n, CLA 45 AMG ,\\n]   \n",
       "...                  ...                   ...   \n",
       "29441          \\nVolvo\\n         [\\n, V40 ,\\n]   \n",
       "29445                NaN                   NaN   \n",
       "29451                NaN                   NaN   \n",
       "29473                NaN                   NaN   \n",
       "29479                NaN                   NaN   \n",
       "\n",
       "                                                Location        Price  \\\n",
       "579              Marienborner Str.  49,  55128 Mainz, DE   € 15,990.-   \n",
       "580              Marienborner Str.  49,  55128 Mainz, DE   € 15,990.-   \n",
       "610            Alte Bundesstr. 45,  71332 Waiblingen, DE  € 209,000.-   \n",
       "613            Alte Bundesstr. 45,  71332 Waiblingen, DE  € 209,000.-   \n",
       "839    Aidlinger Straße 16 - 18,  71069 Sindelfingen-...   € 33,890.-   \n",
       "...                                                  ...          ...   \n",
       "29441                 19 rue des Alliés,  57050 Metz, FR   € 18,999.-   \n",
       "29445                                                NaN          NaN   \n",
       "29451                                                NaN          NaN   \n",
       "29473                                                NaN          NaN   \n",
       "29479                                                NaN          NaN   \n",
       "\n",
       "                   Body_Type            Type        Doors    Country_Version  \\\n",
       "579    [\\n, Convertible, \\n]  [\\n, Used, \\n]  [\\n, 2, \\n]  [\\n, Germany, \\n]   \n",
       "580    [\\n, Convertible, \\n]  [\\n, Used, \\n]  [\\n, 2, \\n]  [\\n, Germany, \\n]   \n",
       "610    [\\n, Convertible, \\n]  [\\n, Used, \\n]  [\\n, 3, \\n]                NaN   \n",
       "613    [\\n, Convertible, \\n]  [\\n, Used, \\n]  [\\n, 3, \\n]                NaN   \n",
       "839          [\\n, Coupe, \\n]  [\\n, Used, \\n]  [\\n, 4, \\n]  [\\n, Germany, \\n]   \n",
       "...                      ...             ...          ...                ...   \n",
       "29441        [\\n, Sedan, \\n]  [\\n, Used, \\n]  [\\n, 5, \\n]                NaN   \n",
       "29445                    NaN             NaN          NaN                NaN   \n",
       "29451                    NaN             NaN          NaN                NaN   \n",
       "29473                    NaN             NaN          NaN                NaN   \n",
       "29479                    NaN             NaN          NaN                NaN   \n",
       "\n",
       "          Offer_Number             Warranty     Mileage First_Registration  \\\n",
       "579                NaN        [\\n, Yes, \\n]   39,000 km            05/2003   \n",
       "580                NaN        [\\n, Yes, \\n]   39,000 km            05/2003   \n",
       "610    [\\n, 29474, \\n]                  NaN  172,000 km            02/1999   \n",
       "613    [\\n, 29474, \\n]                  NaN  172,000 km            02/1999   \n",
       "839    [\\n, M-174, \\n]        [\\n, Yes, \\n]   76,900 km            08/2016   \n",
       "...                ...                  ...         ...                ...   \n",
       "29441   [\\n, 1380, \\n]  [\\n, 12 months, \\n]   93,257 km            05/2018   \n",
       "29445              NaN                  NaN         NaN                NaN   \n",
       "29451              NaN                  NaN         NaN                NaN   \n",
       "29473              NaN                  NaN         NaN                NaN   \n",
       "29479              NaN                  NaN         NaN                NaN   \n",
       "\n",
       "               Gearbox                             Fuel_Type  Colour  \\\n",
       "579    [\\nAutomatic\\n]                    Regular/Benzine 91  Silver   \n",
       "580    [\\nAutomatic\\n]                    Regular/Benzine 91  Silver   \n",
       "610    [\\nAutomatic\\n]  Regular/Benzine 91 (Particle filter)   Black   \n",
       "613    [\\nAutomatic\\n]  Regular/Benzine 91 (Particle filter)   Black   \n",
       "839    [\\nAutomatic\\n]                    Regular/Benzine 91   White   \n",
       "...                ...                                   ...     ...   \n",
       "29441  [\\nAutomatic\\n]                                Diesel     NaN   \n",
       "29445              NaN                                   NaN     NaN   \n",
       "29451              NaN                                   NaN     NaN   \n",
       "29473              NaN                                   NaN     NaN   \n",
       "29479              NaN                                   NaN     NaN   \n",
       "\n",
       "          Paint                                               Desc  Seller  \\\n",
       "579    Metallic  [Zum Verkauf steht ein gepflegter Mercedes-Ben...  Dealer   \n",
       "580    Metallic  [Zum Verkauf steht ein gepflegter Mercedes-Ben...  Dealer   \n",
       "610    Metallic  [unfallfrei, scheckheftgepflegt, Nichtraucher,...  Dealer   \n",
       "613    Metallic  [unfallfrei, scheckheftgepflegt, Nichtraucher,...  Dealer   \n",
       "839         NaN  [Sonderausstattung:, LED-Scheinwerfer, Navigat...  Dealer   \n",
       "...         ...                                                ...     ...   \n",
       "29441       NaN  [Gris Osmium;Préparation pour la caméra de rec...  Dealer   \n",
       "29445       NaN                                                NaN     NaN   \n",
       "29451       NaN                                                NaN     NaN   \n",
       "29473       NaN                                                NaN     NaN   \n",
       "29479       NaN                                                NaN     NaN   \n",
       "\n",
       "             Seats                  Power     Engine_Size Gears  \\\n",
       "579    [\\n, 2, \\n]  [\\n120 kW (163 hp)\\n]  [\\n1,998 cc\\n]   NaN   \n",
       "580    [\\n, 2, \\n]  [\\n120 kW (163 hp)\\n]  [\\n1,998 cc\\n]   NaN   \n",
       "610    [\\n, 5, \\n]  [\\n218 kW (296 hp)\\n]  [\\n4,996 cc\\n]   NaN   \n",
       "613    [\\n, 5, \\n]  [\\n218 kW (296 hp)\\n]  [\\n4,996 cc\\n]   NaN   \n",
       "839    [\\n, 5, \\n]  [\\n280 kW (381 hp)\\n]  [\\n1,991 cc\\n]   NaN   \n",
       "...            ...                    ...             ...   ...   \n",
       "29441  [\\n, 5, \\n]  [\\n112 kW (152 hp)\\n]  [\\n1,969 cc\\n]   NaN   \n",
       "29445          NaN                    NaN             NaN   NaN   \n",
       "29451          NaN                    NaN             NaN   NaN   \n",
       "29473          NaN                    NaN             NaN   NaN   \n",
       "29479          NaN                    NaN             NaN   NaN   \n",
       "\n",
       "          CO2_Emissions             Manufacturer_Colour     Drivetrain  \\\n",
       "579    235 g/km (comb.)         Brillantsilber metallic            NaN   \n",
       "580    235 g/km (comb.)         Brillantsilber metallic            NaN   \n",
       "610    400 g/km (comb.)  Schwarz obsidianschwarz metall  [\\n, 4WD, \\n]   \n",
       "613    400 g/km (comb.)  Schwarz obsidianschwarz metall  [\\n, 4WD, \\n]   \n",
       "839    162 g/km (comb.)                     CALCITWEISS  [\\n, 4WD, \\n]   \n",
       "...                 ...                             ...            ...   \n",
       "29441  108 g/km (comb.)                     Gris Osmium            NaN   \n",
       "29445               NaN                             NaN            NaN   \n",
       "29451               NaN                             NaN            NaN   \n",
       "29473               NaN                             NaN            NaN   \n",
       "29479               NaN                             NaN            NaN   \n",
       "\n",
       "      Cylinders                                   Fuel_Consumption  \\\n",
       "579         NaN  [[9.6 l/100 km (comb.)], [14.4 l/100 km (city)...   \n",
       "580         NaN  [[9.6 l/100 km (comb.)], [14.4 l/100 km (city)...   \n",
       "610         NaN  [[16.7 l/100 km (comb.)], [21.8 l/100 km (city...   \n",
       "613         NaN  [[16.7 l/100 km (comb.)], [21.8 l/100 km (city...   \n",
       "839         NaN  [[6.9 l/100 km (comb.)], [9.2 l/100 km (city)]...   \n",
       "...         ...                                                ...   \n",
       "29441       NaN                                                NaN   \n",
       "29445       NaN                                                NaN   \n",
       "29451       NaN                                                NaN   \n",
       "29473       NaN                                                NaN   \n",
       "29479       NaN                                                NaN   \n",
       "\n",
       "                                     Comfort_Convenience  \\\n",
       "579    [Air conditioning, Armrest, Cruise control, El...   \n",
       "580    [Air conditioning, Armrest, Cruise control, El...   \n",
       "610    [Air conditioning, Armrest, Cruise control, El...   \n",
       "613    [Air conditioning, Armrest, Cruise control, El...   \n",
       "839    [Air conditioning, Armrest, Automatic climate ...   \n",
       "...                                                  ...   \n",
       "29441  [Armrest, Automatic climate control, 2 zones, ...   \n",
       "29445                                                NaN   \n",
       "29451                                                NaN   \n",
       "29473                                                NaN   \n",
       "29479                                                NaN   \n",
       "\n",
       "                                     Entertainment_Media  \\\n",
       "579                                   [CD player, Radio]   \n",
       "580                                   [CD player, Radio]   \n",
       "610                           [On-board computer, Radio]   \n",
       "613                           [On-board computer, Radio]   \n",
       "839    [Bluetooth, CD player, Hands-free equipment, O...   \n",
       "...                                                  ...   \n",
       "29441                                                NaN   \n",
       "29445                                                NaN   \n",
       "29451                                                NaN   \n",
       "29473                                                NaN   \n",
       "29479                                                NaN   \n",
       "\n",
       "                                         Safety_Security  \\\n",
       "579    [Alarm system, Central door lock, Driver-side ...   \n",
       "580    [Alarm system, Central door lock, Driver-side ...   \n",
       "610    [Central door lock, Driver-side airbag, Fog li...   \n",
       "613    [Central door lock, Driver-side airbag, Fog li...   \n",
       "839    [ABS, Adaptive Cruise Control, Blind spot moni...   \n",
       "...                                                  ...   \n",
       "29441  [ABS, Driver-side airbag, Emergency brake assi...   \n",
       "29445                                                NaN   \n",
       "29451                                                NaN   \n",
       "29473                                                NaN   \n",
       "29479                                                NaN   \n",
       "\n",
       "                                                  Extras    Empty_Weight  \\\n",
       "579                          [Alloy wheels, Sport seats]             NaN   \n",
       "580                          [Alloy wheels, Sport seats]             NaN   \n",
       "610             [Alloy wheels, Trailer hitch, Tuned car]  [\\n2,350 kg\\n]   \n",
       "613             [Alloy wheels, Trailer hitch, Tuned car]  [\\n2,350 kg\\n]   \n",
       "839    [Alloy wheels, Ambient lighting, Automatically...             NaN   \n",
       "...                                                  ...             ...   \n",
       "29441                                   [Emergency tyre]             NaN   \n",
       "29445                                                NaN             NaN   \n",
       "29451                                                NaN             NaN   \n",
       "29473                                                NaN             NaN   \n",
       "29479                                                NaN             NaN   \n",
       "\n",
       "               Model_Code General_Inspection Full_Service_History  \\\n",
       "579                   NaN                New                  NaN   \n",
       "580                   NaN                New                  NaN   \n",
       "610    [\\n, 0710/403, \\n]                New                  Yes   \n",
       "613    [\\n, 0710/403, \\n]                New                  Yes   \n",
       "839                   NaN                New                  Yes   \n",
       "...                   ...                ...                  ...   \n",
       "29441                 NaN                NaN                  NaN   \n",
       "29445                 NaN                NaN                  NaN   \n",
       "29451                 NaN                NaN                  NaN   \n",
       "29473                 NaN                NaN                  NaN   \n",
       "29479                 NaN                NaN                  NaN   \n",
       "\n",
       "      Non_Smoker_Vehicle Emission_Class Emissions_Sticker Upholstery_Colour  \\\n",
       "579                  Yes         Euro 4         4 (Green)             Black   \n",
       "580                  Yes         Euro 4         4 (Green)             Black   \n",
       "610                  Yes         Euro 4         4 (Green)             Black   \n",
       "613                  Yes         Euro 4         4 (Green)             Black   \n",
       "839                  Yes         Euro 6         4 (Green)             Black   \n",
       "...                  ...            ...               ...               ...   \n",
       "29441                NaN            NaN               NaN               NaN   \n",
       "29445                NaN            NaN               NaN               NaN   \n",
       "29451                NaN            NaN               NaN               NaN   \n",
       "29473                NaN            NaN               NaN               NaN   \n",
       "29479                NaN            NaN               NaN               NaN   \n",
       "\n",
       "         Upholstery  Production_Date              Previous_Owner  \\\n",
       "579    Full leather              NaN   [[39,000 km, 05/2003], 1]   \n",
       "580    Full leather              NaN   [[39,000 km, 05/2003], 1]   \n",
       "610    Full leather           1999.0  [[172,000 km, 02/1999], 2]   \n",
       "613    Full leather           1999.0  [[172,000 km, 02/1999], 2]   \n",
       "839       alcantara              NaN   [[76,900 km, 08/2016], 2]   \n",
       "...             ...              ...                         ...   \n",
       "29441           NaN              NaN                         NaN   \n",
       "29445           NaN              NaN                         NaN   \n",
       "29451           NaN              NaN                         NaN   \n",
       "29473           NaN              NaN                         NaN   \n",
       "29479           NaN              NaN                         NaN   \n",
       "\n",
       "      Energy_Efficiency_Class  \\\n",
       "579                       NaN   \n",
       "580                       NaN   \n",
       "610                         G   \n",
       "613                         G   \n",
       "839                       NaN   \n",
       "...                       ...   \n",
       "29441                     NaN   \n",
       "29445                     NaN   \n",
       "29451                     NaN   \n",
       "29473                     NaN   \n",
       "29479                     NaN   \n",
       "\n",
       "                                          CO2_Efficiency  \n",
       "579                                                  NaN  \n",
       "580                                                  NaN  \n",
       "610    Calculated on basis of measured CO₂-emissions ...  \n",
       "613    Calculated on basis of measured CO₂-emissions ...  \n",
       "839                                                  NaN  \n",
       "...                                                  ...  \n",
       "29441                                                NaN  \n",
       "29445                                                NaN  \n",
       "29451                                                NaN  \n",
       "29473                                                NaN  \n",
       "29479                                                NaN  \n",
       "\n",
       "[4384 rows x 46 columns]"
      ]
     },
     "execution_count": 19,
     "metadata": {},
     "output_type": "execute_result"
    }
   ],
   "source": [
    "df[df.astype(str).duplicated(keep=False)]"
   ]
  },
  {
   "cell_type": "code",
   "execution_count": 20,
   "id": "d50237f8-d0e9-42ac-9d91-9b0a0f48a361",
   "metadata": {},
   "outputs": [
    {
     "data": {
      "text/plain": [
       "Volvo C70              690\n",
       "Volvo V40              678\n",
       "Volvo XC60             350\n",
       "Volvo V60              308\n",
       "Volvo C30              228\n",
       "                      ... \n",
       "Mercedes-Benz V 250      2\n",
       "Toyota Camry             2\n",
       "Toyota Avensis           2\n",
       "Mercedes-Benz S 500      2\n",
       "Volvo 945                2\n",
       "Name: Make_Model, Length: 198, dtype: int64"
      ]
     },
     "execution_count": 20,
     "metadata": {},
     "output_type": "execute_result"
    }
   ],
   "source": [
    "df[df.astype(str).duplicated(['Make_Model', 'Short_Description', 'Location'], keep=False)]['Make_Model'].value_counts(dropna=True)"
   ]
  },
  {
   "cell_type": "code",
   "execution_count": 21,
   "id": "2a39962d-91e9-4623-8cde-a0cf21557747",
   "metadata": {},
   "outputs": [
    {
     "data": {
      "text/html": [
       "<div>\n",
       "<style scoped>\n",
       "    .dataframe tbody tr th:only-of-type {\n",
       "        vertical-align: middle;\n",
       "    }\n",
       "\n",
       "    .dataframe tbody tr th {\n",
       "        vertical-align: top;\n",
       "    }\n",
       "\n",
       "    .dataframe thead th {\n",
       "        text-align: right;\n",
       "    }\n",
       "</style>\n",
       "<table border=\"1\" class=\"dataframe\">\n",
       "  <thead>\n",
       "    <tr style=\"text-align: right;\">\n",
       "      <th></th>\n",
       "      <th>Make_Model</th>\n",
       "      <th>Short_Description</th>\n",
       "      <th>Make</th>\n",
       "      <th>Model</th>\n",
       "      <th>Location</th>\n",
       "      <th>Price</th>\n",
       "      <th>Body_Type</th>\n",
       "      <th>Type</th>\n",
       "      <th>Doors</th>\n",
       "      <th>Country_Version</th>\n",
       "      <th>Offer_Number</th>\n",
       "      <th>Warranty</th>\n",
       "      <th>Mileage</th>\n",
       "      <th>First_Registration</th>\n",
       "      <th>Gearbox</th>\n",
       "      <th>Fuel_Type</th>\n",
       "      <th>Colour</th>\n",
       "      <th>Paint</th>\n",
       "      <th>Desc</th>\n",
       "      <th>Seller</th>\n",
       "      <th>Seats</th>\n",
       "      <th>Power</th>\n",
       "      <th>Engine_Size</th>\n",
       "      <th>Gears</th>\n",
       "      <th>CO2_Emissions</th>\n",
       "      <th>Manufacturer_Colour</th>\n",
       "      <th>Drivetrain</th>\n",
       "      <th>Cylinders</th>\n",
       "      <th>Fuel_Consumption</th>\n",
       "      <th>Comfort_Convenience</th>\n",
       "      <th>Entertainment_Media</th>\n",
       "      <th>Safety_Security</th>\n",
       "      <th>Extras</th>\n",
       "      <th>Empty_Weight</th>\n",
       "      <th>Model_Code</th>\n",
       "      <th>General_Inspection</th>\n",
       "      <th>Full_Service_History</th>\n",
       "      <th>Non_Smoker_Vehicle</th>\n",
       "      <th>Emission_Class</th>\n",
       "      <th>Emissions_Sticker</th>\n",
       "      <th>Upholstery_Colour</th>\n",
       "      <th>Upholstery</th>\n",
       "      <th>Production_Date</th>\n",
       "      <th>Previous_Owner</th>\n",
       "      <th>Energy_Efficiency_Class</th>\n",
       "      <th>CO2_Efficiency</th>\n",
       "    </tr>\n",
       "  </thead>\n",
       "  <tbody>\n",
       "    <tr>\n",
       "      <th>26470</th>\n",
       "      <td>Volvo C70</td>\n",
       "      <td>T5 Summum</td>\n",
       "      <td>\\nVolvo\\n</td>\n",
       "      <td>[\\n, C70 ,\\n]</td>\n",
       "      <td>RIO ULLA 15,  28017 MADRID, ES</td>\n",
       "      <td>€ 11,999.-</td>\n",
       "      <td>[\\n, Convertible, \\n]</td>\n",
       "      <td>[\\n, Used, \\n]</td>\n",
       "      <td>[\\n, 2, \\n]</td>\n",
       "      <td>[\\n, Spain, \\n]</td>\n",
       "      <td>[\\n, 7211423, \\n]</td>\n",
       "      <td>[\\n, 12 months, \\n]</td>\n",
       "      <td>199,000 km</td>\n",
       "      <td>03/2006</td>\n",
       "      <td>[\\nManual\\n]</td>\n",
       "      <td>Gasoline</td>\n",
       "      <td>Beige</td>\n",
       "      <td>Metallic</td>\n",
       "      <td>[Volvo C70 T5 220cv, Marzo 2006 único dueño, 1...</td>\n",
       "      <td>Dealer</td>\n",
       "      <td>[\\n, 4, \\n]</td>\n",
       "      <td>[\\n162 kW (220 hp)\\n]</td>\n",
       "      <td>[\\n2,435 cc\\n]</td>\n",
       "      <td>[\\n6\\n]</td>\n",
       "      <td>NaN</td>\n",
       "      <td>NaN</td>\n",
       "      <td>[\\n, Front, \\n]</td>\n",
       "      <td>[\\n5\\n]</td>\n",
       "      <td>[[9.1 l/100 km (comb.)], [11.8 l/100 km (city)...</td>\n",
       "      <td>[Air conditioning, Automatic climate control, ...</td>\n",
       "      <td>NaN</td>\n",
       "      <td>[ABS, Central door lock, Driver-side airbag, F...</td>\n",
       "      <td>[Alloy wheels]</td>\n",
       "      <td>[\\n1,711 kg\\n]</td>\n",
       "      <td>NaN</td>\n",
       "      <td>NaN</td>\n",
       "      <td>NaN</td>\n",
       "      <td>NaN</td>\n",
       "      <td>NaN</td>\n",
       "      <td>NaN</td>\n",
       "      <td>NaN</td>\n",
       "      <td>NaN</td>\n",
       "      <td>NaN</td>\n",
       "      <td>NaN</td>\n",
       "      <td>NaN</td>\n",
       "      <td>NaN</td>\n",
       "    </tr>\n",
       "    <tr>\n",
       "      <th>26471</th>\n",
       "      <td>Volvo C70</td>\n",
       "      <td>2.4i Momentum</td>\n",
       "      <td>\\nVolvo\\n</td>\n",
       "      <td>[\\n, C70 ,\\n]</td>\n",
       "      <td>Auf dem Sand 28,  40721 Hilden, DE</td>\n",
       "      <td>€ 11,880.-</td>\n",
       "      <td>[\\n, Convertible, \\n]</td>\n",
       "      <td>[\\n, Used, \\n]</td>\n",
       "      <td>[\\n, 2, \\n]</td>\n",
       "      <td>[\\n, Germany, \\n]</td>\n",
       "      <td>[\\n, 001731_3386, \\n]</td>\n",
       "      <td>[\\n, 12 months, \\n]</td>\n",
       "      <td>155,923 km</td>\n",
       "      <td>08/2006</td>\n",
       "      <td>[\\nManual\\n]</td>\n",
       "      <td>Super Plus 98</td>\n",
       "      <td>Gold</td>\n",
       "      <td>Metallic</td>\n",
       "      <td>[ * ABS,  * Airbag Fahrerseite,  * Airbag auf ...</td>\n",
       "      <td>Dealer</td>\n",
       "      <td>[\\n, 4, \\n]</td>\n",
       "      <td>[\\n125 kW (170 hp)\\n]</td>\n",
       "      <td>[\\n2,435 cc\\n]</td>\n",
       "      <td>[\\n5\\n]</td>\n",
       "      <td>215 g/km (comb.)</td>\n",
       "      <td>ZANZIBAR GOLD PEARL</td>\n",
       "      <td>[\\n, Front, \\n]</td>\n",
       "      <td>[\\n5\\n]</td>\n",
       "      <td>[[9 l/100 km (comb.)], [12.9 l/100 km (city)],...</td>\n",
       "      <td>[Air conditioning, Armrest, Automatic climate ...</td>\n",
       "      <td>[CD player, On-board computer, Radio, Sound sy...</td>\n",
       "      <td>[ABS, Bi-Xenon headlights, Central door lock, ...</td>\n",
       "      <td>[Alloy wheels (18\"), Automatically dimming int...</td>\n",
       "      <td>[\\n1,685 kg\\n]</td>\n",
       "      <td>[\\n, 9101/ABY, \\n]</td>\n",
       "      <td>New</td>\n",
       "      <td>Yes</td>\n",
       "      <td>NaN</td>\n",
       "      <td>Euro 4</td>\n",
       "      <td>4 (Green)</td>\n",
       "      <td>Beige</td>\n",
       "      <td>Part leather</td>\n",
       "      <td>NaN</td>\n",
       "      <td>[[155,923 km, 08/2006], 2]</td>\n",
       "      <td>F</td>\n",
       "      <td>Calculated on basis of measured CO₂-emissions ...</td>\n",
       "    </tr>\n",
       "    <tr>\n",
       "      <th>26472</th>\n",
       "      <td>Volvo C70</td>\n",
       "      <td>2.5T 220PS Cabriolet T5 Summum 1.Hand Xenon</td>\n",
       "      <td>\\nVolvo\\n</td>\n",
       "      <td>[\\n, C70 ,\\n]</td>\n",
       "      <td>Lichterfelder Allee 14,  14513 Teltow, DE</td>\n",
       "      <td>€ 20,999.-</td>\n",
       "      <td>[\\n, Convertible, \\n]</td>\n",
       "      <td>[\\n, Used, \\n]</td>\n",
       "      <td>[\\n, 2, \\n]</td>\n",
       "      <td>[\\n, Germany, \\n]</td>\n",
       "      <td>[\\n, 280, \\n]</td>\n",
       "      <td>[\\n, Yes, \\n]</td>\n",
       "      <td>69,747 km</td>\n",
       "      <td>05/2007</td>\n",
       "      <td>[\\nAutomatic\\n]</td>\n",
       "      <td>Regular/Benzine E10 91</td>\n",
       "      <td>Black</td>\n",
       "      <td>Metallic</td>\n",
       "      <td>[Herzlich Willkommen bei der Autohaus Klann Gm...</td>\n",
       "      <td>Dealer</td>\n",
       "      <td>[\\n, 4, \\n]</td>\n",
       "      <td>[\\n162 kW (220 hp)\\n]</td>\n",
       "      <td>[\\n2,521 cc\\n]</td>\n",
       "      <td>NaN</td>\n",
       "      <td>234 g/km (comb.)</td>\n",
       "      <td>Black Sapphire Metallic</td>\n",
       "      <td>NaN</td>\n",
       "      <td>NaN</td>\n",
       "      <td>[[9.8 l/100 km (comb.)], [14.7 l/100 km (city)...</td>\n",
       "      <td>[Air conditioning, Armrest, Automatic climate ...</td>\n",
       "      <td>[CD player, On-board computer, Radio, Sound sy...</td>\n",
       "      <td>[ABS, Bi-Xenon headlights, Central door lock, ...</td>\n",
       "      <td>[All season tyres, Alloy wheels, Automatically...</td>\n",
       "      <td>NaN</td>\n",
       "      <td>NaN</td>\n",
       "      <td>04/2024</td>\n",
       "      <td>Yes</td>\n",
       "      <td>Yes</td>\n",
       "      <td>Euro 4</td>\n",
       "      <td>4 (Green)</td>\n",
       "      <td>Grey</td>\n",
       "      <td>Full leather</td>\n",
       "      <td>NaN</td>\n",
       "      <td>[[69,747 km, 05/2007], 1]</td>\n",
       "      <td>NaN</td>\n",
       "      <td>NaN</td>\n",
       "    </tr>\n",
       "    <tr>\n",
       "      <th>26473</th>\n",
       "      <td>Volvo C70</td>\n",
       "      <td>2.0 D3 150PS Cabriolet Momentum Automatik</td>\n",
       "      <td>\\nVolvo\\n</td>\n",
       "      <td>[\\n, C70 ,\\n]</td>\n",
       "      <td>Lichterfelder Allee 14,  14513 Teltow, DE</td>\n",
       "      <td>€ 14,999.-</td>\n",
       "      <td>[\\n, Convertible, \\n]</td>\n",
       "      <td>[\\n, Used, \\n]</td>\n",
       "      <td>[\\n, 2, \\n]</td>\n",
       "      <td>[\\n, Germany, \\n]</td>\n",
       "      <td>[\\n, 494-P2, \\n]</td>\n",
       "      <td>[\\n, Yes, \\n]</td>\n",
       "      <td>146,348 km</td>\n",
       "      <td>10/2011</td>\n",
       "      <td>[\\nAutomatic\\n]</td>\n",
       "      <td>Diesel</td>\n",
       "      <td>Blue</td>\n",
       "      <td>Metallic</td>\n",
       "      <td>[Herzlich Willkommen bei der Autohaus Klann Gm...</td>\n",
       "      <td>Dealer</td>\n",
       "      <td>[\\n, 4, \\n]</td>\n",
       "      <td>[\\n110 kW (150 hp)\\n]</td>\n",
       "      <td>[\\n1,984 cc\\n]</td>\n",
       "      <td>NaN</td>\n",
       "      <td>NaN</td>\n",
       "      <td>CASPIAN BLUE METALLIC</td>\n",
       "      <td>NaN</td>\n",
       "      <td>NaN</td>\n",
       "      <td>NaN</td>\n",
       "      <td>[Air conditioning, Armrest, Automatic climate ...</td>\n",
       "      <td>[Bluetooth, CD player, Hands-free equipment, O...</td>\n",
       "      <td>[ABS, Central door lock, Driver-side airbag, E...</td>\n",
       "      <td>[All season tyres, Alloy wheels, Automatically...</td>\n",
       "      <td>NaN</td>\n",
       "      <td>NaN</td>\n",
       "      <td>08/2023</td>\n",
       "      <td>Yes</td>\n",
       "      <td>Yes</td>\n",
       "      <td>Euro 5</td>\n",
       "      <td>4 (Green)</td>\n",
       "      <td>Black</td>\n",
       "      <td>Part leather</td>\n",
       "      <td>NaN</td>\n",
       "      <td>[[146,348 km, 10/2011], 1]</td>\n",
       "      <td>NaN</td>\n",
       "      <td>NaN</td>\n",
       "    </tr>\n",
       "    <tr>\n",
       "      <th>26474</th>\n",
       "      <td>Volvo C70</td>\n",
       "      <td>2.0D SUMMUM</td>\n",
       "      <td>\\nVolvo\\n</td>\n",
       "      <td>[\\n, C70 ,\\n]</td>\n",
       "      <td>POL. IND. DE CROSS 39600 SANTANDER CANTABRIA E...</td>\n",
       "      <td>€ 9,900.-</td>\n",
       "      <td>[\\n, Convertible, \\n]</td>\n",
       "      <td>[\\n, Used, \\n]</td>\n",
       "      <td>[\\n, 2, \\n]</td>\n",
       "      <td>[\\n, Spain, \\n]</td>\n",
       "      <td>[\\n, 7273637, \\n]</td>\n",
       "      <td>[\\n, 12 months, \\n]</td>\n",
       "      <td>144,000 km</td>\n",
       "      <td>05/2008</td>\n",
       "      <td>[\\nManual\\n]</td>\n",
       "      <td>Diesel</td>\n",
       "      <td>Silver</td>\n",
       "      <td>NaN</td>\n",
       "      <td>[ , Precio al contado: 9990 euros,  , Hola, ¿Q...</td>\n",
       "      <td>Dealer</td>\n",
       "      <td>NaN</td>\n",
       "      <td>[\\n100 kW (136 hp)\\n]</td>\n",
       "      <td>[\\n2,000 cc\\n]</td>\n",
       "      <td>NaN</td>\n",
       "      <td>NaN</td>\n",
       "      <td>Gris / Plata</td>\n",
       "      <td>NaN</td>\n",
       "      <td>NaN</td>\n",
       "      <td>NaN</td>\n",
       "      <td>NaN</td>\n",
       "      <td>NaN</td>\n",
       "      <td>NaN</td>\n",
       "      <td>NaN</td>\n",
       "      <td>NaN</td>\n",
       "      <td>NaN</td>\n",
       "      <td>NaN</td>\n",
       "      <td>NaN</td>\n",
       "      <td>NaN</td>\n",
       "      <td>NaN</td>\n",
       "      <td>NaN</td>\n",
       "      <td>NaN</td>\n",
       "      <td>NaN</td>\n",
       "      <td>NaN</td>\n",
       "      <td>NaN</td>\n",
       "      <td>NaN</td>\n",
       "      <td>NaN</td>\n",
       "    </tr>\n",
       "    <tr>\n",
       "      <th>...</th>\n",
       "      <td>...</td>\n",
       "      <td>...</td>\n",
       "      <td>...</td>\n",
       "      <td>...</td>\n",
       "      <td>...</td>\n",
       "      <td>...</td>\n",
       "      <td>...</td>\n",
       "      <td>...</td>\n",
       "      <td>...</td>\n",
       "      <td>...</td>\n",
       "      <td>...</td>\n",
       "      <td>...</td>\n",
       "      <td>...</td>\n",
       "      <td>...</td>\n",
       "      <td>...</td>\n",
       "      <td>...</td>\n",
       "      <td>...</td>\n",
       "      <td>...</td>\n",
       "      <td>...</td>\n",
       "      <td>...</td>\n",
       "      <td>...</td>\n",
       "      <td>...</td>\n",
       "      <td>...</td>\n",
       "      <td>...</td>\n",
       "      <td>...</td>\n",
       "      <td>...</td>\n",
       "      <td>...</td>\n",
       "      <td>...</td>\n",
       "      <td>...</td>\n",
       "      <td>...</td>\n",
       "      <td>...</td>\n",
       "      <td>...</td>\n",
       "      <td>...</td>\n",
       "      <td>...</td>\n",
       "      <td>...</td>\n",
       "      <td>...</td>\n",
       "      <td>...</td>\n",
       "      <td>...</td>\n",
       "      <td>...</td>\n",
       "      <td>...</td>\n",
       "      <td>...</td>\n",
       "      <td>...</td>\n",
       "      <td>...</td>\n",
       "      <td>...</td>\n",
       "      <td>...</td>\n",
       "      <td>...</td>\n",
       "    </tr>\n",
       "    <tr>\n",
       "      <th>27449</th>\n",
       "      <td>Volvo C70</td>\n",
       "      <td>C70 Coupe 2.5 193cv</td>\n",
       "      <td>\\nVolvo\\n</td>\n",
       "      <td>[\\n, C70 ,\\n]</td>\n",
       "      <td>47923 Rimini, IT</td>\n",
       "      <td>€ 7,400.-</td>\n",
       "      <td>[\\n, Coupe, \\n]</td>\n",
       "      <td>[\\n, Used, \\n]</td>\n",
       "      <td>[\\n, 2, \\n]</td>\n",
       "      <td>NaN</td>\n",
       "      <td>NaN</td>\n",
       "      <td>NaN</td>\n",
       "      <td>219,000 km</td>\n",
       "      <td>01/2001</td>\n",
       "      <td>[\\nManual\\n]</td>\n",
       "      <td>LPG</td>\n",
       "      <td>Blue</td>\n",
       "      <td>Metallic</td>\n",
       "      <td>[Vendo Volvo C70 2.4 turbo 193cv del 2001. 5 c...</td>\n",
       "      <td>Private seller</td>\n",
       "      <td>[\\n, 4, \\n]</td>\n",
       "      <td>[\\n142 kW (193 hp)\\n]</td>\n",
       "      <td>[\\n2,435 cc\\n]</td>\n",
       "      <td>[\\n5\\n]</td>\n",
       "      <td>NaN</td>\n",
       "      <td>NaN</td>\n",
       "      <td>[\\n, Front, \\n]</td>\n",
       "      <td>[\\n5\\n]</td>\n",
       "      <td>[[9.9 l/100 km (comb.)], [13.7 l/100 km (city)...</td>\n",
       "      <td>[Air conditioning, Armrest, Automatic climate ...</td>\n",
       "      <td>[CD player, On-board computer, Radio, Sound sy...</td>\n",
       "      <td>[ABS, Adaptive headlights, Alarm system, Centr...</td>\n",
       "      <td>[Alloy wheels (17\"), Ambient lighting, Automat...</td>\n",
       "      <td>[\\n1,551 kg\\n]</td>\n",
       "      <td>NaN</td>\n",
       "      <td>02/2024</td>\n",
       "      <td>NaN</td>\n",
       "      <td>Yes</td>\n",
       "      <td>Euro 6</td>\n",
       "      <td>NaN</td>\n",
       "      <td>Grey</td>\n",
       "      <td>Full leather</td>\n",
       "      <td>NaN</td>\n",
       "      <td>NaN</td>\n",
       "      <td>NaN</td>\n",
       "      <td>NaN</td>\n",
       "    </tr>\n",
       "    <tr>\n",
       "      <th>27450</th>\n",
       "      <td>Volvo C70</td>\n",
       "      <td>Coupé 2.0 T Prestige UNIEK!</td>\n",
       "      <td>\\nVolvo\\n</td>\n",
       "      <td>[\\n, C70 ,\\n]</td>\n",
       "      <td>Edisonweg 16a,  2952 AD ALBLASSERDAM, NL</td>\n",
       "      <td>€ 8,950.-</td>\n",
       "      <td>[\\n, Coupe, \\n]</td>\n",
       "      <td>[\\n, Used, \\n]</td>\n",
       "      <td>[\\n, 2, \\n]</td>\n",
       "      <td>NaN</td>\n",
       "      <td>[\\n, 50157964, \\n]</td>\n",
       "      <td>NaN</td>\n",
       "      <td>118,232 km</td>\n",
       "      <td>12/2000</td>\n",
       "      <td>[\\nManual\\n]</td>\n",
       "      <td>Gasoline</td>\n",
       "      <td>Orange</td>\n",
       "      <td>Metallic</td>\n",
       "      <td>[Voor de echte liefhebber: een unieke Volvo C7...</td>\n",
       "      <td>Dealer</td>\n",
       "      <td>[\\n, 4, \\n]</td>\n",
       "      <td>[\\n120 kW (163 hp)\\n]</td>\n",
       "      <td>[\\n1,984 cc\\n]</td>\n",
       "      <td>[\\n5\\n]</td>\n",
       "      <td>234 g/km (comb.)</td>\n",
       "      <td>Saffron Pearl 435</td>\n",
       "      <td>[\\n, Front, \\n]</td>\n",
       "      <td>[\\n5\\n]</td>\n",
       "      <td>[[9.7 l/100 km (comb.)], [13.5 l/100 km (city)...</td>\n",
       "      <td>[Air conditioning, Armrest, Automatic climate ...</td>\n",
       "      <td>[CD player, On-board computer, Radio]</td>\n",
       "      <td>[ABS, Alarm system, Central door lock, Central...</td>\n",
       "      <td>[Alloy wheels (16\"), Automatically dimming int...</td>\n",
       "      <td>[\\n1,436 kg\\n]</td>\n",
       "      <td>NaN</td>\n",
       "      <td>New</td>\n",
       "      <td>Yes</td>\n",
       "      <td>NaN</td>\n",
       "      <td>NaN</td>\n",
       "      <td>NaN</td>\n",
       "      <td>Other</td>\n",
       "      <td>Full leather</td>\n",
       "      <td>NaN</td>\n",
       "      <td>[[118,232 km, 12/2000], 2]</td>\n",
       "      <td>NaN</td>\n",
       "      <td>NaN</td>\n",
       "    </tr>\n",
       "    <tr>\n",
       "      <th>27451</th>\n",
       "      <td>Volvo C70</td>\n",
       "      <td>COUPE' 2000 TURBO T5 226CV</td>\n",
       "      <td>\\nVolvo\\n</td>\n",
       "      <td>[\\n, C70 ,\\n]</td>\n",
       "      <td>41126 Modena, IT</td>\n",
       "      <td>€ 7,500.-</td>\n",
       "      <td>[\\n, Coupe, \\n]</td>\n",
       "      <td>[\\n, Used, \\n]</td>\n",
       "      <td>[\\n, 2, \\n]</td>\n",
       "      <td>NaN</td>\n",
       "      <td>NaN</td>\n",
       "      <td>NaN</td>\n",
       "      <td>227,000 km</td>\n",
       "      <td>02/2000</td>\n",
       "      <td>[\\nManual\\n]</td>\n",
       "      <td>Gasoline</td>\n",
       "      <td>Silver</td>\n",
       "      <td>Metallic</td>\n",
       "      <td>[Volvo C70 prima serie anno 2000, motore benzi...</td>\n",
       "      <td>Private seller</td>\n",
       "      <td>[\\n, 4, \\n]</td>\n",
       "      <td>[\\n166 kW (226 hp)\\n]</td>\n",
       "      <td>[\\n2,000 cc\\n]</td>\n",
       "      <td>[\\n5\\n]</td>\n",
       "      <td>NaN</td>\n",
       "      <td>NaN</td>\n",
       "      <td>[\\n, Front, \\n]</td>\n",
       "      <td>[\\n5\\n]</td>\n",
       "      <td>[[8.5 l/100 km (comb.)]]</td>\n",
       "      <td>[Air conditioning, Armrest, Auxiliary heating,...</td>\n",
       "      <td>[Android Auto, Apple CarPlay, Bluetooth, Digit...</td>\n",
       "      <td>[ABS, Alarm system, Central door lock, Central...</td>\n",
       "      <td>[Alloy wheels (17\"), Spare tyre, Summer tyres,...</td>\n",
       "      <td>[\\n1,491 kg\\n]</td>\n",
       "      <td>NaN</td>\n",
       "      <td>07/2023</td>\n",
       "      <td>Yes</td>\n",
       "      <td>Yes</td>\n",
       "      <td>Euro 3</td>\n",
       "      <td>NaN</td>\n",
       "      <td>Black</td>\n",
       "      <td>Full leather</td>\n",
       "      <td>NaN</td>\n",
       "      <td>[[227,000 km, 02/2000], 1]</td>\n",
       "      <td>NaN</td>\n",
       "      <td>NaN</td>\n",
       "    </tr>\n",
       "    <tr>\n",
       "      <th>27456</th>\n",
       "      <td>Volvo C70</td>\n",
       "      <td>2.5T</td>\n",
       "      <td>\\nVolvo\\n</td>\n",
       "      <td>[\\n, C70 ,\\n]</td>\n",
       "      <td>94051 Hauzenberg, DE</td>\n",
       "      <td>€ 12,500.-</td>\n",
       "      <td>[\\n, Coupe, \\n]</td>\n",
       "      <td>[\\n, Used, \\n]</td>\n",
       "      <td>[\\n, 2, \\n]</td>\n",
       "      <td>NaN</td>\n",
       "      <td>NaN</td>\n",
       "      <td>NaN</td>\n",
       "      <td>182,000 km</td>\n",
       "      <td>11/1998</td>\n",
       "      <td>[\\nAutomatic\\n]</td>\n",
       "      <td>Gasoline</td>\n",
       "      <td>Red</td>\n",
       "      <td>Metallic</td>\n",
       "      <td>[Guter Zustand innen wie außen, voll funktions...</td>\n",
       "      <td>Private seller</td>\n",
       "      <td>[\\n, 4, \\n]</td>\n",
       "      <td>[\\n142 kW (193 hp)\\n]</td>\n",
       "      <td>[\\n2,435 cc\\n]</td>\n",
       "      <td>[\\n4\\n]</td>\n",
       "      <td>250 g/km (comb.)</td>\n",
       "      <td>NaN</td>\n",
       "      <td>[\\n, Front, \\n]</td>\n",
       "      <td>[\\n5\\n]</td>\n",
       "      <td>[[10.7 l/100 km (comb.)], [15.3 l/100 km (city...</td>\n",
       "      <td>[Armrest, Automatic climate control, 2 zones, ...</td>\n",
       "      <td>[CD player, Hands-free equipment, On-board com...</td>\n",
       "      <td>[ABS, Central door lock with remote control, D...</td>\n",
       "      <td>[Alloy wheels (16\"), Automatically dimming int...</td>\n",
       "      <td>[\\n1,480 kg\\n]</td>\n",
       "      <td>NaN</td>\n",
       "      <td>06/2024</td>\n",
       "      <td>Yes</td>\n",
       "      <td>Yes</td>\n",
       "      <td>Euro 3</td>\n",
       "      <td>1 (No sticker)</td>\n",
       "      <td>Beige</td>\n",
       "      <td>Full leather</td>\n",
       "      <td>NaN</td>\n",
       "      <td>[[182,000 km, 11/1998], 1]</td>\n",
       "      <td>NaN</td>\n",
       "      <td>NaN</td>\n",
       "    </tr>\n",
       "    <tr>\n",
       "      <th>27486</th>\n",
       "      <td>Volvo C70</td>\n",
       "      <td>2.0 D Summum</td>\n",
       "      <td>\\nVolvo\\n</td>\n",
       "      <td>[\\n, C70 ,\\n]</td>\n",
       "      <td>Viale della Marina, 59,  00122 Ostia lido - Ro...</td>\n",
       "      <td>€ 9,900.-</td>\n",
       "      <td>[\\n, Coupe, \\n]</td>\n",
       "      <td>[\\n, Used, \\n]</td>\n",
       "      <td>[\\n, 2, \\n]</td>\n",
       "      <td>[\\n, Italy, \\n]</td>\n",
       "      <td>NaN</td>\n",
       "      <td>NaN</td>\n",
       "      <td>195,000 km</td>\n",
       "      <td>07/2008</td>\n",
       "      <td>[\\nAutomatic\\n]</td>\n",
       "      <td>Diesel</td>\n",
       "      <td>Silver</td>\n",
       "      <td>NaN</td>\n",
       "      <td>[CONTO VENDITA PRIVATO, OTTIME CONDIZIONI DI C...</td>\n",
       "      <td>Dealer</td>\n",
       "      <td>[\\n, 4, \\n]</td>\n",
       "      <td>[\\n100 kW (136 hp)\\n]</td>\n",
       "      <td>[\\n1,997 cc\\n]</td>\n",
       "      <td>[\\n6\\n]</td>\n",
       "      <td>158 g/km (comb.)</td>\n",
       "      <td>NaN</td>\n",
       "      <td>[\\n, Front, \\n]</td>\n",
       "      <td>[\\n4\\n]</td>\n",
       "      <td>[[6 l/100 km (comb.)], [7.9 l/100 km (city)], ...</td>\n",
       "      <td>[Air conditioning, Armrest, Automatic climate ...</td>\n",
       "      <td>[Bluetooth, CD player, Hands-free equipment, M...</td>\n",
       "      <td>[ABS, Central door lock, Driver-side airbag, E...</td>\n",
       "      <td>[Alloy wheels (18\"), Emergency tyre]</td>\n",
       "      <td>[\\n1,706 kg\\n]</td>\n",
       "      <td>NaN</td>\n",
       "      <td>NaN</td>\n",
       "      <td>NaN</td>\n",
       "      <td>NaN</td>\n",
       "      <td>Euro 4</td>\n",
       "      <td>NaN</td>\n",
       "      <td>Black</td>\n",
       "      <td>Full leather</td>\n",
       "      <td>NaN</td>\n",
       "      <td>[[195,000 km, 07/2008], 2]</td>\n",
       "      <td>NaN</td>\n",
       "      <td>NaN</td>\n",
       "    </tr>\n",
       "  </tbody>\n",
       "</table>\n",
       "<p>692 rows × 46 columns</p>\n",
       "</div>"
      ],
      "text/plain": [
       "      Make_Model                            Short_Description       Make  \\\n",
       "26470  Volvo C70                                    T5 Summum  \\nVolvo\\n   \n",
       "26471  Volvo C70                                2.4i Momentum  \\nVolvo\\n   \n",
       "26472  Volvo C70  2.5T 220PS Cabriolet T5 Summum 1.Hand Xenon  \\nVolvo\\n   \n",
       "26473  Volvo C70    2.0 D3 150PS Cabriolet Momentum Automatik  \\nVolvo\\n   \n",
       "26474  Volvo C70                                  2.0D SUMMUM  \\nVolvo\\n   \n",
       "...          ...                                          ...        ...   \n",
       "27449  Volvo C70                          C70 Coupe 2.5 193cv  \\nVolvo\\n   \n",
       "27450  Volvo C70                  Coupé 2.0 T Prestige UNIEK!  \\nVolvo\\n   \n",
       "27451  Volvo C70                   COUPE' 2000 TURBO T5 226CV  \\nVolvo\\n   \n",
       "27456  Volvo C70                                         2.5T  \\nVolvo\\n   \n",
       "27486  Volvo C70                                 2.0 D Summum  \\nVolvo\\n   \n",
       "\n",
       "               Model                                           Location  \\\n",
       "26470  [\\n, C70 ,\\n]                     RIO ULLA 15,  28017 MADRID, ES   \n",
       "26471  [\\n, C70 ,\\n]                 Auf dem Sand 28,  40721 Hilden, DE   \n",
       "26472  [\\n, C70 ,\\n]          Lichterfelder Allee 14,  14513 Teltow, DE   \n",
       "26473  [\\n, C70 ,\\n]          Lichterfelder Allee 14,  14513 Teltow, DE   \n",
       "26474  [\\n, C70 ,\\n]  POL. IND. DE CROSS 39600 SANTANDER CANTABRIA E...   \n",
       "...              ...                                                ...   \n",
       "27449  [\\n, C70 ,\\n]                                   47923 Rimini, IT   \n",
       "27450  [\\n, C70 ,\\n]           Edisonweg 16a,  2952 AD ALBLASSERDAM, NL   \n",
       "27451  [\\n, C70 ,\\n]                                   41126 Modena, IT   \n",
       "27456  [\\n, C70 ,\\n]                               94051 Hauzenberg, DE   \n",
       "27486  [\\n, C70 ,\\n]  Viale della Marina, 59,  00122 Ostia lido - Ro...   \n",
       "\n",
       "            Price              Body_Type            Type        Doors  \\\n",
       "26470  € 11,999.-  [\\n, Convertible, \\n]  [\\n, Used, \\n]  [\\n, 2, \\n]   \n",
       "26471  € 11,880.-  [\\n, Convertible, \\n]  [\\n, Used, \\n]  [\\n, 2, \\n]   \n",
       "26472  € 20,999.-  [\\n, Convertible, \\n]  [\\n, Used, \\n]  [\\n, 2, \\n]   \n",
       "26473  € 14,999.-  [\\n, Convertible, \\n]  [\\n, Used, \\n]  [\\n, 2, \\n]   \n",
       "26474   € 9,900.-  [\\n, Convertible, \\n]  [\\n, Used, \\n]  [\\n, 2, \\n]   \n",
       "...           ...                    ...             ...          ...   \n",
       "27449   € 7,400.-        [\\n, Coupe, \\n]  [\\n, Used, \\n]  [\\n, 2, \\n]   \n",
       "27450   € 8,950.-        [\\n, Coupe, \\n]  [\\n, Used, \\n]  [\\n, 2, \\n]   \n",
       "27451   € 7,500.-        [\\n, Coupe, \\n]  [\\n, Used, \\n]  [\\n, 2, \\n]   \n",
       "27456  € 12,500.-        [\\n, Coupe, \\n]  [\\n, Used, \\n]  [\\n, 2, \\n]   \n",
       "27486   € 9,900.-        [\\n, Coupe, \\n]  [\\n, Used, \\n]  [\\n, 2, \\n]   \n",
       "\n",
       "         Country_Version           Offer_Number             Warranty  \\\n",
       "26470    [\\n, Spain, \\n]      [\\n, 7211423, \\n]  [\\n, 12 months, \\n]   \n",
       "26471  [\\n, Germany, \\n]  [\\n, 001731_3386, \\n]  [\\n, 12 months, \\n]   \n",
       "26472  [\\n, Germany, \\n]          [\\n, 280, \\n]        [\\n, Yes, \\n]   \n",
       "26473  [\\n, Germany, \\n]       [\\n, 494-P2, \\n]        [\\n, Yes, \\n]   \n",
       "26474    [\\n, Spain, \\n]      [\\n, 7273637, \\n]  [\\n, 12 months, \\n]   \n",
       "...                  ...                    ...                  ...   \n",
       "27449                NaN                    NaN                  NaN   \n",
       "27450                NaN     [\\n, 50157964, \\n]                  NaN   \n",
       "27451                NaN                    NaN                  NaN   \n",
       "27456                NaN                    NaN                  NaN   \n",
       "27486    [\\n, Italy, \\n]                    NaN                  NaN   \n",
       "\n",
       "          Mileage First_Registration          Gearbox               Fuel_Type  \\\n",
       "26470  199,000 km            03/2006     [\\nManual\\n]                Gasoline   \n",
       "26471  155,923 km            08/2006     [\\nManual\\n]           Super Plus 98   \n",
       "26472   69,747 km            05/2007  [\\nAutomatic\\n]  Regular/Benzine E10 91   \n",
       "26473  146,348 km            10/2011  [\\nAutomatic\\n]                  Diesel   \n",
       "26474  144,000 km            05/2008     [\\nManual\\n]                  Diesel   \n",
       "...           ...                ...              ...                     ...   \n",
       "27449  219,000 km            01/2001     [\\nManual\\n]                     LPG   \n",
       "27450  118,232 km            12/2000     [\\nManual\\n]                Gasoline   \n",
       "27451  227,000 km            02/2000     [\\nManual\\n]                Gasoline   \n",
       "27456  182,000 km            11/1998  [\\nAutomatic\\n]                Gasoline   \n",
       "27486  195,000 km            07/2008  [\\nAutomatic\\n]                  Diesel   \n",
       "\n",
       "       Colour     Paint                                               Desc  \\\n",
       "26470   Beige  Metallic  [Volvo C70 T5 220cv, Marzo 2006 único dueño, 1...   \n",
       "26471    Gold  Metallic  [ * ABS,  * Airbag Fahrerseite,  * Airbag auf ...   \n",
       "26472   Black  Metallic  [Herzlich Willkommen bei der Autohaus Klann Gm...   \n",
       "26473    Blue  Metallic  [Herzlich Willkommen bei der Autohaus Klann Gm...   \n",
       "26474  Silver       NaN  [ , Precio al contado: 9990 euros,  , Hola, ¿Q...   \n",
       "...       ...       ...                                                ...   \n",
       "27449    Blue  Metallic  [Vendo Volvo C70 2.4 turbo 193cv del 2001. 5 c...   \n",
       "27450  Orange  Metallic  [Voor de echte liefhebber: een unieke Volvo C7...   \n",
       "27451  Silver  Metallic  [Volvo C70 prima serie anno 2000, motore benzi...   \n",
       "27456     Red  Metallic  [Guter Zustand innen wie außen, voll funktions...   \n",
       "27486  Silver       NaN  [CONTO VENDITA PRIVATO, OTTIME CONDIZIONI DI C...   \n",
       "\n",
       "               Seller        Seats                  Power     Engine_Size  \\\n",
       "26470          Dealer  [\\n, 4, \\n]  [\\n162 kW (220 hp)\\n]  [\\n2,435 cc\\n]   \n",
       "26471          Dealer  [\\n, 4, \\n]  [\\n125 kW (170 hp)\\n]  [\\n2,435 cc\\n]   \n",
       "26472          Dealer  [\\n, 4, \\n]  [\\n162 kW (220 hp)\\n]  [\\n2,521 cc\\n]   \n",
       "26473          Dealer  [\\n, 4, \\n]  [\\n110 kW (150 hp)\\n]  [\\n1,984 cc\\n]   \n",
       "26474          Dealer          NaN  [\\n100 kW (136 hp)\\n]  [\\n2,000 cc\\n]   \n",
       "...               ...          ...                    ...             ...   \n",
       "27449  Private seller  [\\n, 4, \\n]  [\\n142 kW (193 hp)\\n]  [\\n2,435 cc\\n]   \n",
       "27450          Dealer  [\\n, 4, \\n]  [\\n120 kW (163 hp)\\n]  [\\n1,984 cc\\n]   \n",
       "27451  Private seller  [\\n, 4, \\n]  [\\n166 kW (226 hp)\\n]  [\\n2,000 cc\\n]   \n",
       "27456  Private seller  [\\n, 4, \\n]  [\\n142 kW (193 hp)\\n]  [\\n2,435 cc\\n]   \n",
       "27486          Dealer  [\\n, 4, \\n]  [\\n100 kW (136 hp)\\n]  [\\n1,997 cc\\n]   \n",
       "\n",
       "         Gears     CO2_Emissions      Manufacturer_Colour       Drivetrain  \\\n",
       "26470  [\\n6\\n]               NaN                      NaN  [\\n, Front, \\n]   \n",
       "26471  [\\n5\\n]  215 g/km (comb.)      ZANZIBAR GOLD PEARL  [\\n, Front, \\n]   \n",
       "26472      NaN  234 g/km (comb.)  Black Sapphire Metallic              NaN   \n",
       "26473      NaN               NaN    CASPIAN BLUE METALLIC              NaN   \n",
       "26474      NaN               NaN             Gris / Plata              NaN   \n",
       "...        ...               ...                      ...              ...   \n",
       "27449  [\\n5\\n]               NaN                      NaN  [\\n, Front, \\n]   \n",
       "27450  [\\n5\\n]  234 g/km (comb.)        Saffron Pearl 435  [\\n, Front, \\n]   \n",
       "27451  [\\n5\\n]               NaN                      NaN  [\\n, Front, \\n]   \n",
       "27456  [\\n4\\n]  250 g/km (comb.)                      NaN  [\\n, Front, \\n]   \n",
       "27486  [\\n6\\n]  158 g/km (comb.)                      NaN  [\\n, Front, \\n]   \n",
       "\n",
       "      Cylinders                                   Fuel_Consumption  \\\n",
       "26470   [\\n5\\n]  [[9.1 l/100 km (comb.)], [11.8 l/100 km (city)...   \n",
       "26471   [\\n5\\n]  [[9 l/100 km (comb.)], [12.9 l/100 km (city)],...   \n",
       "26472       NaN  [[9.8 l/100 km (comb.)], [14.7 l/100 km (city)...   \n",
       "26473       NaN                                                NaN   \n",
       "26474       NaN                                                NaN   \n",
       "...         ...                                                ...   \n",
       "27449   [\\n5\\n]  [[9.9 l/100 km (comb.)], [13.7 l/100 km (city)...   \n",
       "27450   [\\n5\\n]  [[9.7 l/100 km (comb.)], [13.5 l/100 km (city)...   \n",
       "27451   [\\n5\\n]                           [[8.5 l/100 km (comb.)]]   \n",
       "27456   [\\n5\\n]  [[10.7 l/100 km (comb.)], [15.3 l/100 km (city...   \n",
       "27486   [\\n4\\n]  [[6 l/100 km (comb.)], [7.9 l/100 km (city)], ...   \n",
       "\n",
       "                                     Comfort_Convenience  \\\n",
       "26470  [Air conditioning, Automatic climate control, ...   \n",
       "26471  [Air conditioning, Armrest, Automatic climate ...   \n",
       "26472  [Air conditioning, Armrest, Automatic climate ...   \n",
       "26473  [Air conditioning, Armrest, Automatic climate ...   \n",
       "26474                                                NaN   \n",
       "...                                                  ...   \n",
       "27449  [Air conditioning, Armrest, Automatic climate ...   \n",
       "27450  [Air conditioning, Armrest, Automatic climate ...   \n",
       "27451  [Air conditioning, Armrest, Auxiliary heating,...   \n",
       "27456  [Armrest, Automatic climate control, 2 zones, ...   \n",
       "27486  [Air conditioning, Armrest, Automatic climate ...   \n",
       "\n",
       "                                     Entertainment_Media  \\\n",
       "26470                                                NaN   \n",
       "26471  [CD player, On-board computer, Radio, Sound sy...   \n",
       "26472  [CD player, On-board computer, Radio, Sound sy...   \n",
       "26473  [Bluetooth, CD player, Hands-free equipment, O...   \n",
       "26474                                                NaN   \n",
       "...                                                  ...   \n",
       "27449  [CD player, On-board computer, Radio, Sound sy...   \n",
       "27450              [CD player, On-board computer, Radio]   \n",
       "27451  [Android Auto, Apple CarPlay, Bluetooth, Digit...   \n",
       "27456  [CD player, Hands-free equipment, On-board com...   \n",
       "27486  [Bluetooth, CD player, Hands-free equipment, M...   \n",
       "\n",
       "                                         Safety_Security  \\\n",
       "26470  [ABS, Central door lock, Driver-side airbag, F...   \n",
       "26471  [ABS, Bi-Xenon headlights, Central door lock, ...   \n",
       "26472  [ABS, Bi-Xenon headlights, Central door lock, ...   \n",
       "26473  [ABS, Central door lock, Driver-side airbag, E...   \n",
       "26474                                                NaN   \n",
       "...                                                  ...   \n",
       "27449  [ABS, Adaptive headlights, Alarm system, Centr...   \n",
       "27450  [ABS, Alarm system, Central door lock, Central...   \n",
       "27451  [ABS, Alarm system, Central door lock, Central...   \n",
       "27456  [ABS, Central door lock with remote control, D...   \n",
       "27486  [ABS, Central door lock, Driver-side airbag, E...   \n",
       "\n",
       "                                                  Extras    Empty_Weight  \\\n",
       "26470                                     [Alloy wheels]  [\\n1,711 kg\\n]   \n",
       "26471  [Alloy wheels (18\"), Automatically dimming int...  [\\n1,685 kg\\n]   \n",
       "26472  [All season tyres, Alloy wheels, Automatically...             NaN   \n",
       "26473  [All season tyres, Alloy wheels, Automatically...             NaN   \n",
       "26474                                                NaN             NaN   \n",
       "...                                                  ...             ...   \n",
       "27449  [Alloy wheels (17\"), Ambient lighting, Automat...  [\\n1,551 kg\\n]   \n",
       "27450  [Alloy wheels (16\"), Automatically dimming int...  [\\n1,436 kg\\n]   \n",
       "27451  [Alloy wheels (17\"), Spare tyre, Summer tyres,...  [\\n1,491 kg\\n]   \n",
       "27456  [Alloy wheels (16\"), Automatically dimming int...  [\\n1,480 kg\\n]   \n",
       "27486               [Alloy wheels (18\"), Emergency tyre]  [\\n1,706 kg\\n]   \n",
       "\n",
       "               Model_Code General_Inspection Full_Service_History  \\\n",
       "26470                 NaN                NaN                  NaN   \n",
       "26471  [\\n, 9101/ABY, \\n]                New                  Yes   \n",
       "26472                 NaN            04/2024                  Yes   \n",
       "26473                 NaN            08/2023                  Yes   \n",
       "26474                 NaN                NaN                  NaN   \n",
       "...                   ...                ...                  ...   \n",
       "27449                 NaN            02/2024                  NaN   \n",
       "27450                 NaN                New                  Yes   \n",
       "27451                 NaN            07/2023                  Yes   \n",
       "27456                 NaN            06/2024                  Yes   \n",
       "27486                 NaN                NaN                  NaN   \n",
       "\n",
       "      Non_Smoker_Vehicle Emission_Class Emissions_Sticker Upholstery_Colour  \\\n",
       "26470                NaN            NaN               NaN               NaN   \n",
       "26471                NaN         Euro 4         4 (Green)             Beige   \n",
       "26472                Yes         Euro 4         4 (Green)              Grey   \n",
       "26473                Yes         Euro 5         4 (Green)             Black   \n",
       "26474                NaN            NaN               NaN               NaN   \n",
       "...                  ...            ...               ...               ...   \n",
       "27449                Yes         Euro 6               NaN              Grey   \n",
       "27450                NaN            NaN               NaN             Other   \n",
       "27451                Yes         Euro 3               NaN             Black   \n",
       "27456                Yes         Euro 3    1 (No sticker)             Beige   \n",
       "27486                NaN         Euro 4               NaN             Black   \n",
       "\n",
       "         Upholstery  Production_Date              Previous_Owner  \\\n",
       "26470           NaN              NaN                         NaN   \n",
       "26471  Part leather              NaN  [[155,923 km, 08/2006], 2]   \n",
       "26472  Full leather              NaN   [[69,747 km, 05/2007], 1]   \n",
       "26473  Part leather              NaN  [[146,348 km, 10/2011], 1]   \n",
       "26474           NaN              NaN                         NaN   \n",
       "...             ...              ...                         ...   \n",
       "27449  Full leather              NaN                         NaN   \n",
       "27450  Full leather              NaN  [[118,232 km, 12/2000], 2]   \n",
       "27451  Full leather              NaN  [[227,000 km, 02/2000], 1]   \n",
       "27456  Full leather              NaN  [[182,000 km, 11/1998], 1]   \n",
       "27486  Full leather              NaN  [[195,000 km, 07/2008], 2]   \n",
       "\n",
       "      Energy_Efficiency_Class  \\\n",
       "26470                     NaN   \n",
       "26471                       F   \n",
       "26472                     NaN   \n",
       "26473                     NaN   \n",
       "26474                     NaN   \n",
       "...                       ...   \n",
       "27449                     NaN   \n",
       "27450                     NaN   \n",
       "27451                     NaN   \n",
       "27456                     NaN   \n",
       "27486                     NaN   \n",
       "\n",
       "                                          CO2_Efficiency  \n",
       "26470                                                NaN  \n",
       "26471  Calculated on basis of measured CO₂-emissions ...  \n",
       "26472                                                NaN  \n",
       "26473                                                NaN  \n",
       "26474                                                NaN  \n",
       "...                                                  ...  \n",
       "27449                                                NaN  \n",
       "27450                                                NaN  \n",
       "27451                                                NaN  \n",
       "27456                                                NaN  \n",
       "27486                                                NaN  \n",
       "\n",
       "[692 rows x 46 columns]"
      ]
     },
     "execution_count": 21,
     "metadata": {},
     "output_type": "execute_result"
    }
   ],
   "source": [
    "df[df.astype(str)['Make_Model'] == 'Volvo C70']"
   ]
  },
  {
   "cell_type": "code",
   "execution_count": 22,
   "id": "28f5b8e1-627c-40c4-a806-a090cd015df4",
   "metadata": {},
   "outputs": [
    {
     "data": {
      "text/plain": [
       "True     690\n",
       "False      2\n",
       "dtype: int64"
      ]
     },
     "execution_count": 22,
     "metadata": {},
     "output_type": "execute_result"
    }
   ],
   "source": [
    "df[df['Make_Model'] == 'Volvo C70'].astype(str).duplicated(keep=False).value_counts(dropna=False)"
   ]
  },
  {
   "cell_type": "code",
   "execution_count": null,
   "id": "460d7e27-41ec-4c08-83dd-9e224f92db63",
   "metadata": {},
   "outputs": [],
   "source": [
    "# df.drop_duplicates(keep=\"first\", inplace=True)  ?"
   ]
  },
  {
   "cell_type": "markdown",
   "id": "23c8cbcc-0740-461c-a74d-19c3bc7ab66c",
   "metadata": {
    "tags": []
   },
   "source": [
    "### Let's examine and clean all the columns/features one by one"
   ]
  },
  {
   "cell_type": "code",
   "execution_count": 23,
   "id": "4de6a9cd-a3e1-4995-8f81-430d4489942a",
   "metadata": {},
   "outputs": [],
   "source": [
    "# function for first looking to the columns\n",
    "\n",
    "def first_looking(col):\n",
    "    print(\"column name    : \", col)\n",
    "    print(\"--------------------------------\")\n",
    "    print(\"per_of_nulls   : \", \"%\", round(df[col].isnull().sum()*100 / df.shape[0], 2))\n",
    "    print(\"num_of_nulls   : \", df[col].isnull().sum())\n",
    "    print(\"num_of_uniques : \", df[col].astype(str).nunique())\n",
    "    print(\"--------------------------------\")\n",
    "    print(df[col].value_counts(dropna = False))"
   ]
  },
  {
   "cell_type": "markdown",
   "id": "cd530fdf",
   "metadata": {
    "tags": []
   },
   "source": [
    "### Price(target column)"
   ]
  },
  {
   "cell_type": "code",
   "execution_count": 24,
   "id": "034d6963-13a0-481b-bbad-569b5f95c8e0",
   "metadata": {},
   "outputs": [
    {
     "name": "stdout",
     "output_type": "stream",
     "text": [
      "column name    :  Price\n",
      "--------------------------------\n",
      "per_of_nulls   :  % 2.88\n",
      "num_of_nulls   :  850\n",
      "num_of_uniques :  5022\n",
      "--------------------------------\n",
      "NaN           850\n",
      "€ 14,990.-    222\n",
      "€ 12,990.-    219\n",
      "€ 16,990.-    186\n",
      "€ 19,990.-    166\n",
      "             ... \n",
      "€ 19,112.-      1\n",
      "€ 30,465.-      1\n",
      "€ 18,461.-      1\n",
      "€ 22,649.-      1\n",
      "€ 4,440.-       1\n",
      "Name: Price, Length: 5022, dtype: int64\n"
     ]
    }
   ],
   "source": [
    "first_looking(\"Price\")"
   ]
  },
  {
   "cell_type": "code",
   "execution_count": 25,
   "id": "529752f0-5f31-4a20-ae3d-b285ebf36509",
   "metadata": {
    "tags": []
   },
   "outputs": [
    {
     "data": {
      "text/plain": [
       "0        16950\n",
       "1        80900\n",
       "2        69900\n",
       "3        46990\n",
       "4        16800\n",
       "         ...  \n",
       "29475     5499\n",
       "29476     7300\n",
       "29477    29900\n",
       "29478     4440\n",
       "29479      NaN\n",
       "Name: Price, Length: 29480, dtype: object"
      ]
     },
     "execution_count": 25,
     "metadata": {},
     "output_type": "execute_result"
    }
   ],
   "source": [
    "df['Price'] = df['Price'].explode().str.strip(\"€, .-\").str.replace(\",\", \"\")\n",
    "df['Price']"
   ]
  },
  {
   "cell_type": "code",
   "execution_count": 26,
   "id": "57c608bb-a362-43f2-a52e-f4cc353b0737",
   "metadata": {
    "tags": []
   },
   "outputs": [],
   "source": [
    "df['Price']= df['Price'].astype(float)"
   ]
  },
  {
   "cell_type": "code",
   "execution_count": 27,
   "id": "c4a3d768-e418-403d-b814-83d660d9851e",
   "metadata": {},
   "outputs": [
    {
     "data": {
      "text/plain": [
       "850"
      ]
     },
     "execution_count": 27,
     "metadata": {},
     "output_type": "execute_result"
    }
   ],
   "source": [
    "df.Price.isnull().sum()"
   ]
  },
  {
   "cell_type": "code",
   "execution_count": 28,
   "id": "6a20c26c-f777-406a-9864-39c805ac2509",
   "metadata": {},
   "outputs": [],
   "source": [
    "df.dropna(how='all', inplace=True)"
   ]
  },
  {
   "cell_type": "code",
   "execution_count": 29,
   "id": "b61baab9-b9a2-4015-8923-1e91af016050",
   "metadata": {},
   "outputs": [
    {
     "data": {
      "text/plain": [
       "0"
      ]
     },
     "execution_count": 29,
     "metadata": {},
     "output_type": "execute_result"
    }
   ],
   "source": [
    "df.Price.isnull().sum()"
   ]
  },
  {
   "cell_type": "code",
   "execution_count": 30,
   "id": "870f1a6a-b8a5-4330-82a0-3e94e3aee3f7",
   "metadata": {},
   "outputs": [
    {
     "data": {
      "text/plain": [
       "count    2.863000e+04\n",
       "mean     2.355520e+04\n",
       "std      2.595371e+04\n",
       "min      4.900000e+02\n",
       "25%      1.199000e+04\n",
       "50%      1.798000e+04\n",
       "75%      2.799000e+04\n",
       "max      1.346900e+06\n",
       "Name: Price, dtype: float64"
      ]
     },
     "execution_count": 30,
     "metadata": {},
     "output_type": "execute_result"
    }
   ],
   "source": [
    "df.Price.describe()"
   ]
  },
  {
   "cell_type": "code",
   "execution_count": 31,
   "id": "04b38cc4-fb76-4f21-8458-9e3dc66f72c5",
   "metadata": {},
   "outputs": [
    {
     "data": {
      "text/plain": [
       "14990.0    222\n",
       "12990.0    219\n",
       "16990.0    186\n",
       "19990.0    166\n",
       "9990.0     160\n",
       "          ... \n",
       "19112.0      1\n",
       "30465.0      1\n",
       "18461.0      1\n",
       "22649.0      1\n",
       "4440.0       1\n",
       "Name: Price, Length: 5021, dtype: int64"
      ]
     },
     "execution_count": 31,
     "metadata": {},
     "output_type": "execute_result"
    }
   ],
   "source": [
    "df['Price'].value_counts(dropna=False)"
   ]
  },
  {
   "cell_type": "code",
   "execution_count": 32,
   "id": "468a4a6c-b176-4ac5-9536-65bba292194a",
   "metadata": {
    "tags": []
   },
   "outputs": [
    {
     "data": {
      "text/plain": [
       "0.0"
      ]
     },
     "execution_count": 32,
     "metadata": {},
     "output_type": "execute_result"
    }
   ],
   "source": [
    "df['Price'].isnull().sum()/df.shape[0] * 100"
   ]
  },
  {
   "cell_type": "code",
   "execution_count": 33,
   "id": "5f094f44-40ab-404f-bbb9-48fdf23d1f43",
   "metadata": {
    "tags": []
   },
   "outputs": [
    {
     "data": {
      "image/png": "[encoded data removed]",
      "text/plain": [
       "<Figure size 432x288 with 1 Axes>"
      ]
     },
     "metadata": {
      "needs_background": "light"
     },
     "output_type": "display_data"
    }
   ],
   "source": [
    "sns.boxplot(df.Price);"
   ]
  },
  {
   "cell_type": "code",
   "execution_count": 34,
   "id": "9de8f5d9-8ec7-4a17-b562-59d6558f085a",
   "metadata": {
    "tags": []
   },
   "outputs": [
    {
     "data": {
      "image/png": "[encoded data removed]",
      "text/plain": [
       "<Figure size 432x288 with 1 Axes>"
      ]
     },
     "metadata": {
      "needs_background": "light"
     },
     "output_type": "display_data"
    }
   ],
   "source": [
    "sns.distplot(df.Price)\n",
    "\n",
    "plt.ticklabel_format(style='plain');"
   ]
  },
  {
   "cell_type": "markdown",
   "id": "2dbc506e-f051-480d-8ecc-5407bb266979",
   "metadata": {
    "tags": []
   },
   "source": [
    "### Make_Model"
   ]
  },
  {
   "cell_type": "code",
   "execution_count": 35,
   "id": "a0725548-de14-4495-9499-1ca1f3a4b850",
   "metadata": {},
   "outputs": [
    {
     "name": "stdout",
     "output_type": "stream",
     "text": [
      "column name    :  Make_Model\n",
      "--------------------------------\n",
      "per_of_nulls   :  % 0.0\n",
      "num_of_nulls   :  0\n",
      "num_of_uniques :  611\n",
      "--------------------------------\n",
      "Renault Megane     863\n",
      "SEAT Leon          787\n",
      "Volvo V40          740\n",
      "Dacia Sandero      730\n",
      "Hyundai i30        706\n",
      "                  ... \n",
      "Toyota GR86          1\n",
      "Toyota Tacoma        1\n",
      "Toyota Tundra        1\n",
      "Toyota 4-Runner      1\n",
      "Volvo 244            1\n",
      "Name: Make_Model, Length: 611, dtype: int64\n"
     ]
    }
   ],
   "source": [
    "first_looking(\"Make_Model\")"
   ]
  },
  {
   "cell_type": "code",
   "execution_count": 36,
   "id": "bf2b9528",
   "metadata": {},
   "outputs": [
    {
     "data": {
      "text/html": [
       "<div>\n",
       "<style scoped>\n",
       "    .dataframe tbody tr th:only-of-type {\n",
       "        vertical-align: middle;\n",
       "    }\n",
       "\n",
       "    .dataframe tbody tr th {\n",
       "        vertical-align: top;\n",
       "    }\n",
       "\n",
       "    .dataframe thead th {\n",
       "        text-align: right;\n",
       "    }\n",
       "</style>\n",
       "<table border=\"1\" class=\"dataframe\">\n",
       "  <thead>\n",
       "    <tr style=\"text-align: right;\">\n",
       "      <th></th>\n",
       "      <th>Make_Model</th>\n",
       "    </tr>\n",
       "  </thead>\n",
       "  <tbody>\n",
       "    <tr>\n",
       "      <th>0</th>\n",
       "      <td>Mercedes-Benz A 160</td>\n",
       "    </tr>\n",
       "    <tr>\n",
       "      <th>1</th>\n",
       "      <td>Mercedes-Benz EQE 350</td>\n",
       "    </tr>\n",
       "    <tr>\n",
       "      <th>2</th>\n",
       "      <td>Mercedes-Benz A 45 AMG</td>\n",
       "    </tr>\n",
       "    <tr>\n",
       "      <th>3</th>\n",
       "      <td>Mercedes-Benz A 35 AMG</td>\n",
       "    </tr>\n",
       "    <tr>\n",
       "      <th>4</th>\n",
       "      <td>Mercedes-Benz A 45 AMG</td>\n",
       "    </tr>\n",
       "    <tr>\n",
       "      <th>...</th>\n",
       "      <td>...</td>\n",
       "    </tr>\n",
       "    <tr>\n",
       "      <th>29474</th>\n",
       "      <td>Volvo S90</td>\n",
       "    </tr>\n",
       "    <tr>\n",
       "      <th>29475</th>\n",
       "      <td>Volvo S40</td>\n",
       "    </tr>\n",
       "    <tr>\n",
       "      <th>29476</th>\n",
       "      <td>Volvo C30</td>\n",
       "    </tr>\n",
       "    <tr>\n",
       "      <th>29477</th>\n",
       "      <td>Volvo S90</td>\n",
       "    </tr>\n",
       "    <tr>\n",
       "      <th>29478</th>\n",
       "      <td>Volvo S80</td>\n",
       "    </tr>\n",
       "  </tbody>\n",
       "</table>\n",
       "<p>28630 rows × 1 columns</p>\n",
       "</div>"
      ],
      "text/plain": [
       "                   Make_Model\n",
       "0         Mercedes-Benz A 160\n",
       "1       Mercedes-Benz EQE 350\n",
       "2      Mercedes-Benz A 45 AMG\n",
       "3      Mercedes-Benz A 35 AMG\n",
       "4      Mercedes-Benz A 45 AMG\n",
       "...                       ...\n",
       "29474               Volvo S90\n",
       "29475               Volvo S40\n",
       "29476               Volvo C30\n",
       "29477               Volvo S90\n",
       "29478               Volvo S80\n",
       "\n",
       "[28630 rows x 1 columns]"
      ]
     },
     "execution_count": 36,
     "metadata": {},
     "output_type": "execute_result"
    }
   ],
   "source": [
    "df[['Make_Model']]"
   ]
  },
  {
   "cell_type": "code",
   "execution_count": 37,
   "id": "4c194994",
   "metadata": {},
   "outputs": [
    {
     "data": {
      "text/plain": [
       "Renault Megane     863\n",
       "SEAT Leon          787\n",
       "Volvo V40          740\n",
       "Dacia Sandero      730\n",
       "Hyundai i30        706\n",
       "                  ... \n",
       "Toyota GR86          1\n",
       "Toyota Tacoma        1\n",
       "Toyota Tundra        1\n",
       "Toyota 4-Runner      1\n",
       "Volvo 244            1\n",
       "Name: Make_Model, Length: 611, dtype: int64"
      ]
     },
     "execution_count": 37,
     "metadata": {},
     "output_type": "execute_result"
    }
   ],
   "source": [
    "df['Make_Model'].value_counts(dropna=False)"
   ]
  },
  {
   "cell_type": "code",
   "execution_count": 38,
   "id": "f54f344f",
   "metadata": {
    "tags": []
   },
   "outputs": [
    {
     "data": {
      "text/plain": [
       "0.0"
      ]
     },
     "execution_count": 38,
     "metadata": {},
     "output_type": "execute_result"
    }
   ],
   "source": [
    "df['Make_Model'].isnull().sum()/df0.shape[0] * 100"
   ]
  },
  {
   "cell_type": "markdown",
   "id": "c1d6ec09-3d64-4109-9d53-c0623160b0be",
   "metadata": {},
   "source": [
    "### Make"
   ]
  },
  {
   "cell_type": "code",
   "execution_count": 39,
   "id": "2221196f-5c99-464d-b3af-4d38cc047178",
   "metadata": {},
   "outputs": [
    {
     "name": "stdout",
     "output_type": "stream",
     "text": [
      "column name    :  Make\n",
      "--------------------------------\n",
      "per_of_nulls   :  % 0.0\n",
      "num_of_nulls   :  0\n",
      "num_of_uniques :  13\n",
      "--------------------------------\n",
      "\\nVolvo\\n            3659\n",
      "\\nMercedes-Benz\\n    2398\n",
      "\\nOpel\\n             2385\n",
      "\\nPeugeot\\n          2360\n",
      "\\nRenault\\n          2351\n",
      "\\nFiat\\n             2338\n",
      "\\nFord\\n             2324\n",
      "\\nNissan\\n           2064\n",
      "\\nToyota\\n           2038\n",
      "\\nHyundai\\n          1867\n",
      "\\nSEAT\\n             1743\n",
      "\\nSkoda\\n            1566\n",
      "\\nDacia\\n            1537\n",
      "Name: Make, dtype: int64\n"
     ]
    }
   ],
   "source": [
    "first_looking(\"Make\")"
   ]
  },
  {
   "cell_type": "code",
   "execution_count": 40,
   "id": "b3aeeaf9-83ba-4fc7-8ea7-0442573eaa53",
   "metadata": {},
   "outputs": [],
   "source": [
    "df[\"Make\"] = df.Make.str.strip('\\n')"
   ]
  },
  {
   "cell_type": "code",
   "execution_count": 41,
   "id": "57163f49-c09d-4e28-a6a8-2e01ffb872fc",
   "metadata": {
    "tags": []
   },
   "outputs": [
    {
     "data": {
      "text/plain": [
       "Volvo            3659\n",
       "Mercedes-Benz    2398\n",
       "Opel             2385\n",
       "Peugeot          2360\n",
       "Renault          2351\n",
       "Fiat             2338\n",
       "Ford             2324\n",
       "Nissan           2064\n",
       "Toyota           2038\n",
       "Hyundai          1867\n",
       "SEAT             1743\n",
       "Skoda            1566\n",
       "Dacia            1537\n",
       "Name: Make, dtype: int64"
      ]
     },
     "execution_count": 41,
     "metadata": {},
     "output_type": "execute_result"
    }
   ],
   "source": [
    "df.Make.value_counts(dropna=False)"
   ]
  },
  {
   "cell_type": "markdown",
   "id": "a4977059-f168-4b0e-910f-aa9475ca3559",
   "metadata": {},
   "source": [
    "### Model"
   ]
  },
  {
   "cell_type": "code",
   "execution_count": 42,
   "id": "61208073-9ee4-42a8-b3df-0a06525794fb",
   "metadata": {},
   "outputs": [
    {
     "name": "stdout",
     "output_type": "stream",
     "text": [
      "column name    :  Model\n",
      "--------------------------------\n",
      "per_of_nulls   :  % 0.0\n",
      "num_of_nulls   :  0\n",
      "num_of_uniques :  594\n",
      "--------------------------------\n",
      "[\\n, Megane ,\\n]        863\n",
      "[\\n, Leon ,\\n]          787\n",
      "[\\n, V40 ,\\n]           740\n",
      "[\\n, Sandero ,\\n]       730\n",
      "[\\n, i30 ,\\n]           706\n",
      "                       ... \n",
      "[\\n, GLA 35 AMG ,\\n]      1\n",
      "[\\n, G 55 AMG ,\\n]        1\n",
      "[\\n, Ariya ,\\n]           1\n",
      "[\\n, 105 ,\\n]             1\n",
      "[\\n, 244 ,\\n]             1\n",
      "Name: Model, Length: 594, dtype: int64\n"
     ]
    }
   ],
   "source": [
    "first_looking(\"Model\")"
   ]
  },
  {
   "cell_type": "code",
   "execution_count": 43,
   "id": "17a2bef4-71b5-43c8-8ab2-fa03e7777c5c",
   "metadata": {},
   "outputs": [
    {
     "data": {
      "text/plain": [
       "0           A 160\n",
       "1         EQE 350\n",
       "2        A 45 AMG\n",
       "3        A 35 AMG\n",
       "4        A 45 AMG\n",
       "           ...   \n",
       "29474         S90\n",
       "29475         S40\n",
       "29476         C30\n",
       "29477         S90\n",
       "29478         S80\n",
       "Name: Model, Length: 28630, dtype: object"
      ]
     },
     "execution_count": 43,
     "metadata": {},
     "output_type": "execute_result"
    }
   ],
   "source": [
    "df['Model'] = df['Model'].explode().str.strip(\"\\n, \")\n",
    "df['Model']"
   ]
  },
  {
   "cell_type": "code",
   "execution_count": 44,
   "id": "dd7ff530-1b1c-4635-9dee-52cfff67d56e",
   "metadata": {},
   "outputs": [
    {
     "data": {
      "text/plain": [
       "Megane        863\n",
       "Leon          787\n",
       "V40           740\n",
       "Sandero       730\n",
       "i30           706\n",
       "             ... \n",
       "GLA 35 AMG      1\n",
       "G 55 AMG        1\n",
       "Ariya           1\n",
       "105             1\n",
       "244             1\n",
       "Name: Model, Length: 594, dtype: int64"
      ]
     },
     "execution_count": 44,
     "metadata": {},
     "output_type": "execute_result"
    }
   ],
   "source": [
    "df.Model.value_counts(dropna=False)"
   ]
  },
  {
   "cell_type": "code",
   "execution_count": 45,
   "id": "bdb25a7c-867c-4c3b-8e4c-ea90f2bcb20c",
   "metadata": {},
   "outputs": [
    {
     "data": {
      "text/html": [
       "<div>\n",
       "<style scoped>\n",
       "    .dataframe tbody tr th:only-of-type {\n",
       "        vertical-align: middle;\n",
       "    }\n",
       "\n",
       "    .dataframe tbody tr th {\n",
       "        vertical-align: top;\n",
       "    }\n",
       "\n",
       "    .dataframe thead th {\n",
       "        text-align: right;\n",
       "    }\n",
       "</style>\n",
       "<table border=\"1\" class=\"dataframe\">\n",
       "  <thead>\n",
       "    <tr style=\"text-align: right;\">\n",
       "      <th></th>\n",
       "      <th>Make_Model</th>\n",
       "      <th>Make</th>\n",
       "      <th>Model</th>\n",
       "    </tr>\n",
       "  </thead>\n",
       "  <tbody>\n",
       "    <tr>\n",
       "      <th>24405</th>\n",
       "      <td>Hyundai i30</td>\n",
       "      <td>Hyundai</td>\n",
       "      <td>i30</td>\n",
       "    </tr>\n",
       "    <tr>\n",
       "      <th>28675</th>\n",
       "      <td>Volvo V70</td>\n",
       "      <td>Volvo</td>\n",
       "      <td>V70</td>\n",
       "    </tr>\n",
       "    <tr>\n",
       "      <th>13090</th>\n",
       "      <td>SEAT Leon</td>\n",
       "      <td>SEAT</td>\n",
       "      <td>Leon</td>\n",
       "    </tr>\n",
       "    <tr>\n",
       "      <th>6163</th>\n",
       "      <td>Renault Captur</td>\n",
       "      <td>Renault</td>\n",
       "      <td>Captur</td>\n",
       "    </tr>\n",
       "    <tr>\n",
       "      <th>15799</th>\n",
       "      <td>Dacia Duster</td>\n",
       "      <td>Dacia</td>\n",
       "      <td>Duster</td>\n",
       "    </tr>\n",
       "    <tr>\n",
       "      <th>16011</th>\n",
       "      <td>Dacia Duster</td>\n",
       "      <td>Dacia</td>\n",
       "      <td>Duster</td>\n",
       "    </tr>\n",
       "    <tr>\n",
       "      <th>18425</th>\n",
       "      <td>Toyota Avensis</td>\n",
       "      <td>Toyota</td>\n",
       "      <td>Avensis</td>\n",
       "    </tr>\n",
       "    <tr>\n",
       "      <th>26629</th>\n",
       "      <td>Volvo C70</td>\n",
       "      <td>Volvo</td>\n",
       "      <td>C70</td>\n",
       "    </tr>\n",
       "    <tr>\n",
       "      <th>14745</th>\n",
       "      <td>Skoda Superb</td>\n",
       "      <td>Skoda</td>\n",
       "      <td>Superb</td>\n",
       "    </tr>\n",
       "    <tr>\n",
       "      <th>27679</th>\n",
       "      <td>Volvo XC90</td>\n",
       "      <td>Volvo</td>\n",
       "      <td>XC90</td>\n",
       "    </tr>\n",
       "  </tbody>\n",
       "</table>\n",
       "</div>"
      ],
      "text/plain": [
       "           Make_Model     Make    Model\n",
       "24405     Hyundai i30  Hyundai      i30\n",
       "28675       Volvo V70    Volvo      V70\n",
       "13090       SEAT Leon     SEAT     Leon\n",
       "6163   Renault Captur  Renault   Captur\n",
       "15799    Dacia Duster    Dacia   Duster\n",
       "16011    Dacia Duster    Dacia   Duster\n",
       "18425  Toyota Avensis   Toyota  Avensis\n",
       "26629       Volvo C70    Volvo      C70\n",
       "14745    Skoda Superb    Skoda   Superb\n",
       "27679      Volvo XC90    Volvo     XC90"
      ]
     },
     "execution_count": 45,
     "metadata": {},
     "output_type": "execute_result"
    }
   ],
   "source": [
    "df[['Make_Model', 'Make', 'Model']].sample(10)"
   ]
  },
  {
   "cell_type": "code",
   "execution_count": 46,
   "id": "70278f80-b1da-44bd-a24f-c2c11a4ffd8b",
   "metadata": {},
   "outputs": [],
   "source": [
    "df.drop([\"Model\"], axis=1, inplace=True)"
   ]
  },
  {
   "cell_type": "code",
   "execution_count": 47,
   "id": "4de63a7d-d411-44e4-bfc2-7e7dc88007b7",
   "metadata": {},
   "outputs": [],
   "source": [
    "df.drop([\"Make\"], axis=1, inplace=True)"
   ]
  },
  {
   "cell_type": "code",
   "execution_count": 48,
   "id": "d7a347f0-4b07-452f-a98e-55654ecb1682",
   "metadata": {},
   "outputs": [
    {
     "data": {
      "text/plain": [
       "(28630, 44)"
      ]
     },
     "execution_count": 48,
     "metadata": {},
     "output_type": "execute_result"
    }
   ],
   "source": [
    "df.shape"
   ]
  },
  {
   "cell_type": "markdown",
   "id": "93963d2e-519b-4753-9efe-98dff5e1374e",
   "metadata": {},
   "source": [
    "### Short_Description"
   ]
  },
  {
   "cell_type": "code",
   "execution_count": 49,
   "id": "31833894-a4c8-45e6-93ec-449802de9d1a",
   "metadata": {},
   "outputs": [
    {
     "name": "stdout",
     "output_type": "stream",
     "text": [
      "column name    :  Short_Description\n",
      "--------------------------------\n",
      "per_of_nulls   :  % 0.0\n",
      "num_of_nulls   :  0\n",
      "num_of_uniques :  20947\n",
      "--------------------------------\n",
      "                                                      213\n",
      "D2 Momentum 120                                        88\n",
      "D2 Kinetic 120                                         87\n",
      "Cabrio 1.4T S&S Excellence                             85\n",
      "Extreme+ 7-Sitzer TCe 110                              57\n",
      "                                                     ... \n",
      "PureTech  EAT8 Allure Pack...DISP. PER NOLEGGIO         1\n",
      "BlueHDi 130 S&S EAT8 Business                           1\n",
      "2.0 BlueHDi 180ch S\\u0026S GT Line EAT8                 1\n",
      "1.2 PureTech Première AUT. NAVI PANO                    1\n",
      "2.9 Executive G. NETTE AUTO! LEER! NAVI! CRUISE! L      1\n",
      "Name: Short_Description, Length: 20947, dtype: int64\n"
     ]
    }
   ],
   "source": [
    "first_looking(\"Short_Description\")"
   ]
  },
  {
   "cell_type": "code",
   "execution_count": 50,
   "id": "3b2a00b7",
   "metadata": {},
   "outputs": [
    {
     "data": {
      "text/html": [
       "<div>\n",
       "<style scoped>\n",
       "    .dataframe tbody tr th:only-of-type {\n",
       "        vertical-align: middle;\n",
       "    }\n",
       "\n",
       "    .dataframe tbody tr th {\n",
       "        vertical-align: top;\n",
       "    }\n",
       "\n",
       "    .dataframe thead th {\n",
       "        text-align: right;\n",
       "    }\n",
       "</style>\n",
       "<table border=\"1\" class=\"dataframe\">\n",
       "  <thead>\n",
       "    <tr style=\"text-align: right;\">\n",
       "      <th></th>\n",
       "      <th>Short_Description</th>\n",
       "    </tr>\n",
       "  </thead>\n",
       "  <tbody>\n",
       "    <tr>\n",
       "      <th>0</th>\n",
       "      <td>CDi</td>\n",
       "    </tr>\n",
       "    <tr>\n",
       "      <th>1</th>\n",
       "      <td>350+</td>\n",
       "    </tr>\n",
       "    <tr>\n",
       "      <th>2</th>\n",
       "      <td>S 4Matic+ 8G-DCT</td>\n",
       "    </tr>\n",
       "    <tr>\n",
       "      <th>3</th>\n",
       "      <td>4Matic+ 7G-DCT</td>\n",
       "    </tr>\n",
       "    <tr>\n",
       "      <th>4</th>\n",
       "      <td>200CDI BE Line 4M 7G-DCT</td>\n",
       "    </tr>\n",
       "    <tr>\n",
       "      <th>...</th>\n",
       "      <td>...</td>\n",
       "    </tr>\n",
       "    <tr>\n",
       "      <th>29474</th>\n",
       "      <td>T8 Twin Business Plus AWD Aut.</td>\n",
       "    </tr>\n",
       "    <tr>\n",
       "      <th>29475</th>\n",
       "      <td>2.4i Momentum/ Airco/ NAP/ APK/ Elek. Ramen</td>\n",
       "    </tr>\n",
       "    <tr>\n",
       "      <th>29476</th>\n",
       "      <td>1.6 D DRIVe Start/Stop R-design</td>\n",
       "    </tr>\n",
       "    <tr>\n",
       "      <th>29477</th>\n",
       "      <td>T5 AUT(8) MOMENTUM BUSINESS SCHUIFDAK 360GR CA...</td>\n",
       "    </tr>\n",
       "    <tr>\n",
       "      <th>29478</th>\n",
       "      <td>2.9 Executive G. NETTE AUTO! LEER! NAVI! CRUIS...</td>\n",
       "    </tr>\n",
       "  </tbody>\n",
       "</table>\n",
       "<p>28630 rows × 1 columns</p>\n",
       "</div>"
      ],
      "text/plain": [
       "                                       Short_Description\n",
       "0                                                    CDi\n",
       "1                                                   350+\n",
       "2                                       S 4Matic+ 8G-DCT\n",
       "3                                         4Matic+ 7G-DCT\n",
       "4                               200CDI BE Line 4M 7G-DCT\n",
       "...                                                  ...\n",
       "29474                     T8 Twin Business Plus AWD Aut.\n",
       "29475        2.4i Momentum/ Airco/ NAP/ APK/ Elek. Ramen\n",
       "29476                    1.6 D DRIVe Start/Stop R-design\n",
       "29477  T5 AUT(8) MOMENTUM BUSINESS SCHUIFDAK 360GR CA...\n",
       "29478  2.9 Executive G. NETTE AUTO! LEER! NAVI! CRUIS...\n",
       "\n",
       "[28630 rows x 1 columns]"
      ]
     },
     "execution_count": 50,
     "metadata": {},
     "output_type": "execute_result"
    }
   ],
   "source": [
    "df[['Short_Description']]"
   ]
  },
  {
   "cell_type": "code",
   "execution_count": 51,
   "id": "73178be7",
   "metadata": {},
   "outputs": [
    {
     "data": {
      "text/plain": [
       "                                                      213\n",
       "D2 Momentum 120                                        88\n",
       "D2 Kinetic 120                                         87\n",
       "Cabrio 1.4T S&S Excellence                             85\n",
       "Extreme+ 7-Sitzer TCe 110                              57\n",
       "                                                     ... \n",
       "PureTech  EAT8 Allure Pack...DISP. PER NOLEGGIO         1\n",
       "BlueHDi 130 S&S EAT8 Business                           1\n",
       "2.0 BlueHDi 180ch S\\u0026S GT Line EAT8                 1\n",
       "1.2 PureTech Première AUT. NAVI PANO                    1\n",
       "2.9 Executive G. NETTE AUTO! LEER! NAVI! CRUISE! L      1\n",
       "Name: Short_Description, Length: 20947, dtype: int64"
      ]
     },
     "execution_count": 51,
     "metadata": {},
     "output_type": "execute_result"
    }
   ],
   "source": [
    "df['Short_Description'].value_counts(dropna=False)"
   ]
  },
  {
   "cell_type": "code",
   "execution_count": 52,
   "id": "8d4ef1d4",
   "metadata": {},
   "outputs": [
    {
     "data": {
      "text/plain": [
       "0.0"
      ]
     },
     "execution_count": 52,
     "metadata": {},
     "output_type": "execute_result"
    }
   ],
   "source": [
    "df['Short_Description'].isnull().sum()/df0.shape[0] * 100 "
   ]
  },
  {
   "cell_type": "code",
   "execution_count": 53,
   "id": "9b6c6f67",
   "metadata": {},
   "outputs": [],
   "source": [
    "df.drop(['Short_Description'], axis=1, inplace=True)"
   ]
  },
  {
   "cell_type": "code",
   "execution_count": 54,
   "id": "2bc758cf-4326-4efd-b965-63f6c162cace",
   "metadata": {},
   "outputs": [
    {
     "data": {
      "text/plain": [
       "(28630, 43)"
      ]
     },
     "execution_count": 54,
     "metadata": {},
     "output_type": "execute_result"
    }
   ],
   "source": [
    "df.shape"
   ]
  },
  {
   "cell_type": "markdown",
   "id": "38936adc",
   "metadata": {
    "tags": []
   },
   "source": [
    "### Location"
   ]
  },
  {
   "cell_type": "code",
   "execution_count": 55,
   "id": "d817b7e5-3cfc-4ca2-970b-5aa578ed8f19",
   "metadata": {},
   "outputs": [
    {
     "name": "stdout",
     "output_type": "stream",
     "text": [
      "column name    :  Location\n",
      "--------------------------------\n",
      "per_of_nulls   :  % 0.0\n",
      "num_of_nulls   :  0\n",
      "num_of_uniques :  8181\n",
      "--------------------------------\n",
      "Av. Laboral, 10,  28021 MADRID, ES                          306\n",
      "Luckenwalder Berg 5,  14913 Jüterbog, DE                    170\n",
      "Ctra. del Mig, 96,,  08097 L'Hospitalet de Llobregat, ES    146\n",
      "9 boulevard Jules Ferry,  75011 Paris, FR                   142\n",
      "Neuenhofstr. 77,  52078 Aachen, DE                          135\n",
      "                                                           ... \n",
      "2727CT ZOETERMEER, NL                                         1\n",
      "Rosendaalsestraat 437-439,  6824 CK ARNHEM, NL                1\n",
      "5751VH DEURNE, NL                                             1\n",
      "00148 roma, IT                                                1\n",
      "Sur rendez-vous,  5060 Sambreville, BE                        1\n",
      "Name: Location, Length: 8181, dtype: int64\n"
     ]
    }
   ],
   "source": [
    "first_looking('Location')"
   ]
  },
  {
   "cell_type": "code",
   "execution_count": 56,
   "id": "d55f58fa",
   "metadata": {},
   "outputs": [
    {
     "data": {
      "text/html": [
       "<div>\n",
       "<style scoped>\n",
       "    .dataframe tbody tr th:only-of-type {\n",
       "        vertical-align: middle;\n",
       "    }\n",
       "\n",
       "    .dataframe tbody tr th {\n",
       "        vertical-align: top;\n",
       "    }\n",
       "\n",
       "    .dataframe thead th {\n",
       "        text-align: right;\n",
       "    }\n",
       "</style>\n",
       "<table border=\"1\" class=\"dataframe\">\n",
       "  <thead>\n",
       "    <tr style=\"text-align: right;\">\n",
       "      <th></th>\n",
       "      <th>Location</th>\n",
       "    </tr>\n",
       "  </thead>\n",
       "  <tbody>\n",
       "    <tr>\n",
       "      <th>0</th>\n",
       "      <td>P.I. EL PALMAR C/FORJA 6,  11500 PUERTO DE SAN...</td>\n",
       "    </tr>\n",
       "    <tr>\n",
       "      <th>1</th>\n",
       "      <td>APARTADO DE CORREOS 1032,  26140 LOGROÑO, ES</td>\n",
       "    </tr>\n",
       "    <tr>\n",
       "      <th>2</th>\n",
       "      <td>PORT. TARRACO, MOLL DE LLEVANT, Nº 5, LOC. 6-8...</td>\n",
       "    </tr>\n",
       "    <tr>\n",
       "      <th>3</th>\n",
       "      <td>Carrer de Provença, 31 Local,  8029 BARCELONA, ES</td>\n",
       "    </tr>\n",
       "    <tr>\n",
       "      <th>4</th>\n",
       "      <td>CARRIL ARAGONES 4,  30007 CASILLAS, ES</td>\n",
       "    </tr>\n",
       "    <tr>\n",
       "      <th>...</th>\n",
       "      <td>...</td>\n",
       "    </tr>\n",
       "    <tr>\n",
       "      <th>29474</th>\n",
       "      <td>HERMANOS LUMIERE Nº16,  29004 MALAGA, ES</td>\n",
       "    </tr>\n",
       "    <tr>\n",
       "      <th>29475</th>\n",
       "      <td>Stobbeweg 6,  2461 EX TER AAR, NL</td>\n",
       "    </tr>\n",
       "    <tr>\n",
       "      <th>29476</th>\n",
       "      <td>Sur rendez-vous,  5060 Sambreville, BE</td>\n",
       "    </tr>\n",
       "    <tr>\n",
       "      <th>29477</th>\n",
       "      <td>Bergambachterstraat 5,  2871 JB SCHOONHOVEN, NL</td>\n",
       "    </tr>\n",
       "    <tr>\n",
       "      <th>29478</th>\n",
       "      <td>Lage Ham 106,  5102 AE DONGEN, NL</td>\n",
       "    </tr>\n",
       "  </tbody>\n",
       "</table>\n",
       "<p>28630 rows × 1 columns</p>\n",
       "</div>"
      ],
      "text/plain": [
       "                                                Location\n",
       "0      P.I. EL PALMAR C/FORJA 6,  11500 PUERTO DE SAN...\n",
       "1           APARTADO DE CORREOS 1032,  26140 LOGROÑO, ES\n",
       "2      PORT. TARRACO, MOLL DE LLEVANT, Nº 5, LOC. 6-8...\n",
       "3      Carrer de Provença, 31 Local,  8029 BARCELONA, ES\n",
       "4                 CARRIL ARAGONES 4,  30007 CASILLAS, ES\n",
       "...                                                  ...\n",
       "29474           HERMANOS LUMIERE Nº16,  29004 MALAGA, ES\n",
       "29475                  Stobbeweg 6,  2461 EX TER AAR, NL\n",
       "29476             Sur rendez-vous,  5060 Sambreville, BE\n",
       "29477    Bergambachterstraat 5,  2871 JB SCHOONHOVEN, NL\n",
       "29478                  Lage Ham 106,  5102 AE DONGEN, NL\n",
       "\n",
       "[28630 rows x 1 columns]"
      ]
     },
     "execution_count": 56,
     "metadata": {},
     "output_type": "execute_result"
    }
   ],
   "source": [
    "df[['Location']]"
   ]
  },
  {
   "cell_type": "code",
   "execution_count": 57,
   "id": "7aaffbb4",
   "metadata": {},
   "outputs": [
    {
     "data": {
      "text/plain": [
       "0        ES\n",
       "1        ES\n",
       "2        ES\n",
       "3        ES\n",
       "4        ES\n",
       "         ..\n",
       "29474    ES\n",
       "29475    NL\n",
       "29476    BE\n",
       "29477    NL\n",
       "29478    NL\n",
       "Name: Location, Length: 28630, dtype: object"
      ]
     },
     "execution_count": 57,
     "metadata": {},
     "output_type": "execute_result"
    }
   ],
   "source": [
    "df[\"Location\"] = [item.split(\",\")[-1].strip() if type(item)==str else item for item in df[\"Location\"]]\n",
    "df[\"Location\"]"
   ]
  },
  {
   "cell_type": "code",
   "execution_count": 58,
   "id": "e7d38a33",
   "metadata": {},
   "outputs": [
    {
     "data": {
      "text/plain": [
       "DE    12643\n",
       "ES     6517\n",
       "NL     2929\n",
       "IT     2497\n",
       "BE     1873\n",
       "FR     1473\n",
       "AT      660\n",
       "LU       35\n",
       "DK        1\n",
       "EE        1\n",
       "BG        1\n",
       "Name: Location, dtype: int64"
      ]
     },
     "execution_count": 58,
     "metadata": {},
     "output_type": "execute_result"
    }
   ],
   "source": [
    "df[\"Location\"].value_counts(dropna=False)"
   ]
  },
  {
   "cell_type": "code",
   "execution_count": 59,
   "id": "6666d7c1",
   "metadata": {
    "tags": []
   },
   "outputs": [
    {
     "data": {
      "text/plain": [
       "0.0"
      ]
     },
     "execution_count": 59,
     "metadata": {},
     "output_type": "execute_result"
    }
   ],
   "source": [
    "df['Location'].isnull().sum()/df.shape[0] * 100 "
   ]
  },
  {
   "cell_type": "code",
   "execution_count": 60,
   "id": "69307cfb-ad4a-471d-8867-dddaa0f1e70d",
   "metadata": {},
   "outputs": [],
   "source": [
    "#Location feature will be kept for finding the answers of some analytical questions, rather than machine learning modelling."
   ]
  },
  {
   "cell_type": "markdown",
   "id": "117e3304",
   "metadata": {},
   "source": [
    "### Body_Type"
   ]
  },
  {
   "cell_type": "code",
   "execution_count": 61,
   "id": "28b0fe3a",
   "metadata": {},
   "outputs": [
    {
     "name": "stdout",
     "output_type": "stream",
     "text": [
      "column name    :  Body_Type\n",
      "--------------------------------\n",
      "per_of_nulls   :  % 0.0\n",
      "num_of_nulls   :  0\n",
      "num_of_uniques :  6\n",
      "--------------------------------\n",
      "[\\n, Station wagon, \\n]       5448\n",
      "[\\n, Off-Road/Pick-up, \\n]    5415\n",
      "[\\n, Compact, \\n]             5387\n",
      "[\\n, Sedan, \\n]               5043\n",
      "[\\n, Coupe, \\n]               4009\n",
      "[\\n, Convertible, \\n]         3328\n",
      "Name: Body_Type, dtype: int64\n"
     ]
    }
   ],
   "source": [
    "first_looking('Body_Type')"
   ]
  },
  {
   "cell_type": "code",
   "execution_count": 62,
   "id": "b26ad485",
   "metadata": {},
   "outputs": [
    {
     "data": {
      "text/plain": [
       "0        \\n, Compact, \\n\n",
       "1        \\n, Compact, \\n\n",
       "2        \\n, Compact, \\n\n",
       "3        \\n, Compact, \\n\n",
       "4        \\n, Compact, \\n\n",
       "              ...       \n",
       "29474      \\n, Sedan, \\n\n",
       "29475      \\n, Sedan, \\n\n",
       "29476      \\n, Sedan, \\n\n",
       "29477      \\n, Sedan, \\n\n",
       "29478      \\n, Sedan, \\n\n",
       "Name: Body_Type, Length: 28630, dtype: object"
      ]
     },
     "execution_count": 62,
     "metadata": {},
     "output_type": "execute_result"
    }
   ],
   "source": [
    "df['Body_Type'] = [i[0] if type(i) == list else i for i in df['Body_Type']]\n",
    "df['Body_Type']"
   ]
  },
  {
   "cell_type": "code",
   "execution_count": 63,
   "id": "1fe257ac",
   "metadata": {},
   "outputs": [
    {
     "data": {
      "text/plain": [
       "0        Compact\n",
       "1        Compact\n",
       "2        Compact\n",
       "3        Compact\n",
       "4        Compact\n",
       "          ...   \n",
       "29474      Sedan\n",
       "29475      Sedan\n",
       "29476      Sedan\n",
       "29477      Sedan\n",
       "29478      Sedan\n",
       "Name: Body_Type, Length: 28630, dtype: object"
      ]
     },
     "execution_count": 63,
     "metadata": {},
     "output_type": "execute_result"
    }
   ],
   "source": [
    "df[\"Body_Type\"] = df[\"Body_Type\"].str.strip(\"\\n, \")\n",
    "df['Body_Type']"
   ]
  },
  {
   "cell_type": "code",
   "execution_count": 64,
   "id": "140aabc1",
   "metadata": {},
   "outputs": [
    {
     "data": {
      "text/plain": [
       "Station wagon       5448\n",
       "Off-Road/Pick-up    5415\n",
       "Compact             5387\n",
       "Sedan               5043\n",
       "Coupe               4009\n",
       "Convertible         3328\n",
       "Name: Body_Type, dtype: int64"
      ]
     },
     "execution_count": 64,
     "metadata": {},
     "output_type": "execute_result"
    }
   ],
   "source": [
    "df['Body_Type'].value_counts(dropna=False)"
   ]
  },
  {
   "cell_type": "code",
   "execution_count": 65,
   "id": "98bedd2a",
   "metadata": {},
   "outputs": [
    {
     "data": {
      "text/plain": [
       "0.0"
      ]
     },
     "execution_count": 65,
     "metadata": {},
     "output_type": "execute_result"
    }
   ],
   "source": [
    "df['Body_Type'].isnull().sum()/df0.shape[0] * 100"
   ]
  },
  {
   "cell_type": "markdown",
   "id": "671dfe25",
   "metadata": {},
   "source": [
    "### Type"
   ]
  },
  {
   "cell_type": "code",
   "execution_count": 66,
   "id": "13200d2e",
   "metadata": {},
   "outputs": [
    {
     "name": "stdout",
     "output_type": "stream",
     "text": [
      "column name    :  Type\n",
      "--------------------------------\n",
      "per_of_nulls   :  % 0.0\n",
      "num_of_nulls   :  0\n",
      "num_of_uniques :  4\n",
      "--------------------------------\n",
      "[\\n, Used, \\n]              25251\n",
      "[\\n, Demonstration, \\n]      1433\n",
      "[\\n, Pre-registered, \\n]     1377\n",
      "[\\n, Employee's car, \\n]      569\n",
      "Name: Type, dtype: int64\n"
     ]
    }
   ],
   "source": [
    "first_looking('Type')"
   ]
  },
  {
   "cell_type": "code",
   "execution_count": 67,
   "id": "60d8a6c0",
   "metadata": {},
   "outputs": [],
   "source": [
    "df.Type = [i[0] if type(i) == list else i for i in df['Type']]"
   ]
  },
  {
   "cell_type": "code",
   "execution_count": 68,
   "id": "c3b7d166",
   "metadata": {},
   "outputs": [],
   "source": [
    "df.Type = df['Type'].str.strip(\"\\n, \")"
   ]
  },
  {
   "cell_type": "code",
   "execution_count": 69,
   "id": "0d4a4691",
   "metadata": {},
   "outputs": [
    {
     "data": {
      "text/plain": [
       "Used              25251\n",
       "Demonstration      1433\n",
       "Pre-registered     1377\n",
       "Employee's car      569\n",
       "Name: Type, dtype: int64"
      ]
     },
     "execution_count": 69,
     "metadata": {},
     "output_type": "execute_result"
    }
   ],
   "source": [
    "df['Type'].value_counts(dropna=False)"
   ]
  },
  {
   "cell_type": "code",
   "execution_count": 70,
   "id": "c1e4592c",
   "metadata": {},
   "outputs": [
    {
     "data": {
      "text/plain": [
       "0.0"
      ]
     },
     "execution_count": 70,
     "metadata": {},
     "output_type": "execute_result"
    }
   ],
   "source": [
    "df['Type'].isnull().sum()/df0.shape[0] * 100"
   ]
  },
  {
   "cell_type": "markdown",
   "id": "773d6b7c",
   "metadata": {},
   "source": [
    "### Doors"
   ]
  },
  {
   "cell_type": "code",
   "execution_count": 71,
   "id": "3281503c",
   "metadata": {},
   "outputs": [
    {
     "name": "stdout",
     "output_type": "stream",
     "text": [
      "column name    :  Doors\n",
      "--------------------------------\n",
      "per_of_nulls   :  % 1.25\n",
      "num_of_nulls   :  359\n",
      "num_of_uniques :  7\n",
      "--------------------------------\n",
      "[\\n, 5, \\n]    17481\n",
      "[\\n, 2, \\n]     5523\n",
      "[\\n, 4, \\n]     3001\n",
      "[\\n, 3, \\n]     2259\n",
      "NaN              359\n",
      "[\\n, 6, \\n]        5\n",
      "[\\n, 1, \\n]        2\n",
      "Name: Doors, dtype: int64\n"
     ]
    }
   ],
   "source": [
    "first_looking('Doors')"
   ]
  },
  {
   "cell_type": "code",
   "execution_count": 72,
   "id": "12cc68b5",
   "metadata": {},
   "outputs": [
    {
     "data": {
      "text/plain": [
       "0        \\n, 5, \\n\n",
       "1        \\n, 4, \\n\n",
       "2        \\n, 5, \\n\n",
       "3        \\n, 5, \\n\n",
       "4        \\n, 5, \\n\n",
       "           ...    \n",
       "29474    \\n, 4, \\n\n",
       "29475    \\n, 4, \\n\n",
       "29476    \\n, 3, \\n\n",
       "29477    \\n, 4, \\n\n",
       "29478    \\n, 4, \\n\n",
       "Name: Doors, Length: 28630, dtype: object"
      ]
     },
     "execution_count": 72,
     "metadata": {},
     "output_type": "execute_result"
    }
   ],
   "source": [
    "df['Doors'] = [i[0] if type(i) == list else i for i in df['Doors']]\n",
    "df['Doors']"
   ]
  },
  {
   "cell_type": "code",
   "execution_count": 73,
   "id": "d52063f6",
   "metadata": {},
   "outputs": [
    {
     "data": {
      "text/plain": [
       "0        5\n",
       "1        4\n",
       "2        5\n",
       "3        5\n",
       "4        5\n",
       "        ..\n",
       "29474    4\n",
       "29475    4\n",
       "29476    3\n",
       "29477    4\n",
       "29478    4\n",
       "Name: Doors, Length: 28630, dtype: object"
      ]
     },
     "execution_count": 73,
     "metadata": {},
     "output_type": "execute_result"
    }
   ],
   "source": [
    "df['Doors'] = df['Doors'].str.strip(\"\\n, \")\n",
    "df['Doors']"
   ]
  },
  {
   "cell_type": "code",
   "execution_count": 74,
   "id": "c3042808",
   "metadata": {},
   "outputs": [],
   "source": [
    "df['Doors']= df['Doors'].astype(float)"
   ]
  },
  {
   "cell_type": "code",
   "execution_count": 75,
   "id": "f244c6f9",
   "metadata": {},
   "outputs": [
    {
     "data": {
      "text/plain": [
       "5.0    17481\n",
       "2.0     5523\n",
       "4.0     3001\n",
       "3.0     2259\n",
       "NaN      359\n",
       "6.0        5\n",
       "1.0        2\n",
       "Name: Doors, dtype: int64"
      ]
     },
     "execution_count": 75,
     "metadata": {},
     "output_type": "execute_result"
    }
   ],
   "source": [
    "df['Doors'].value_counts(dropna=False)"
   ]
  },
  {
   "cell_type": "code",
   "execution_count": 76,
   "id": "6ad4e563",
   "metadata": {},
   "outputs": [
    {
     "data": {
      "text/plain": [
       "1.217774762550882"
      ]
     },
     "execution_count": 76,
     "metadata": {},
     "output_type": "execute_result"
    }
   ],
   "source": [
    "df['Doors'].isnull().sum()/df0.shape[0] * 100"
   ]
  },
  {
   "cell_type": "markdown",
   "id": "e9752ef5",
   "metadata": {},
   "source": [
    "### Country_Version"
   ]
  },
  {
   "cell_type": "code",
   "execution_count": 77,
   "id": "cd0032fd",
   "metadata": {},
   "outputs": [
    {
     "name": "stdout",
     "output_type": "stream",
     "text": [
      "column name    :  Country_Version\n",
      "--------------------------------\n",
      "per_of_nulls   :  % 41.01\n",
      "num_of_nulls   :  11741\n",
      "num_of_uniques :  26\n",
      "--------------------------------\n",
      "NaN                         11741\n",
      "[\\n, Germany, \\n]            7939\n",
      "[\\n, Spain, \\n]              6376\n",
      "[\\n, Italy, \\n]               679\n",
      "[\\n, Belgium, \\n]             641\n",
      "[\\n, European Union, \\n]      340\n",
      "[\\n, Netherlands, \\n]         306\n",
      "[\\n, Austria, \\n]             266\n",
      "[\\n, France, \\n]              101\n",
      "[\\n, United States, \\n]        57\n",
      "[\\n, Czechia, \\n]              47\n",
      "[\\n, Poland, \\n]               31\n",
      "[\\n, Hungary, \\n]              21\n",
      "[\\n, Denmark, \\n]              21\n",
      "[\\n, Romania, \\n]              12\n",
      "[\\n, Japan, \\n]                12\n",
      "[\\n, Switzerland, \\n]           9\n",
      "[\\n, Luxembourg, \\n]            9\n",
      "[\\n, Sweden, \\n]                6\n",
      "[\\n, Slovenia, \\n]              5\n",
      "[\\n, Slovakia, \\n]              4\n",
      "[\\n, Croatia, \\n]               3\n",
      "[\\n, Bulgaria, \\n]              1\n",
      "[\\n, Malta, \\n]                 1\n",
      "[\\n, Canada, \\n]                1\n",
      "[\\n, Mexico, \\n]                1\n",
      "Name: Country_Version, dtype: int64\n"
     ]
    }
   ],
   "source": [
    "first_looking('Country_Version')"
   ]
  },
  {
   "cell_type": "code",
   "execution_count": 78,
   "id": "56d66e1b",
   "metadata": {},
   "outputs": [
    {
     "data": {
      "text/plain": [
       "0          Spain\n",
       "1          Spain\n",
       "2          Spain\n",
       "3          Spain\n",
       "4          Spain\n",
       "          ...   \n",
       "29474      Spain\n",
       "29475        NaN\n",
       "29476    Belgium\n",
       "29477        NaN\n",
       "29478        NaN\n",
       "Name: Country_Version, Length: 28630, dtype: object"
      ]
     },
     "execution_count": 78,
     "metadata": {},
     "output_type": "execute_result"
    }
   ],
   "source": [
    "df[\"Country_Version\"] = df[\"Country_Version\"].apply(lambda item: item[0].strip(\",\\n ,\") if type(item)==list else item)\n",
    "df[\"Country_Version\"]"
   ]
  },
  {
   "cell_type": "code",
   "execution_count": 79,
   "id": "946961a9",
   "metadata": {},
   "outputs": [
    {
     "data": {
      "text/plain": [
       "Germany           7939\n",
       "Spain             6376\n",
       "Italy              679\n",
       "Belgium            641\n",
       "European Union     340\n",
       "Netherlands        306\n",
       "Austria            266\n",
       "France             101\n",
       "United States       57\n",
       "Czechia             47\n",
       "Poland              31\n",
       "Hungary             21\n",
       "Denmark             21\n",
       "Romania             12\n",
       "Japan               12\n",
       "Switzerland          9\n",
       "Luxembourg           9\n",
       "Sweden               6\n",
       "Slovenia             5\n",
       "Slovakia             4\n",
       "Croatia              3\n",
       "Bulgaria             1\n",
       "Malta                1\n",
       "Canada               1\n",
       "Mexico               1\n",
       "Name: Country_Version, dtype: int64"
      ]
     },
     "execution_count": 79,
     "metadata": {},
     "output_type": "execute_result"
    }
   ],
   "source": [
    "df['Country_Version'].value_counts()"
   ]
  },
  {
   "cell_type": "code",
   "execution_count": 80,
   "id": "272d7501",
   "metadata": {
    "tags": []
   },
   "outputs": [],
   "source": [
    "df.drop('Country_Version', axis=1, inplace=True)"
   ]
  },
  {
   "cell_type": "code",
   "execution_count": 81,
   "id": "61b8ccfb-2503-4c2b-ac3f-223b4b78e6e6",
   "metadata": {},
   "outputs": [
    {
     "data": {
      "text/plain": [
       "(28630, 42)"
      ]
     },
     "execution_count": 81,
     "metadata": {},
     "output_type": "execute_result"
    }
   ],
   "source": [
    "df.shape"
   ]
  },
  {
   "cell_type": "markdown",
   "id": "e3da275a",
   "metadata": {
    "tags": []
   },
   "source": [
    "### Offer_Number"
   ]
  },
  {
   "cell_type": "code",
   "execution_count": 82,
   "id": "4dac788b-ed10-4c54-998f-ac298649c3cc",
   "metadata": {},
   "outputs": [
    {
     "name": "stdout",
     "output_type": "stream",
     "text": [
      "column name    :  Offer_Number\n",
      "--------------------------------\n",
      "per_of_nulls   :  % 19.32\n",
      "num_of_nulls   :  5530\n",
      "num_of_uniques :  20946\n",
      "--------------------------------\n",
      "NaN                                5530\n",
      "[\\n, 1, \\n]                          28\n",
      "[\\n, L-Vorlauf 2023, \\n]             10\n",
      "[\\n, 30, \\n]                          9\n",
      "[\\n, 20, \\n]                          9\n",
      "                                   ... \n",
      "[\\n, ggp-EP-880-ZS, \\n]               1\n",
      "[\\n, 7475319, \\n]                     1\n",
      "[\\n, abci-EZ-260-PS_130291, \\n]       1\n",
      "[\\n, 7407611, \\n]                     1\n",
      "[\\n, 43-JR-LR, \\n]                    1\n",
      "Name: Offer_Number, Length: 20946, dtype: int64\n"
     ]
    }
   ],
   "source": [
    "first_looking('Offer_Number')"
   ]
  },
  {
   "cell_type": "code",
   "execution_count": 83,
   "id": "02bd0c16",
   "metadata": {},
   "outputs": [
    {
     "data": {
      "text/html": [
       "<div>\n",
       "<style scoped>\n",
       "    .dataframe tbody tr th:only-of-type {\n",
       "        vertical-align: middle;\n",
       "    }\n",
       "\n",
       "    .dataframe tbody tr th {\n",
       "        vertical-align: top;\n",
       "    }\n",
       "\n",
       "    .dataframe thead th {\n",
       "        text-align: right;\n",
       "    }\n",
       "</style>\n",
       "<table border=\"1\" class=\"dataframe\">\n",
       "  <thead>\n",
       "    <tr style=\"text-align: right;\">\n",
       "      <th></th>\n",
       "      <th>Offer_Number</th>\n",
       "    </tr>\n",
       "  </thead>\n",
       "  <tbody>\n",
       "    <tr>\n",
       "      <th>0</th>\n",
       "      <td>[\\n, 7468157, \\n]</td>\n",
       "    </tr>\n",
       "    <tr>\n",
       "      <th>1</th>\n",
       "      <td>[\\n, 7054863, \\n]</td>\n",
       "    </tr>\n",
       "    <tr>\n",
       "      <th>2</th>\n",
       "      <td>[\\n, 7410454, \\n]</td>\n",
       "    </tr>\n",
       "    <tr>\n",
       "      <th>3</th>\n",
       "      <td>[\\n, 7464503, \\n]</td>\n",
       "    </tr>\n",
       "    <tr>\n",
       "      <th>4</th>\n",
       "      <td>[\\n, 7127931, \\n]</td>\n",
       "    </tr>\n",
       "    <tr>\n",
       "      <th>...</th>\n",
       "      <td>...</td>\n",
       "    </tr>\n",
       "    <tr>\n",
       "      <th>29474</th>\n",
       "      <td>[\\n, 7449968, \\n]</td>\n",
       "    </tr>\n",
       "    <tr>\n",
       "      <th>29475</th>\n",
       "      <td>[\\n, 09-PF-XS, \\n]</td>\n",
       "    </tr>\n",
       "    <tr>\n",
       "      <th>29476</th>\n",
       "      <td>NaN</td>\n",
       "    </tr>\n",
       "    <tr>\n",
       "      <th>29477</th>\n",
       "      <td>[\\n, 2791, \\n]</td>\n",
       "    </tr>\n",
       "    <tr>\n",
       "      <th>29478</th>\n",
       "      <td>[\\n, 43-JR-LR, \\n]</td>\n",
       "    </tr>\n",
       "  </tbody>\n",
       "</table>\n",
       "<p>28630 rows × 1 columns</p>\n",
       "</div>"
      ],
      "text/plain": [
       "             Offer_Number\n",
       "0       [\\n, 7468157, \\n]\n",
       "1       [\\n, 7054863, \\n]\n",
       "2       [\\n, 7410454, \\n]\n",
       "3       [\\n, 7464503, \\n]\n",
       "4       [\\n, 7127931, \\n]\n",
       "...                   ...\n",
       "29474   [\\n, 7449968, \\n]\n",
       "29475  [\\n, 09-PF-XS, \\n]\n",
       "29476                 NaN\n",
       "29477      [\\n, 2791, \\n]\n",
       "29478  [\\n, 43-JR-LR, \\n]\n",
       "\n",
       "[28630 rows x 1 columns]"
      ]
     },
     "execution_count": 83,
     "metadata": {},
     "output_type": "execute_result"
    }
   ],
   "source": [
    "df[['Offer_Number']]"
   ]
  },
  {
   "cell_type": "code",
   "execution_count": 84,
   "id": "662541b7",
   "metadata": {},
   "outputs": [],
   "source": [
    "df.drop('Offer_Number', axis=1, inplace=True)    "
   ]
  },
  {
   "cell_type": "code",
   "execution_count": 85,
   "id": "906ebb76-8a90-472d-bcd3-dff7f289e33e",
   "metadata": {},
   "outputs": [
    {
     "data": {
      "text/plain": [
       "(28630, 41)"
      ]
     },
     "execution_count": 85,
     "metadata": {},
     "output_type": "execute_result"
    }
   ],
   "source": [
    "df.shape"
   ]
  },
  {
   "cell_type": "markdown",
   "id": "ac31e50c",
   "metadata": {},
   "source": [
    "### Warranty"
   ]
  },
  {
   "cell_type": "code",
   "execution_count": 86,
   "id": "1fbb1240-00fa-4c4a-8661-d6e8fd5e717b",
   "metadata": {},
   "outputs": [
    {
     "name": "stdout",
     "output_type": "stream",
     "text": [
      "column name    :  Warranty\n",
      "--------------------------------\n",
      "per_of_nulls   :  % 44.87\n",
      "num_of_nulls   :  12846\n",
      "num_of_uniques :  66\n",
      "--------------------------------\n",
      "NaN                     12846\n",
      "[\\n, 12 months, \\n]      9545\n",
      "[\\n, Yes, \\n]            2319\n",
      "[\\n, 24 months, \\n]      1515\n",
      "[\\n, 60 months, \\n]       968\n",
      "                        ...  \n",
      "[\\n, 55 months, \\n]         1\n",
      "[\\n, 99 months, \\n]         1\n",
      "[\\n, 122 months, \\n]        1\n",
      "[\\n, 44 months, \\n]         1\n",
      "[\\n, 4 months, \\n]          1\n",
      "Name: Warranty, Length: 66, dtype: int64\n"
     ]
    }
   ],
   "source": [
    "first_looking('Warranty')"
   ]
  },
  {
   "cell_type": "code",
   "execution_count": 87,
   "id": "d5ba4c04",
   "metadata": {},
   "outputs": [
    {
     "data": {
      "text/html": [
       "<div>\n",
       "<style scoped>\n",
       "    .dataframe tbody tr th:only-of-type {\n",
       "        vertical-align: middle;\n",
       "    }\n",
       "\n",
       "    .dataframe tbody tr th {\n",
       "        vertical-align: top;\n",
       "    }\n",
       "\n",
       "    .dataframe thead th {\n",
       "        text-align: right;\n",
       "    }\n",
       "</style>\n",
       "<table border=\"1\" class=\"dataframe\">\n",
       "  <thead>\n",
       "    <tr style=\"text-align: right;\">\n",
       "      <th></th>\n",
       "      <th>Warranty</th>\n",
       "    </tr>\n",
       "  </thead>\n",
       "  <tbody>\n",
       "    <tr>\n",
       "      <th>0</th>\n",
       "      <td>[\\n, 24 months, \\n]</td>\n",
       "    </tr>\n",
       "    <tr>\n",
       "      <th>1</th>\n",
       "      <td>[\\n, 24 months, \\n]</td>\n",
       "    </tr>\n",
       "    <tr>\n",
       "      <th>2</th>\n",
       "      <td>[\\n, 12 months, \\n]</td>\n",
       "    </tr>\n",
       "    <tr>\n",
       "      <th>3</th>\n",
       "      <td>[\\n, 12 months, \\n]</td>\n",
       "    </tr>\n",
       "    <tr>\n",
       "      <th>4</th>\n",
       "      <td>[\\n, 12 months, \\n]</td>\n",
       "    </tr>\n",
       "    <tr>\n",
       "      <th>...</th>\n",
       "      <td>...</td>\n",
       "    </tr>\n",
       "    <tr>\n",
       "      <th>29474</th>\n",
       "      <td>[\\n, 12 months, \\n]</td>\n",
       "    </tr>\n",
       "    <tr>\n",
       "      <th>29475</th>\n",
       "      <td>NaN</td>\n",
       "    </tr>\n",
       "    <tr>\n",
       "      <th>29476</th>\n",
       "      <td>[\\n, 13 months, \\n]</td>\n",
       "    </tr>\n",
       "    <tr>\n",
       "      <th>29477</th>\n",
       "      <td>[\\n, 12 months, \\n]</td>\n",
       "    </tr>\n",
       "    <tr>\n",
       "      <th>29478</th>\n",
       "      <td>NaN</td>\n",
       "    </tr>\n",
       "  </tbody>\n",
       "</table>\n",
       "<p>28630 rows × 1 columns</p>\n",
       "</div>"
      ],
      "text/plain": [
       "                  Warranty\n",
       "0      [\\n, 24 months, \\n]\n",
       "1      [\\n, 24 months, \\n]\n",
       "2      [\\n, 12 months, \\n]\n",
       "3      [\\n, 12 months, \\n]\n",
       "4      [\\n, 12 months, \\n]\n",
       "...                    ...\n",
       "29474  [\\n, 12 months, \\n]\n",
       "29475                  NaN\n",
       "29476  [\\n, 13 months, \\n]\n",
       "29477  [\\n, 12 months, \\n]\n",
       "29478                  NaN\n",
       "\n",
       "[28630 rows x 1 columns]"
      ]
     },
     "execution_count": 87,
     "metadata": {},
     "output_type": "execute_result"
    }
   ],
   "source": [
    "df[['Warranty']]"
   ]
  },
  {
   "cell_type": "code",
   "execution_count": 88,
   "id": "89e224ce",
   "metadata": {},
   "outputs": [
    {
     "data": {
      "text/plain": [
       "0        \\n, 24 months, \\n\n",
       "1        \\n, 24 months, \\n\n",
       "2        \\n, 12 months, \\n\n",
       "3        \\n, 12 months, \\n\n",
       "4        \\n, 12 months, \\n\n",
       "               ...        \n",
       "29474    \\n, 12 months, \\n\n",
       "29475                  NaN\n",
       "29476    \\n, 13 months, \\n\n",
       "29477    \\n, 12 months, \\n\n",
       "29478                  NaN\n",
       "Name: Warranty, Length: 28630, dtype: object"
      ]
     },
     "execution_count": 88,
     "metadata": {},
     "output_type": "execute_result"
    }
   ],
   "source": [
    "df['Warranty'] = [i[0] if type(i) == list else i for i in df['Warranty']]\n",
    "df['Warranty']"
   ]
  },
  {
   "cell_type": "code",
   "execution_count": 89,
   "id": "a375cbef",
   "metadata": {},
   "outputs": [
    {
     "data": {
      "text/plain": [
       "0         24\n",
       "1         24\n",
       "2         12\n",
       "3         12\n",
       "4         12\n",
       "        ... \n",
       "29474     12\n",
       "29475    NaN\n",
       "29476     13\n",
       "29477     12\n",
       "29478    NaN\n",
       "Name: Warranty, Length: 28630, dtype: object"
      ]
     },
     "execution_count": 89,
     "metadata": {},
     "output_type": "execute_result"
    }
   ],
   "source": [
    "df['Warranty'] = df['Warranty'].str.strip(\"\\n, months\")\n",
    "df['Warranty']"
   ]
  },
  {
   "cell_type": "code",
   "execution_count": 90,
   "id": "9f8c703f",
   "metadata": {},
   "outputs": [
    {
     "data": {
      "text/plain": [
       "NaN    12846\n",
       "12      9545\n",
       "Ye      2319\n",
       "24      1515\n",
       "60       968\n",
       "       ...  \n",
       "55         1\n",
       "99         1\n",
       "122        1\n",
       "44         1\n",
       "4          1\n",
       "Name: Warranty, Length: 66, dtype: int64"
      ]
     },
     "execution_count": 90,
     "metadata": {},
     "output_type": "execute_result"
    }
   ],
   "source": [
    "df['Warranty'].value_counts(dropna=False)"
   ]
  },
  {
   "cell_type": "code",
   "execution_count": 91,
   "id": "f962c080",
   "metadata": {},
   "outputs": [],
   "source": [
    "df.drop('Warranty', axis=1, inplace=True)  "
   ]
  },
  {
   "cell_type": "markdown",
   "id": "42a20da8",
   "metadata": {},
   "source": [
    "### Mileage"
   ]
  },
  {
   "cell_type": "code",
   "execution_count": 92,
   "id": "0637b99a-c94e-4731-ab6d-b7d6c62c36b2",
   "metadata": {},
   "outputs": [
    {
     "name": "stdout",
     "output_type": "stream",
     "text": [
      "column name    :  Mileage\n",
      "--------------------------------\n",
      "per_of_nulls   :  % 0.0\n",
      "num_of_nulls   :  1\n",
      "num_of_uniques :  14184\n",
      "--------------------------------\n",
      "10 km         586\n",
      "1 km          172\n",
      "50 km         133\n",
      "100 km        119\n",
      "5,000 km      118\n",
      "             ... \n",
      "141,589 km      1\n",
      "59,821 km       1\n",
      "123,500 km      1\n",
      "29,781 km       1\n",
      "230,047 km      1\n",
      "Name: Mileage, Length: 14184, dtype: int64\n"
     ]
    }
   ],
   "source": [
    "first_looking('Mileage')"
   ]
  },
  {
   "cell_type": "code",
   "execution_count": 93,
   "id": "79732ea5",
   "metadata": {},
   "outputs": [
    {
     "data": {
      "text/html": [
       "<div>\n",
       "<style scoped>\n",
       "    .dataframe tbody tr th:only-of-type {\n",
       "        vertical-align: middle;\n",
       "    }\n",
       "\n",
       "    .dataframe tbody tr th {\n",
       "        vertical-align: top;\n",
       "    }\n",
       "\n",
       "    .dataframe thead th {\n",
       "        text-align: right;\n",
       "    }\n",
       "</style>\n",
       "<table border=\"1\" class=\"dataframe\">\n",
       "  <thead>\n",
       "    <tr style=\"text-align: right;\">\n",
       "      <th></th>\n",
       "      <th>Mileage</th>\n",
       "    </tr>\n",
       "  </thead>\n",
       "  <tbody>\n",
       "    <tr>\n",
       "      <th>0</th>\n",
       "      <td>120,200 km</td>\n",
       "    </tr>\n",
       "    <tr>\n",
       "      <th>1</th>\n",
       "      <td>5,000 km</td>\n",
       "    </tr>\n",
       "    <tr>\n",
       "      <th>2</th>\n",
       "      <td>18,900 km</td>\n",
       "    </tr>\n",
       "    <tr>\n",
       "      <th>3</th>\n",
       "      <td>18,995 km</td>\n",
       "    </tr>\n",
       "    <tr>\n",
       "      <th>4</th>\n",
       "      <td>197,000 km</td>\n",
       "    </tr>\n",
       "    <tr>\n",
       "      <th>...</th>\n",
       "      <td>...</td>\n",
       "    </tr>\n",
       "    <tr>\n",
       "      <th>29474</th>\n",
       "      <td>40,345 km</td>\n",
       "    </tr>\n",
       "    <tr>\n",
       "      <th>29475</th>\n",
       "      <td>145,000 km</td>\n",
       "    </tr>\n",
       "    <tr>\n",
       "      <th>29476</th>\n",
       "      <td>96,000 km</td>\n",
       "    </tr>\n",
       "    <tr>\n",
       "      <th>29477</th>\n",
       "      <td>94,343 km</td>\n",
       "    </tr>\n",
       "    <tr>\n",
       "      <th>29478</th>\n",
       "      <td>230,047 km</td>\n",
       "    </tr>\n",
       "  </tbody>\n",
       "</table>\n",
       "<p>28630 rows × 1 columns</p>\n",
       "</div>"
      ],
      "text/plain": [
       "          Mileage\n",
       "0      120,200 km\n",
       "1        5,000 km\n",
       "2       18,900 km\n",
       "3       18,995 km\n",
       "4      197,000 km\n",
       "...           ...\n",
       "29474   40,345 km\n",
       "29475  145,000 km\n",
       "29476   96,000 km\n",
       "29477   94,343 km\n",
       "29478  230,047 km\n",
       "\n",
       "[28630 rows x 1 columns]"
      ]
     },
     "execution_count": 93,
     "metadata": {},
     "output_type": "execute_result"
    }
   ],
   "source": [
    "df[['Mileage']]"
   ]
  },
  {
   "cell_type": "code",
   "execution_count": 94,
   "id": "14c992b3",
   "metadata": {},
   "outputs": [
    {
     "data": {
      "text/plain": [
       "0        120200.0\n",
       "1          5000.0\n",
       "2         18900.0\n",
       "3         18995.0\n",
       "4        197000.0\n",
       "           ...   \n",
       "29474     40345.0\n",
       "29475    145000.0\n",
       "29476     96000.0\n",
       "29477     94343.0\n",
       "29478    230047.0\n",
       "Name: Mileage, Length: 28630, dtype: float64"
      ]
     },
     "execution_count": 94,
     "metadata": {},
     "output_type": "execute_result"
    }
   ],
   "source": [
    "df['Mileage'] = df['Mileage'].str.strip(\"km\").str.replace(\",\", \"\").astype('float')\n",
    "df['Mileage']"
   ]
  },
  {
   "cell_type": "code",
   "execution_count": 95,
   "id": "7ae4cece",
   "metadata": {},
   "outputs": [
    {
     "data": {
      "text/plain": [
       "10.0        586\n",
       "1.0         172\n",
       "50.0        133\n",
       "100.0       119\n",
       "5000.0      118\n",
       "           ... \n",
       "141589.0      1\n",
       "59821.0       1\n",
       "123500.0      1\n",
       "29781.0       1\n",
       "230047.0      1\n",
       "Name: Mileage, Length: 14184, dtype: int64"
      ]
     },
     "execution_count": 95,
     "metadata": {},
     "output_type": "execute_result"
    }
   ],
   "source": [
    "df['Mileage'].value_counts(dropna=False)"
   ]
  },
  {
   "cell_type": "code",
   "execution_count": 96,
   "id": "4f51c1f4",
   "metadata": {},
   "outputs": [
    {
     "data": {
      "text/plain": [
       "0.0034928396786587496"
      ]
     },
     "execution_count": 96,
     "metadata": {},
     "output_type": "execute_result"
    }
   ],
   "source": [
    "df['Mileage'].isnull().sum()/df.shape[0] * 100"
   ]
  },
  {
   "cell_type": "markdown",
   "id": "0f2901bb",
   "metadata": {},
   "source": [
    "### First_Registration"
   ]
  },
  {
   "cell_type": "code",
   "execution_count": 97,
   "id": "6ea3b3ba-1aeb-4074-a0c6-00db8a974a2b",
   "metadata": {},
   "outputs": [
    {
     "name": "stdout",
     "output_type": "stream",
     "text": [
      "column name    :  First_Registration\n",
      "--------------------------------\n",
      "per_of_nulls   :  % 0.01\n",
      "num_of_nulls   :  2\n",
      "num_of_uniques :  656\n",
      "--------------------------------\n",
      "08/2022    454\n",
      "06/2022    428\n",
      "05/2019    420\n",
      "06/2019    418\n",
      "07/2019    416\n",
      "          ... \n",
      "06/1967      1\n",
      "06/1980      1\n",
      "09/1970      1\n",
      "06/1963      1\n",
      "10/1979      1\n",
      "Name: First_Registration, Length: 656, dtype: int64\n"
     ]
    }
   ],
   "source": [
    "first_looking('First_Registration')"
   ]
  },
  {
   "cell_type": "code",
   "execution_count": 98,
   "id": "cd275d35",
   "metadata": {},
   "outputs": [
    {
     "data": {
      "text/html": [
       "<div>\n",
       "<style scoped>\n",
       "    .dataframe tbody tr th:only-of-type {\n",
       "        vertical-align: middle;\n",
       "    }\n",
       "\n",
       "    .dataframe tbody tr th {\n",
       "        vertical-align: top;\n",
       "    }\n",
       "\n",
       "    .dataframe thead th {\n",
       "        text-align: right;\n",
       "    }\n",
       "</style>\n",
       "<table border=\"1\" class=\"dataframe\">\n",
       "  <thead>\n",
       "    <tr style=\"text-align: right;\">\n",
       "      <th></th>\n",
       "      <th>First_Registration</th>\n",
       "    </tr>\n",
       "  </thead>\n",
       "  <tbody>\n",
       "    <tr>\n",
       "      <th>0</th>\n",
       "      <td>06/2016</td>\n",
       "    </tr>\n",
       "    <tr>\n",
       "      <th>1</th>\n",
       "      <td>06/2022</td>\n",
       "    </tr>\n",
       "    <tr>\n",
       "      <th>2</th>\n",
       "      <td>07/2020</td>\n",
       "    </tr>\n",
       "    <tr>\n",
       "      <th>3</th>\n",
       "      <td>01/2020</td>\n",
       "    </tr>\n",
       "    <tr>\n",
       "      <th>4</th>\n",
       "      <td>09/2015</td>\n",
       "    </tr>\n",
       "    <tr>\n",
       "      <th>...</th>\n",
       "      <td>...</td>\n",
       "    </tr>\n",
       "    <tr>\n",
       "      <th>29474</th>\n",
       "      <td>08/2019</td>\n",
       "    </tr>\n",
       "    <tr>\n",
       "      <th>29475</th>\n",
       "      <td>06/2004</td>\n",
       "    </tr>\n",
       "    <tr>\n",
       "      <th>29476</th>\n",
       "      <td>04/2011</td>\n",
       "    </tr>\n",
       "    <tr>\n",
       "      <th>29477</th>\n",
       "      <td>11/2017</td>\n",
       "    </tr>\n",
       "    <tr>\n",
       "      <th>29478</th>\n",
       "      <td>07/2002</td>\n",
       "    </tr>\n",
       "  </tbody>\n",
       "</table>\n",
       "<p>28630 rows × 1 columns</p>\n",
       "</div>"
      ],
      "text/plain": [
       "      First_Registration\n",
       "0                06/2016\n",
       "1                06/2022\n",
       "2                07/2020\n",
       "3                01/2020\n",
       "4                09/2015\n",
       "...                  ...\n",
       "29474            08/2019\n",
       "29475            06/2004\n",
       "29476            04/2011\n",
       "29477            11/2017\n",
       "29478            07/2002\n",
       "\n",
       "[28630 rows x 1 columns]"
      ]
     },
     "execution_count": 98,
     "metadata": {},
     "output_type": "execute_result"
    }
   ],
   "source": [
    "df[['First_Registration']]"
   ]
  },
  {
   "cell_type": "code",
   "execution_count": 99,
   "id": "8784aa16",
   "metadata": {},
   "outputs": [
    {
     "data": {
      "text/plain": [
       "0        2016.0\n",
       "1        2022.0\n",
       "2        2020.0\n",
       "3        2020.0\n",
       "4        2015.0\n",
       "          ...  \n",
       "29474    2019.0\n",
       "29475    2004.0\n",
       "29476    2011.0\n",
       "29477    2017.0\n",
       "29478    2002.0\n",
       "Name: First_Registration, Length: 28630, dtype: float64"
      ]
     },
     "execution_count": 99,
     "metadata": {},
     "output_type": "execute_result"
    }
   ],
   "source": [
    "df['First_Registration'] = df['First_Registration'].str.split(\"/\").str[1].astype('float')\n",
    "df['First_Registration']"
   ]
  },
  {
   "cell_type": "code",
   "execution_count": 100,
   "id": "8dab4267",
   "metadata": {
    "tags": []
   },
   "outputs": [
    {
     "data": {
      "text/plain": [
       "2019.0    3667\n",
       "2018.0    3492\n",
       "2022.0    3086\n",
       "2021.0    2870\n",
       "2020.0    2473\n",
       "          ... \n",
       "2023.0       1\n",
       "1929.0       1\n",
       "1950.0       1\n",
       "1928.0       1\n",
       "2202.0       1\n",
       "Name: First_Registration, Length: 84, dtype: int64"
      ]
     },
     "execution_count": 100,
     "metadata": {},
     "output_type": "execute_result"
    }
   ],
   "source": [
    "df.First_Registration.value_counts(dropna = False)"
   ]
  },
  {
   "cell_type": "markdown",
   "id": "75eed045-c8e0-4c18-bc5a-61e5a16c7e01",
   "metadata": {},
   "source": [
    "### Production_Date"
   ]
  },
  {
   "cell_type": "code",
   "execution_count": 101,
   "id": "f6a8e865-c363-4ba2-9b96-a6c158248cd8",
   "metadata": {},
   "outputs": [
    {
     "name": "stdout",
     "output_type": "stream",
     "text": [
      "column name    :  Production_Date\n",
      "--------------------------------\n",
      "per_of_nulls   :  % 79.36\n",
      "num_of_nulls   :  22722\n",
      "num_of_uniques :  50\n",
      "--------------------------------\n",
      "NaN       22722\n",
      "2019.0     1179\n",
      "2021.0      980\n",
      "2022.0      894\n",
      "2020.0      763\n",
      "2018.0      762\n",
      "2017.0      391\n",
      "2016.0      239\n",
      "2015.0      118\n",
      "2014.0       90\n",
      "2013.0       76\n",
      "2010.0       53\n",
      "2012.0       43\n",
      "2011.0       43\n",
      "2008.0       34\n",
      "2009.0       26\n",
      "2007.0       20\n",
      "2006.0       17\n",
      "2002.0       15\n",
      "2004.0       13\n",
      "2003.0       13\n",
      "1967.0       12\n",
      "2001.0       12\n",
      "1966.0       11\n",
      "1999.0        9\n",
      "2005.0        9\n",
      "1965.0        9\n",
      "1970.0        9\n",
      "1997.0        8\n",
      "1994.0        8\n",
      "1968.0        7\n",
      "2000.0        7\n",
      "1998.0        5\n",
      "1990.0        3\n",
      "1973.0        3\n",
      "1987.0        3\n",
      "1993.0        3\n",
      "1991.0        3\n",
      "1996.0        3\n",
      "1995.0        2\n",
      "1969.0        2\n",
      "1978.0        2\n",
      "1982.0        2\n",
      "1961.0        1\n",
      "1954.0        1\n",
      "1988.0        1\n",
      "1962.0        1\n",
      "1981.0        1\n",
      "1985.0        1\n",
      "1976.0        1\n",
      "Name: Production_Date, dtype: int64\n"
     ]
    }
   ],
   "source": [
    "first_looking('Production_Date')"
   ]
  },
  {
   "cell_type": "code",
   "execution_count": 102,
   "id": "43e9bb61-d4c4-4af0-aaa2-9ac67910cca0",
   "metadata": {},
   "outputs": [
    {
     "data": {
      "text/html": [
       "<div>\n",
       "<style scoped>\n",
       "    .dataframe tbody tr th:only-of-type {\n",
       "        vertical-align: middle;\n",
       "    }\n",
       "\n",
       "    .dataframe tbody tr th {\n",
       "        vertical-align: top;\n",
       "    }\n",
       "\n",
       "    .dataframe thead th {\n",
       "        text-align: right;\n",
       "    }\n",
       "</style>\n",
       "<table border=\"1\" class=\"dataframe\">\n",
       "  <thead>\n",
       "    <tr style=\"text-align: right;\">\n",
       "      <th></th>\n",
       "      <th>First_Registration</th>\n",
       "      <th>Production_Date</th>\n",
       "    </tr>\n",
       "  </thead>\n",
       "  <tbody>\n",
       "    <tr>\n",
       "      <th>23</th>\n",
       "      <td>2019.0</td>\n",
       "      <td>2018.0</td>\n",
       "    </tr>\n",
       "    <tr>\n",
       "      <th>30</th>\n",
       "      <td>2020.0</td>\n",
       "      <td>2018.0</td>\n",
       "    </tr>\n",
       "    <tr>\n",
       "      <th>31</th>\n",
       "      <td>2020.0</td>\n",
       "      <td>2019.0</td>\n",
       "    </tr>\n",
       "    <tr>\n",
       "      <th>470</th>\n",
       "      <td>2022.0</td>\n",
       "      <td>2021.0</td>\n",
       "    </tr>\n",
       "    <tr>\n",
       "      <th>472</th>\n",
       "      <td>2019.0</td>\n",
       "      <td>2016.0</td>\n",
       "    </tr>\n",
       "    <tr>\n",
       "      <th>...</th>\n",
       "      <td>...</td>\n",
       "      <td>...</td>\n",
       "    </tr>\n",
       "    <tr>\n",
       "      <th>29350</th>\n",
       "      <td>2019.0</td>\n",
       "      <td>2017.0</td>\n",
       "    </tr>\n",
       "    <tr>\n",
       "      <th>29380</th>\n",
       "      <td>2022.0</td>\n",
       "      <td>2021.0</td>\n",
       "    </tr>\n",
       "    <tr>\n",
       "      <th>29414</th>\n",
       "      <td>2022.0</td>\n",
       "      <td>2021.0</td>\n",
       "    </tr>\n",
       "    <tr>\n",
       "      <th>29426</th>\n",
       "      <td>2020.0</td>\n",
       "      <td>2019.0</td>\n",
       "    </tr>\n",
       "    <tr>\n",
       "      <th>29436</th>\n",
       "      <td>2022.0</td>\n",
       "      <td>2021.0</td>\n",
       "    </tr>\n",
       "  </tbody>\n",
       "</table>\n",
       "<p>841 rows × 2 columns</p>\n",
       "</div>"
      ],
      "text/plain": [
       "       First_Registration  Production_Date\n",
       "23                 2019.0           2018.0\n",
       "30                 2020.0           2018.0\n",
       "31                 2020.0           2019.0\n",
       "470                2022.0           2021.0\n",
       "472                2019.0           2016.0\n",
       "...                   ...              ...\n",
       "29350              2019.0           2017.0\n",
       "29380              2022.0           2021.0\n",
       "29414              2022.0           2021.0\n",
       "29426              2020.0           2019.0\n",
       "29436              2022.0           2021.0\n",
       "\n",
       "[841 rows x 2 columns]"
      ]
     },
     "execution_count": 102,
     "metadata": {},
     "output_type": "execute_result"
    }
   ],
   "source": [
    "df[(df[\"First_Registration\"].notnull()) &\\\n",
    "   (df[\"Production_Date\"].notnull()) &\\\n",
    "   (df[\"First_Registration\"]!=df[\"Production_Date\"])]\\\n",
    "    [[\"First_Registration\",\"Production_Date\"]]"
   ]
  },
  {
   "cell_type": "code",
   "execution_count": 104,
   "id": "5e498ed3-f801-4e5d-8487-642cf2ad1d02",
   "metadata": {},
   "outputs": [
    {
     "data": {
      "text/plain": [
       "0         6.0\n",
       "1         0.0\n",
       "2         2.0\n",
       "3         2.0\n",
       "4         7.0\n",
       "         ... \n",
       "29474     3.0\n",
       "29475    18.0\n",
       "29476    11.0\n",
       "29477     5.0\n",
       "29478    20.0\n",
       "Name: Age, Length: 28630, dtype: float64"
      ]
     },
     "execution_count": 104,
     "metadata": {},
     "output_type": "execute_result"
    }
   ],
   "source": [
    "# The data used for this project were scraped in 2022.\n",
    "# I need a new feature 'Age'. Because car age is perhaps the biggest factor in deciding the price of a second-hand car.\n",
    "# Unless it is a vintage, the older the car, the lower the resale price. \n",
    "\n",
    "df['Age'] = 2022 - df['First_Registration']\n",
    "df['Age']"
   ]
  },
  {
   "cell_type": "code",
   "execution_count": 105,
   "id": "46f4d82e-dc63-4b90-992a-df1d8ba46e55",
   "metadata": {},
   "outputs": [
    {
     "data": {
      "text/plain": [
       " 3.0      3667\n",
       " 4.0      3492\n",
       " 0.0      3086\n",
       " 1.0      2870\n",
       " 2.0      2473\n",
       "          ... \n",
       "-1.0         1\n",
       " 93.0        1\n",
       " 72.0        1\n",
       " 94.0        1\n",
       "-180.0       1\n",
       "Name: Age, Length: 84, dtype: int64"
      ]
     },
     "execution_count": 105,
     "metadata": {},
     "output_type": "execute_result"
    }
   ],
   "source": [
    "df.Age.value_counts(dropna=False)"
   ]
  },
  {
   "cell_type": "code",
   "execution_count": 106,
   "id": "c9786c45-8091-4835-b4f0-b0ca4d63be2b",
   "metadata": {},
   "outputs": [],
   "source": [
    "df.drop([\"First_Registration\", \"Production_Date\"], axis=1, inplace=True)"
   ]
  },
  {
   "cell_type": "code",
   "execution_count": 107,
   "id": "c04631c6-927e-4b48-b326-53df53a65bfa",
   "metadata": {},
   "outputs": [
    {
     "data": {
      "text/plain": [
       "(28630, 39)"
      ]
     },
     "execution_count": 107,
     "metadata": {},
     "output_type": "execute_result"
    }
   ],
   "source": [
    "df.shape"
   ]
  },
  {
   "cell_type": "markdown",
   "id": "dba52af9",
   "metadata": {
    "tags": []
   },
   "source": [
    "### Gearbox"
   ]
  },
  {
   "cell_type": "code",
   "execution_count": 108,
   "id": "cd0011a3-2434-4eb9-84c9-dcffa5c5a8ee",
   "metadata": {},
   "outputs": [
    {
     "name": "stdout",
     "output_type": "stream",
     "text": [
      "column name    :  Gearbox\n",
      "--------------------------------\n",
      "per_of_nulls   :  % 0.87\n",
      "num_of_nulls   :  248\n",
      "num_of_uniques :  4\n",
      "--------------------------------\n",
      "[\\nManual\\n]            17023\n",
      "[\\nAutomatic\\n]         11287\n",
      "NaN                       248\n",
      "[\\nSemi-automatic\\n]       72\n",
      "Name: Gearbox, dtype: int64\n"
     ]
    }
   ],
   "source": [
    "first_looking('Gearbox')"
   ]
  },
  {
   "cell_type": "code",
   "execution_count": 110,
   "id": "ed74de2c",
   "metadata": {},
   "outputs": [
    {
     "data": {
      "text/plain": [
       "0           \\nManual\\n\n",
       "1        \\nAutomatic\\n\n",
       "2        \\nAutomatic\\n\n",
       "3        \\nAutomatic\\n\n",
       "4        \\nAutomatic\\n\n",
       "             ...      \n",
       "29474    \\nAutomatic\\n\n",
       "29475    \\nAutomatic\\n\n",
       "29476       \\nManual\\n\n",
       "29477    \\nAutomatic\\n\n",
       "29478    \\nAutomatic\\n\n",
       "Name: Gearbox, Length: 28630, dtype: object"
      ]
     },
     "execution_count": 110,
     "metadata": {},
     "output_type": "execute_result"
    }
   ],
   "source": [
    "df['Gearbox'] = [i[0] if type(i) == list else i for i in df['Gearbox']]\n",
    "df['Gearbox']"
   ]
  },
  {
   "cell_type": "code",
   "execution_count": 111,
   "id": "60847628",
   "metadata": {},
   "outputs": [
    {
     "data": {
      "text/plain": [
       "0           Manual\n",
       "1        Automatic\n",
       "2        Automatic\n",
       "3        Automatic\n",
       "4        Automatic\n",
       "           ...    \n",
       "29474    Automatic\n",
       "29475    Automatic\n",
       "29476       Manual\n",
       "29477    Automatic\n",
       "29478    Automatic\n",
       "Name: Gearbox, Length: 28630, dtype: object"
      ]
     },
     "execution_count": 111,
     "metadata": {},
     "output_type": "execute_result"
    }
   ],
   "source": [
    "df['Gearbox'] = df['Gearbox'].str.strip(\"\\n\")\n",
    "df['Gearbox']"
   ]
  },
  {
   "cell_type": "code",
   "execution_count": 112,
   "id": "aec09073",
   "metadata": {},
   "outputs": [
    {
     "data": {
      "text/plain": [
       "Manual            17023\n",
       "Automatic         11287\n",
       "NaN                 248\n",
       "Semi-automatic       72\n",
       "Name: Gearbox, dtype: int64"
      ]
     },
     "execution_count": 112,
     "metadata": {},
     "output_type": "execute_result"
    }
   ],
   "source": [
    "df['Gearbox'].value_counts(dropna=False)"
   ]
  },
  {
   "cell_type": "markdown",
   "id": "8bce9cbe",
   "metadata": {},
   "source": [
    "### Power"
   ]
  },
  {
   "cell_type": "code",
   "execution_count": 113,
   "id": "cfb9ee3d-29f5-4b1c-830e-2a0fcb370c19",
   "metadata": {},
   "outputs": [
    {
     "name": "stdout",
     "output_type": "stream",
     "text": [
      "column name    :  Power\n",
      "--------------------------------\n",
      "per_of_nulls   :  % 2.0\n",
      "num_of_nulls   :  572\n",
      "num_of_uniques :  352\n",
      "--------------------------------\n",
      "[\\n110 kW (150 hp)\\n]      1992\n",
      "[\\n96 kW (131 hp)\\n]       1356\n",
      "[\\n88 kW (120 hp)\\n]       1182\n",
      "[\\n81 kW (110 hp)\\n]       1166\n",
      "[\\n66 kW (90 hp)\\n]        1110\n",
      "                           ... \n",
      "[\\n746 kW (1,014 hp)\\n]       1\n",
      "[\\n570 kW (775 hp)\\n]         1\n",
      "[\\n471 kW (640 hp)\\n]         1\n",
      "[\\n179 kW (243 hp)\\n]         1\n",
      "[\\n26 kW (35 hp)\\n]           1\n",
      "Name: Power, Length: 352, dtype: int64\n"
     ]
    }
   ],
   "source": [
    "first_looking('Power')"
   ]
  },
  {
   "cell_type": "code",
   "execution_count": 115,
   "id": "b20aba85-e859-467b-b441-9c43777b7743",
   "metadata": {},
   "outputs": [
    {
     "data": {
      "text/html": [
       "<div>\n",
       "<style scoped>\n",
       "    .dataframe tbody tr th:only-of-type {\n",
       "        vertical-align: middle;\n",
       "    }\n",
       "\n",
       "    .dataframe tbody tr th {\n",
       "        vertical-align: top;\n",
       "    }\n",
       "\n",
       "    .dataframe thead th {\n",
       "        text-align: right;\n",
       "    }\n",
       "</style>\n",
       "<table border=\"1\" class=\"dataframe\">\n",
       "  <thead>\n",
       "    <tr style=\"text-align: right;\">\n",
       "      <th></th>\n",
       "      <th>Make_Model</th>\n",
       "      <th>Location</th>\n",
       "      <th>Price</th>\n",
       "      <th>Body_Type</th>\n",
       "      <th>Type</th>\n",
       "      <th>Doors</th>\n",
       "      <th>Mileage</th>\n",
       "      <th>Gearbox</th>\n",
       "      <th>Fuel_Type</th>\n",
       "      <th>Colour</th>\n",
       "      <th>Paint</th>\n",
       "      <th>Desc</th>\n",
       "      <th>Seller</th>\n",
       "      <th>Seats</th>\n",
       "      <th>Power</th>\n",
       "      <th>Engine_Size</th>\n",
       "      <th>Gears</th>\n",
       "      <th>CO2_Emissions</th>\n",
       "      <th>Manufacturer_Colour</th>\n",
       "      <th>Drivetrain</th>\n",
       "      <th>Cylinders</th>\n",
       "      <th>Fuel_Consumption</th>\n",
       "      <th>Comfort_Convenience</th>\n",
       "      <th>Entertainment_Media</th>\n",
       "      <th>Safety_Security</th>\n",
       "      <th>Extras</th>\n",
       "      <th>Empty_Weight</th>\n",
       "      <th>Model_Code</th>\n",
       "      <th>General_Inspection</th>\n",
       "      <th>Full_Service_History</th>\n",
       "      <th>Non_Smoker_Vehicle</th>\n",
       "      <th>Emission_Class</th>\n",
       "      <th>Emissions_Sticker</th>\n",
       "      <th>Upholstery_Colour</th>\n",
       "      <th>Upholstery</th>\n",
       "      <th>Previous_Owner</th>\n",
       "      <th>Energy_Efficiency_Class</th>\n",
       "      <th>CO2_Efficiency</th>\n",
       "      <th>Age</th>\n",
       "      <th>power_kW</th>\n",
       "      <th>power_hp</th>\n",
       "    </tr>\n",
       "  </thead>\n",
       "  <tbody>\n",
       "    <tr>\n",
       "      <th>0</th>\n",
       "      <td>Mercedes-Benz A 160</td>\n",
       "      <td>ES</td>\n",
       "      <td>16950.0</td>\n",
       "      <td>Compact</td>\n",
       "      <td>Used</td>\n",
       "      <td>5.0</td>\n",
       "      <td>120200.0</td>\n",
       "      <td>Manual</td>\n",
       "      <td>Diesel</td>\n",
       "      <td>Black</td>\n",
       "      <td>Metallic</td>\n",
       "      <td>[ , Precio al contado: 16950 euros,  ,  , Vehí...</td>\n",
       "      <td>Dealer</td>\n",
       "      <td>NaN</td>\n",
       "      <td>NaN</td>\n",
       "      <td>NaN</td>\n",
       "      <td>NaN</td>\n",
       "      <td>NaN</td>\n",
       "      <td>NaN</td>\n",
       "      <td>NaN</td>\n",
       "      <td>NaN</td>\n",
       "      <td>NaN</td>\n",
       "      <td>NaN</td>\n",
       "      <td>NaN</td>\n",
       "      <td>NaN</td>\n",
       "      <td>NaN</td>\n",
       "      <td>NaN</td>\n",
       "      <td>NaN</td>\n",
       "      <td>NaN</td>\n",
       "      <td>NaN</td>\n",
       "      <td>NaN</td>\n",
       "      <td>NaN</td>\n",
       "      <td>NaN</td>\n",
       "      <td>NaN</td>\n",
       "      <td>NaN</td>\n",
       "      <td>NaN</td>\n",
       "      <td>NaN</td>\n",
       "      <td>NaN</td>\n",
       "      <td>6.0</td>\n",
       "      <td>NaN</td>\n",
       "      <td>NaN</td>\n",
       "    </tr>\n",
       "    <tr>\n",
       "      <th>1</th>\n",
       "      <td>Mercedes-Benz EQE 350</td>\n",
       "      <td>ES</td>\n",
       "      <td>80900.0</td>\n",
       "      <td>Compact</td>\n",
       "      <td>Pre-registered</td>\n",
       "      <td>4.0</td>\n",
       "      <td>5000.0</td>\n",
       "      <td>Automatic</td>\n",
       "      <td>Electric</td>\n",
       "      <td>NaN</td>\n",
       "      <td>NaN</td>\n",
       "      <td>[ , Precio al contado: 88900 euros,  , AUTO OJ...</td>\n",
       "      <td>Dealer</td>\n",
       "      <td>[\\n, 5, \\n]</td>\n",
       "      <td>[\\n215 kW (292 hp)\\n]</td>\n",
       "      <td>[\\n1 cc\\n]</td>\n",
       "      <td>[\\n9\\n]</td>\n",
       "      <td>0 g/km (comb.)</td>\n",
       "      <td>Negro Obsidiana</td>\n",
       "      <td>NaN</td>\n",
       "      <td>NaN</td>\n",
       "      <td>NaN</td>\n",
       "      <td>NaN</td>\n",
       "      <td>NaN</td>\n",
       "      <td>NaN</td>\n",
       "      <td>NaN</td>\n",
       "      <td>NaN</td>\n",
       "      <td>NaN</td>\n",
       "      <td>NaN</td>\n",
       "      <td>NaN</td>\n",
       "      <td>NaN</td>\n",
       "      <td>NaN</td>\n",
       "      <td>NaN</td>\n",
       "      <td>NaN</td>\n",
       "      <td>NaN</td>\n",
       "      <td>NaN</td>\n",
       "      <td>NaN</td>\n",
       "      <td>NaN</td>\n",
       "      <td>0.0</td>\n",
       "      <td>215.0</td>\n",
       "      <td>292.0</td>\n",
       "    </tr>\n",
       "    <tr>\n",
       "      <th>2</th>\n",
       "      <td>Mercedes-Benz A 45 AMG</td>\n",
       "      <td>ES</td>\n",
       "      <td>69900.0</td>\n",
       "      <td>Compact</td>\n",
       "      <td>Used</td>\n",
       "      <td>5.0</td>\n",
       "      <td>18900.0</td>\n",
       "      <td>Automatic</td>\n",
       "      <td>Gasoline</td>\n",
       "      <td>Grey</td>\n",
       "      <td>NaN</td>\n",
       "      <td>[Gris MANUFAKTUR mountaingrau magno,  , Linea/...</td>\n",
       "      <td>Dealer</td>\n",
       "      <td>[\\n, 5, \\n]</td>\n",
       "      <td>[\\n310 kW (421 hp)\\n]</td>\n",
       "      <td>[\\n1,991 cc\\n]</td>\n",
       "      <td>[\\n8\\n]</td>\n",
       "      <td>NaN</td>\n",
       "      <td>Mountaingrau magno</td>\n",
       "      <td>[\\n, 4WD, \\n]</td>\n",
       "      <td>[\\n4\\n]</td>\n",
       "      <td>[[8.4 l/100 km (comb.)], [10.9 l/100 km (city)...</td>\n",
       "      <td>NaN</td>\n",
       "      <td>NaN</td>\n",
       "      <td>NaN</td>\n",
       "      <td>NaN</td>\n",
       "      <td>NaN</td>\n",
       "      <td>NaN</td>\n",
       "      <td>NaN</td>\n",
       "      <td>NaN</td>\n",
       "      <td>NaN</td>\n",
       "      <td>NaN</td>\n",
       "      <td>NaN</td>\n",
       "      <td>NaN</td>\n",
       "      <td>NaN</td>\n",
       "      <td>NaN</td>\n",
       "      <td>NaN</td>\n",
       "      <td>NaN</td>\n",
       "      <td>2.0</td>\n",
       "      <td>310.0</td>\n",
       "      <td>421.0</td>\n",
       "    </tr>\n",
       "  </tbody>\n",
       "</table>\n",
       "</div>"
      ],
      "text/plain": [
       "               Make_Model Location    Price Body_Type            Type  Doors  \\\n",
       "0     Mercedes-Benz A 160       ES  16950.0   Compact            Used    5.0   \n",
       "1   Mercedes-Benz EQE 350       ES  80900.0   Compact  Pre-registered    4.0   \n",
       "2  Mercedes-Benz A 45 AMG       ES  69900.0   Compact            Used    5.0   \n",
       "\n",
       "    Mileage    Gearbox Fuel_Type Colour     Paint  \\\n",
       "0  120200.0     Manual    Diesel  Black  Metallic   \n",
       "1    5000.0  Automatic  Electric    NaN       NaN   \n",
       "2   18900.0  Automatic  Gasoline   Grey       NaN   \n",
       "\n",
       "                                                Desc  Seller        Seats  \\\n",
       "0  [ , Precio al contado: 16950 euros,  ,  , Vehí...  Dealer          NaN   \n",
       "1  [ , Precio al contado: 88900 euros,  , AUTO OJ...  Dealer  [\\n, 5, \\n]   \n",
       "2  [Gris MANUFAKTUR mountaingrau magno,  , Linea/...  Dealer  [\\n, 5, \\n]   \n",
       "\n",
       "                   Power     Engine_Size    Gears   CO2_Emissions  \\\n",
       "0                    NaN             NaN      NaN             NaN   \n",
       "1  [\\n215 kW (292 hp)\\n]      [\\n1 cc\\n]  [\\n9\\n]  0 g/km (comb.)   \n",
       "2  [\\n310 kW (421 hp)\\n]  [\\n1,991 cc\\n]  [\\n8\\n]             NaN   \n",
       "\n",
       "  Manufacturer_Colour     Drivetrain Cylinders  \\\n",
       "0                 NaN            NaN       NaN   \n",
       "1     Negro Obsidiana            NaN       NaN   \n",
       "2  Mountaingrau magno  [\\n, 4WD, \\n]   [\\n4\\n]   \n",
       "\n",
       "                                    Fuel_Consumption Comfort_Convenience  \\\n",
       "0                                                NaN                 NaN   \n",
       "1                                                NaN                 NaN   \n",
       "2  [[8.4 l/100 km (comb.)], [10.9 l/100 km (city)...                 NaN   \n",
       "\n",
       "  Entertainment_Media Safety_Security Extras Empty_Weight Model_Code  \\\n",
       "0                 NaN             NaN    NaN          NaN        NaN   \n",
       "1                 NaN             NaN    NaN          NaN        NaN   \n",
       "2                 NaN             NaN    NaN          NaN        NaN   \n",
       "\n",
       "  General_Inspection Full_Service_History Non_Smoker_Vehicle Emission_Class  \\\n",
       "0                NaN                  NaN                NaN            NaN   \n",
       "1                NaN                  NaN                NaN            NaN   \n",
       "2                NaN                  NaN                NaN            NaN   \n",
       "\n",
       "  Emissions_Sticker Upholstery_Colour Upholstery Previous_Owner  \\\n",
       "0               NaN               NaN        NaN            NaN   \n",
       "1               NaN               NaN        NaN            NaN   \n",
       "2               NaN               NaN        NaN            NaN   \n",
       "\n",
       "  Energy_Efficiency_Class CO2_Efficiency  Age  power_kW  power_hp  \n",
       "0                     NaN            NaN  6.0       NaN       NaN  \n",
       "1                     NaN            NaN  0.0     215.0     292.0  \n",
       "2                     NaN            NaN  2.0     310.0     421.0  "
      ]
     },
     "execution_count": 115,
     "metadata": {},
     "output_type": "execute_result"
    }
   ],
   "source": [
    "df[['power_kW', 'power_hp']] = df[\"Power\"].apply(lambda item: item[0] if type(item) == list else item)\\\n",
    "                              .str.extract(r'\\D*(?P<kW>\\d+)\\D+(?P<hp>\\d+)').astype(float)\n",
    "df.head(3)"
   ]
  },
  {
   "cell_type": "code",
   "execution_count": 116,
   "id": "8669769a-5b15-478d-acd2-d07606d1f594",
   "metadata": {},
   "outputs": [
    {
     "data": {
      "text/plain": [
       "110.0    1992\n",
       "96.0     1356\n",
       "88.0     1182\n",
       "81.0     1166\n",
       "66.0     1110\n",
       "         ... \n",
       "746.0       1\n",
       "570.0       1\n",
       "471.0       1\n",
       "179.0       1\n",
       "26.0        1\n",
       "Name: power_kW, Length: 352, dtype: int64"
      ]
     },
     "execution_count": 116,
     "metadata": {},
     "output_type": "execute_result"
    }
   ],
   "source": [
    "df.power_kW.value_counts(dropna=False)"
   ]
  },
  {
   "cell_type": "code",
   "execution_count": 117,
   "id": "f1fe077d-ad07-4314-884e-9d1e5740bb89",
   "metadata": {},
   "outputs": [
    {
     "data": {
      "text/plain": [
       "150.0    1992\n",
       "131.0    1356\n",
       "120.0    1182\n",
       "110.0    1166\n",
       "90.0     1110\n",
       "         ... \n",
       "465.0       1\n",
       "412.0       1\n",
       "670.0       1\n",
       "506.0       1\n",
       "33.0        1\n",
       "Name: power_hp, Length: 348, dtype: int64"
      ]
     },
     "execution_count": 117,
     "metadata": {},
     "output_type": "execute_result"
    }
   ],
   "source": [
    "df.power_hp.value_counts(dropna=False)"
   ]
  },
  {
   "cell_type": "code",
   "execution_count": 118,
   "id": "20d5396b-39db-4c61-a6d8-1cac7e546aeb",
   "metadata": {
    "tags": []
   },
   "outputs": [
    {
     "data": {
      "text/plain": [
       "(28630, 41)"
      ]
     },
     "execution_count": 118,
     "metadata": {},
     "output_type": "execute_result"
    }
   ],
   "source": [
    "df.shape"
   ]
  },
  {
   "cell_type": "code",
   "execution_count": 119,
   "id": "0bf8050b-f607-4d90-b044-4c418f3333db",
   "metadata": {},
   "outputs": [],
   "source": [
    "df.drop('Power', axis=1, inplace=True)"
   ]
  },
  {
   "cell_type": "code",
   "execution_count": 120,
   "id": "9a332751-4968-4ffd-8b40-33a8d4b6228b",
   "metadata": {
    "tags": []
   },
   "outputs": [
    {
     "data": {
      "text/plain": [
       "(28630, 40)"
      ]
     },
     "execution_count": 120,
     "metadata": {},
     "output_type": "execute_result"
    }
   ],
   "source": [
    "df.shape"
   ]
  },
  {
   "cell_type": "markdown",
   "id": "d39bf160-0933-47a5-b55f-a9d0d527a7f4",
   "metadata": {},
   "source": [
    "### Fuel_Type"
   ]
  },
  {
   "cell_type": "code",
   "execution_count": null,
   "id": "11ad921f-16a3-4b68-b2bd-e3ba87d8fb6c",
   "metadata": {},
   "outputs": [],
   "source": [
    "# Another key factor affecting used car prices is fuel economy."
   ]
  },
  {
   "cell_type": "code",
   "execution_count": 121,
   "id": "3fbee93a-1368-44ce-9984-922417ba7d30",
   "metadata": {},
   "outputs": [
    {
     "name": "stdout",
     "output_type": "stream",
     "text": [
      "column name    :  Fuel_Type\n",
      "--------------------------------\n",
      "per_of_nulls   :  % 6.24\n",
      "num_of_nulls   :  1787\n",
      "num_of_uniques :  47\n",
      "--------------------------------\n",
      "Gasoline                                                                                              8532\n",
      "Diesel                                                                                                5911\n",
      "Super 95                                                                                              3557\n",
      "Diesel (Particle filter)                                                                              2816\n",
      "Regular/Benzine 91                                                                                    2065\n",
      "NaN                                                                                                   1787\n",
      "Super E10 95                                                                                          1016\n",
      "Regular/Benzine 91 (Particle filter)                                                                   555\n",
      "Super 95 (Particle filter)                                                                             537\n",
      "Super E10 95 (Particle filter)                                                                         324\n",
      "Regular/Benzine E10 91                                                                                 278\n",
      "Others                                                                                                 197\n",
      "Gasoline (Particle filter)                                                                             196\n",
      "Electric                                                                                               185\n",
      "Super Plus 98                                                                                          170\n",
      "Liquid petroleum gas (LPG)                                                                             148\n",
      "CNG                                                                                                     87\n",
      "LPG                                                                                                     73\n",
      "Super Plus E10 98                                                                                       42\n",
      "Super Plus E10 98 (Particle filter)                                                                     35\n",
      "Domestic gas H                                                                                          24\n",
      "Others (Particle filter)                                                                                16\n",
      "Super Plus 98 (Particle filter)                                                                         15\n",
      "Domestic gas L                                                                                          10\n",
      "CNG (Particle filter)                                                                                    8\n",
      "Regular/Benzine E10 91 (Particle filter)                                                                 8\n",
      "LPG (Particle filter)                                                                                    4\n",
      "Hydrogen                                                                                                 3\n",
      "Ethanol                                                                                                  3\n",
      "Electric (Particle filter)                                                                               3\n",
      "Liquid petroleum gas (LPG) (Particle filter) / Super 95 / Super E10 95                                   3\n",
      "Liquid petroleum gas (LPG) / Super 95 / Super Plus 98 / Super Plus E10 98 / Super E10 95                 2\n",
      "Liquid petroleum gas (LPG) / Super 95 / Super E10 95                                                     2\n",
      "Domestic gas L (Particle filter)                                                                         2\n",
      "Liquid petroleum gas (LPG) (Particle filter)                                                             2\n",
      "Liquid petroleum gas (LPG) / Super 95                                                                    2\n",
      "Liquid petroleum gas (LPG) / Super 95 / Super E10 95 / Super Plus 98                                     2\n",
      "Liquid petroleum gas (LPG) / Super 95 / Super Plus 98                                                    1\n",
      "Super 95 (Particle filter) / Super E10 95 / Ethanol                                                      1\n",
      "Liquid petroleum gas (LPG) / Super E10 95 / Super Plus E10 98 / Super Plus 98 / Super 95                 1\n",
      "Liquid petroleum gas (LPG) / Super E10 95                                                                1\n",
      "Biogas                                                                                                   1\n",
      "Super 95 / Super Plus 98 / Liquid petroleum gas (LPG)                                                    1\n",
      "Domestic gas L / Super 95 / Domestic gas H                                                               1\n",
      "Domestic gas H / Super E10 95 / Super Plus E10 98 / Super 95 / Super Plus 98 / Domestic gas L            1\n",
      "Liquid petroleum gas (LPG) / Super E10 95 / Regular/Benzine 91 / Super 95 / Super Plus 98 / Biogas       1\n",
      "Super 95 / Liquid petroleum gas (LPG)                                                                    1\n",
      "Name: Fuel_Type, dtype: int64\n"
     ]
    }
   ],
   "source": [
    "first_looking(\"Fuel_Type\")"
   ]
  },
  {
   "cell_type": "code",
   "execution_count": 122,
   "id": "6ea5f4b5-7a22-4f0a-9113-f2c48e6b5f94",
   "metadata": {},
   "outputs": [
    {
     "data": {
      "text/plain": [
       "[Gasoline]                                                                                                    8532\n",
       "[Diesel]                                                                                                      5911\n",
       "[Super 95]                                                                                                    3557\n",
       "[Diesel (Particle filter)]                                                                                    2816\n",
       "[Regular, Benzine 91]                                                                                         2065\n",
       "NaN                                                                                                           1787\n",
       "[Super E10 95]                                                                                                1016\n",
       "[Regular, Benzine 91 (Particle filter)]                                                                        555\n",
       "[Super 95 (Particle filter)]                                                                                   537\n",
       "[Super E10 95 (Particle filter)]                                                                               324\n",
       "[Regular, Benzine E10 91]                                                                                      278\n",
       "[Others]                                                                                                       197\n",
       "[Gasoline (Particle filter)]                                                                                   196\n",
       "[Electric]                                                                                                     185\n",
       "[Super Plus 98]                                                                                                170\n",
       "[Liquid petroleum gas (LPG)]                                                                                   148\n",
       "[CNG]                                                                                                           87\n",
       "[LPG]                                                                                                           73\n",
       "[Super Plus E10 98]                                                                                             42\n",
       "[Super Plus E10 98 (Particle filter)]                                                                           35\n",
       "[Domestic gas H]                                                                                                24\n",
       "[Others (Particle filter)]                                                                                      16\n",
       "[Super Plus 98 (Particle filter)]                                                                               15\n",
       "[Domestic gas L]                                                                                                10\n",
       "[CNG (Particle filter)]                                                                                          8\n",
       "[Regular, Benzine E10 91 (Particle filter)]                                                                      8\n",
       "[LPG (Particle filter)]                                                                                          4\n",
       "[Hydrogen]                                                                                                       3\n",
       "[Ethanol]                                                                                                        3\n",
       "[Electric (Particle filter)]                                                                                     3\n",
       "[Liquid petroleum gas (LPG) (Particle filter) ,  Super 95 ,  Super E10 95]                                       3\n",
       "[Liquid petroleum gas (LPG) ,  Super 95 ,  Super Plus 98 ,  Super Plus E10 98 ,  Super E10 95]                   2\n",
       "[Liquid petroleum gas (LPG) ,  Super 95 ,  Super E10 95]                                                         2\n",
       "[Domestic gas L (Particle filter)]                                                                               2\n",
       "[Liquid petroleum gas (LPG) (Particle filter)]                                                                   2\n",
       "[Liquid petroleum gas (LPG) ,  Super 95]                                                                         2\n",
       "[Liquid petroleum gas (LPG) ,  Super 95 ,  Super E10 95 ,  Super Plus 98]                                        2\n",
       "[Liquid petroleum gas (LPG) ,  Super 95 ,  Super Plus 98]                                                        1\n",
       "[Super 95 (Particle filter) ,  Super E10 95 ,  Ethanol]                                                          1\n",
       "[Liquid petroleum gas (LPG) ,  Super E10 95 ,  Super Plus E10 98 ,  Super Plus 98 ,  Super 95]                   1\n",
       "[Liquid petroleum gas (LPG) ,  Super E10 95]                                                                     1\n",
       "[Biogas]                                                                                                         1\n",
       "[Super 95 ,  Super Plus 98 ,  Liquid petroleum gas (LPG)]                                                        1\n",
       "[Domestic gas L ,  Super 95 ,  Domestic gas H]                                                                   1\n",
       "[Domestic gas H ,  Super E10 95 ,  Super Plus E10 98 ,  Super 95 ,  Super Plus 98 ,  Domestic gas L]             1\n",
       "[Liquid petroleum gas (LPG) ,  Super E10 95 ,  Regular, Benzine 91 ,  Super 95 ,  Super Plus 98 ,  Biogas]       1\n",
       "[Super 95 ,  Liquid petroleum gas (LPG)]                                                                         1\n",
       "Name: Fuel_Type, dtype: int64"
      ]
     },
     "execution_count": 122,
     "metadata": {},
     "output_type": "execute_result"
    }
   ],
   "source": [
    "df[\"Fuel_Type\"].str.split(\"/\").value_counts(dropna=False)"
   ]
  },
  {
   "cell_type": "code",
   "execution_count": 123,
   "id": "5d3338f0-09e0-42af-bcb8-dbfe6b1318ce",
   "metadata": {},
   "outputs": [
    {
     "data": {
      "text/plain": [
       "0                          Diesel\n",
       "1                        Electric\n",
       "2                        Gasoline\n",
       "3                        Gasoline\n",
       "4                          Diesel\n",
       "                   ...           \n",
       "29474                         NaN\n",
       "29475                    Gasoline\n",
       "29476    Diesel (Particle filter)\n",
       "29477                    Gasoline\n",
       "29478                    Super 95\n",
       "Name: Fuel_Type, Length: 28630, dtype: object"
      ]
     },
     "execution_count": 123,
     "metadata": {},
     "output_type": "execute_result"
    }
   ],
   "source": [
    "df[\"Fuel_Type\"] = df[\"Fuel_Type\"].str.split(\"/\").str[0].str.strip()\n",
    "df[\"Fuel_Type\"]"
   ]
  },
  {
   "cell_type": "code",
   "execution_count": 124,
   "id": "e4958129",
   "metadata": {},
   "outputs": [
    {
     "data": {
      "text/plain": [
       "0          Diesel\n",
       "1        Electric\n",
       "2        Gasoline\n",
       "3        Gasoline\n",
       "4          Diesel\n",
       "           ...   \n",
       "29474         NaN\n",
       "29475    Gasoline\n",
       "29476      Diesel\n",
       "29477    Gasoline\n",
       "29478    Super 95\n",
       "Name: Fuel_Type, Length: 28630, dtype: object"
      ]
     },
     "execution_count": 124,
     "metadata": {},
     "output_type": "execute_result"
    }
   ],
   "source": [
    "df[\"Fuel_Type\"] = df.Fuel_Type.str.split(\"(\").str[0].str.strip()\n",
    "df[\"Fuel_Type\"]"
   ]
  },
  {
   "cell_type": "code",
   "execution_count": 126,
   "id": "34ab3169-e5b9-42ab-8150-65c36b8a0b04",
   "metadata": {},
   "outputs": [],
   "source": [
    "benzine = [\"Gasoline\", \"Super 95\", \"Regular\", \"Super E10 95\", \"Super Plus 98\", \"Super Plus E10 98\", \"Others\", \"Ethanol\"]\n",
    "petroleum_gas = [\"Liquid petroleum gas\", \"CNG\", \"LPG\", \"Domestic gas H\", \"Domestic gas L\", \"Biogas\", \"Hydrogen\"]\n",
    "\n",
    "def fueltype(x):\n",
    "    if x in benzine:\n",
    "        return \"Benzine\"\n",
    "    elif x in petroleum_gas:\n",
    "        return \"Liquid/Natural Gas\"\n",
    "    else:\n",
    "        return x\n",
    "\n",
    "df[\"Fuel_Type\"] = df[\"Fuel_Type\"].apply(fueltype)"
   ]
  },
  {
   "cell_type": "code",
   "execution_count": 127,
   "id": "cf3c0a7a",
   "metadata": {},
   "outputs": [
    {
     "data": {
      "text/plain": [
       "Benzine               17549\n",
       "Diesel                 8727\n",
       "NaN                    1787\n",
       "Liquid/Natural Gas      379\n",
       "Electric                188\n",
       "Name: Fuel_Type, dtype: int64"
      ]
     },
     "execution_count": 127,
     "metadata": {},
     "output_type": "execute_result"
    }
   ],
   "source": [
    "df[\"Fuel_Type\"].value_counts(dropna = False)"
   ]
  },
  {
   "cell_type": "markdown",
   "id": "15dc61c3",
   "metadata": {
    "tags": []
   },
   "source": [
    "### Colour"
   ]
  },
  {
   "cell_type": "code",
   "execution_count": null,
   "id": "071cfedf-d51a-40f3-a1cd-5dd1c778185b",
   "metadata": {},
   "outputs": [],
   "source": [
    "# Car colour: Popular colours usually garner more attention from potential buyers and therefore are easier to sell."
   ]
  },
  {
   "cell_type": "code",
   "execution_count": 128,
   "id": "24a9afea-5f20-4a72-b245-44eb8f55f11b",
   "metadata": {},
   "outputs": [
    {
     "name": "stdout",
     "output_type": "stream",
     "text": [
      "column name    :  Colour\n",
      "--------------------------------\n",
      "per_of_nulls   :  % 6.02\n",
      "num_of_nulls   :  1724\n",
      "num_of_uniques :  15\n",
      "--------------------------------\n",
      "Black     6473\n",
      "Grey      5998\n",
      "White     5185\n",
      "Blue      3478\n",
      "Red       2242\n",
      "NaN       1724\n",
      "Silver    1622\n",
      "Green      450\n",
      "Brown      437\n",
      "Orange     288\n",
      "Beige      278\n",
      "Yellow     230\n",
      "Violet      98\n",
      "Bronze      65\n",
      "Gold        62\n",
      "Name: Colour, dtype: int64\n"
     ]
    }
   ],
   "source": [
    "first_looking(\"Colour\")"
   ]
  },
  {
   "cell_type": "code",
   "execution_count": 129,
   "id": "926acbba",
   "metadata": {},
   "outputs": [
    {
     "data": {
      "text/plain": [
       "Black     6473\n",
       "Grey      5998\n",
       "White     5185\n",
       "Blue      3478\n",
       "Red       2242\n",
       "NaN       1724\n",
       "Silver    1622\n",
       "Green      450\n",
       "Brown      437\n",
       "Orange     288\n",
       "Beige      278\n",
       "Yellow     230\n",
       "Violet      98\n",
       "Bronze      65\n",
       "Gold        62\n",
       "Name: Colour, dtype: int64"
      ]
     },
     "execution_count": 129,
     "metadata": {},
     "output_type": "execute_result"
    }
   ],
   "source": [
    "df['Colour'].value_counts(dropna=False)"
   ]
  },
  {
   "cell_type": "markdown",
   "id": "c9537aa5-7814-4a78-8cac-8727e545f7b2",
   "metadata": {},
   "source": [
    "### Manufacturer_Colour"
   ]
  },
  {
   "cell_type": "code",
   "execution_count": 130,
   "id": "4be127d0-5251-4d72-afce-d167789de59c",
   "metadata": {},
   "outputs": [
    {
     "name": "stdout",
     "output_type": "stream",
     "text": [
      "column name    :  Manufacturer_Colour\n",
      "--------------------------------\n",
      "per_of_nulls   :  % 23.9\n",
      "num_of_nulls   :  6843\n",
      "num_of_uniques :  4964\n",
      "--------------------------------\n",
      "NaN                               6843\n",
      "Blanco                            1235\n",
      "Gris                               671\n",
      "Azul                               552\n",
      "Negro                              546\n",
      "                                  ... \n",
      "Colore esterno (snowflake whit       1\n",
      "Pompeigraumetallic                   1\n",
      "Cararragrau                          1\n",
      "ICE WHITE (wit metallic)             1\n",
      "Denim Blue metallic (blauw met       1\n",
      "Name: Manufacturer_Colour, Length: 4964, dtype: int64\n"
     ]
    }
   ],
   "source": [
    "first_looking(\"Manufacturer_Colour\")"
   ]
  },
  {
   "cell_type": "code",
   "execution_count": 131,
   "id": "becf9004-8e43-4311-b2a1-993b8b59b2fb",
   "metadata": {},
   "outputs": [
    {
     "data": {
      "text/html": [
       "<div>\n",
       "<style scoped>\n",
       "    .dataframe tbody tr th:only-of-type {\n",
       "        vertical-align: middle;\n",
       "    }\n",
       "\n",
       "    .dataframe tbody tr th {\n",
       "        vertical-align: top;\n",
       "    }\n",
       "\n",
       "    .dataframe thead th {\n",
       "        text-align: right;\n",
       "    }\n",
       "</style>\n",
       "<table border=\"1\" class=\"dataframe\">\n",
       "  <thead>\n",
       "    <tr style=\"text-align: right;\">\n",
       "      <th></th>\n",
       "      <th>Colour</th>\n",
       "      <th>Manufacturer_Colour</th>\n",
       "    </tr>\n",
       "  </thead>\n",
       "  <tbody>\n",
       "    <tr>\n",
       "      <th>11494</th>\n",
       "      <td>White</td>\n",
       "      <td>Blanco</td>\n",
       "    </tr>\n",
       "    <tr>\n",
       "      <th>12796</th>\n",
       "      <td>Black</td>\n",
       "      <td>Magic Schwarz</td>\n",
       "    </tr>\n",
       "    <tr>\n",
       "      <th>24622</th>\n",
       "      <td>Grey</td>\n",
       "      <td>Gris</td>\n",
       "    </tr>\n",
       "    <tr>\n",
       "      <th>10996</th>\n",
       "      <td>White</td>\n",
       "      <td>Bianco</td>\n",
       "    </tr>\n",
       "    <tr>\n",
       "      <th>12848</th>\n",
       "      <td>Grey</td>\n",
       "      <td>\"Magnetic Tech\"</td>\n",
       "    </tr>\n",
       "    <tr>\n",
       "      <th>8036</th>\n",
       "      <td>Blue</td>\n",
       "      <td>Azul</td>\n",
       "    </tr>\n",
       "    <tr>\n",
       "      <th>2984</th>\n",
       "      <td>Silver</td>\n",
       "      <td>Gris Plata</td>\n",
       "    </tr>\n",
       "    <tr>\n",
       "      <th>2026</th>\n",
       "      <td>Blue</td>\n",
       "      <td>NaN</td>\n",
       "    </tr>\n",
       "    <tr>\n",
       "      <th>5210</th>\n",
       "      <td>Black</td>\n",
       "      <td>SCHWARZ MET.</td>\n",
       "    </tr>\n",
       "    <tr>\n",
       "      <th>22395</th>\n",
       "      <td>Black</td>\n",
       "      <td>Shadow Black</td>\n",
       "    </tr>\n",
       "    <tr>\n",
       "      <th>7005</th>\n",
       "      <td>NaN</td>\n",
       "      <td>Rouge Intense</td>\n",
       "    </tr>\n",
       "    <tr>\n",
       "      <th>15338</th>\n",
       "      <td>White</td>\n",
       "      <td>NaN</td>\n",
       "    </tr>\n",
       "    <tr>\n",
       "      <th>23448</th>\n",
       "      <td>Red</td>\n",
       "      <td>Lucidrot (ROT)</td>\n",
       "    </tr>\n",
       "    <tr>\n",
       "      <th>17333</th>\n",
       "      <td>Grey</td>\n",
       "      <td>Grijs parelmoer</td>\n",
       "    </tr>\n",
       "    <tr>\n",
       "      <th>12852</th>\n",
       "      <td>Red</td>\n",
       "      <td>Reinrot</td>\n",
       "    </tr>\n",
       "    <tr>\n",
       "      <th>26652</th>\n",
       "      <td>Black</td>\n",
       "      <td>BLACK SAPPHIRE</td>\n",
       "    </tr>\n",
       "    <tr>\n",
       "      <th>1117</th>\n",
       "      <td>Grey</td>\n",
       "      <td>NaN</td>\n",
       "    </tr>\n",
       "    <tr>\n",
       "      <th>14536</th>\n",
       "      <td>Blue</td>\n",
       "      <td>Lava-blau</td>\n",
       "    </tr>\n",
       "    <tr>\n",
       "      <th>20145</th>\n",
       "      <td>White</td>\n",
       "      <td>BRILLIANT WHITE (M)</td>\n",
       "    </tr>\n",
       "    <tr>\n",
       "      <th>1862</th>\n",
       "      <td>Black</td>\n",
       "      <td>Obsidianschwarz - Metalliclack</td>\n",
       "    </tr>\n",
       "  </tbody>\n",
       "</table>\n",
       "</div>"
      ],
      "text/plain": [
       "       Colour             Manufacturer_Colour\n",
       "11494   White                          Blanco\n",
       "12796   Black                   Magic Schwarz\n",
       "24622    Grey                            Gris\n",
       "10996   White                          Bianco\n",
       "12848    Grey                 \"Magnetic Tech\"\n",
       "8036     Blue                            Azul\n",
       "2984   Silver                      Gris Plata\n",
       "2026     Blue                             NaN\n",
       "5210    Black                    SCHWARZ MET.\n",
       "22395   Black                    Shadow Black\n",
       "7005      NaN                   Rouge Intense\n",
       "15338   White                             NaN\n",
       "23448     Red                  Lucidrot (ROT)\n",
       "17333    Grey                 Grijs parelmoer\n",
       "12852     Red                         Reinrot\n",
       "26652   Black                  BLACK SAPPHIRE\n",
       "1117     Grey                             NaN\n",
       "14536    Blue                       Lava-blau\n",
       "20145   White             BRILLIANT WHITE (M)\n",
       "1862    Black  Obsidianschwarz - Metalliclack"
      ]
     },
     "execution_count": 131,
     "metadata": {},
     "output_type": "execute_result"
    }
   ],
   "source": [
    "df[['Colour', 'Manufacturer_Colour']].sample(20)"
   ]
  },
  {
   "cell_type": "code",
   "execution_count": 132,
   "id": "cc095c4b-53b5-40d2-8bf5-0922c17cfe7a",
   "metadata": {},
   "outputs": [
    {
     "data": {
      "text/html": [
       "<div>\n",
       "<style scoped>\n",
       "    .dataframe tbody tr th:only-of-type {\n",
       "        vertical-align: middle;\n",
       "    }\n",
       "\n",
       "    .dataframe tbody tr th {\n",
       "        vertical-align: top;\n",
       "    }\n",
       "\n",
       "    .dataframe thead th {\n",
       "        text-align: right;\n",
       "    }\n",
       "</style>\n",
       "<table border=\"1\" class=\"dataframe\">\n",
       "  <thead>\n",
       "    <tr style=\"text-align: right;\">\n",
       "      <th></th>\n",
       "      <th>Colour</th>\n",
       "      <th>Manufacturer_Colour</th>\n",
       "    </tr>\n",
       "  </thead>\n",
       "  <tbody>\n",
       "    <tr>\n",
       "      <th>1</th>\n",
       "      <td>NaN</td>\n",
       "      <td>Negro Obsidiana</td>\n",
       "    </tr>\n",
       "    <tr>\n",
       "      <th>24</th>\n",
       "      <td>NaN</td>\n",
       "      <td>GRIS GRAFITO</td>\n",
       "    </tr>\n",
       "    <tr>\n",
       "      <th>37</th>\n",
       "      <td>NaN</td>\n",
       "      <td>Plata Iridio</td>\n",
       "    </tr>\n",
       "    <tr>\n",
       "      <th>145</th>\n",
       "      <td>NaN</td>\n",
       "      <td>Gris Montagne</td>\n",
       "    </tr>\n",
       "    <tr>\n",
       "      <th>169</th>\n",
       "      <td>NaN</td>\n",
       "      <td>Bleu denim métallisé</td>\n",
       "    </tr>\n",
       "    <tr>\n",
       "      <th>...</th>\n",
       "      <td>...</td>\n",
       "      <td>...</td>\n",
       "    </tr>\n",
       "    <tr>\n",
       "      <th>29434</th>\n",
       "      <td>NaN</td>\n",
       "      <td>Blanc Cristal</td>\n",
       "    </tr>\n",
       "    <tr>\n",
       "      <th>29439</th>\n",
       "      <td>NaN</td>\n",
       "      <td>Gris Osmium</td>\n",
       "    </tr>\n",
       "    <tr>\n",
       "      <th>29440</th>\n",
       "      <td>NaN</td>\n",
       "      <td>Noir Onyx Métallisé</td>\n",
       "    </tr>\n",
       "    <tr>\n",
       "      <th>29441</th>\n",
       "      <td>NaN</td>\n",
       "      <td>Gris Osmium</td>\n",
       "    </tr>\n",
       "    <tr>\n",
       "      <th>29446</th>\n",
       "      <td>NaN</td>\n",
       "      <td>DENIM BLUE</td>\n",
       "    </tr>\n",
       "  </tbody>\n",
       "</table>\n",
       "<p>1481 rows × 2 columns</p>\n",
       "</div>"
      ],
      "text/plain": [
       "      Colour   Manufacturer_Colour\n",
       "1        NaN       Negro Obsidiana\n",
       "24       NaN          GRIS GRAFITO\n",
       "37       NaN          Plata Iridio\n",
       "145      NaN         Gris Montagne\n",
       "169      NaN  Bleu denim métallisé\n",
       "...      ...                   ...\n",
       "29434    NaN         Blanc Cristal\n",
       "29439    NaN           Gris Osmium\n",
       "29440    NaN   Noir Onyx Métallisé\n",
       "29441    NaN           Gris Osmium\n",
       "29446    NaN            DENIM BLUE\n",
       "\n",
       "[1481 rows x 2 columns]"
      ]
     },
     "execution_count": 132,
     "metadata": {},
     "output_type": "execute_result"
    }
   ],
   "source": [
    "df[(df[\"Colour\"].isnull()) & (df[\"Manufacturer_Colour\"].notnull())][[\"Colour\", \"Manufacturer_Colour\"]]"
   ]
  },
  {
   "cell_type": "code",
   "execution_count": 133,
   "id": "7bfe8451-db73-4719-b1bb-f09ae3453053",
   "metadata": {
    "tags": []
   },
   "outputs": [
    {
     "data": {
      "text/plain": [
       "(28630, 40)"
      ]
     },
     "execution_count": 133,
     "metadata": {},
     "output_type": "execute_result"
    }
   ],
   "source": [
    "df.shape"
   ]
  },
  {
   "cell_type": "code",
   "execution_count": 134,
   "id": "f31a14f2-0327-4200-a9b9-03b227c34ff3",
   "metadata": {},
   "outputs": [],
   "source": [
    "df.drop([\"Colour\", \"Manufacturer_Colour\"], axis=1, inplace=True)"
   ]
  },
  {
   "cell_type": "code",
   "execution_count": 135,
   "id": "7c7559f2-03fa-4d1a-94f2-c183669167b9",
   "metadata": {},
   "outputs": [
    {
     "data": {
      "text/plain": [
       "(28630, 38)"
      ]
     },
     "execution_count": 135,
     "metadata": {},
     "output_type": "execute_result"
    }
   ],
   "source": [
    "df.shape"
   ]
  },
  {
   "cell_type": "markdown",
   "id": "31596775",
   "metadata": {},
   "source": [
    "### Paint"
   ]
  },
  {
   "cell_type": "code",
   "execution_count": 136,
   "id": "bf3698c4",
   "metadata": {},
   "outputs": [
    {
     "name": "stdout",
     "output_type": "stream",
     "text": [
      "column name    :  Paint\n",
      "--------------------------------\n",
      "per_of_nulls   :  % 49.37\n",
      "num_of_nulls   :  14135\n",
      "num_of_uniques :  3\n",
      "--------------------------------\n",
      "Metallic     14494\n",
      "NaN          14135\n",
      "Uni/basic        1\n",
      "Name: Paint, dtype: int64\n"
     ]
    }
   ],
   "source": [
    "first_looking(\"Paint\")"
   ]
  },
  {
   "cell_type": "code",
   "execution_count": 138,
   "id": "3c15dbcf",
   "metadata": {},
   "outputs": [
    {
     "data": {
      "text/plain": [
       "0         Metallic\n",
       "1        Uni/basic\n",
       "2        Uni/basic\n",
       "3        Uni/basic\n",
       "4         Metallic\n",
       "           ...    \n",
       "29474    Uni/basic\n",
       "29475    Uni/basic\n",
       "29476     Metallic\n",
       "29477     Metallic\n",
       "29478    Uni/basic\n",
       "Name: Paint, Length: 28630, dtype: object"
      ]
     },
     "execution_count": 138,
     "metadata": {},
     "output_type": "execute_result"
    }
   ],
   "source": [
    "df['Paint'] = df['Paint'].replace(np.nan, \"Uni/basic\", regex=True)\n",
    "df['Paint']"
   ]
  },
  {
   "cell_type": "code",
   "execution_count": 139,
   "id": "b6e4f534",
   "metadata": {},
   "outputs": [
    {
     "data": {
      "text/plain": [
       "Metallic     14494\n",
       "Uni/basic    14136\n",
       "Name: Paint, dtype: int64"
      ]
     },
     "execution_count": 139,
     "metadata": {},
     "output_type": "execute_result"
    }
   ],
   "source": [
    "df['Paint'].value_counts(dropna=False)"
   ]
  },
  {
   "cell_type": "code",
   "execution_count": 140,
   "id": "95c5baec",
   "metadata": {},
   "outputs": [],
   "source": [
    "df.drop(\"Paint\", axis=1, inplace=True)"
   ]
  },
  {
   "cell_type": "code",
   "execution_count": 141,
   "id": "c7a4d98d-c9b1-4bb4-b0ce-a83ccda7102c",
   "metadata": {},
   "outputs": [
    {
     "data": {
      "text/plain": [
       "(28630, 37)"
      ]
     },
     "execution_count": 141,
     "metadata": {},
     "output_type": "execute_result"
    }
   ],
   "source": [
    "df.shape"
   ]
  },
  {
   "cell_type": "markdown",
   "id": "2226fbd9",
   "metadata": {},
   "source": [
    "### Desc"
   ]
  },
  {
   "cell_type": "code",
   "execution_count": 236,
   "id": "b8cfb37f",
   "metadata": {},
   "outputs": [
    {
     "name": "stdout",
     "output_type": "stream",
     "text": [
      "column name    :  Desc\n",
      "--------------------------------\n",
      "per_of_nulls   :  % 2.04\n",
      "num_of_nulls   :  583\n",
      "num_of_uniques :  23242\n",
      "--------------------------------\n",
      "NaN                                                                                                                                                                                                                                                                                                                                                                                                                                                                                                                                                                                                                                                                                                                                                                                                                                                                                                                                                                                                                                                                                                                                                                                                                                                                                                                                                                                                                                                                                                                                                                                                                                                                                                                                                                                                                                                                                                                                                                                                                                                                                                                                                                                                                                                                                                                                                                                                                                                                                                                                                                                                                                                                                                                                                                                                                                                                                                                                                                                                                                                                                                                                                                                                                                                                                                                                                                                                                                                                                                                                                                                                                                                                                                                                                                                                                                                                                                                                                                                                                                                                                                                                                                  583\n",
      "[]                                                                                                                                                                                                                                                                                                                                                                                                                                                                                                                                                                                                                                                                                                                                                                                                                                                                                                                                                                                                                                                                                                                                                                                                                                                                                                                                                                                                                                                                                                                                                                                                                                                                                                                                                                                                                                                                                                                                                                                                                                                                                                                                                                                                                                                                                                                                                                                                                                                                                                                                                                                                                                                                                                                                                                                                                                                                                                                                                                                                                                                                                                                                                                                                                                                                                                                                                                                                                                                                                                                                                                                                                                                                                                                                                                                                                                                                                                                                                                                                                                                                                                                                                                    88\n",
      "[Genaue Angaben zu der Serienausstattung, finden Sie auf unsere Homepage., Gerne nehmen wir Ihr Aktuelles Fahrzeug zurück!, Der Verkäufer übernimmt keine Haftung für Tipp und Datenübermittlungsfehler., Angeführte Ausstattungen sind ggfs. gesondert vor Ort zu prüfen., Alle Angaben in den Inseraten sind unverbindlich und ohne Gewähr.,  , Dacia Jogger TCe 110 Extreme+ 7-Sitzer,  , Sonderausstattung,  , City-Paket,  , - elektrische Parkbremse, - erhöhte Mittelkonsole, - Einparkhilfe vorne und hinten, - Rückfahrkamera, - Toter-Winkel-Warner,  , Sitzheizung für Vordersitze,  , Klimaautomatik,  , Scheiben hinten abgedunkelt,  , 7-Sitzer,  , Serienausstattung,  ,  , Eco LED-Scheinwerfer,  , Reserverad,  , Notbremsassistent,  , ECO-Mode,  , 12V Steckdose,  , Klapptische für zweite Sitzreihe,  , El. Parkbremse,  , Sonnenblenden mit Make-up-Spiegel,  , Beifahrersonnenblende mit Make-up-Spiegel,  , Fahrersitz höhenverstellbar,  , Lenkrad höhen- und längsverstellbar,  , Rücksitzbank 60/40 umklappbar,  , Servolenkung,  , Zentralverriegelung,  , El. Fensterheber vorne und hinten,  , El. Seitenspiegel,  , Schlüssellose Zentralverriegelung,  , Armlehne,  , Lenkrad in Lederoptik mit Multifunktion,  , Dachreling modular,  , Leichtmetallfelgen in schwarz mit Sommerreifen,  , Reifendruck-Kontrolle,  , Dacia Media Nav Multimediasystem,  , DAB-Radio,  , MP3 fähig,  , Bluetooth,  , USB-Anschluss,  , Touchscreen,  , CarPlay,  , Android Auto,  , Sprachsteuerung,  , Navigationssystem,  , Tempomat,  , Freisprecheinrichtung,  , Bordcomputer Check-Control,  , Geschwindigkeitsbegrenzungsanlage, ...]                                                                                                                                                                                                                                                                                                                                                                                                                                                                                                                                                                                                                                                                                                                                                                                                                                                                                                                                                                                                                                                                                                                                                                                                                                                                                                                                                                                                                                                                                                                                                                                                                                                                                                                                                                                                                                                                                                                                                                                                                                                                                                                                                                                                                                                                                                                                                                                                                                                                                                           51\n",
      "[Ref.  4236LFG,            OCASIONPLUS, SÓLO ESTE MES MEJOR PRECIO GARANTIZADO, COMPRA CON TOTAL CONFIANZA - 15 DÍAS O 1000 KMs DE PRUEBA, OCASIONPLUS - Nº1 Calidad/Precio, 5000 COCHES - 50 centros en toda la península , Elige tu coche y te lo llevamos a tu provincia, Hasta 2350€ de descuento en este coche, ADEMÁS HACEMOS FINANCIACIONES A MEDIDA, PREGÚNTANOS!!, Equipamiento destacado: Techo panorámico, Tapicería de piel, Asistente de aparcamiento, Navegador, Encendido automático de faros, Arranque por botón, Start/Stop automático, Control de velocidad, Volante multifunción, Bluetooth, Aire Acondicionado (Climatizador), Control de tracción, Llantas de aleación (18\")., - Garantía total 1 año, con cobertura nacional, ampliable a 24 meses., - Certificado de Kilómetros y ausencia de golpes estructurales., - Sobrevaloramos tu coche en operaciones de cambio. Tásalo ahora en ocasionplus.com, - Entregamos cualquier coche en cualquier centro por 100€, - Abierto Domingo y Festivos.,  , Extras,  ,  , Equipamiento destacado seleccionado por el usuario,  ,  , - Llantas de aleación de 18\", - Techo panorámico, - Navegador, - Start/Stop automático, - Control de velocidad, - Volante multifunción, - Bluetooth, - Control de tracción, - Climatizador, - Llantas de aleación, - Aire Acondicionado, - Tapicería de piel, - Asistente de aparcamiento, - Encendido automático de faros, - Arranque por botón, See more]                                                                                                                                                                                                                                                                                                                                                                                                                                                                                                                                                                                                                                                                                                                                                                                                                                                                                                                                                                                                                                                                                                                                                                                                                                                                                                                                                                                                                                                                                                                                                                                                                                                                                                                                                                                                                                                                                                                                                                                                                                                                                                                                                                                                                                                                                                                                                                                                                                                                                                                                                                                                                                                                                                     34\n",
      "[ , Precio al contado: 15200 euros,  , Ref.  6710KJS,            \"OCASIONPLUS, SÓLO ESTE MES MEJOR PRECIO GARANTIZADO, COMPRA CON TOTAL CONFIANZA - 15 DÍAS O 1000 KMs DE PRUEBA, OCASIONPLUS - Nº1 Calidad/Precio, 5000 COCHES - 50 centros en toda la península , Elige tu coche y te lo llevamos a tu provincia, Hasta 1382€ de descuento en este coche, Precio oferta financiado: 13818€ (202€/mes) financiando la totalidad a un plazo mínimo de 60 meses, Precio al contado: 15200€ ADEMÁS HACEMOS FINANCIACIONES A MEDIDA, PREGÚNTANOS!!\", Equipamiento destacado: Faros traseros led, Bluetooth, Arranque por botón, Aire Acondicionado (Climatizador), Isofix, Llantas de aleación (16\")., - Coche Nacional., - Garantía total 1 año, con cobertura nacional, ampliable a 24 meses., - Certificado de Kilómetros y ausencia de golpes estructurales., - Sobrevaloramos tu coche en operaciones de cambio. Tásalo ahora en ocasionplus.com, - Entregamos cualquier coche en cualquier centro por 100€, - Abierto Domingo y Festivos.,  , Extras,  ,  , Equipamiento destacado seleccionado por el usuario,  ,  , - Bluetooth, - Climatizador, - Llantas de aleación, - Aire Acondicionado, - Llantas de aleación de 16\", - Faros traseros led, - Isofi, x- Arranque por botón,  , Condiciones de la financiación,  , \"OCASIONPLUS, SÓLO ESTE MES MEJOR PRECIO GARANTIZADO, COMPRA CON TOTAL CONFIANZA - 15 DÍAS O 1000 KMs DE PRUEBA, OCASIONPLUS - Nº1 Calidad/Precio, 5000 COCHES - 50 centros en toda la península , Elige tu coche y te lo llevamos a tu provincia, Hasta 1382€ de descuento en este coche, Precio oferta financiado: 13818€ (202€/mes) financiando la totalidad a un plazo mínimo de 60 meses, Precio al contado: 15200€ ADEMÁS HACEMOS FINANCIACIONES A MEDIDA, PREGÚNTANOS!!\", See more]                                                                                                                                                                                                                                                                                                                                                                                                                                                                                                                                                                                                                                                                                                                                                                                                                                                                                                                                                                                                                                                                                                                                                                                                                                                                                                                                                                                                                                                                                                                                                                                                                                                                                                                                                                                                                                                                                                                                                                                                                                                                                                                                                                                                                                                                                                                                               34\n",
      "                                                                                                                                                                                                                                                                                                                                                                                                                                                                                                                                                                                                                                                                                                                                                                                                                                                                                                                                                                                                                                                                                                                                                                                                                                                                                                                                                                                                                                                                                                                                                                                                                                                                                                                                                                                                                                                                                                                                                                                                                                                                                                                                                                                                                                                                                                                                                                                                                                                                                                                                                                                                                                                                                                                                                                                                                                                                                                                                                                                                                                                                                                                                                                                                                                                                                                                                                                                                                                                                                                                                                                                                                                                                                                                                                                                                                                                                                                                                                                                                                                                                                                                                                                    ... \n",
      "[PEUGEOT 3008 BUSINESS 3008 1.6 BlueHDi 120ch S&S EAT6 Active Business]                                                                                                                                                                                                                                                                                                                                                                                                                                                                                                                                                                                                                                                                                                                                                                                                                                                                                                                                                                                                                                                                                                                                                                                                                                                                                                                                                                                                                                                                                                                                                                                                                                                                                                                                                                                                                                                                                                                                                                                                                                                                                                                                                                                                                                                                                                                                                                                                                                                                                                                                                                                                                                                                                                                                                                                                                                                                                                                                                                                                                                                                                                                                                                                                                                                                                                                                                                                                                                                                                                                                                                                                                                                                                                                                                                                                                                                                                                                                                                                                                                                                                                1\n",
      "[ , Precio al contado: 27900 euros,  , Concesionario oficial Peugeot en Valencia con más de 50 Años de experiencia. Vehículo revisado en más de 100 puntos con el programa Spoticar de Peugeot. Posibilidad de financiar hasta 120 meses sin entrada. Garantizado 12 meses ampliable hasta 36 meses. Gestionamos también su seguro de coche a los mejores precios. Vehículo publicado con 3.400-€ de descuento al financiar con nuestra entidad financiera colaboradora una cantidad mínima de 10.000.-€ a 60 meses y entregando coche de más de 10 años., Este anuncio no es contractual y está sujeto a las condiciones de la campaña mensual. Le animamos, a consultar condiciones., EQUIPAMIENTOS:, Asientos de tela (material principal) y de cuero sintético (material secundario), Navegador con datos vía memoria interna/disco duro y pantalla a color de 10,0 \" con información en 3D y con voz, control mediante pantalla táctil y información de tráfico 25,4 y 36, Volante multi-función revestido de cuero ajustable en altura y en profundidad,  , Condiciones de la financiación,  , Consultar condiciones de financiación en este anuncio o contactando con el anunciante, See more]                                                                                                                                                                                                                                                                                                                                                                                                                                                                                                                                                                                                                                                                                                                                                                                                                                                                                                                                                                                                                                                                                                                                                                                                                                                                                                                                                                                                                                                                                                                                                                                                                                                                                                                                                                                                                                                                                                                                                                                                                                                                                                                                                                                                                                                                                                                                                                                                                                                                                                                                                                                                                                                                                                                                                                                                                                                                                                                                                                  1\n",
      "[Concessionaria Burnout che fa parte della Community NON PRENDERMI PER IL CHILOMETRO e da più di 10 anni sul mercato E' LIETA DI PRESENTARVI . Stupenda Peugeot 5008 1.6 hdi 120 cv 7 posti , Vettura tagliandata, garantita ,sanificata e ricondizionamento interni., SCOPRITE I NOSTRI VANTAGGI USATO GARANTITO E RICONDIZIONATO , * POSSIBILITA' PERMUTA USATO CON USATO, * FINANZIAMENTI PERSONALIZZATI. , * POSSIBILITA' DI ESTENDERE LA GARANZIA A 24 / 36 / 48 MESI , Optional:, specchi elettrici , Apple Car play, Cruise control, Completa cronologia tagliandi, vetri elettrici, Sensore pioggia , sensore luci, Unico proprietario, Sensori di parcheggio, E tanto altro ancora, Ci scusiamo per l'inconveniente ma a causa della non uniformità dei dati pubblicati dai diversi portali,vi invitiamo a verificare le caratteristiche dello specifico veicolo , * I nostri Consulenti sono a Sua disposizione tutti i giorni, dal lunedì al sabato, dalle 9.00 alle19 , WhatsApp Messenger  3473007167, See more]                                                                                                                                                                                                                                                                                                                                                                                                                                                                                                                                                                                                                                                                                                                                                                                                                                                                                                                                                                                                                                                                                                                                                                                                                                                                                                                                                                                                                                                                                                                                                                                                                                                                                                                                                                                                                                                                                                                                                                                                                                                                                                                                                                                                                                                                                                                                                                                                                                                                                                                                                                                                                                                                                                                                                                                                                                                                                                                                                                                                                                                                                                                                          1\n",
      "[Equipements supplémentaires : 2 sieges escamotables et extractibles pour les passagers du 3eme rang, Acces et demarrage mains libres, Accoudoir central AV a ouverture papillon, avec compartiment de rangement eclaire et refrigerable, Aide graphique et sonore au stationnement AR, Aide graphique et sonore au stationnement AV, Air conditionne automatique bi-zone avec aerateurs aux places AR, Airbags frontaux conducteur et passager adaptatifs (passager neutralisable par cle), airbags lateraux conducteur et passager AV, airbags rideaux de tete aux places AV et AR, Appuis-tete a securite optimisee reglables en hauteur sur les sieges conducteur et passager AV ainsi que sur les places laterales AR, Avertisseur de temps de conduite, Barres de toit longitudinales profilee en Aluminium, Boite a gants floquee et eclairee, Boitiers de retroviseurs exterieurs dans la couleur de la carrosserie, Calandre avec jonc peripherique et ailettes chromes, Ceintures de securite 3 points a enrouleur (x2) au 3eme rang, Ceintures de securite 3 points a enrouleur (x3) au 2eme rang, avec pretensionneurs et limiteurs d'effort aux places laterales, Ceintures de securite AV 3 points a enrouleur, reglables en hauteur avec pretensionneurs et limiteurs d'effort, Commande de verrouillage a distance (2 plips), Console centrale AV avec 2 porte-gobelets, Controle dynamique de stabilite CDS avec antipatinage electronique ASR, Decors de planche de bord et panneaux de portes en maille 'Brumeo', Decors interieurs (baguettes de planche de bord et panneaux de portes, enjoliveur de console) chromes, Detection de sous-gonflage indirecte, Direction assistee electrique, colonne de direction reglable en hauteur et profondeur (mecanique), Ecran tactile capacitif 8' et 'Toggles Switches', Enjoliveur d'arc de pavillon en inox, Enjoliveur de seuil d'entree de coffre chrome, Enjoliveur en inox sur les protecteurs de bas de portes, Essuie-vitre AR avec enclenchement automatique en marche AR, Essuie-vitre AV avec systeme de lavage 'Magic Wash', Fixations pour 3 sieges enfants suivant norme ISOFIX aux places du 2eme rang, Fonction 'Mirror Screen', Frein de stationnement electrique avec aide au demarrage en pente, Indicateur de rapport conseille, Inserts d'ailes AV chromes, Jantes alliage 18' 'Detroit' bi-ton diamantees, Kit de depannage de pneumatique : compresseur 12 volts, flacon de produit de colmatage, anneau de remorquage, deux cales de roue, manivelle de frein de stationnement electrique, Leve-vitres AR electriques et sequentiels avec antipincement, Leve-vitres AV electriques et sequentiels avec antipincement, Lunette AR chauffante avec antennes serigraphiees, Miroirs de courtoisie eclaires, Nouveau Peugeot i-Cockpit : combine tete haute numerique reconfigurable et volant compact multi-fonctions, Pack City 1, Pack Eclairage d'ambiance, Pack Safety Plus, Pack Visibilite, Passages de roues rapportes noirs, Peugeot Connect, Plafonnier AV avec spots de lecture (x2) et plafonniers a extinction temporisee aux 2eme et 3eme rangs, Poches/filets aumonieres au dos des sieges AV, Poignees de maintien (x4) retractables avec frein (crochets pour cintres aux places AR), Poignees de portes couleur carrosserie, Prise 12V (x3 : zone connectique, AR de console et coffre), Prise USB (dans la zone connectique), Projecteurs antibrouillard halogenes, Projecteurs halogenes a l'AV avec feux diurnes a LED, Radio 6 HP, bi-tuner compatible MP3 et connectivite Bluetooth (audio streaming, kit mains libres), avec commandes au volant, ecran tactile capacitif 8', Reconnaissance des panneaux de vitesse et preconisation de vitesse, Regulateur / Limiteur de vitesse, Retroviseurs exterieurs electriques degivrants, Retroviseurs exterieurs rabattables electriquement avec eclairage d'accueil a LED, Retroviseurs indexes a la marche AR, Rideaux pare-soleil (x2) pour les passagers du 2eme rang, Sabots de pare-chocs AV gris metallise, Securite enfants electrique des vitres AR, Sellerie TEP & Tissu 'Evron', Sieg, See more]      1\n",
      "[YOUNGTIMER !, Bedrijfsinformatie, NEEM VOOR U WILT KOMEN KIJKEN NAAR EEN AUTO TELEFONISCH CONTACT MET ONS OP 0162-313775 (optie 2) U BENT VAN HARTE WELKOM VOOR PROEFRIT! DINSDAG ALLEEN OP AFSPRAAK! , Overige informatie: Inruil, financiering, garantie of nieuwe apk zijn bespreekbaar. Inruil van uw auto, bus, bestelwagen,vrachtwagen , camper, caravan, boot, graafmachines tractoren of andere industriële equipment is mogelijk! Overdekte showroom 2500 M2 met 100 occasions op voorraad! Ons adres is Lage Ham 106 in Dongen. Openingstijden: Maandag: 9:00-18.00 Dinsdag: ALLEEN OP AFSPRAAK  woensdag t/m vrijdag: 09.00 t/m 18.00 zaterdag 09.00 t/m 14.00. Wij zijn bereikbaar op 0162-313 775 Verdere informatie: WWW.FOCD.NL. Voor informatie over afwijkende openingstijden wat betreft feestdagen kunt u terecht op onze home pagina van WWW.FOCD.NL, Meer informatie, Algemene informatie, Modeljaar: , 2001, Prestaties, Acceleratie (0-100): , 8,9 s, Topsnelheid: , 225 km/u, Maten, Afmetingen (LxBxH): , 482 x 183 x 145 cm, Wielbasis: , 279 cm, Gewichten, Laadvermogen: , 517 kg, GVW: , 2.090 kg, Max. trekgewicht: , 1.800 kg,  (ongeremd 500 kg), Financiële informatie, BTW/marge: , BTW niet verrekenbaar voor ondernemers (margeregeling), Motorrijtuigenbelasting: , € 230 - € 261,  per kwartaal, Aanvullende opties en accessoires, Exterieur, Metaalkleur vernis of parelmoerlak, Buitenspiegels elektrisch verstel- en verwarmbaar, Buitenspiegels in carrosseriekleur, Elektronische remkrachtverdeling, koplampreiniging, Trekhaak afneembaar, Infotainment, Navigatiesysteem en autotelefoon, Interieur, Achterbank verwarmd, Armsteun achter, Armsteun voor, Elektrische ramen voor en achter, Elektrisch rolgordijn voor achterruit, Elektrisch verstelbare bestuurdersstoel, Hoofdsteunen voor en achter, Houtafwerking interieur, Lendesteunen (verstelbaar), Stuur verstelbaar, Voorstoelen in hoogte verstelbaar, Voorstoelen verwarmd, Veiligheid, Airbag(s) hoofd voor, Alarm klasse 1(startblokkering), Alarm klasse 3, Side Impact Protection System, See more]                                                                                                                                                                                                                                                                                                                                                                                                                                                                                                                                                                                                                                                                                                                                                                                                                                                                                                                                                                                                                                                                                                                                                                                                                                                                                                                                                                                                                                                                                                                                                                                                                                                                                                                                                                                                                                                                                                                                                                                                                                                  1\n",
      "Name: Desc, Length: 23242, dtype: int64\n"
     ]
    }
   ],
   "source": [
    "first_looking(\"Desc\")"
   ]
  },
  {
   "cell_type": "code",
   "execution_count": 237,
   "id": "8dbe4079",
   "metadata": {},
   "outputs": [],
   "source": [
    "df.drop('Desc', axis = 1, inplace=True )"
   ]
  },
  {
   "cell_type": "markdown",
   "id": "c11ba9ac",
   "metadata": {},
   "source": [
    "### Seller"
   ]
  },
  {
   "cell_type": "code",
   "execution_count": 142,
   "id": "2232f34a",
   "metadata": {},
   "outputs": [
    {
     "name": "stdout",
     "output_type": "stream",
     "text": [
      "column name    :  Seller\n",
      "--------------------------------\n",
      "per_of_nulls   :  % 0.0\n",
      "num_of_nulls   :  0\n",
      "num_of_uniques :  2\n",
      "--------------------------------\n",
      "Dealer            26318\n",
      "Private seller     2312\n",
      "Name: Seller, dtype: int64\n"
     ]
    }
   ],
   "source": [
    "first_looking(\"Seller\")"
   ]
  },
  {
   "cell_type": "markdown",
   "id": "8740e498",
   "metadata": {},
   "source": [
    "### Seats"
   ]
  },
  {
   "cell_type": "code",
   "execution_count": 143,
   "id": "52ceb516",
   "metadata": {},
   "outputs": [
    {
     "name": "stdout",
     "output_type": "stream",
     "text": [
      "column name    :  Seats\n",
      "--------------------------------\n",
      "per_of_nulls   :  % 10.92\n",
      "num_of_nulls   :  3125\n",
      "num_of_uniques :  12\n",
      "--------------------------------\n",
      "[\\n, 5, \\n]     18308\n",
      "[\\n, 4, \\n]      5390\n",
      "NaN              3125\n",
      "[\\n, 2, \\n]      1186\n",
      "[\\n, 7, \\n]       488\n",
      "[\\n, 8, \\n]        43\n",
      "[\\n, 9, \\n]        35\n",
      "[\\n, 3, \\n]        25\n",
      "[\\n, 6, \\n]        12\n",
      "[\\n, 0, \\n]         9\n",
      "[\\n, 1, \\n]         7\n",
      "[\\n, 17, \\n]        2\n",
      "Name: Seats, dtype: int64\n"
     ]
    }
   ],
   "source": [
    "first_looking(\"Seats\")"
   ]
  },
  {
   "cell_type": "code",
   "execution_count": 144,
   "id": "0c89121b",
   "metadata": {},
   "outputs": [
    {
     "data": {
      "text/plain": [
       "0              NaN\n",
       "1        \\n, 5, \\n\n",
       "2        \\n, 5, \\n\n",
       "3        \\n, 5, \\n\n",
       "4        \\n, 5, \\n\n",
       "           ...    \n",
       "29474    \\n, 4, \\n\n",
       "29475    \\n, 5, \\n\n",
       "29476    \\n, 4, \\n\n",
       "29477    \\n, 5, \\n\n",
       "29478    \\n, 5, \\n\n",
       "Name: Seats, Length: 28630, dtype: object"
      ]
     },
     "execution_count": 144,
     "metadata": {},
     "output_type": "execute_result"
    }
   ],
   "source": [
    "df['Seats'] = [i[0] if type(i) == list else i for i in df['Seats']]\n",
    "df['Seats']"
   ]
  },
  {
   "cell_type": "code",
   "execution_count": 145,
   "id": "62bf1086",
   "metadata": {},
   "outputs": [
    {
     "data": {
      "text/plain": [
       "0        NaN\n",
       "1        5.0\n",
       "2        5.0\n",
       "3        5.0\n",
       "4        5.0\n",
       "        ... \n",
       "29474    4.0\n",
       "29475    5.0\n",
       "29476    4.0\n",
       "29477    5.0\n",
       "29478    5.0\n",
       "Name: Seats, Length: 28630, dtype: float64"
      ]
     },
     "execution_count": 145,
     "metadata": {},
     "output_type": "execute_result"
    }
   ],
   "source": [
    "df['Seats'] = df['Seats'].str.strip(\"\\n ,\").astype('float')\n",
    "df['Seats']"
   ]
  },
  {
   "cell_type": "code",
   "execution_count": 146,
   "id": "636c1330",
   "metadata": {},
   "outputs": [
    {
     "data": {
      "text/plain": [
       "5.0     18308\n",
       "4.0      5390\n",
       "NaN      3125\n",
       "2.0      1186\n",
       "7.0       488\n",
       "8.0        43\n",
       "9.0        35\n",
       "3.0        25\n",
       "6.0        12\n",
       "0.0         9\n",
       "1.0         7\n",
       "17.0        2\n",
       "Name: Seats, dtype: int64"
      ]
     },
     "execution_count": 146,
     "metadata": {},
     "output_type": "execute_result"
    }
   ],
   "source": [
    "df['Seats'].value_counts(dropna=False)"
   ]
  },
  {
   "cell_type": "markdown",
   "id": "043ba345",
   "metadata": {
    "tags": []
   },
   "source": [
    "### Engine_Size"
   ]
  },
  {
   "cell_type": "code",
   "execution_count": null,
   "id": "bf215137-cdb1-4e5e-82ff-4c78784b5fea",
   "metadata": {},
   "outputs": [],
   "source": [
    "# Many cars will have more equipment standard with the larger engine, \n",
    "# equipment that would be chargeable extras when the car is ordered with a smaller engine.\n",
    "# The cost of this equipment is added to the base price of the car."
   ]
  },
  {
   "cell_type": "code",
   "execution_count": 147,
   "id": "2cd484bf",
   "metadata": {
    "tags": []
   },
   "outputs": [
    {
     "name": "stdout",
     "output_type": "stream",
     "text": [
      "column name    :  Engine_Size\n",
      "--------------------------------\n",
      "per_of_nulls   :  % 4.9\n",
      "num_of_nulls   :  1403\n",
      "num_of_uniques :  468\n",
      "--------------------------------\n",
      "[\\n1,598 cc\\n]    2099\n",
      "[\\n999 cc\\n]      2068\n",
      "[\\n1,969 cc\\n]    1929\n",
      "NaN               1403\n",
      "[\\n1,461 cc\\n]    1110\n",
      "                  ... \n",
      "[\\n2,753 cc\\n]       1\n",
      "[\\n2,495 cc\\n]       1\n",
      "[\\n200 cc\\n]         1\n",
      "[\\n3,224 cc\\n]       1\n",
      "[\\n2,473 cc\\n]       1\n",
      "Name: Engine_Size, Length: 468, dtype: int64\n"
     ]
    }
   ],
   "source": [
    "first_looking(\"Engine_Size\")"
   ]
  },
  {
   "cell_type": "code",
   "execution_count": 148,
   "id": "06b520cb-1f6a-4984-b791-e54ca433f290",
   "metadata": {},
   "outputs": [
    {
     "data": {
      "text/plain": [
       "0           NaN\n",
       "1           1.0\n",
       "2        1991.0\n",
       "3        1991.0\n",
       "4        2143.0\n",
       "          ...  \n",
       "29474    1969.0\n",
       "29475    2435.0\n",
       "29476    1560.0\n",
       "29477    1969.0\n",
       "29478    2922.0\n",
       "Name: Engine_Size, Length: 28630, dtype: float64"
      ]
     },
     "execution_count": 148,
     "metadata": {},
     "output_type": "execute_result"
    }
   ],
   "source": [
    "df['Engine_Size'] = df['Engine_Size'].astype(str).str.strip(\"['\\\\n, cc\\\\n']\").replace({\"a\", np.nan})\n",
    "df['Engine_Size'] = df['Engine_Size'].str.replace(',', '').str.extract('(\\d+)').astype(\"float\")\n",
    "df['Engine_Size']"
   ]
  },
  {
   "cell_type": "code",
   "execution_count": 149,
   "id": "6693d948",
   "metadata": {},
   "outputs": [
    {
     "data": {
      "text/plain": [
       "1598.0    2099\n",
       "999.0     2068\n",
       "1969.0    1929\n",
       "NaN       1403\n",
       "1461.0    1110\n",
       "          ... \n",
       "2753.0       1\n",
       "2495.0       1\n",
       "200.0        1\n",
       "3224.0       1\n",
       "2473.0       1\n",
       "Name: Engine_Size, Length: 468, dtype: int64"
      ]
     },
     "execution_count": 149,
     "metadata": {},
     "output_type": "execute_result"
    }
   ],
   "source": [
    "df.Engine_Size.value_counts(dropna=False)"
   ]
  },
  {
   "cell_type": "markdown",
   "id": "265d416d",
   "metadata": {},
   "source": [
    "### Gears"
   ]
  },
  {
   "cell_type": "code",
   "execution_count": 150,
   "id": "8e013220",
   "metadata": {},
   "outputs": [
    {
     "name": "stdout",
     "output_type": "stream",
     "text": [
      "column name    :  Gears\n",
      "--------------------------------\n",
      "per_of_nulls   :  % 33.8\n",
      "num_of_nulls   :  9676\n",
      "num_of_uniques :  12\n",
      "--------------------------------\n",
      "NaN         9676\n",
      "[\\n6\\n]     8412\n",
      "[\\n5\\n]     5335\n",
      "[\\n7\\n]     1738\n",
      "[\\n8\\n]     1690\n",
      "[\\n1\\n]      712\n",
      "[\\n9\\n]      642\n",
      "[\\n4\\n]      256\n",
      "[\\n10\\n]     112\n",
      "[\\n0\\n]       31\n",
      "[\\n3\\n]       24\n",
      "[\\n2\\n]        2\n",
      "Name: Gears, dtype: int64\n"
     ]
    }
   ],
   "source": [
    "first_looking(\"Gears\")"
   ]
  },
  {
   "cell_type": "code",
   "execution_count": 151,
   "id": "7ca0ab51",
   "metadata": {},
   "outputs": [],
   "source": [
    "df['Gears'] = [i[0] if type(i) == list else i for i in df['Gears']]"
   ]
  },
  {
   "cell_type": "code",
   "execution_count": 152,
   "id": "3686beac",
   "metadata": {},
   "outputs": [
    {
     "data": {
      "text/plain": [
       "0        NaN\n",
       "1        9.0\n",
       "2        8.0\n",
       "3        7.0\n",
       "4        7.0\n",
       "        ... \n",
       "29474    8.0\n",
       "29475    5.0\n",
       "29476    6.0\n",
       "29477    8.0\n",
       "29478    NaN\n",
       "Name: Gears, Length: 28630, dtype: float64"
      ]
     },
     "execution_count": 152,
     "metadata": {},
     "output_type": "execute_result"
    }
   ],
   "source": [
    "df['Gears'] = df['Gears'].str.strip(\"\\n\").astype('float')\n",
    "df['Gears']"
   ]
  },
  {
   "cell_type": "code",
   "execution_count": 153,
   "id": "13250b65",
   "metadata": {},
   "outputs": [
    {
     "data": {
      "text/plain": [
       "NaN     9676\n",
       "6.0     8412\n",
       "5.0     5335\n",
       "7.0     1738\n",
       "8.0     1690\n",
       "1.0      712\n",
       "9.0      642\n",
       "4.0      256\n",
       "10.0     112\n",
       "0.0       31\n",
       "3.0       24\n",
       "2.0        2\n",
       "Name: Gears, dtype: int64"
      ]
     },
     "execution_count": 153,
     "metadata": {},
     "output_type": "execute_result"
    }
   ],
   "source": [
    "df.Gears.value_counts(dropna=False)"
   ]
  },
  {
   "cell_type": "markdown",
   "id": "9d2727f0",
   "metadata": {},
   "source": [
    "### CO2_Emissions"
   ]
  },
  {
   "cell_type": "code",
   "execution_count": 154,
   "id": "1d8a536c",
   "metadata": {},
   "outputs": [
    {
     "name": "stdout",
     "output_type": "stream",
     "text": [
      "column name    :  CO2_Emissions\n",
      "--------------------------------\n",
      "per_of_nulls   :  % 35.05\n",
      "num_of_nulls   :  10036\n",
      "num_of_uniques :  348\n",
      "--------------------------------\n",
      "NaN                  10036\n",
      "0 g/km (comb.)        1038\n",
      "119 g/km (comb.)       393\n",
      "124 g/km (comb.)       340\n",
      "129 g/km (comb.)       319\n",
      "                     ...  \n",
      "7 g/km (comb.)           1\n",
      "80 g/km (comb.)          1\n",
      "196  g/km (comb.)        1\n",
      "100  g/km (comb.)        1\n",
      "53 g/km (comb.)          1\n",
      "Name: CO2_Emissions, Length: 348, dtype: int64\n"
     ]
    }
   ],
   "source": [
    "first_looking(\"CO2_Emissions\")"
   ]
  },
  {
   "cell_type": "code",
   "execution_count": 157,
   "id": "94f893bf",
   "metadata": {},
   "outputs": [
    {
     "data": {
      "text/plain": [
       "0          NaN\n",
       "1          0.0\n",
       "2          NaN\n",
       "3          NaN\n",
       "4          NaN\n",
       "         ...  \n",
       "29474      NaN\n",
       "29475    217.0\n",
       "29476     99.0\n",
       "29477    149.0\n",
       "29478    251.0\n",
       "Name: CO2_Emissions, Length: 28630, dtype: float64"
      ]
     },
     "execution_count": 157,
     "metadata": {},
     "output_type": "execute_result"
    }
   ],
   "source": [
    "df[\"CO2_Emissions\"] = df[\"CO2_Emissions\"].astype(str).str.extract('(\\d+)').astype(\"float\")\n",
    "df[\"CO2_Emissions\"]"
   ]
  },
  {
   "cell_type": "code",
   "execution_count": 158,
   "id": "f17a850b",
   "metadata": {},
   "outputs": [
    {
     "data": {
      "text/plain": [
       "NaN       10036\n",
       "0.0        1040\n",
       "119.0       393\n",
       "124.0       340\n",
       "129.0       319\n",
       "          ...  \n",
       "3.0           1\n",
       "1320.0        1\n",
       "343.0         1\n",
       "73.0          1\n",
       "53.0          1\n",
       "Name: CO2_Emissions, Length: 334, dtype: int64"
      ]
     },
     "execution_count": 158,
     "metadata": {},
     "output_type": "execute_result"
    }
   ],
   "source": [
    "df[\"CO2_Emissions\"].value_counts(dropna=False)"
   ]
  },
  {
   "cell_type": "markdown",
   "id": "36397359",
   "metadata": {
    "tags": []
   },
   "source": [
    "### Drivetrain"
   ]
  },
  {
   "cell_type": "code",
   "execution_count": null,
   "id": "c3b7c3f3-0519-45e8-97a3-b044ad0e9274",
   "metadata": {},
   "outputs": [],
   "source": [
    "# An Automotive Drivetrain is a combination of various components that provide power to the vehicle's wheel.\n",
    "# It is made up of a driveshaft, transmission or gearbox, universal joints, constant velocity joints, wheels,\n",
    "# and axles. It allows the driver to control the power flow and multiplies the engine torque for \n",
    "# controlling the engine speed.Nowadays, demand for automotive powertrains has increased, \n",
    "# which is lightweight and thus helps increase fuel efficiency, reduce emissions and improve vehicle performance."
   ]
  },
  {
   "cell_type": "code",
   "execution_count": 159,
   "id": "5a5b2bb9",
   "metadata": {},
   "outputs": [
    {
     "name": "stdout",
     "output_type": "stream",
     "text": [
      "column name    :  Drivetrain\n",
      "--------------------------------\n",
      "per_of_nulls   :  % 41.0\n",
      "num_of_nulls   :  11737\n",
      "num_of_uniques :  4\n",
      "--------------------------------\n",
      "[\\n, Front, \\n]    12066\n",
      "NaN                11737\n",
      "[\\n, 4WD, \\n]       3252\n",
      "[\\n, Rear, \\n]      1575\n",
      "Name: Drivetrain, dtype: int64\n"
     ]
    }
   ],
   "source": [
    "first_looking(\"Drivetrain\")"
   ]
  },
  {
   "cell_type": "code",
   "execution_count": 161,
   "id": "e598571a-3df5-46f4-8cac-07e618c7c97e",
   "metadata": {},
   "outputs": [
    {
     "data": {
      "text/plain": [
       "0          NaN\n",
       "1          NaN\n",
       "2          4WD\n",
       "3          4WD\n",
       "4          4WD\n",
       "         ...  \n",
       "29474      4WD\n",
       "29475    Front\n",
       "29476    Front\n",
       "29477      NaN\n",
       "29478    Front\n",
       "Name: Drivetrain, Length: 28630, dtype: object"
      ]
     },
     "execution_count": 161,
     "metadata": {},
     "output_type": "execute_result"
    }
   ],
   "source": [
    "df[\"Drivetrain\"] = df[\"Drivetrain\"].explode().str.strip(\"\\n, \")\n",
    "df[\"Drivetrain\"]"
   ]
  },
  {
   "cell_type": "code",
   "execution_count": 162,
   "id": "cac8ad58",
   "metadata": {},
   "outputs": [
    {
     "data": {
      "text/plain": [
       "Front    12066\n",
       "NaN      11737\n",
       "4WD       3252\n",
       "Rear      1575\n",
       "Name: Drivetrain, dtype: int64"
      ]
     },
     "execution_count": 162,
     "metadata": {},
     "output_type": "execute_result"
    }
   ],
   "source": [
    "df[\"Drivetrain\"].value_counts(dropna = False)"
   ]
  },
  {
   "cell_type": "markdown",
   "id": "d678c614",
   "metadata": {},
   "source": [
    "### Cylinders"
   ]
  },
  {
   "cell_type": "markdown",
   "id": "ae1a890d",
   "metadata": {},
   "source": [
    "**The cylinder is an important part of the engine. generates the power of the reciprocating motion of the engine. Most cars have a 4, 6, 8 cylinder engine**"
   ]
  },
  {
   "cell_type": "code",
   "execution_count": 163,
   "id": "36e2050e",
   "metadata": {},
   "outputs": [
    {
     "name": "stdout",
     "output_type": "stream",
     "text": [
      "column name    :  Cylinders\n",
      "--------------------------------\n",
      "per_of_nulls   :  % 34.15\n",
      "num_of_nulls   :  9778\n",
      "num_of_uniques :  13\n",
      "--------------------------------\n",
      "[\\n4\\n]     13068\n",
      "NaN          9778\n",
      "[\\n3\\n]      3258\n",
      "[\\n6\\n]      1013\n",
      "[\\n5\\n]       799\n",
      "[\\n8\\n]       539\n",
      "[\\n2\\n]       103\n",
      "[\\n0\\n]        35\n",
      "[\\n1\\n]        21\n",
      "[\\n12\\n]        8\n",
      "[\\n7\\n]         6\n",
      "[\\n26\\n]        1\n",
      "[\\n16\\n]        1\n",
      "Name: Cylinders, dtype: int64\n"
     ]
    }
   ],
   "source": [
    "first_looking(\"Cylinders\")"
   ]
  },
  {
   "cell_type": "code",
   "execution_count": 164,
   "id": "03c9fc88",
   "metadata": {},
   "outputs": [
    {
     "data": {
      "text/plain": [
       "0        NaN\n",
       "1        NaN\n",
       "2        4.0\n",
       "3        4.0\n",
       "4        4.0\n",
       "        ... \n",
       "29474    4.0\n",
       "29475    5.0\n",
       "29476    4.0\n",
       "29477    4.0\n",
       "29478    6.0\n",
       "Name: Cylinders, Length: 28630, dtype: float64"
      ]
     },
     "execution_count": 164,
     "metadata": {},
     "output_type": "execute_result"
    }
   ],
   "source": [
    "df[\"Cylinders\"] = df[\"Cylinders\"].astype(str).str.extract('(\\d+)').astype(\"float\")\n",
    "df[\"Cylinders\"]"
   ]
  },
  {
   "cell_type": "code",
   "execution_count": 165,
   "id": "763a84d7",
   "metadata": {},
   "outputs": [
    {
     "data": {
      "text/plain": [
       "4.0     13068\n",
       "NaN      9778\n",
       "3.0      3258\n",
       "6.0      1013\n",
       "5.0       799\n",
       "8.0       539\n",
       "2.0       103\n",
       "0.0        35\n",
       "1.0        21\n",
       "12.0        8\n",
       "7.0         6\n",
       "26.0        1\n",
       "16.0        1\n",
       "Name: Cylinders, dtype: int64"
      ]
     },
     "execution_count": 165,
     "metadata": {},
     "output_type": "execute_result"
    }
   ],
   "source": [
    "df[\"Cylinders\"].value_counts(dropna=False)  "
   ]
  },
  {
   "cell_type": "markdown",
   "id": "c0b7110c",
   "metadata": {},
   "source": [
    "### Fuel_Consumption"
   ]
  },
  {
   "cell_type": "code",
   "execution_count": null,
   "id": "50f730c0-7c5a-42ab-a9c2-57453fab1177",
   "metadata": {},
   "outputs": [],
   "source": [
    "# Another key factor is fuel economy. Efficient vehicles tend to hold their value better when gas prices are high,\n",
    "# while less efficient vehicles (which typically have more cargo space and higher safety ratings) \n",
    "# do better when gas is cheap."
   ]
  },
  {
   "cell_type": "code",
   "execution_count": 166,
   "id": "19253d2c",
   "metadata": {},
   "outputs": [
    {
     "name": "stdout",
     "output_type": "stream",
     "text": [
      "column name    :  Fuel_Consumption\n",
      "--------------------------------\n",
      "per_of_nulls   :  % 18.32\n",
      "num_of_nulls   :  5245\n",
      "num_of_uniques :  3453\n",
      "--------------------------------\n",
      "NaN                                                                            5245\n",
      "[[0 l/100 km (comb.)]]                                                          330\n",
      "[[0 l/100 km (comb.)], [0 l/100 km (city)], [0 l/100 km (country)]]             306\n",
      "[[3.4 l/100 km (comb.)], [3.7 l/100 km (city)], [3.2 l/100 km (country)]]       170\n",
      "[[4 l/100 km (comb.)]]                                                          149\n",
      "                                                                               ... \n",
      "[[14.2 l/100 km (comb.)], [21.3 l/100 km (city)], [10 l/100 km (country)]]        1\n",
      "[[3.5 l/100 km (comb.)], [4.4 l/100 km (city)], [2.9 l/100 km (country)]]         1\n",
      "[[4.5 l/100 km (comb.)], [6.2 l/100 km (city)], [3.5 l/100 km (country)]]         1\n",
      "[[4.9 l/100 km (comb.)], [99.9 l/100 km (city)], [98 l/100 km (country)]]         1\n",
      "[[10.4 l/100 km (comb.)], [15.3 l/100 km (city)], [7.6 l/100 km (country)]]       1\n",
      "Name: Fuel_Consumption, Length: 3453, dtype: int64\n"
     ]
    }
   ],
   "source": [
    "first_looking(\"Fuel_Consumption\")"
   ]
  },
  {
   "cell_type": "code",
   "execution_count": 168,
   "id": "ab47ee71",
   "metadata": {},
   "outputs": [],
   "source": [
    "comb = []\n",
    "city = []\n",
    "country = []\n",
    "for i in df['Fuel_Consumption'] :\n",
    "    if type(i) == list :\n",
    "            if len(i) == 3 :\n",
    "                comb.append(i[0])\n",
    "                city.append(i[1])\n",
    "                country.append(i[2])\n",
    "            if len(i) == 2 :\n",
    "                comb.append(i[0])\n",
    "                city.append(i[1])\n",
    "                country.append(np.nan)\n",
    "            if len(i) == 1 :\n",
    "                comb.append(i[0])\n",
    "                city.append(np.nan)\n",
    "                country.append(np.nan)\n",
    "    else :\n",
    "        comb.append(i)\n",
    "        city.append(i)\n",
    "        country.append(i)"
   ]
  },
  {
   "cell_type": "code",
   "execution_count": 169,
   "id": "6013c745",
   "metadata": {},
   "outputs": [],
   "source": [
    "df['Fuel_Consumption_comb'] = pd.DataFrame(comb)\n",
    "df['Fuel_Consumption_city'] = pd.DataFrame(city)\n",
    "df['Fuel_Consumption_country'] = pd.DataFrame(country)"
   ]
  },
  {
   "cell_type": "code",
   "execution_count": 170,
   "id": "29ed3766",
   "metadata": {},
   "outputs": [
    {
     "data": {
      "text/html": [
       "<div>\n",
       "<style scoped>\n",
       "    .dataframe tbody tr th:only-of-type {\n",
       "        vertical-align: middle;\n",
       "    }\n",
       "\n",
       "    .dataframe tbody tr th {\n",
       "        vertical-align: top;\n",
       "    }\n",
       "\n",
       "    .dataframe thead th {\n",
       "        text-align: right;\n",
       "    }\n",
       "</style>\n",
       "<table border=\"1\" class=\"dataframe\">\n",
       "  <thead>\n",
       "    <tr style=\"text-align: right;\">\n",
       "      <th></th>\n",
       "      <th>Fuel_Consumption</th>\n",
       "      <th>Fuel_Consumption_comb</th>\n",
       "      <th>Fuel_Consumption_city</th>\n",
       "      <th>Fuel_Consumption_country</th>\n",
       "    </tr>\n",
       "  </thead>\n",
       "  <tbody>\n",
       "    <tr>\n",
       "      <th>16634</th>\n",
       "      <td>[[5.1 l/100 km (comb.)], [6.1 l/100 km (city)]...</td>\n",
       "      <td>NaN</td>\n",
       "      <td>NaN</td>\n",
       "      <td>NaN</td>\n",
       "    </tr>\n",
       "    <tr>\n",
       "      <th>25505</th>\n",
       "      <td>NaN</td>\n",
       "      <td>[4.5 l/100 km (comb.)]</td>\n",
       "      <td>[5.2 l/100 km (city)]</td>\n",
       "      <td>[4 l/100 km (country)]</td>\n",
       "    </tr>\n",
       "    <tr>\n",
       "      <th>13359</th>\n",
       "      <td>[[4.7 l/100 km (comb.)], [5.8 l/100 km (city)]...</td>\n",
       "      <td>[4.9 l/100 km (comb.)]</td>\n",
       "      <td>[6.1 l/100 km (city)]</td>\n",
       "      <td>[4.2 l/100 km (country)]</td>\n",
       "    </tr>\n",
       "    <tr>\n",
       "      <th>28545</th>\n",
       "      <td>[[4.5 l/100 km (comb.)], [5.2 l/100 km (city)]...</td>\n",
       "      <td>[5.8 kg/100 km (comb.)]</td>\n",
       "      <td>[8 kg/100 km (city)]</td>\n",
       "      <td>[4.5 kg/100 km (country)]</td>\n",
       "    </tr>\n",
       "    <tr>\n",
       "      <th>3438</th>\n",
       "      <td>[[5.7 l/100 km (comb.)], [10.4 l/100 km (city)...</td>\n",
       "      <td>[4.8 l/100 km (comb.)]</td>\n",
       "      <td>[5.7 l/100 km (city)]</td>\n",
       "      <td>[4.3 l/100 km (country)]</td>\n",
       "    </tr>\n",
       "    <tr>\n",
       "      <th>4388</th>\n",
       "      <td>[[3.5 l/100 km (comb.)], [4.1 l/100 km (city)]...</td>\n",
       "      <td>NaN</td>\n",
       "      <td>NaN</td>\n",
       "      <td>NaN</td>\n",
       "    </tr>\n",
       "    <tr>\n",
       "      <th>25615</th>\n",
       "      <td>NaN</td>\n",
       "      <td>[3.8 l/100 km (comb.)]</td>\n",
       "      <td>[4.2 l/100 km (city)]</td>\n",
       "      <td>[3.6 l/100 km (country)]</td>\n",
       "    </tr>\n",
       "    <tr>\n",
       "      <th>4767</th>\n",
       "      <td>[[4.3 l/100 km (comb.)], [5.3 l/100 km (city)]...</td>\n",
       "      <td>NaN</td>\n",
       "      <td>NaN</td>\n",
       "      <td>NaN</td>\n",
       "    </tr>\n",
       "    <tr>\n",
       "      <th>4404</th>\n",
       "      <td>NaN</td>\n",
       "      <td>[6.3 l/100 km (comb.)]</td>\n",
       "      <td>[8 l/100 km (city)]</td>\n",
       "      <td>[5.3 l/100 km (country)]</td>\n",
       "    </tr>\n",
       "    <tr>\n",
       "      <th>21778</th>\n",
       "      <td>[[12.5 l/100 km (comb.)], [18.9 l/100 km (city...</td>\n",
       "      <td>NaN</td>\n",
       "      <td>NaN</td>\n",
       "      <td>NaN</td>\n",
       "    </tr>\n",
       "  </tbody>\n",
       "</table>\n",
       "</div>"
      ],
      "text/plain": [
       "                                        Fuel_Consumption  \\\n",
       "16634  [[5.1 l/100 km (comb.)], [6.1 l/100 km (city)]...   \n",
       "25505                                                NaN   \n",
       "13359  [[4.7 l/100 km (comb.)], [5.8 l/100 km (city)]...   \n",
       "28545  [[4.5 l/100 km (comb.)], [5.2 l/100 km (city)]...   \n",
       "3438   [[5.7 l/100 km (comb.)], [10.4 l/100 km (city)...   \n",
       "4388   [[3.5 l/100 km (comb.)], [4.1 l/100 km (city)]...   \n",
       "25615                                                NaN   \n",
       "4767   [[4.3 l/100 km (comb.)], [5.3 l/100 km (city)]...   \n",
       "4404                                                 NaN   \n",
       "21778  [[12.5 l/100 km (comb.)], [18.9 l/100 km (city...   \n",
       "\n",
       "         Fuel_Consumption_comb  Fuel_Consumption_city  \\\n",
       "16634                      NaN                    NaN   \n",
       "25505   [4.5 l/100 km (comb.)]  [5.2 l/100 km (city)]   \n",
       "13359   [4.9 l/100 km (comb.)]  [6.1 l/100 km (city)]   \n",
       "28545  [5.8 kg/100 km (comb.)]   [8 kg/100 km (city)]   \n",
       "3438    [4.8 l/100 km (comb.)]  [5.7 l/100 km (city)]   \n",
       "4388                       NaN                    NaN   \n",
       "25615   [3.8 l/100 km (comb.)]  [4.2 l/100 km (city)]   \n",
       "4767                       NaN                    NaN   \n",
       "4404    [6.3 l/100 km (comb.)]    [8 l/100 km (city)]   \n",
       "21778                      NaN                    NaN   \n",
       "\n",
       "        Fuel_Consumption_country  \n",
       "16634                        NaN  \n",
       "25505     [4 l/100 km (country)]  \n",
       "13359   [4.2 l/100 km (country)]  \n",
       "28545  [4.5 kg/100 km (country)]  \n",
       "3438    [4.3 l/100 km (country)]  \n",
       "4388                         NaN  \n",
       "25615   [3.6 l/100 km (country)]  \n",
       "4767                         NaN  \n",
       "4404    [5.3 l/100 km (country)]  \n",
       "21778                        NaN  "
      ]
     },
     "execution_count": 170,
     "metadata": {},
     "output_type": "execute_result"
    }
   ],
   "source": [
    "df[['Fuel_Consumption', 'Fuel_Consumption_comb','Fuel_Consumption_city', 'Fuel_Consumption_country' ]].sample(10)"
   ]
  },
  {
   "cell_type": "code",
   "execution_count": 171,
   "id": "ce467d96",
   "metadata": {},
   "outputs": [],
   "source": [
    "df['Fuel_Consumption_comb'] = [i[0] if type(i) == list else i for i in df['Fuel_Consumption_comb']]\n",
    "df['Fuel_Consumption_city'] = [i[0] if type(i) == list else i for i in df['Fuel_Consumption_city']]\n",
    "df['Fuel_Consumption_country'] = [i[0] if type(i) == list else i for i in df['Fuel_Consumption_country']]"
   ]
  },
  {
   "cell_type": "code",
   "execution_count": 172,
   "id": "8655a80f",
   "metadata": {},
   "outputs": [],
   "source": [
    "df['Fuel_Consumption_comb'] = df['Fuel_Consumption_comb'].str.extract('(\\d{1,2}.\\d|\\d{1,3})').astype('float')\n",
    "df['Fuel_Consumption_city'] = df['Fuel_Consumption_city'].str.extract('(\\d{1,2}.\\d|\\d{1,3})').astype('float')\n",
    "df['Fuel_Consumption_country'] = df['Fuel_Consumption_country'].str.extract('(\\d{1,2}.\\d|\\d{1,3})').astype('float')"
   ]
  },
  {
   "cell_type": "code",
   "execution_count": 173,
   "id": "81b80d39",
   "metadata": {},
   "outputs": [
    {
     "data": {
      "text/html": [
       "<div>\n",
       "<style scoped>\n",
       "    .dataframe tbody tr th:only-of-type {\n",
       "        vertical-align: middle;\n",
       "    }\n",
       "\n",
       "    .dataframe tbody tr th {\n",
       "        vertical-align: top;\n",
       "    }\n",
       "\n",
       "    .dataframe thead th {\n",
       "        text-align: right;\n",
       "    }\n",
       "</style>\n",
       "<table border=\"1\" class=\"dataframe\">\n",
       "  <thead>\n",
       "    <tr style=\"text-align: right;\">\n",
       "      <th></th>\n",
       "      <th>Fuel_Consumption</th>\n",
       "      <th>Fuel_Consumption_comb</th>\n",
       "      <th>Fuel_Consumption_city</th>\n",
       "      <th>Fuel_Consumption_country</th>\n",
       "    </tr>\n",
       "  </thead>\n",
       "  <tbody>\n",
       "    <tr>\n",
       "      <th>3867</th>\n",
       "      <td>[[4.3 l/100 km (comb.)], [4.7 l/100 km (city)]...</td>\n",
       "      <td>4.7</td>\n",
       "      <td>5.8</td>\n",
       "      <td>4.1</td>\n",
       "    </tr>\n",
       "    <tr>\n",
       "      <th>1168</th>\n",
       "      <td>[[5.7 l/100 km (comb.)], [7.6 l/100 km (city)]...</td>\n",
       "      <td>5.7</td>\n",
       "      <td>7.6</td>\n",
       "      <td>4.7</td>\n",
       "    </tr>\n",
       "    <tr>\n",
       "      <th>1338</th>\n",
       "      <td>[[0 l/100 km (comb.)], [0 l/100 km (city)], [0...</td>\n",
       "      <td>0.0</td>\n",
       "      <td>0.0</td>\n",
       "      <td>0.0</td>\n",
       "    </tr>\n",
       "    <tr>\n",
       "      <th>24522</th>\n",
       "      <td>[[5.2 l/100 km (comb.)], [6 l/100 km (city)], ...</td>\n",
       "      <td>NaN</td>\n",
       "      <td>NaN</td>\n",
       "      <td>NaN</td>\n",
       "    </tr>\n",
       "    <tr>\n",
       "      <th>29423</th>\n",
       "      <td>[[9.1 l/100 km (comb.)], [13.2 l/100 km (city)...</td>\n",
       "      <td>NaN</td>\n",
       "      <td>NaN</td>\n",
       "      <td>NaN</td>\n",
       "    </tr>\n",
       "    <tr>\n",
       "      <th>16629</th>\n",
       "      <td>[[5 l/100 km (comb.)], [5.9 l/100 km (city)], ...</td>\n",
       "      <td>NaN</td>\n",
       "      <td>NaN</td>\n",
       "      <td>NaN</td>\n",
       "    </tr>\n",
       "    <tr>\n",
       "      <th>7798</th>\n",
       "      <td>[[8 l/100 km (comb.)], [11.2 l/100 km (city)],...</td>\n",
       "      <td>7.2</td>\n",
       "      <td>10.0</td>\n",
       "      <td>5.5</td>\n",
       "    </tr>\n",
       "    <tr>\n",
       "      <th>21786</th>\n",
       "      <td>[[12 l/100 km (comb.)], [18.3 l/100 km (city)]...</td>\n",
       "      <td>NaN</td>\n",
       "      <td>NaN</td>\n",
       "      <td>NaN</td>\n",
       "    </tr>\n",
       "    <tr>\n",
       "      <th>3786</th>\n",
       "      <td>[[1.5 l/100 km (comb.)]]</td>\n",
       "      <td>6.6</td>\n",
       "      <td>NaN</td>\n",
       "      <td>NaN</td>\n",
       "    </tr>\n",
       "    <tr>\n",
       "      <th>21490</th>\n",
       "      <td>[[4.2 l/100 km (comb.)], [5.2 l/100 km (city)]...</td>\n",
       "      <td>NaN</td>\n",
       "      <td>NaN</td>\n",
       "      <td>NaN</td>\n",
       "    </tr>\n",
       "    <tr>\n",
       "      <th>29429</th>\n",
       "      <td>[[4 l/100 km (comb.)], [5 l/100 km (city)], [4...</td>\n",
       "      <td>NaN</td>\n",
       "      <td>NaN</td>\n",
       "      <td>NaN</td>\n",
       "    </tr>\n",
       "    <tr>\n",
       "      <th>21661</th>\n",
       "      <td>[[4.6 l/100 km (comb.)]]</td>\n",
       "      <td>12.4</td>\n",
       "      <td>18.8</td>\n",
       "      <td>8.7</td>\n",
       "    </tr>\n",
       "    <tr>\n",
       "      <th>28365</th>\n",
       "      <td>[[5.3 l/100 km (comb.)], [6.1 l/100 km (city)]...</td>\n",
       "      <td>4.8</td>\n",
       "      <td>5.7</td>\n",
       "      <td>4.3</td>\n",
       "    </tr>\n",
       "    <tr>\n",
       "      <th>19841</th>\n",
       "      <td>[[12 l/100 km (comb.)], [17 l/100 km (city)], ...</td>\n",
       "      <td>5.3</td>\n",
       "      <td>6.6</td>\n",
       "      <td>4.5</td>\n",
       "    </tr>\n",
       "    <tr>\n",
       "      <th>4827</th>\n",
       "      <td>[[5.9 l/100 km (comb.)]]</td>\n",
       "      <td>4.3</td>\n",
       "      <td>5.4</td>\n",
       "      <td>3.7</td>\n",
       "    </tr>\n",
       "    <tr>\n",
       "      <th>10983</th>\n",
       "      <td>[[6 l/100 km (comb.)]]</td>\n",
       "      <td>6.6</td>\n",
       "      <td>NaN</td>\n",
       "      <td>NaN</td>\n",
       "    </tr>\n",
       "    <tr>\n",
       "      <th>4674</th>\n",
       "      <td>[[4.3 l/100 km (comb.)], [5.3 l/100 km (city)]...</td>\n",
       "      <td>0.0</td>\n",
       "      <td>NaN</td>\n",
       "      <td>NaN</td>\n",
       "    </tr>\n",
       "    <tr>\n",
       "      <th>14732</th>\n",
       "      <td>[[4.4 l/100 km (comb.)], [5.1 l/100 km (city)]...</td>\n",
       "      <td>4.6</td>\n",
       "      <td>6.0</td>\n",
       "      <td>3.9</td>\n",
       "    </tr>\n",
       "    <tr>\n",
       "      <th>26250</th>\n",
       "      <td>[[4.4 l/100 km (comb.)], [5.6 l/100 km (city)]...</td>\n",
       "      <td>NaN</td>\n",
       "      <td>NaN</td>\n",
       "      <td>NaN</td>\n",
       "    </tr>\n",
       "    <tr>\n",
       "      <th>3906</th>\n",
       "      <td>[[5 l/100 km (comb.)], [5.8 l/100 km (city)], ...</td>\n",
       "      <td>4.7</td>\n",
       "      <td>5.7</td>\n",
       "      <td>4.1</td>\n",
       "    </tr>\n",
       "  </tbody>\n",
       "</table>\n",
       "</div>"
      ],
      "text/plain": [
       "                                        Fuel_Consumption  \\\n",
       "3867   [[4.3 l/100 km (comb.)], [4.7 l/100 km (city)]...   \n",
       "1168   [[5.7 l/100 km (comb.)], [7.6 l/100 km (city)]...   \n",
       "1338   [[0 l/100 km (comb.)], [0 l/100 km (city)], [0...   \n",
       "24522  [[5.2 l/100 km (comb.)], [6 l/100 km (city)], ...   \n",
       "29423  [[9.1 l/100 km (comb.)], [13.2 l/100 km (city)...   \n",
       "16629  [[5 l/100 km (comb.)], [5.9 l/100 km (city)], ...   \n",
       "7798   [[8 l/100 km (comb.)], [11.2 l/100 km (city)],...   \n",
       "21786  [[12 l/100 km (comb.)], [18.3 l/100 km (city)]...   \n",
       "3786                            [[1.5 l/100 km (comb.)]]   \n",
       "21490  [[4.2 l/100 km (comb.)], [5.2 l/100 km (city)]...   \n",
       "29429  [[4 l/100 km (comb.)], [5 l/100 km (city)], [4...   \n",
       "21661                           [[4.6 l/100 km (comb.)]]   \n",
       "28365  [[5.3 l/100 km (comb.)], [6.1 l/100 km (city)]...   \n",
       "19841  [[12 l/100 km (comb.)], [17 l/100 km (city)], ...   \n",
       "4827                            [[5.9 l/100 km (comb.)]]   \n",
       "10983                             [[6 l/100 km (comb.)]]   \n",
       "4674   [[4.3 l/100 km (comb.)], [5.3 l/100 km (city)]...   \n",
       "14732  [[4.4 l/100 km (comb.)], [5.1 l/100 km (city)]...   \n",
       "26250  [[4.4 l/100 km (comb.)], [5.6 l/100 km (city)]...   \n",
       "3906   [[5 l/100 km (comb.)], [5.8 l/100 km (city)], ...   \n",
       "\n",
       "       Fuel_Consumption_comb  Fuel_Consumption_city  Fuel_Consumption_country  \n",
       "3867                     4.7                    5.8                       4.1  \n",
       "1168                     5.7                    7.6                       4.7  \n",
       "1338                     0.0                    0.0                       0.0  \n",
       "24522                    NaN                    NaN                       NaN  \n",
       "29423                    NaN                    NaN                       NaN  \n",
       "16629                    NaN                    NaN                       NaN  \n",
       "7798                     7.2                   10.0                       5.5  \n",
       "21786                    NaN                    NaN                       NaN  \n",
       "3786                     6.6                    NaN                       NaN  \n",
       "21490                    NaN                    NaN                       NaN  \n",
       "29429                    NaN                    NaN                       NaN  \n",
       "21661                   12.4                   18.8                       8.7  \n",
       "28365                    4.8                    5.7                       4.3  \n",
       "19841                    5.3                    6.6                       4.5  \n",
       "4827                     4.3                    5.4                       3.7  \n",
       "10983                    6.6                    NaN                       NaN  \n",
       "4674                     0.0                    NaN                       NaN  \n",
       "14732                    4.6                    6.0                       3.9  \n",
       "26250                    NaN                    NaN                       NaN  \n",
       "3906                     4.7                    5.7                       4.1  "
      ]
     },
     "execution_count": 173,
     "metadata": {},
     "output_type": "execute_result"
    }
   ],
   "source": [
    "df[['Fuel_Consumption', 'Fuel_Consumption_comb','Fuel_Consumption_city', 'Fuel_Consumption_country' ]].sample(20)"
   ]
  },
  {
   "cell_type": "code",
   "execution_count": 174,
   "id": "a5c4be6d",
   "metadata": {
    "tags": []
   },
   "outputs": [],
   "source": [
    "df.drop(['Fuel_Consumption','Fuel_Consumption_city', 'Fuel_Consumption_country' ], axis = 1, inplace = True)"
   ]
  },
  {
   "cell_type": "code",
   "execution_count": 175,
   "id": "c9836296-5d36-4c76-9d30-348975b59f3f",
   "metadata": {},
   "outputs": [
    {
     "data": {
      "text/plain": [
       "(28630, 37)"
      ]
     },
     "execution_count": 175,
     "metadata": {},
     "output_type": "execute_result"
    }
   ],
   "source": [
    "df.shape"
   ]
  },
  {
   "cell_type": "markdown",
   "id": "57224a9c",
   "metadata": {},
   "source": [
    "### Comfort_Convenience"
   ]
  },
  {
   "cell_type": "code",
   "execution_count": null,
   "id": "b0578d94-b712-472e-bd46-b0da9aabe7e8",
   "metadata": {},
   "outputs": [],
   "source": [
    "# The external modifications to your vehicle affect the valuation of your vehicle.\n",
    "# Rust or scratches on the body of the car will lower the car’s market price.\n",
    "# Similarly, interior condition and features of your car can lead to an increase or decrease in your car’s value.\n",
    "# Things like a dirty dashboard, scratched seats, blown out speakers, etc. will decrease the price your car can fetch. \n",
    "# On the other hand, installing unique features like GPS,\n",
    "# parking camera, upgraded sound system, etc. will give a boost to your car’s value."
   ]
  },
  {
   "cell_type": "code",
   "execution_count": 176,
   "id": "8f7d8001",
   "metadata": {},
   "outputs": [
    {
     "name": "stdout",
     "output_type": "stream",
     "text": [
      "column name    :  Comfort_Convenience\n",
      "--------------------------------\n",
      "per_of_nulls   :  % 11.17\n",
      "num_of_nulls   :  3197\n",
      "num_of_uniques :  14439\n",
      "--------------------------------\n",
      "NaN                                                                                                                                                                                                                                                                                                                                                                                                              3197\n",
      "[Air conditioning, Automatic climate control, Electrical side mirrors, Multi-function steering wheel, Power windows]                                                                                                                                                                                                                                                                                              244\n",
      "[Air conditioning, Automatic climate control, Cruise control]                                                                                                                                                                                                                                                                                                                                                     171\n",
      "[Air conditioning, Automatic climate control, Cruise control, Electrical side mirrors, Multi-function steering wheel, Power windows]                                                                                                                                                                                                                                                                              168\n",
      "[Air conditioning]                                                                                                                                                                                                                                                                                                                                                                                                157\n",
      "                                                                                                                                                                                                                                                                                                                                                                                                                 ... \n",
      "[Armrest, Automatic climate control, 2 zones, Cruise control, Fold flat passenger seat, Hill Holder, Leather steering wheel, Light sensor, Lumbar support, Multi-function steering wheel, Navigation system, Parking assist system sensors rear, Power windows, Rain sensor, Seat heating, Split rear seats, Start-stop system]                                                                                     1\n",
      "[Air conditioning, Armrest, Automatic climate control, Cruise control, Electric tailgate, Electrical side mirrors, Hill Holder, Keyless central door lock, Leather steering wheel, Light sensor, Multi-function steering wheel, Navigation system, Parking assist system sensors front, Parking assist system sensors rear, Power windows, Rain sensor, Seat heating]                                               1\n",
      "[Armrest, Automatic climate control, 2 zones, Cruise control, Electrical side mirrors, Fold flat passenger seat, Hill Holder, Leather steering wheel, Light sensor, Lumbar support, Multi-function steering wheel, Navigation system, Parking assist system sensors front, Parking assist system sensors rear, Power windows, Rain sensor, Seat heating, Split rear seats, Start-stop system, Tinted windows]       1\n",
      "[Armrest, Automatic climate control, 2 zones, Cruise control, Electrical side mirrors, Hill Holder, Keyless central door lock, Leather steering wheel, Light sensor, Multi-function steering wheel, Parking assist system camera, Parking assist system sensors front, Parking assist system sensors rear, Power windows, Rain sensor, Seat heating, Split rear seats, Start-stop system, Tinted windows]           1\n",
      "[Air conditioning, Armrest, Cruise control, Electrical side mirrors, Leather steering wheel, Lumbar support, Multi-function steering wheel, Navigation system, Power windows, Seat heating, Tinted windows]                                                                                                                                                                                                         1\n",
      "Name: Comfort_Convenience, Length: 14439, dtype: int64\n"
     ]
    }
   ],
   "source": [
    "first_looking(\"Comfort_Convenience\")"
   ]
  },
  {
   "cell_type": "code",
   "execution_count": 177,
   "id": "967ec42a",
   "metadata": {},
   "outputs": [
    {
     "data": {
      "text/plain": [
       "0                                                      NaN\n",
       "1                                                      NaN\n",
       "2                                                      NaN\n",
       "3        Air conditioning, Automatic climate control, P...\n",
       "4        Air conditioning, Electrical side mirrors, Mul...\n",
       "                               ...                        \n",
       "29474    Air conditioning, Automatic climate control, M...\n",
       "29475    Air conditioning, Armrest, Automatic climate c...\n",
       "29476    Air conditioning, Armrest, Automatic climate c...\n",
       "29477    Air conditioning, Armrest, Automatic climate c...\n",
       "29478    Air conditioning, Armrest, Cruise control, Ele...\n",
       "Name: Comfort_Convenience, Length: 28630, dtype: object"
      ]
     },
     "execution_count": 177,
     "metadata": {},
     "output_type": "execute_result"
    }
   ],
   "source": [
    "df['Comfort_Convenience'] = [i[0] if type(i) == list else i for i in df['Comfort_Convenience']]\n",
    "df['Comfort_Convenience']"
   ]
  },
  {
   "cell_type": "code",
   "execution_count": 178,
   "id": "263017f4",
   "metadata": {},
   "outputs": [
    {
     "data": {
      "text/plain": [
       "NaN                                                                                                                                                                                                                                                                                                                                                                                                            3197\n",
       "Air conditioning, Automatic climate control, Electrical side mirrors, Multi-function steering wheel, Power windows                                                                                                                                                                                                                                                                                              244\n",
       "Air conditioning, Automatic climate control, Cruise control                                                                                                                                                                                                                                                                                                                                                     171\n",
       "Air conditioning, Automatic climate control, Cruise control, Electrical side mirrors, Multi-function steering wheel, Power windows                                                                                                                                                                                                                                                                              168\n",
       "Air conditioning                                                                                                                                                                                                                                                                                                                                                                                                157\n",
       "                                                                                                                                                                                                                                                                                                                                                                                                               ... \n",
       "Armrest, Automatic climate control, 2 zones, Cruise control, Fold flat passenger seat, Hill Holder, Leather steering wheel, Light sensor, Lumbar support, Multi-function steering wheel, Navigation system, Parking assist system sensors rear, Power windows, Rain sensor, Seat heating, Split rear seats, Start-stop system                                                                                     1\n",
       "Air conditioning, Armrest, Automatic climate control, Cruise control, Electric tailgate, Electrical side mirrors, Hill Holder, Keyless central door lock, Leather steering wheel, Light sensor, Multi-function steering wheel, Navigation system, Parking assist system sensors front, Parking assist system sensors rear, Power windows, Rain sensor, Seat heating                                               1\n",
       "Armrest, Automatic climate control, 2 zones, Cruise control, Electrical side mirrors, Fold flat passenger seat, Hill Holder, Leather steering wheel, Light sensor, Lumbar support, Multi-function steering wheel, Navigation system, Parking assist system sensors front, Parking assist system sensors rear, Power windows, Rain sensor, Seat heating, Split rear seats, Start-stop system, Tinted windows       1\n",
       "Armrest, Automatic climate control, 2 zones, Cruise control, Electrical side mirrors, Hill Holder, Keyless central door lock, Leather steering wheel, Light sensor, Multi-function steering wheel, Parking assist system camera, Parking assist system sensors front, Parking assist system sensors rear, Power windows, Rain sensor, Seat heating, Split rear seats, Start-stop system, Tinted windows           1\n",
       "Air conditioning, Armrest, Cruise control, Electrical side mirrors, Leather steering wheel, Lumbar support, Multi-function steering wheel, Navigation system, Power windows, Seat heating, Tinted windows                                                                                                                                                                                                         1\n",
       "Name: Comfort_Convenience, Length: 14439, dtype: int64"
      ]
     },
     "execution_count": 178,
     "metadata": {},
     "output_type": "execute_result"
    }
   ],
   "source": [
    "df['Comfort_Convenience'].value_counts(dropna=False)"
   ]
  },
  {
   "cell_type": "markdown",
   "id": "6a523661",
   "metadata": {},
   "source": [
    "### Entertainment_Media"
   ]
  },
  {
   "cell_type": "code",
   "execution_count": 179,
   "id": "4c8b9509",
   "metadata": {},
   "outputs": [
    {
     "name": "stdout",
     "output_type": "stream",
     "text": [
      "column name    :  Entertainment_Media\n",
      "--------------------------------\n",
      "per_of_nulls   :  % 17.42\n",
      "num_of_nulls   :  4986\n",
      "num_of_uniques :  1945\n",
      "--------------------------------\n",
      "NaN                                                                                                                                                                          4986\n",
      "[Bluetooth, USB]                                                                                                                                                              753\n",
      "[Bluetooth]                                                                                                                                                                   665\n",
      "[On-board computer]                                                                                                                                                           662\n",
      "[CD player, On-board computer, Radio]                                                                                                                                         644\n",
      "                                                                                                                                                                             ... \n",
      "[Android Auto, Apple CarPlay, Bluetooth, Digital cockpit, Digital radio, Induction charging for smartphones, On-board computer, Radio, Sound system, WLAN / WiFi hotspot]       1\n",
      "[Bluetooth, CD player, Digital cockpit, Digital radio, Hands-free equipment, Integrated music streaming, On-board computer, Sound system, USB, WLAN / WiFi hotspot]             1\n",
      "[Digital cockpit, Digital radio, On-board computer, Radio]                                                                                                                      1\n",
      "[Android Auto, Apple CarPlay, Digital radio, On-board computer, Radio, Sound system, USB, WLAN / WiFi hotspot]                                                                  1\n",
      "[Hands-free equipment, Integrated music streaming, On-board computer, Radio, USB]                                                                                               1\n",
      "Name: Entertainment_Media, Length: 1945, dtype: int64\n"
     ]
    }
   ],
   "source": [
    "first_looking(\"Entertainment_Media\")"
   ]
  },
  {
   "cell_type": "code",
   "execution_count": 180,
   "id": "220c3924",
   "metadata": {},
   "outputs": [
    {
     "data": {
      "text/plain": [
       "0                                                      NaN\n",
       "1                                                      NaN\n",
       "2                                                      NaN\n",
       "3                                                      USB\n",
       "4                           Bluetooth, CD player, MP3, USB\n",
       "                               ...                        \n",
       "29474                                       Bluetooth, USB\n",
       "29475                             On-board computer, Radio\n",
       "29476    Bluetooth, CD player, Hands-free equipment, MP...\n",
       "29477    Android Auto, Apple CarPlay, Bluetooth, Hands-...\n",
       "29478                                    On-board computer\n",
       "Name: Entertainment_Media, Length: 28630, dtype: object"
      ]
     },
     "execution_count": 180,
     "metadata": {},
     "output_type": "execute_result"
    }
   ],
   "source": [
    "df['Entertainment_Media']= [\",\".join(item) if type(item) == list else item for item in df['Entertainment_Media']]\n",
    "df['Entertainment_Media']"
   ]
  },
  {
   "cell_type": "code",
   "execution_count": 181,
   "id": "9fdc010f",
   "metadata": {},
   "outputs": [
    {
     "data": {
      "text/plain": [
       "NaN                                    4986\n",
       "Bluetooth, USB                          753\n",
       "Bluetooth                               665\n",
       "On-board computer                       662\n",
       "CD player, On-board computer, Radio     644\n",
       "Name: Entertainment_Media, dtype: int64"
      ]
     },
     "execution_count": 181,
     "metadata": {},
     "output_type": "execute_result"
    }
   ],
   "source": [
    "df['Entertainment_Media'].value_counts(dropna=False).head()"
   ]
  },
  {
   "cell_type": "markdown",
   "id": "ed1780bc",
   "metadata": {},
   "source": [
    "### Safety_Security"
   ]
  },
  {
   "cell_type": "code",
   "execution_count": 182,
   "id": "c2ddb2d2",
   "metadata": {},
   "outputs": [
    {
     "name": "stdout",
     "output_type": "stream",
     "text": [
      "column name    :  Safety_Security\n",
      "--------------------------------\n",
      "per_of_nulls   :  % 11.23\n",
      "num_of_nulls   :  3215\n",
      "num_of_uniques :  12550\n",
      "--------------------------------\n",
      "NaN                                                                                                                                                                                                                                                                                                                                                                                                                                                                                                                            3215\n",
      "[Isofix]                                                                                                                                                                                                                                                                                                                                                                                                                                                                                                                        380\n",
      "[ABS, Central door lock, Driver-side airbag, Electronic stability control, Immobilizer, Isofix, Passenger-side airbag, Power steering, Side airbag]                                                                                                                                                                                                                                                                                                                                                                             328\n",
      "[ABS, Central door lock, Driver-side airbag, Immobilizer, Isofix, Passenger-side airbag, Power steering, Side airbag, Traction control]                                                                                                                                                                                                                                                                                                                                                                                         125\n",
      "[ABS, Central door lock, Driver-side airbag, Electronic stability control, Fog lights, Isofix, Power steering, Side airbag]                                                                                                                                                                                                                                                                                                                                                                                                     121\n",
      "                                                                                                                                                                                                                                                                                                                                                                                                                                                                                                                               ... \n",
      "[Daytime running lights, Emergency brake assistant, Fog lights, Isofix, LED Daytime Running Lights, Lane departure warning system, Power steering, Tire pressure monitoring system]                                                                                                                                                                                                                                                                                                                                               1\n",
      "[ABS, Adaptive Cruise Control, Central door lock, Daytime running lights, Driver drowsiness detection, Driver-side airbag, Electronic stability control, Emergency brake assistant, Emergency system, Fog lights, Full-LED headlights, Glare-free high beam headlights, Immobilizer, Isofix, LED Headlights, Lane departure warning system, Passenger-side airbag, Power steering, Side airbag, Tire pressure monitoring system, Traction control]                                                                                1\n",
      "[ABS, Driver-side airbag, Electronic stability control, Emergency brake assistant, Immobilizer, LED Daytime Running Lights, Passenger-side airbag, Side airbag, Tire pressure monitoring system, Traction control]                                                                                                                                                                                                                                                                                                                1\n",
      "[ABS, Blind spot monitor, Central door lock, Daytime running lights, Distance warning system, Driver drowsiness detection, Driver-side airbag, Electronic stability control, Emergency system, Fog lights, Full-LED headlights, Head airbag, High beam assist, Immobilizer, Isofix, LED Daytime Running Lights, LED Headlights, Lane departure warning system, Passenger-side airbag, Power steering, Side airbag, Speed limit control system, Tire pressure monitoring system, Traction control, Traffic sign recognition]       1\n",
      "[ABS, Alarm system, Central door lock, Central door lock with remote control, Driver-side airbag, Electronic stability control, Fog lights, Head airbag, Immobilizer, Power steering, Side airbag, Traction control]                                                                                                                                                                                                                                                                                                              1\n",
      "Name: Safety_Security, Length: 12550, dtype: int64\n"
     ]
    }
   ],
   "source": [
    "first_looking(\"Safety_Security\")"
   ]
  },
  {
   "cell_type": "code",
   "execution_count": 183,
   "id": "b8add1ef",
   "metadata": {},
   "outputs": [],
   "source": [
    "df.Safety_Security = [\",\".join(item) if type(item) == list else item for item in df.Safety_Security]"
   ]
  },
  {
   "cell_type": "code",
   "execution_count": 184,
   "id": "39e39abd",
   "metadata": {},
   "outputs": [
    {
     "data": {
      "text/plain": [
       "NaN                                                                                                                                                                                                                                                                                                                                                                                                                                                                                                                          3215\n",
       "Isofix                                                                                                                                                                                                                                                                                                                                                                                                                                                                                                                        380\n",
       "ABS, Central door lock, Driver-side airbag, Electronic stability control, Immobilizer, Isofix, Passenger-side airbag, Power steering, Side airbag                                                                                                                                                                                                                                                                                                                                                                             328\n",
       "ABS, Central door lock, Driver-side airbag, Immobilizer, Isofix, Passenger-side airbag, Power steering, Side airbag, Traction control                                                                                                                                                                                                                                                                                                                                                                                         125\n",
       "ABS, Central door lock, Driver-side airbag, Electronic stability control, Fog lights, Isofix, Power steering, Side airbag                                                                                                                                                                                                                                                                                                                                                                                                     121\n",
       "                                                                                                                                                                                                                                                                                                                                                                                                                                                                                                                             ... \n",
       "Daytime running lights, Emergency brake assistant, Fog lights, Isofix, LED Daytime Running Lights, Lane departure warning system, Power steering, Tire pressure monitoring system                                                                                                                                                                                                                                                                                                                                               1\n",
       "ABS, Adaptive Cruise Control, Central door lock, Daytime running lights, Driver drowsiness detection, Driver-side airbag, Electronic stability control, Emergency brake assistant, Emergency system, Fog lights, Full-LED headlights, Glare-free high beam headlights, Immobilizer, Isofix, LED Headlights, Lane departure warning system, Passenger-side airbag, Power steering, Side airbag, Tire pressure monitoring system, Traction control                                                                                1\n",
       "ABS, Driver-side airbag, Electronic stability control, Emergency brake assistant, Immobilizer, LED Daytime Running Lights, Passenger-side airbag, Side airbag, Tire pressure monitoring system, Traction control                                                                                                                                                                                                                                                                                                                1\n",
       "ABS, Blind spot monitor, Central door lock, Daytime running lights, Distance warning system, Driver drowsiness detection, Driver-side airbag, Electronic stability control, Emergency system, Fog lights, Full-LED headlights, Head airbag, High beam assist, Immobilizer, Isofix, LED Daytime Running Lights, LED Headlights, Lane departure warning system, Passenger-side airbag, Power steering, Side airbag, Speed limit control system, Tire pressure monitoring system, Traction control, Traffic sign recognition       1\n",
       "ABS, Alarm system, Central door lock, Central door lock with remote control, Driver-side airbag, Electronic stability control, Fog lights, Head airbag, Immobilizer, Power steering, Side airbag, Traction control                                                                                                                                                                                                                                                                                                              1\n",
       "Name: Safety_Security, Length: 12550, dtype: int64"
      ]
     },
     "execution_count": 184,
     "metadata": {},
     "output_type": "execute_result"
    }
   ],
   "source": [
    "df['Safety_Security'].value_counts(dropna=False)"
   ]
  },
  {
   "cell_type": "markdown",
   "id": "73cddfa3",
   "metadata": {},
   "source": [
    "### Extras"
   ]
  },
  {
   "cell_type": "code",
   "execution_count": 185,
   "id": "49154af1",
   "metadata": {},
   "outputs": [
    {
     "name": "stdout",
     "output_type": "stream",
     "text": [
      "column name    :  Extras\n",
      "--------------------------------\n",
      "per_of_nulls   :  % 17.99\n",
      "num_of_nulls   :  5150\n",
      "num_of_uniques :  9361\n",
      "--------------------------------\n",
      "NaN                                                                                                                                                                                                                                                                   5150\n",
      "[Alloy wheels]                                                                                                                                                                                                                                                        3408\n",
      "[Alloy wheels, Roof rack]                                                                                                                                                                                                                                              380\n",
      "[Alloy wheels, Sport seats]                                                                                                                                                                                                                                            372\n",
      "[Alloy wheels, Touch screen]                                                                                                                                                                                                                                           231\n",
      "                                                                                                                                                                                                                                                                      ... \n",
      "[Alloy wheels (18\"), Spoiler, Summer tyres, Trailer hitch]                                                                                                                                                                                                               1\n",
      "[All season tyres, Alloy wheels, Automatically dimming interior mirror, Catalytic Converter, Headlight washer system, Ski bag, Sport seats, Trailer hitch, Winter tyres]                                                                                                 1\n",
      "[Alloy wheels, Automatically dimming interior mirror, Headlight washer system, Sport package, Sport seats, Summer tyres]                                                                                                                                                 1\n",
      "[Alloy wheels (19\"), Ambient lighting, Automatically dimming interior mirror, Catalytic Converter, E10-enabled, Emergency tyre repair kit, Headlight washer system, Spoiler, Sport package, Sport seats, Sport suspension, Summer tyres, Tuned car, Voice Control]       1\n",
      "[Alloy wheels, Automatically dimming interior mirror, Ski bag, Trailer hitch]                                                                                                                                                                                            1\n",
      "Name: Extras, Length: 9361, dtype: int64\n"
     ]
    }
   ],
   "source": [
    "first_looking(\"Extras\")"
   ]
  },
  {
   "cell_type": "code",
   "execution_count": 186,
   "id": "4e46daec",
   "metadata": {},
   "outputs": [],
   "source": [
    "df[\"Extras\"] = [\", \".join(item) if type(item) == list else item for item in df[\"Extras\"]]"
   ]
  },
  {
   "cell_type": "code",
   "execution_count": 187,
   "id": "d761905a",
   "metadata": {},
   "outputs": [
    {
     "data": {
      "text/plain": [
       "NaN                                                                                                                                                                                                                                                                 5150\n",
       "Alloy wheels                                                                                                                                                                                                                                                        3408\n",
       "Alloy wheels, Roof rack                                                                                                                                                                                                                                              380\n",
       "Alloy wheels, Sport seats                                                                                                                                                                                                                                            372\n",
       "Alloy wheels, Touch screen                                                                                                                                                                                                                                           231\n",
       "                                                                                                                                                                                                                                                                    ... \n",
       "Alloy wheels (18\"), Spoiler, Summer tyres, Trailer hitch                                                                                                                                                                                                               1\n",
       "All season tyres, Alloy wheels, Automatically dimming interior mirror, Catalytic Converter, Headlight washer system, Ski bag, Sport seats, Trailer hitch, Winter tyres                                                                                                 1\n",
       "Alloy wheels, Automatically dimming interior mirror, Headlight washer system, Sport package, Sport seats, Summer tyres                                                                                                                                                 1\n",
       "Alloy wheels (19\"), Ambient lighting, Automatically dimming interior mirror, Catalytic Converter, E10-enabled, Emergency tyre repair kit, Headlight washer system, Spoiler, Sport package, Sport seats, Sport suspension, Summer tyres, Tuned car, Voice Control       1\n",
       "Alloy wheels, Automatically dimming interior mirror, Ski bag, Trailer hitch                                                                                                                                                                                            1\n",
       "Name: Extras, Length: 9361, dtype: int64"
      ]
     },
     "execution_count": 187,
     "metadata": {},
     "output_type": "execute_result"
    }
   ],
   "source": [
    "df['Extras'].value_counts(dropna=False)"
   ]
  },
  {
   "cell_type": "markdown",
   "id": "5d1f4aad",
   "metadata": {},
   "source": [
    "### Empty_Weight"
   ]
  },
  {
   "cell_type": "code",
   "execution_count": 188,
   "id": "8018e582",
   "metadata": {},
   "outputs": [
    {
     "name": "stdout",
     "output_type": "stream",
     "text": [
      "column name    :  Empty_Weight\n",
      "--------------------------------\n",
      "per_of_nulls   :  % 37.97\n",
      "num_of_nulls   :  10872\n",
      "num_of_uniques :  1219\n",
      "--------------------------------\n",
      "NaN               10872\n",
      "[\\n1,395 kg\\n]      233\n",
      "[\\n1,055 kg\\n]      224\n",
      "[\\n1,423 kg\\n]      216\n",
      "[\\n1,165 kg\\n]      200\n",
      "                  ...  \n",
      "[\\n1,877 kg\\n]        1\n",
      "[\\n1,011 kg\\n]        1\n",
      "[\\n1,069 kg\\n]        1\n",
      "[\\n983 kg\\n]          1\n",
      "[\\n1,391 kg\\n]        1\n",
      "Name: Empty_Weight, Length: 1219, dtype: int64\n"
     ]
    }
   ],
   "source": [
    "first_looking(\"Empty_Weight\")"
   ]
  },
  {
   "cell_type": "code",
   "execution_count": 189,
   "id": "e669af1d",
   "metadata": {},
   "outputs": [
    {
     "data": {
      "text/plain": [
       "0           NaN\n",
       "1           NaN\n",
       "2           NaN\n",
       "3           NaN\n",
       "4        1545.0\n",
       "          ...  \n",
       "29474    2077.0\n",
       "29475    1357.0\n",
       "29476    1356.0\n",
       "29477    1617.0\n",
       "29478    1573.0\n",
       "Name: Empty_Weight, Length: 28630, dtype: float64"
      ]
     },
     "execution_count": 189,
     "metadata": {},
     "output_type": "execute_result"
    }
   ],
   "source": [
    "df['Empty_Weight'] = df['Empty_Weight'].astype(str).str.replace(',', '').str.extract('(\\d+)').astype(\"float\")\n",
    "df['Empty_Weight']"
   ]
  },
  {
   "cell_type": "code",
   "execution_count": 190,
   "id": "d168d18f",
   "metadata": {},
   "outputs": [
    {
     "data": {
      "text/plain": [
       "NaN       10872\n",
       "1395.0      233\n",
       "1055.0      224\n",
       "1423.0      216\n",
       "1165.0      200\n",
       "          ...  \n",
       "1877.0        1\n",
       "1011.0        1\n",
       "1069.0        1\n",
       "983.0         1\n",
       "1391.0        1\n",
       "Name: Empty_Weight, Length: 1219, dtype: int64"
      ]
     },
     "execution_count": 190,
     "metadata": {},
     "output_type": "execute_result"
    }
   ],
   "source": [
    "df['Empty_Weight'].value_counts(dropna=False)"
   ]
  },
  {
   "cell_type": "markdown",
   "id": "2f8642ea",
   "metadata": {},
   "source": [
    "### Model_Code"
   ]
  },
  {
   "cell_type": "code",
   "execution_count": 191,
   "id": "4ba5a034",
   "metadata": {},
   "outputs": [
    {
     "name": "stdout",
     "output_type": "stream",
     "text": [
      "column name    :  Model_Code\n",
      "--------------------------------\n",
      "per_of_nulls   :  % 70.78\n",
      "num_of_nulls   :  20263\n",
      "num_of_uniques :  2187\n",
      "--------------------------------\n",
      "NaN                   20263\n",
      "[\\n, 8212/AFJ, \\n]       75\n",
      "[\\n, 1727/AAM, \\n]       64\n",
      "[\\n, 1349/AGI, \\n]       61\n",
      "[\\n, 1889/ABU, \\n]       55\n",
      "                      ...  \n",
      "[\\n, 7593/ANL, \\n]        1\n",
      "[\\n, 1727/ABC, \\n]        1\n",
      "[\\n, 4136/AEC, \\n]        1\n",
      "[\\n, 4136/668, \\n]        1\n",
      "[\\n, 9101/449, \\n]        1\n",
      "Name: Model_Code, Length: 2187, dtype: int64\n"
     ]
    }
   ],
   "source": [
    "first_looking(\"Model_Code\")"
   ]
  },
  {
   "cell_type": "code",
   "execution_count": 207,
   "id": "520559a2",
   "metadata": {},
   "outputs": [
    {
     "data": {
      "text/plain": [
       "7194     [\\n, 3003/AZR, \\n]\n",
       "15575                   NaN\n",
       "6131                    NaN\n",
       "1047     [\\n, 0710/431, \\n]\n",
       "6379     [\\n, 3333/BPE, \\n]\n",
       "8489     [\\n, 3003/ASU, \\n]\n",
       "7623                    NaN\n",
       "18171    [\\n, 5013/AMP, \\n]\n",
       "8549     [\\n, 3003/ASU, \\n]\n",
       "26337                   NaN\n",
       "4530     [\\n, 1889/AEQ, \\n]\n",
       "6622                    NaN\n",
       "374                     NaN\n",
       "19655                   NaN\n",
       "12466    [\\n, 7593/AHM, \\n]\n",
       "9058     [\\n, 3003/AYV, \\n]\n",
       "26711                   NaN\n",
       "26244                   NaN\n",
       "25952                   NaN\n",
       "25676                   NaN\n",
       "23448    [\\n, 8566/BUO, \\n]\n",
       "4329                    NaN\n",
       "28062                   NaN\n",
       "4807                    NaN\n",
       "10493                   NaN\n",
       "6876                    NaN\n",
       "6387                    NaN\n",
       "12184                   NaN\n",
       "6145     [\\n, 3333/BEF, \\n]\n",
       "22479                   NaN\n",
       "Name: Model_Code, dtype: object"
      ]
     },
     "execution_count": 207,
     "metadata": {},
     "output_type": "execute_result"
    }
   ],
   "source": [
    "df0.Model_Code.sample(30)"
   ]
  },
  {
   "cell_type": "code",
   "execution_count": 192,
   "id": "879953e2-9d64-4fd7-9b6f-dfcc5a99d847",
   "metadata": {},
   "outputs": [
    {
     "data": {
      "text/plain": [
       "(28630, 37)"
      ]
     },
     "execution_count": 192,
     "metadata": {},
     "output_type": "execute_result"
    }
   ],
   "source": [
    "df.shape"
   ]
  },
  {
   "cell_type": "code",
   "execution_count": 194,
   "id": "c8259156-a363-45c1-8743-2547afcdee11",
   "metadata": {
    "tags": []
   },
   "outputs": [],
   "source": [
    "df.drop(\"Model_Code\", axis=1, inplace=True)"
   ]
  },
  {
   "cell_type": "code",
   "execution_count": 195,
   "id": "74a5a1d3-1bd4-402a-ab44-b5f1618e6389",
   "metadata": {},
   "outputs": [
    {
     "data": {
      "text/plain": [
       "(28630, 36)"
      ]
     },
     "execution_count": 195,
     "metadata": {},
     "output_type": "execute_result"
    }
   ],
   "source": [
    "df.shape"
   ]
  },
  {
   "cell_type": "markdown",
   "id": "b20d52ee",
   "metadata": {},
   "source": [
    "### General_Inspection"
   ]
  },
  {
   "cell_type": "code",
   "execution_count": 196,
   "id": "2e527173",
   "metadata": {},
   "outputs": [
    {
     "name": "stdout",
     "output_type": "stream",
     "text": [
      "column name    :  General_Inspection\n",
      "--------------------------------\n",
      "per_of_nulls   :  % 57.2\n",
      "num_of_nulls   :  16376\n",
      "num_of_uniques :  92\n",
      "--------------------------------\n",
      "NaN        16376\n",
      "New         5883\n",
      "05/2023      286\n",
      "08/2023      280\n",
      "03/2023      268\n",
      "           ...  \n",
      "09/2017        1\n",
      "08/2013        1\n",
      "08/2020        1\n",
      "08/2018        1\n",
      "03/2021        1\n",
      "Name: General_Inspection, Length: 92, dtype: int64\n"
     ]
    }
   ],
   "source": [
    "first_looking(\"General_Inspection\")"
   ]
  },
  {
   "cell_type": "code",
   "execution_count": 197,
   "id": "36dee893",
   "metadata": {},
   "outputs": [],
   "source": [
    "df.drop(\"General_Inspection\", axis=1, inplace=True)"
   ]
  },
  {
   "cell_type": "code",
   "execution_count": 198,
   "id": "a0cef1a7",
   "metadata": {},
   "outputs": [
    {
     "data": {
      "text/plain": [
       "(28630, 35)"
      ]
     },
     "execution_count": 198,
     "metadata": {},
     "output_type": "execute_result"
    }
   ],
   "source": [
    "df.shape"
   ]
  },
  {
   "cell_type": "markdown",
   "id": "5e311e69",
   "metadata": {},
   "source": [
    "### Full_Service_History"
   ]
  },
  {
   "cell_type": "code",
   "execution_count": 199,
   "id": "3d51c79b",
   "metadata": {},
   "outputs": [
    {
     "name": "stdout",
     "output_type": "stream",
     "text": [
      "column name    :  Full_Service_History\n",
      "--------------------------------\n",
      "per_of_nulls   :  % 56.11\n",
      "num_of_nulls   :  16065\n",
      "num_of_uniques :  2\n",
      "--------------------------------\n",
      "NaN    16065\n",
      "Yes    12565\n",
      "Name: Full_Service_History, dtype: int64\n"
     ]
    }
   ],
   "source": [
    "first_looking('Full_Service_History')"
   ]
  },
  {
   "cell_type": "code",
   "execution_count": 200,
   "id": "a9748686",
   "metadata": {},
   "outputs": [],
   "source": [
    "df[\"Full_Service_History\"].replace(np.nan, \"No\", inplace=True)"
   ]
  },
  {
   "cell_type": "code",
   "execution_count": 201,
   "id": "ae4c45de",
   "metadata": {},
   "outputs": [
    {
     "data": {
      "text/plain": [
       "No     16065\n",
       "Yes    12565\n",
       "Name: Full_Service_History, dtype: int64"
      ]
     },
     "execution_count": 201,
     "metadata": {},
     "output_type": "execute_result"
    }
   ],
   "source": [
    "df[\"Full_Service_History\"].value_counts(dropna=False)"
   ]
  },
  {
   "cell_type": "markdown",
   "id": "739ca184",
   "metadata": {},
   "source": [
    "### Non_Smoker_Vehicle"
   ]
  },
  {
   "cell_type": "code",
   "execution_count": 202,
   "id": "a16b6324",
   "metadata": {},
   "outputs": [
    {
     "name": "stdout",
     "output_type": "stream",
     "text": [
      "column name    :  Non_Smoker_Vehicle\n",
      "--------------------------------\n",
      "per_of_nulls   :  % 59.5\n",
      "num_of_nulls   :  17036\n",
      "num_of_uniques :  2\n",
      "--------------------------------\n",
      "NaN    17036\n",
      "Yes    11594\n",
      "Name: Non_Smoker_Vehicle, dtype: int64\n"
     ]
    }
   ],
   "source": [
    "first_looking(\"Non_Smoker_Vehicle\")"
   ]
  },
  {
   "cell_type": "code",
   "execution_count": 203,
   "id": "9acd735e",
   "metadata": {},
   "outputs": [],
   "source": [
    "df[\"Non_Smoker_Vehicle\"].replace(np.nan, \"No\", inplace=True)"
   ]
  },
  {
   "cell_type": "code",
   "execution_count": 228,
   "id": "5858ff67",
   "metadata": {
    "tags": []
   },
   "outputs": [
    {
     "data": {
      "text/plain": [
       "NaN    17036\n",
       "Yes    11594\n",
       "Name: Non_Smoker_Vehicle, dtype: int64"
      ]
     },
     "execution_count": 228,
     "metadata": {},
     "output_type": "execute_result"
    }
   ],
   "source": [
    "df['Non_Smoker_Vehicle'].value_counts(dropna=False)"
   ]
  },
  {
   "cell_type": "code",
   "execution_count": 204,
   "id": "63018dcb-5fee-4012-ade6-d9727d4edd8c",
   "metadata": {},
   "outputs": [
    {
     "data": {
      "text/plain": [
       "(28630, 35)"
      ]
     },
     "execution_count": 204,
     "metadata": {},
     "output_type": "execute_result"
    }
   ],
   "source": [
    "df.shape"
   ]
  },
  {
   "cell_type": "code",
   "execution_count": 205,
   "id": "7d60714a",
   "metadata": {},
   "outputs": [],
   "source": [
    "df.drop('Non_Smoker_Vehicle', axis = 1, inplace = True)"
   ]
  },
  {
   "cell_type": "code",
   "execution_count": 206,
   "id": "d36edaa5-bfd6-4d5a-b88d-848b53662cb8",
   "metadata": {},
   "outputs": [
    {
     "data": {
      "text/plain": [
       "(28630, 34)"
      ]
     },
     "execution_count": 206,
     "metadata": {},
     "output_type": "execute_result"
    }
   ],
   "source": [
    "df.shape"
   ]
  },
  {
   "cell_type": "markdown",
   "id": "68078ee3",
   "metadata": {},
   "source": [
    "### Emission_Class"
   ]
  },
  {
   "cell_type": "code",
   "execution_count": 207,
   "id": "2bf738a6",
   "metadata": {},
   "outputs": [
    {
     "name": "stdout",
     "output_type": "stream",
     "text": [
      "column name    :  Emission_Class\n",
      "--------------------------------\n",
      "per_of_nulls   :  % 37.62\n",
      "num_of_nulls   :  10771\n",
      "num_of_uniques :  10\n",
      "--------------------------------\n",
      "NaN             10771\n",
      "Euro 6           6418\n",
      "Euro 6d-TEMP     3399\n",
      "Euro 6d          2858\n",
      "Euro 5           2389\n",
      "Euro 4           1743\n",
      "Euro 3            523\n",
      "Euro 2            217\n",
      "Euro 1            172\n",
      "Euro 6c           140\n",
      "Name: Emission_Class, dtype: int64\n"
     ]
    }
   ],
   "source": [
    "first_looking('Emission_Class')"
   ]
  },
  {
   "cell_type": "code",
   "execution_count": 208,
   "id": "b06b5718-eef3-40d0-a72b-3f02d3e82c4c",
   "metadata": {},
   "outputs": [],
   "source": [
    "# Whether your car is Euro 6, Euro 6c, Euro 6d-TEMP, or Euro 6d, the emission amounts are the same.\n",
    "\n",
    "Euro_6 = [\"Euro 6\", \"Euro 6d-TEMP\", \"Euro 6d\", \"Euro 6c\"]\n",
    "\n",
    "def emissionclass(x):\n",
    "    if x in Euro_6:\n",
    "        return \"Euro 6\"\n",
    "    else:\n",
    "        return x\n",
    "\n",
    "df[\"Emission_Class\"] = df[\"Emission_Class\"].apply(emissionclass)"
   ]
  },
  {
   "cell_type": "code",
   "execution_count": 209,
   "id": "bd417e25-305e-43d5-8d88-010edeedc8e0",
   "metadata": {},
   "outputs": [
    {
     "data": {
      "text/plain": [
       "Euro 6    12815\n",
       "NaN       10771\n",
       "Euro 5     2389\n",
       "Euro 4     1743\n",
       "Euro 3      523\n",
       "Euro 2      217\n",
       "Euro 1      172\n",
       "Name: Emission_Class, dtype: int64"
      ]
     },
     "execution_count": 209,
     "metadata": {},
     "output_type": "execute_result"
    }
   ],
   "source": [
    "df[\"Emission_Class\"].value_counts(dropna=False)"
   ]
  },
  {
   "cell_type": "code",
   "execution_count": 210,
   "id": "5d183518-3df6-445f-9e73-4dd2a5c38332",
   "metadata": {},
   "outputs": [
    {
     "data": {
      "text/plain": [
       "(28630, 34)"
      ]
     },
     "execution_count": 210,
     "metadata": {},
     "output_type": "execute_result"
    }
   ],
   "source": [
    "df.shape"
   ]
  },
  {
   "cell_type": "code",
   "execution_count": 211,
   "id": "96e8c413",
   "metadata": {
    "tags": []
   },
   "outputs": [],
   "source": [
    "df.drop('Emission_Class', axis = 1, inplace = True)"
   ]
  },
  {
   "cell_type": "code",
   "execution_count": 212,
   "id": "7ebfdc04-1954-43eb-8abf-64320c0608fe",
   "metadata": {},
   "outputs": [
    {
     "data": {
      "text/plain": [
       "(28630, 33)"
      ]
     },
     "execution_count": 212,
     "metadata": {},
     "output_type": "execute_result"
    }
   ],
   "source": [
    "df.shape"
   ]
  },
  {
   "cell_type": "markdown",
   "id": "1a63f738",
   "metadata": {},
   "source": [
    "### Emissions_Sticker"
   ]
  },
  {
   "cell_type": "code",
   "execution_count": 213,
   "id": "3e0b91a2",
   "metadata": {},
   "outputs": [
    {
     "name": "stdout",
     "output_type": "stream",
     "text": [
      "column name    :  Emissions_Sticker\n",
      "--------------------------------\n",
      "per_of_nulls   :  % 67.12\n",
      "num_of_nulls   :  19216\n",
      "num_of_uniques :  5\n",
      "--------------------------------\n",
      "NaN               19216\n",
      "4 (Green)          9230\n",
      "1 (No sticker)      176\n",
      "3 (Yellow)            6\n",
      "2 (Red)               2\n",
      "Name: Emissions_Sticker, dtype: int64\n"
     ]
    }
   ],
   "source": [
    "first_looking('Emissions_Sticker')"
   ]
  },
  {
   "cell_type": "code",
   "execution_count": 214,
   "id": "cfec3738",
   "metadata": {},
   "outputs": [
    {
     "data": {
      "text/plain": [
       "NaN               19216\n",
       "4 (Green)          9230\n",
       "1 (No sticker)      176\n",
       "3 (Yellow)            6\n",
       "2 (Red)               2\n",
       "Name: Emissions_Sticker, dtype: int64"
      ]
     },
     "execution_count": 214,
     "metadata": {},
     "output_type": "execute_result"
    }
   ],
   "source": [
    "df['Emissions_Sticker'].value_counts(dropna=False)"
   ]
  },
  {
   "cell_type": "code",
   "execution_count": 215,
   "id": "acacb8dc",
   "metadata": {},
   "outputs": [],
   "source": [
    "df.drop('Emissions_Sticker', axis=1, inplace=True)"
   ]
  },
  {
   "cell_type": "code",
   "execution_count": 216,
   "id": "eb5e28ff-73d0-43d7-8944-d08df9800bc1",
   "metadata": {},
   "outputs": [
    {
     "data": {
      "text/plain": [
       "(28630, 32)"
      ]
     },
     "execution_count": 216,
     "metadata": {},
     "output_type": "execute_result"
    }
   ],
   "source": [
    "df.shape"
   ]
  },
  {
   "cell_type": "markdown",
   "id": "cee21b1e",
   "metadata": {},
   "source": [
    "### Upholstery_Colour"
   ]
  },
  {
   "cell_type": "code",
   "execution_count": 217,
   "id": "4910278a",
   "metadata": {},
   "outputs": [
    {
     "name": "stdout",
     "output_type": "stream",
     "text": [
      "column name    :  Upholstery_Colour\n",
      "--------------------------------\n",
      "per_of_nulls   :  % 49.11\n",
      "num_of_nulls   :  14061\n",
      "num_of_uniques :  12\n",
      "--------------------------------\n",
      "NaN       14061\n",
      "Black     10416\n",
      "Grey       2038\n",
      "Other      1003\n",
      "Beige       466\n",
      "Brown       275\n",
      "Red         159\n",
      "White        93\n",
      "Blue         82\n",
      "Orange       23\n",
      "Green         8\n",
      "Yellow        6\n",
      "Name: Upholstery_Colour, dtype: int64\n"
     ]
    }
   ],
   "source": [
    "first_looking('Upholstery_Colour')"
   ]
  },
  {
   "cell_type": "code",
   "execution_count": 218,
   "id": "4e7edf95",
   "metadata": {},
   "outputs": [
    {
     "data": {
      "text/plain": [
       "NaN       14061\n",
       "Black     10416\n",
       "Grey       2038\n",
       "Other      1003\n",
       "Beige       466\n",
       "Brown       275\n",
       "Red         159\n",
       "White        93\n",
       "Blue         82\n",
       "Orange       23\n",
       "Green         8\n",
       "Yellow        6\n",
       "Name: Upholstery_Colour, dtype: int64"
      ]
     },
     "execution_count": 218,
     "metadata": {},
     "output_type": "execute_result"
    }
   ],
   "source": [
    "df['Upholstery_Colour'].value_counts(dropna=False)"
   ]
  },
  {
   "cell_type": "code",
   "execution_count": 219,
   "id": "d705f6d1",
   "metadata": {},
   "outputs": [
    {
     "data": {
      "text/plain": [
       "(28630, 32)"
      ]
     },
     "execution_count": 219,
     "metadata": {},
     "output_type": "execute_result"
    }
   ],
   "source": [
    "df.shape"
   ]
  },
  {
   "cell_type": "code",
   "execution_count": 220,
   "id": "19208ae8",
   "metadata": {
    "tags": []
   },
   "outputs": [],
   "source": [
    "df.drop('Upholstery_Colour', axis=1, inplace=True)"
   ]
  },
  {
   "cell_type": "code",
   "execution_count": 221,
   "id": "8d56a38b-4a4b-4a3a-b66a-ddca77ba95ad",
   "metadata": {},
   "outputs": [
    {
     "data": {
      "text/plain": [
       "(28630, 31)"
      ]
     },
     "execution_count": 221,
     "metadata": {},
     "output_type": "execute_result"
    }
   ],
   "source": [
    "df.shape"
   ]
  },
  {
   "cell_type": "markdown",
   "id": "90975ecc",
   "metadata": {},
   "source": [
    "### Upholstery"
   ]
  },
  {
   "cell_type": "code",
   "execution_count": 222,
   "id": "bb76c983",
   "metadata": {},
   "outputs": [
    {
     "name": "stdout",
     "output_type": "stream",
     "text": [
      "column name    :  Upholstery\n",
      "--------------------------------\n",
      "per_of_nulls   :  % 35.0\n",
      "num_of_nulls   :  10020\n",
      "num_of_uniques :  7\n",
      "--------------------------------\n",
      "NaN             10020\n",
      "Cloth            8736\n",
      "Full leather     5439\n",
      "Part leather     2835\n",
      "alcantara         764\n",
      "Other             628\n",
      "Velour            208\n",
      "Name: Upholstery, dtype: int64\n"
     ]
    }
   ],
   "source": [
    "first_looking('Upholstery')"
   ]
  },
  {
   "cell_type": "markdown",
   "id": "372100dc",
   "metadata": {},
   "source": [
    "### Previous_Owner"
   ]
  },
  {
   "cell_type": "code",
   "execution_count": 224,
   "id": "f53ee77e",
   "metadata": {},
   "outputs": [
    {
     "name": "stdout",
     "output_type": "stream",
     "text": [
      "column name    :  Previous_Owner\n",
      "--------------------------------\n",
      "per_of_nulls   :  % 51.05\n",
      "num_of_nulls   :  14615\n",
      "num_of_uniques :  11734\n",
      "--------------------------------\n",
      "NaN                           14615\n",
      "[[50 km, 06/2022], 1]            64\n",
      "[[10 km, 08/2022], 1]            59\n",
      "[[10 km, 07/2022], 1]            45\n",
      "[[10 km, 09/2022], 1]            38\n",
      "                              ...  \n",
      "[[358,000 km, 10/2010], 2]        1\n",
      "[[165,400 km, 09/2010], 1]        1\n",
      "[[65,000 km, 10/2006], 1]         1\n",
      "[[71,000 km, 04/2013], 1]         1\n",
      "[[230,047 km, 07/2002], 5]        1\n",
      "Name: Previous_Owner, Length: 11734, dtype: int64\n"
     ]
    }
   ],
   "source": [
    "first_looking('Previous_Owner')"
   ]
  },
  {
   "cell_type": "code",
   "execution_count": 226,
   "id": "d5931c13",
   "metadata": {},
   "outputs": [],
   "source": [
    "df.drop(\"Previous_Owner\", axis=1, inplace=True)"
   ]
  },
  {
   "cell_type": "code",
   "execution_count": 227,
   "id": "e722908b",
   "metadata": {},
   "outputs": [
    {
     "data": {
      "text/plain": [
       "(28630, 30)"
      ]
     },
     "execution_count": 227,
     "metadata": {},
     "output_type": "execute_result"
    }
   ],
   "source": [
    "df.shape"
   ]
  },
  {
   "cell_type": "markdown",
   "id": "f4b26d36",
   "metadata": {},
   "source": [
    "### Energy_Efficiency_Class"
   ]
  },
  {
   "cell_type": "markdown",
   "id": "935164fc",
   "metadata": {},
   "source": [
    "Energy class is a concept that proves to the consumer how successful an electronic product is in terms of energy efficiency.\n",
    "Accordingly, the green \"A+\" icon is on the most economical vehicles; Vehicles with medium fuel consumption will have yellow.The red letter \"G\" will be found on cars that consume the most fuel."
   ]
  },
  {
   "cell_type": "code",
   "execution_count": 228,
   "id": "753c2a31",
   "metadata": {},
   "outputs": [
    {
     "name": "stdout",
     "output_type": "stream",
     "text": [
      "column name    :  Energy_Efficiency_Class\n",
      "--------------------------------\n",
      "per_of_nulls   :  % 72.74\n",
      "num_of_nulls   :  20826\n",
      "num_of_uniques :  11\n",
      "--------------------------------\n",
      "NaN     20826\n",
      "B        2090\n",
      "A        1687\n",
      "C        1133\n",
      "A+       1089\n",
      "D         636\n",
      "A+++      375\n",
      "G         309\n",
      "E         271\n",
      "F         147\n",
      "A++        67\n",
      "Name: Energy_Efficiency_Class, dtype: int64\n"
     ]
    }
   ],
   "source": [
    "first_looking(\"Energy_Efficiency_Class\")"
   ]
  },
  {
   "cell_type": "code",
   "execution_count": 230,
   "id": "7057ca2d",
   "metadata": {},
   "outputs": [],
   "source": [
    "efficient = [\"A\", \"A+\", \"A++\", \"A+++\", \"B\"]\n",
    "unefficient = [\"C\", \"D\", \"E\", \"F\", \"G\"]\n",
    "\n",
    "def energyefficiency(x):\n",
    "    if x in efficient:\n",
    "        return \"efficient\"\n",
    "    elif x in unefficient:\n",
    "        return \"unefficient\"    \n",
    "    else:\n",
    "        return x\n",
    "\n",
    "df[\"Energy_Efficiency_Class\"] = df[\"Energy_Efficiency_Class\"].apply(energyefficiency)"
   ]
  },
  {
   "cell_type": "code",
   "execution_count": 231,
   "id": "f5f1caed",
   "metadata": {},
   "outputs": [
    {
     "data": {
      "text/plain": [
       "NaN            20826\n",
       "efficient       5308\n",
       "unefficient     2496\n",
       "Name: Energy_Efficiency_Class, dtype: int64"
      ]
     },
     "execution_count": 231,
     "metadata": {},
     "output_type": "execute_result"
    }
   ],
   "source": [
    "df[\"Energy_Efficiency_Class\"].value_counts(dropna=False)"
   ]
  },
  {
   "cell_type": "markdown",
   "id": "53bafc76",
   "metadata": {},
   "source": [
    "### CO2_Efficiency"
   ]
  },
  {
   "cell_type": "code",
   "execution_count": 232,
   "id": "0eac3c48",
   "metadata": {},
   "outputs": [
    {
     "name": "stdout",
     "output_type": "stream",
     "text": [
      "column name    :  CO2_Efficiency\n",
      "--------------------------------\n",
      "per_of_nulls   :  % 72.74\n",
      "num_of_nulls   :  20826\n",
      "num_of_uniques :  2\n",
      "--------------------------------\n",
      "NaN                                                                                           20826\n",
      "Calculated on basis of measured CO₂-emissions taking into account the mass of the vehicle.     7804\n",
      "Name: CO2_Efficiency, dtype: int64\n"
     ]
    }
   ],
   "source": [
    "first_looking(\"CO2_Efficiency\")"
   ]
  },
  {
   "cell_type": "code",
   "execution_count": 233,
   "id": "5eff8f62",
   "metadata": {},
   "outputs": [
    {
     "data": {
      "text/plain": [
       "(28630, 30)"
      ]
     },
     "execution_count": 233,
     "metadata": {},
     "output_type": "execute_result"
    }
   ],
   "source": [
    "df.shape"
   ]
  },
  {
   "cell_type": "code",
   "execution_count": 234,
   "id": "d230c056",
   "metadata": {
    "tags": []
   },
   "outputs": [],
   "source": [
    "df.drop('CO2_Efficiency', axis = 1, inplace = True)"
   ]
  },
  {
   "cell_type": "code",
   "execution_count": 238,
   "id": "579642ca-f688-4dd7-816b-44bce69f6dab",
   "metadata": {
    "tags": []
   },
   "outputs": [
    {
     "data": {
      "text/plain": [
       "(28630, 28)"
      ]
     },
     "execution_count": 238,
     "metadata": {},
     "output_type": "execute_result"
    }
   ],
   "source": [
    "df.shape"
   ]
  },
  {
   "cell_type": "markdown",
   "id": "938b504f-5ad6-413d-9cb6-97e627c2771b",
   "metadata": {},
   "source": [
    "### Now I can save my cleaned file as in csv format."
   ]
  },
  {
   "cell_type": "code",
   "execution_count": 239,
   "id": "b3008961-0980-4339-81d4-bfd56e5c1afb",
   "metadata": {},
   "outputs": [
    {
     "data": {
      "text/plain": [
       "(28630, 28)"
      ]
     },
     "metadata": {},
     "output_type": "display_data"
    },
    {
     "name": "stdout",
     "output_type": "stream",
     "text": [
      "0 29478\n"
     ]
    },
    {
     "data": {
      "text/plain": [
       "(28630, 28)"
      ]
     },
     "metadata": {},
     "output_type": "display_data"
    },
    {
     "name": "stdout",
     "output_type": "stream",
     "text": [
      "0 28629\n"
     ]
    }
   ],
   "source": [
    "display(df.shape)\n",
    "print(df.index[0], df.index[-1])\n",
    "\n",
    "df = df.reset_index(drop=True)\n",
    "\n",
    "display(df.shape)\n",
    "print(df.index[0], df.index[-1])"
   ]
  },
  {
   "cell_type": "markdown",
   "id": "0da067d0-9a0a-4926-a62d-3c93a81f87e9",
   "metadata": {
    "tags": []
   },
   "source": [
    "### I started with 58 columns at the beginning of the analysis, now I have 28 columns."
   ]
  },
  {
   "cell_type": "code",
   "execution_count": 240,
   "id": "1ae0acbc-71b2-402e-891a-104aa0585db1",
   "metadata": {},
   "outputs": [
    {
     "data": {
      "text/html": [
       "<div>\n",
       "<style scoped>\n",
       "    .dataframe tbody tr th:only-of-type {\n",
       "        vertical-align: middle;\n",
       "    }\n",
       "\n",
       "    .dataframe tbody tr th {\n",
       "        vertical-align: top;\n",
       "    }\n",
       "\n",
       "    .dataframe thead th {\n",
       "        text-align: right;\n",
       "    }\n",
       "</style>\n",
       "<table border=\"1\" class=\"dataframe\">\n",
       "  <thead>\n",
       "    <tr style=\"text-align: right;\">\n",
       "      <th></th>\n",
       "      <th>0</th>\n",
       "      <th>1</th>\n",
       "      <th>2</th>\n",
       "      <th>3</th>\n",
       "      <th>4</th>\n",
       "    </tr>\n",
       "  </thead>\n",
       "  <tbody>\n",
       "    <tr>\n",
       "      <th>Make_Model</th>\n",
       "      <td>Mercedes-Benz A 160</td>\n",
       "      <td>Mercedes-Benz EQE 350</td>\n",
       "      <td>Mercedes-Benz A 45 AMG</td>\n",
       "      <td>Mercedes-Benz A 35 AMG</td>\n",
       "      <td>Mercedes-Benz A 45 AMG</td>\n",
       "    </tr>\n",
       "    <tr>\n",
       "      <th>Location</th>\n",
       "      <td>ES</td>\n",
       "      <td>ES</td>\n",
       "      <td>ES</td>\n",
       "      <td>ES</td>\n",
       "      <td>ES</td>\n",
       "    </tr>\n",
       "    <tr>\n",
       "      <th>Price</th>\n",
       "      <td>16950.0</td>\n",
       "      <td>80900.0</td>\n",
       "      <td>69900.0</td>\n",
       "      <td>46990.0</td>\n",
       "      <td>16800.0</td>\n",
       "    </tr>\n",
       "    <tr>\n",
       "      <th>Body_Type</th>\n",
       "      <td>Compact</td>\n",
       "      <td>Compact</td>\n",
       "      <td>Compact</td>\n",
       "      <td>Compact</td>\n",
       "      <td>Compact</td>\n",
       "    </tr>\n",
       "    <tr>\n",
       "      <th>Type</th>\n",
       "      <td>Used</td>\n",
       "      <td>Pre-registered</td>\n",
       "      <td>Used</td>\n",
       "      <td>Used</td>\n",
       "      <td>Used</td>\n",
       "    </tr>\n",
       "    <tr>\n",
       "      <th>Doors</th>\n",
       "      <td>5.0</td>\n",
       "      <td>4.0</td>\n",
       "      <td>5.0</td>\n",
       "      <td>5.0</td>\n",
       "      <td>5.0</td>\n",
       "    </tr>\n",
       "    <tr>\n",
       "      <th>Mileage</th>\n",
       "      <td>120200.0</td>\n",
       "      <td>5000.0</td>\n",
       "      <td>18900.0</td>\n",
       "      <td>18995.0</td>\n",
       "      <td>197000.0</td>\n",
       "    </tr>\n",
       "    <tr>\n",
       "      <th>Gearbox</th>\n",
       "      <td>Manual</td>\n",
       "      <td>Automatic</td>\n",
       "      <td>Automatic</td>\n",
       "      <td>Automatic</td>\n",
       "      <td>Automatic</td>\n",
       "    </tr>\n",
       "    <tr>\n",
       "      <th>Fuel_Type</th>\n",
       "      <td>Diesel</td>\n",
       "      <td>Electric</td>\n",
       "      <td>Benzine</td>\n",
       "      <td>Benzine</td>\n",
       "      <td>Diesel</td>\n",
       "    </tr>\n",
       "    <tr>\n",
       "      <th>Seller</th>\n",
       "      <td>Dealer</td>\n",
       "      <td>Dealer</td>\n",
       "      <td>Dealer</td>\n",
       "      <td>Dealer</td>\n",
       "      <td>Dealer</td>\n",
       "    </tr>\n",
       "    <tr>\n",
       "      <th>Seats</th>\n",
       "      <td>NaN</td>\n",
       "      <td>5.0</td>\n",
       "      <td>5.0</td>\n",
       "      <td>5.0</td>\n",
       "      <td>5.0</td>\n",
       "    </tr>\n",
       "    <tr>\n",
       "      <th>Engine_Size</th>\n",
       "      <td>NaN</td>\n",
       "      <td>1.0</td>\n",
       "      <td>1991.0</td>\n",
       "      <td>1991.0</td>\n",
       "      <td>2143.0</td>\n",
       "    </tr>\n",
       "    <tr>\n",
       "      <th>Gears</th>\n",
       "      <td>NaN</td>\n",
       "      <td>9.0</td>\n",
       "      <td>8.0</td>\n",
       "      <td>7.0</td>\n",
       "      <td>7.0</td>\n",
       "    </tr>\n",
       "    <tr>\n",
       "      <th>CO2_Emissions</th>\n",
       "      <td>NaN</td>\n",
       "      <td>0.0</td>\n",
       "      <td>NaN</td>\n",
       "      <td>NaN</td>\n",
       "      <td>NaN</td>\n",
       "    </tr>\n",
       "    <tr>\n",
       "      <th>Drivetrain</th>\n",
       "      <td>NaN</td>\n",
       "      <td>NaN</td>\n",
       "      <td>4WD</td>\n",
       "      <td>4WD</td>\n",
       "      <td>4WD</td>\n",
       "    </tr>\n",
       "    <tr>\n",
       "      <th>Cylinders</th>\n",
       "      <td>NaN</td>\n",
       "      <td>NaN</td>\n",
       "      <td>4.0</td>\n",
       "      <td>4.0</td>\n",
       "      <td>4.0</td>\n",
       "    </tr>\n",
       "    <tr>\n",
       "      <th>Comfort_Convenience</th>\n",
       "      <td>NaN</td>\n",
       "      <td>NaN</td>\n",
       "      <td>NaN</td>\n",
       "      <td>Air conditioning, Automatic climate control, P...</td>\n",
       "      <td>Air conditioning, Electrical side mirrors, Mul...</td>\n",
       "    </tr>\n",
       "    <tr>\n",
       "      <th>Entertainment_Media</th>\n",
       "      <td>NaN</td>\n",
       "      <td>NaN</td>\n",
       "      <td>NaN</td>\n",
       "      <td>USB</td>\n",
       "      <td>Bluetooth, CD player, MP3, USB</td>\n",
       "    </tr>\n",
       "    <tr>\n",
       "      <th>Safety_Security</th>\n",
       "      <td>NaN</td>\n",
       "      <td>NaN</td>\n",
       "      <td>NaN</td>\n",
       "      <td>ABS, Central door lock, Driver-side airbag, El...</td>\n",
       "      <td>ABS, Central door lock, Driver-side airbag, El...</td>\n",
       "    </tr>\n",
       "    <tr>\n",
       "      <th>Extras</th>\n",
       "      <td>NaN</td>\n",
       "      <td>NaN</td>\n",
       "      <td>NaN</td>\n",
       "      <td>Sport seats</td>\n",
       "      <td>NaN</td>\n",
       "    </tr>\n",
       "    <tr>\n",
       "      <th>Empty_Weight</th>\n",
       "      <td>NaN</td>\n",
       "      <td>NaN</td>\n",
       "      <td>NaN</td>\n",
       "      <td>NaN</td>\n",
       "      <td>1545.0</td>\n",
       "    </tr>\n",
       "    <tr>\n",
       "      <th>Full_Service_History</th>\n",
       "      <td>No</td>\n",
       "      <td>No</td>\n",
       "      <td>No</td>\n",
       "      <td>No</td>\n",
       "      <td>No</td>\n",
       "    </tr>\n",
       "    <tr>\n",
       "      <th>Upholstery</th>\n",
       "      <td>NaN</td>\n",
       "      <td>NaN</td>\n",
       "      <td>NaN</td>\n",
       "      <td>NaN</td>\n",
       "      <td>NaN</td>\n",
       "    </tr>\n",
       "    <tr>\n",
       "      <th>Energy_Efficiency_Class</th>\n",
       "      <td>NaN</td>\n",
       "      <td>NaN</td>\n",
       "      <td>NaN</td>\n",
       "      <td>NaN</td>\n",
       "      <td>NaN</td>\n",
       "    </tr>\n",
       "    <tr>\n",
       "      <th>Age</th>\n",
       "      <td>6.0</td>\n",
       "      <td>0.0</td>\n",
       "      <td>2.0</td>\n",
       "      <td>2.0</td>\n",
       "      <td>7.0</td>\n",
       "    </tr>\n",
       "    <tr>\n",
       "      <th>power_kW</th>\n",
       "      <td>NaN</td>\n",
       "      <td>215.0</td>\n",
       "      <td>310.0</td>\n",
       "      <td>225.0</td>\n",
       "      <td>100.0</td>\n",
       "    </tr>\n",
       "    <tr>\n",
       "      <th>power_hp</th>\n",
       "      <td>NaN</td>\n",
       "      <td>292.0</td>\n",
       "      <td>421.0</td>\n",
       "      <td>306.0</td>\n",
       "      <td>136.0</td>\n",
       "    </tr>\n",
       "    <tr>\n",
       "      <th>Fuel_Consumption_comb</th>\n",
       "      <td>NaN</td>\n",
       "      <td>NaN</td>\n",
       "      <td>8.4</td>\n",
       "      <td>7.3</td>\n",
       "      <td>4.9</td>\n",
       "    </tr>\n",
       "  </tbody>\n",
       "</table>\n",
       "</div>"
      ],
      "text/plain": [
       "                                           0                      1  \\\n",
       "Make_Model               Mercedes-Benz A 160  Mercedes-Benz EQE 350   \n",
       "Location                                  ES                     ES   \n",
       "Price                                16950.0                80900.0   \n",
       "Body_Type                            Compact                Compact   \n",
       "Type                                    Used         Pre-registered   \n",
       "Doors                                    5.0                    4.0   \n",
       "Mileage                             120200.0                 5000.0   \n",
       "Gearbox                               Manual              Automatic   \n",
       "Fuel_Type                             Diesel               Electric   \n",
       "Seller                                Dealer                 Dealer   \n",
       "Seats                                    NaN                    5.0   \n",
       "Engine_Size                              NaN                    1.0   \n",
       "Gears                                    NaN                    9.0   \n",
       "CO2_Emissions                            NaN                    0.0   \n",
       "Drivetrain                               NaN                    NaN   \n",
       "Cylinders                                NaN                    NaN   \n",
       "Comfort_Convenience                      NaN                    NaN   \n",
       "Entertainment_Media                      NaN                    NaN   \n",
       "Safety_Security                          NaN                    NaN   \n",
       "Extras                                   NaN                    NaN   \n",
       "Empty_Weight                             NaN                    NaN   \n",
       "Full_Service_History                      No                     No   \n",
       "Upholstery                               NaN                    NaN   \n",
       "Energy_Efficiency_Class                  NaN                    NaN   \n",
       "Age                                      6.0                    0.0   \n",
       "power_kW                                 NaN                  215.0   \n",
       "power_hp                                 NaN                  292.0   \n",
       "Fuel_Consumption_comb                    NaN                    NaN   \n",
       "\n",
       "                                              2  \\\n",
       "Make_Model               Mercedes-Benz A 45 AMG   \n",
       "Location                                     ES   \n",
       "Price                                   69900.0   \n",
       "Body_Type                               Compact   \n",
       "Type                                       Used   \n",
       "Doors                                       5.0   \n",
       "Mileage                                 18900.0   \n",
       "Gearbox                               Automatic   \n",
       "Fuel_Type                               Benzine   \n",
       "Seller                                   Dealer   \n",
       "Seats                                       5.0   \n",
       "Engine_Size                              1991.0   \n",
       "Gears                                       8.0   \n",
       "CO2_Emissions                               NaN   \n",
       "Drivetrain                                  4WD   \n",
       "Cylinders                                   4.0   \n",
       "Comfort_Convenience                         NaN   \n",
       "Entertainment_Media                         NaN   \n",
       "Safety_Security                             NaN   \n",
       "Extras                                      NaN   \n",
       "Empty_Weight                                NaN   \n",
       "Full_Service_History                         No   \n",
       "Upholstery                                  NaN   \n",
       "Energy_Efficiency_Class                     NaN   \n",
       "Age                                         2.0   \n",
       "power_kW                                  310.0   \n",
       "power_hp                                  421.0   \n",
       "Fuel_Consumption_comb                       8.4   \n",
       "\n",
       "                                                                         3  \\\n",
       "Make_Model                                          Mercedes-Benz A 35 AMG   \n",
       "Location                                                                ES   \n",
       "Price                                                              46990.0   \n",
       "Body_Type                                                          Compact   \n",
       "Type                                                                  Used   \n",
       "Doors                                                                  5.0   \n",
       "Mileage                                                            18995.0   \n",
       "Gearbox                                                          Automatic   \n",
       "Fuel_Type                                                          Benzine   \n",
       "Seller                                                              Dealer   \n",
       "Seats                                                                  5.0   \n",
       "Engine_Size                                                         1991.0   \n",
       "Gears                                                                  7.0   \n",
       "CO2_Emissions                                                          NaN   \n",
       "Drivetrain                                                             4WD   \n",
       "Cylinders                                                              4.0   \n",
       "Comfort_Convenience      Air conditioning, Automatic climate control, P...   \n",
       "Entertainment_Media                                                    USB   \n",
       "Safety_Security          ABS, Central door lock, Driver-side airbag, El...   \n",
       "Extras                                                         Sport seats   \n",
       "Empty_Weight                                                           NaN   \n",
       "Full_Service_History                                                    No   \n",
       "Upholstery                                                             NaN   \n",
       "Energy_Efficiency_Class                                                NaN   \n",
       "Age                                                                    2.0   \n",
       "power_kW                                                             225.0   \n",
       "power_hp                                                             306.0   \n",
       "Fuel_Consumption_comb                                                  7.3   \n",
       "\n",
       "                                                                         4  \n",
       "Make_Model                                          Mercedes-Benz A 45 AMG  \n",
       "Location                                                                ES  \n",
       "Price                                                              16800.0  \n",
       "Body_Type                                                          Compact  \n",
       "Type                                                                  Used  \n",
       "Doors                                                                  5.0  \n",
       "Mileage                                                           197000.0  \n",
       "Gearbox                                                          Automatic  \n",
       "Fuel_Type                                                           Diesel  \n",
       "Seller                                                              Dealer  \n",
       "Seats                                                                  5.0  \n",
       "Engine_Size                                                         2143.0  \n",
       "Gears                                                                  7.0  \n",
       "CO2_Emissions                                                          NaN  \n",
       "Drivetrain                                                             4WD  \n",
       "Cylinders                                                              4.0  \n",
       "Comfort_Convenience      Air conditioning, Electrical side mirrors, Mul...  \n",
       "Entertainment_Media                         Bluetooth, CD player, MP3, USB  \n",
       "Safety_Security          ABS, Central door lock, Driver-side airbag, El...  \n",
       "Extras                                                                 NaN  \n",
       "Empty_Weight                                                        1545.0  \n",
       "Full_Service_History                                                    No  \n",
       "Upholstery                                                             NaN  \n",
       "Energy_Efficiency_Class                                                NaN  \n",
       "Age                                                                    7.0  \n",
       "power_kW                                                             100.0  \n",
       "power_hp                                                             136.0  \n",
       "Fuel_Consumption_comb                                                  4.9  "
      ]
     },
     "execution_count": 240,
     "metadata": {},
     "output_type": "execute_result"
    }
   ],
   "source": [
    "df.head().T"
   ]
  },
  {
   "cell_type": "code",
   "execution_count": 241,
   "id": "8ca5ca37",
   "metadata": {},
   "outputs": [],
   "source": [
    "df.to_csv(\"Autoscout_cleaning.csv\", index=False)"
   ]
  }
 ],
 "metadata": {
  "kernelspec": {
   "display_name": "Python 3 (ipykernel)",
   "language": "python",
   "name": "python3"
  },
  "language_info": {
   "codemirror_mode": {
    "name": "ipython",
    "version": 3
   },
   "file_extension": ".py",
   "mimetype": "text/x-python",
   "name": "python",
   "nbconvert_exporter": "python",
   "pygments_lexer": "ipython3",
   "version": "3.9.12"
  }
 },
 "nbformat": 4,
 "nbformat_minor": 5
}
