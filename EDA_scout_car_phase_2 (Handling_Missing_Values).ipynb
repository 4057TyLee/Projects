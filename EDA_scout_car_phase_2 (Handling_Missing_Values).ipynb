{
 "cells": [
  {
   "cell_type": "markdown",
   "id": "cab19512-db15-4d0c-a02b-e81089f82f37",
   "metadata": {},
   "source": [
    "### Importing Libraries Needed in This Notebook"
   ]
  },
  {
   "cell_type": "code",
   "execution_count": 1,
   "id": "c66471ac",
   "metadata": {},
   "outputs": [],
   "source": [
    "import numpy as np\n",
    "import pandas as pd\n",
    "import matplotlib.pyplot as plt\n",
    "import seaborn as sns\n",
    "\n",
    "import matplotlib.pyplot as plt\n",
    "plt.style.use('seaborn-whitegrid')\n",
    "import seaborn as sbn \n",
    "sbn.set_style('whitegrid')\n",
    "%matplotlib inline\n",
    "\n",
    "import warnings\n",
    "warnings.filterwarnings(\"ignore\")\n",
    "warnings.warn(\"this will not show\")\n",
    "\n",
    "# Set it None to display all rows in the dataframe\n",
    "# pd.set_option('display.max_rows', None)\n",
    "\n",
    "# Set it to None to display all columns in the dataframe\n",
    "pd.set_option('display.max_columns', None)"
   ]
  },
  {
   "cell_type": "code",
   "execution_count": 2,
   "id": "4f5973df",
   "metadata": {},
   "outputs": [],
   "source": [
    "df0 = pd.read_csv(\"Autoscout_cleaning.csv\")\n",
    "df = df0.copy()"
   ]
  },
  {
   "cell_type": "code",
   "execution_count": 3,
   "id": "a39de39b-908c-4495-98aa-92d371f4efd4",
   "metadata": {},
   "outputs": [
    {
     "data": {
      "text/html": [
       "<div>\n",
       "<style scoped>\n",
       "    .dataframe tbody tr th:only-of-type {\n",
       "        vertical-align: middle;\n",
       "    }\n",
       "\n",
       "    .dataframe tbody tr th {\n",
       "        vertical-align: top;\n",
       "    }\n",
       "\n",
       "    .dataframe thead th {\n",
       "        text-align: right;\n",
       "    }\n",
       "</style>\n",
       "<table border=\"1\" class=\"dataframe\">\n",
       "  <thead>\n",
       "    <tr style=\"text-align: right;\">\n",
       "      <th></th>\n",
       "      <th>0</th>\n",
       "      <th>1</th>\n",
       "      <th>2</th>\n",
       "    </tr>\n",
       "  </thead>\n",
       "  <tbody>\n",
       "    <tr>\n",
       "      <th>Make_Model</th>\n",
       "      <td>Mercedes-Benz A 160</td>\n",
       "      <td>Mercedes-Benz EQE 350</td>\n",
       "      <td>Mercedes-Benz A 45 AMG</td>\n",
       "    </tr>\n",
       "    <tr>\n",
       "      <th>Location</th>\n",
       "      <td>ES</td>\n",
       "      <td>ES</td>\n",
       "      <td>ES</td>\n",
       "    </tr>\n",
       "    <tr>\n",
       "      <th>Price</th>\n",
       "      <td>16950.0</td>\n",
       "      <td>80900.0</td>\n",
       "      <td>69900.0</td>\n",
       "    </tr>\n",
       "    <tr>\n",
       "      <th>Body_Type</th>\n",
       "      <td>Compact</td>\n",
       "      <td>Compact</td>\n",
       "      <td>Compact</td>\n",
       "    </tr>\n",
       "    <tr>\n",
       "      <th>Type</th>\n",
       "      <td>Used</td>\n",
       "      <td>Pre-registered</td>\n",
       "      <td>Used</td>\n",
       "    </tr>\n",
       "    <tr>\n",
       "      <th>Doors</th>\n",
       "      <td>5.0</td>\n",
       "      <td>4.0</td>\n",
       "      <td>5.0</td>\n",
       "    </tr>\n",
       "    <tr>\n",
       "      <th>Mileage</th>\n",
       "      <td>120200.0</td>\n",
       "      <td>5000.0</td>\n",
       "      <td>18900.0</td>\n",
       "    </tr>\n",
       "    <tr>\n",
       "      <th>Gearbox</th>\n",
       "      <td>Manual</td>\n",
       "      <td>Automatic</td>\n",
       "      <td>Automatic</td>\n",
       "    </tr>\n",
       "    <tr>\n",
       "      <th>Fuel_Type</th>\n",
       "      <td>Diesel</td>\n",
       "      <td>Electric</td>\n",
       "      <td>Benzine</td>\n",
       "    </tr>\n",
       "    <tr>\n",
       "      <th>Seller</th>\n",
       "      <td>Dealer</td>\n",
       "      <td>Dealer</td>\n",
       "      <td>Dealer</td>\n",
       "    </tr>\n",
       "    <tr>\n",
       "      <th>Seats</th>\n",
       "      <td>NaN</td>\n",
       "      <td>5.0</td>\n",
       "      <td>5.0</td>\n",
       "    </tr>\n",
       "    <tr>\n",
       "      <th>Engine_Size</th>\n",
       "      <td>NaN</td>\n",
       "      <td>1.0</td>\n",
       "      <td>1991.0</td>\n",
       "    </tr>\n",
       "    <tr>\n",
       "      <th>Gears</th>\n",
       "      <td>NaN</td>\n",
       "      <td>9.0</td>\n",
       "      <td>8.0</td>\n",
       "    </tr>\n",
       "    <tr>\n",
       "      <th>CO2_Emissions</th>\n",
       "      <td>NaN</td>\n",
       "      <td>0.0</td>\n",
       "      <td>NaN</td>\n",
       "    </tr>\n",
       "    <tr>\n",
       "      <th>Drivetrain</th>\n",
       "      <td>NaN</td>\n",
       "      <td>NaN</td>\n",
       "      <td>4WD</td>\n",
       "    </tr>\n",
       "    <tr>\n",
       "      <th>Cylinders</th>\n",
       "      <td>NaN</td>\n",
       "      <td>NaN</td>\n",
       "      <td>4.0</td>\n",
       "    </tr>\n",
       "    <tr>\n",
       "      <th>Comfort_Convenience</th>\n",
       "      <td>NaN</td>\n",
       "      <td>NaN</td>\n",
       "      <td>NaN</td>\n",
       "    </tr>\n",
       "    <tr>\n",
       "      <th>Entertainment_Media</th>\n",
       "      <td>NaN</td>\n",
       "      <td>NaN</td>\n",
       "      <td>NaN</td>\n",
       "    </tr>\n",
       "    <tr>\n",
       "      <th>Safety_Security</th>\n",
       "      <td>NaN</td>\n",
       "      <td>NaN</td>\n",
       "      <td>NaN</td>\n",
       "    </tr>\n",
       "    <tr>\n",
       "      <th>Extras</th>\n",
       "      <td>NaN</td>\n",
       "      <td>NaN</td>\n",
       "      <td>NaN</td>\n",
       "    </tr>\n",
       "    <tr>\n",
       "      <th>Empty_Weight</th>\n",
       "      <td>NaN</td>\n",
       "      <td>NaN</td>\n",
       "      <td>NaN</td>\n",
       "    </tr>\n",
       "    <tr>\n",
       "      <th>Full_Service_History</th>\n",
       "      <td>No</td>\n",
       "      <td>No</td>\n",
       "      <td>No</td>\n",
       "    </tr>\n",
       "    <tr>\n",
       "      <th>Upholstery</th>\n",
       "      <td>NaN</td>\n",
       "      <td>NaN</td>\n",
       "      <td>NaN</td>\n",
       "    </tr>\n",
       "    <tr>\n",
       "      <th>Energy_Efficiency_Class</th>\n",
       "      <td>NaN</td>\n",
       "      <td>NaN</td>\n",
       "      <td>NaN</td>\n",
       "    </tr>\n",
       "    <tr>\n",
       "      <th>Age</th>\n",
       "      <td>6.0</td>\n",
       "      <td>0.0</td>\n",
       "      <td>2.0</td>\n",
       "    </tr>\n",
       "    <tr>\n",
       "      <th>power_kW</th>\n",
       "      <td>NaN</td>\n",
       "      <td>215.0</td>\n",
       "      <td>310.0</td>\n",
       "    </tr>\n",
       "    <tr>\n",
       "      <th>power_hp</th>\n",
       "      <td>NaN</td>\n",
       "      <td>292.0</td>\n",
       "      <td>421.0</td>\n",
       "    </tr>\n",
       "    <tr>\n",
       "      <th>Fuel_Consumption_comb</th>\n",
       "      <td>NaN</td>\n",
       "      <td>NaN</td>\n",
       "      <td>8.4</td>\n",
       "    </tr>\n",
       "  </tbody>\n",
       "</table>\n",
       "</div>"
      ],
      "text/plain": [
       "                                           0                      1  \\\n",
       "Make_Model               Mercedes-Benz A 160  Mercedes-Benz EQE 350   \n",
       "Location                                  ES                     ES   \n",
       "Price                                16950.0                80900.0   \n",
       "Body_Type                            Compact                Compact   \n",
       "Type                                    Used         Pre-registered   \n",
       "Doors                                    5.0                    4.0   \n",
       "Mileage                             120200.0                 5000.0   \n",
       "Gearbox                               Manual              Automatic   \n",
       "Fuel_Type                             Diesel               Electric   \n",
       "Seller                                Dealer                 Dealer   \n",
       "Seats                                    NaN                    5.0   \n",
       "Engine_Size                              NaN                    1.0   \n",
       "Gears                                    NaN                    9.0   \n",
       "CO2_Emissions                            NaN                    0.0   \n",
       "Drivetrain                               NaN                    NaN   \n",
       "Cylinders                                NaN                    NaN   \n",
       "Comfort_Convenience                      NaN                    NaN   \n",
       "Entertainment_Media                      NaN                    NaN   \n",
       "Safety_Security                          NaN                    NaN   \n",
       "Extras                                   NaN                    NaN   \n",
       "Empty_Weight                             NaN                    NaN   \n",
       "Full_Service_History                      No                     No   \n",
       "Upholstery                               NaN                    NaN   \n",
       "Energy_Efficiency_Class                  NaN                    NaN   \n",
       "Age                                      6.0                    0.0   \n",
       "power_kW                                 NaN                  215.0   \n",
       "power_hp                                 NaN                  292.0   \n",
       "Fuel_Consumption_comb                    NaN                    NaN   \n",
       "\n",
       "                                              2  \n",
       "Make_Model               Mercedes-Benz A 45 AMG  \n",
       "Location                                     ES  \n",
       "Price                                   69900.0  \n",
       "Body_Type                               Compact  \n",
       "Type                                       Used  \n",
       "Doors                                       5.0  \n",
       "Mileage                                 18900.0  \n",
       "Gearbox                               Automatic  \n",
       "Fuel_Type                               Benzine  \n",
       "Seller                                   Dealer  \n",
       "Seats                                       5.0  \n",
       "Engine_Size                              1991.0  \n",
       "Gears                                       8.0  \n",
       "CO2_Emissions                               NaN  \n",
       "Drivetrain                                  4WD  \n",
       "Cylinders                                   4.0  \n",
       "Comfort_Convenience                         NaN  \n",
       "Entertainment_Media                         NaN  \n",
       "Safety_Security                             NaN  \n",
       "Extras                                      NaN  \n",
       "Empty_Weight                                NaN  \n",
       "Full_Service_History                         No  \n",
       "Upholstery                                  NaN  \n",
       "Energy_Efficiency_Class                     NaN  \n",
       "Age                                         2.0  \n",
       "power_kW                                  310.0  \n",
       "power_hp                                  421.0  \n",
       "Fuel_Consumption_comb                       8.4  "
      ]
     },
     "execution_count": 3,
     "metadata": {},
     "output_type": "execute_result"
    }
   ],
   "source": [
    "df.head(3).T"
   ]
  },
  {
   "cell_type": "code",
   "execution_count": 4,
   "id": "9f8eb9ed",
   "metadata": {},
   "outputs": [
    {
     "data": {
      "text/plain": [
       "(28630, 28)"
      ]
     },
     "execution_count": 4,
     "metadata": {},
     "output_type": "execute_result"
    }
   ],
   "source": [
    "df.shape"
   ]
  },
  {
   "cell_type": "code",
   "execution_count": 5,
   "id": "71142dda",
   "metadata": {},
   "outputs": [
    {
     "name": "stdout",
     "output_type": "stream",
     "text": [
      "<class 'pandas.core.frame.DataFrame'>\n",
      "RangeIndex: 28630 entries, 0 to 28629\n",
      "Data columns (total 28 columns):\n",
      " #   Column                   Non-Null Count  Dtype  \n",
      "---  ------                   --------------  -----  \n",
      " 0   Make_Model               28630 non-null  object \n",
      " 1   Location                 28630 non-null  object \n",
      " 2   Price                    28630 non-null  float64\n",
      " 3   Body_Type                28630 non-null  object \n",
      " 4   Type                     28630 non-null  object \n",
      " 5   Doors                    28271 non-null  float64\n",
      " 6   Mileage                  28629 non-null  float64\n",
      " 7   Gearbox                  28382 non-null  object \n",
      " 8   Fuel_Type                26843 non-null  object \n",
      " 9   Seller                   28630 non-null  object \n",
      " 10  Seats                    25505 non-null  float64\n",
      " 11  Engine_Size              27227 non-null  float64\n",
      " 12  Gears                    18954 non-null  float64\n",
      " 13  CO2_Emissions            18594 non-null  float64\n",
      " 14  Drivetrain               16893 non-null  object \n",
      " 15  Cylinders                18852 non-null  float64\n",
      " 16  Comfort_Convenience      25433 non-null  object \n",
      " 17  Entertainment_Media      23644 non-null  object \n",
      " 18  Safety_Security          25415 non-null  object \n",
      " 19  Extras                   23480 non-null  object \n",
      " 20  Empty_Weight             17758 non-null  float64\n",
      " 21  Full_Service_History     28630 non-null  object \n",
      " 22  Upholstery               18610 non-null  object \n",
      " 23  Energy_Efficiency_Class  7804 non-null   object \n",
      " 24  Age                      28628 non-null  float64\n",
      " 25  power_kW                 28058 non-null  float64\n",
      " 26  power_hp                 28058 non-null  float64\n",
      " 27  Fuel_Consumption_comb    22728 non-null  float64\n",
      "dtypes: float64(13), object(15)\n",
      "memory usage: 6.1+ MB\n"
     ]
    }
   ],
   "source": [
    "df.info()"
   ]
  },
  {
   "cell_type": "markdown",
   "id": "5ef67e16",
   "metadata": {},
   "source": [
    "### The Examination of Missing Values:"
   ]
  },
  {
   "cell_type": "code",
   "execution_count": 6,
   "id": "0cdc42ee",
   "metadata": {},
   "outputs": [
    {
     "data": {
      "text/plain": [
       "Make_Model                     0\n",
       "Location                       0\n",
       "Price                          0\n",
       "Body_Type                      0\n",
       "Type                           0\n",
       "Doors                        359\n",
       "Mileage                        1\n",
       "Gearbox                      248\n",
       "Fuel_Type                   1787\n",
       "Seller                         0\n",
       "Seats                       3125\n",
       "Engine_Size                 1403\n",
       "Gears                       9676\n",
       "CO2_Emissions              10036\n",
       "Drivetrain                 11737\n",
       "Cylinders                   9778\n",
       "Comfort_Convenience         3197\n",
       "Entertainment_Media         4986\n",
       "Safety_Security             3215\n",
       "Extras                      5150\n",
       "Empty_Weight               10872\n",
       "Full_Service_History           0\n",
       "Upholstery                 10020\n",
       "Energy_Efficiency_Class    20826\n",
       "Age                            2\n",
       "power_kW                     572\n",
       "power_hp                     572\n",
       "Fuel_Consumption_comb       5902\n",
       "dtype: int64"
      ]
     },
     "execution_count": 6,
     "metadata": {},
     "output_type": "execute_result"
    }
   ],
   "source": [
    "df.isnull().sum()"
   ]
  },
  {
   "cell_type": "code",
   "execution_count": 7,
   "id": "6dba2b28",
   "metadata": {},
   "outputs": [
    {
     "data": {
      "text/plain": [
       "Make_Model                  0.000000\n",
       "Location                    0.000000\n",
       "Price                       0.000000\n",
       "Body_Type                   0.000000\n",
       "Type                        0.000000\n",
       "Doors                       1.253929\n",
       "Mileage                     0.003493\n",
       "Gearbox                     0.866224\n",
       "Fuel_Type                   6.241705\n",
       "Seller                      0.000000\n",
       "Seats                      10.915124\n",
       "Engine_Size                 4.900454\n",
       "Gears                      33.796717\n",
       "CO2_Emissions              35.054139\n",
       "Drivetrain                 40.995459\n",
       "Cylinders                  34.152986\n",
       "Comfort_Convenience        11.166608\n",
       "Entertainment_Media        17.415299\n",
       "Safety_Security            11.229480\n",
       "Extras                     17.988124\n",
       "Empty_Weight               37.974153\n",
       "Full_Service_History        0.000000\n",
       "Upholstery                 34.998254\n",
       "Energy_Efficiency_Class    72.741879\n",
       "Age                         0.006986\n",
       "power_kW                    1.997904\n",
       "power_hp                    1.997904\n",
       "Fuel_Consumption_comb      20.614740\n",
       "dtype: float64"
      ]
     },
     "execution_count": 7,
     "metadata": {},
     "output_type": "execute_result"
    }
   ],
   "source": [
    "df.isnull().sum()/df.shape[0]*100"
   ]
  },
  {
   "cell_type": "markdown",
   "id": "b125f470",
   "metadata": {},
   "source": [
    "### The Examination of Duplicated Values:"
   ]
  },
  {
   "cell_type": "code",
   "execution_count": 8,
   "id": "415dd22c",
   "metadata": {},
   "outputs": [
    {
     "data": {
      "text/plain": [
       "1611"
      ]
     },
     "execution_count": 8,
     "metadata": {},
     "output_type": "execute_result"
    }
   ],
   "source": [
    "df.duplicated(keep=False).sum()"
   ]
  },
  {
   "cell_type": "code",
   "execution_count": 9,
   "id": "ac675933-f8f7-40a4-903e-a302942050de",
   "metadata": {},
   "outputs": [
    {
     "data": {
      "text/html": [
       "<div>\n",
       "<style scoped>\n",
       "    .dataframe tbody tr th:only-of-type {\n",
       "        vertical-align: middle;\n",
       "    }\n",
       "\n",
       "    .dataframe tbody tr th {\n",
       "        vertical-align: top;\n",
       "    }\n",
       "\n",
       "    .dataframe thead th {\n",
       "        text-align: right;\n",
       "    }\n",
       "</style>\n",
       "<table border=\"1\" class=\"dataframe\">\n",
       "  <thead>\n",
       "    <tr style=\"text-align: right;\">\n",
       "      <th></th>\n",
       "      <th>Make_Model</th>\n",
       "      <th>Location</th>\n",
       "      <th>Price</th>\n",
       "      <th>Body_Type</th>\n",
       "      <th>Type</th>\n",
       "      <th>Doors</th>\n",
       "      <th>Mileage</th>\n",
       "      <th>Gearbox</th>\n",
       "      <th>Fuel_Type</th>\n",
       "      <th>Seller</th>\n",
       "      <th>Seats</th>\n",
       "      <th>Engine_Size</th>\n",
       "      <th>Gears</th>\n",
       "      <th>CO2_Emissions</th>\n",
       "      <th>Drivetrain</th>\n",
       "      <th>Cylinders</th>\n",
       "      <th>Comfort_Convenience</th>\n",
       "      <th>Entertainment_Media</th>\n",
       "      <th>Safety_Security</th>\n",
       "      <th>Extras</th>\n",
       "      <th>Empty_Weight</th>\n",
       "      <th>Full_Service_History</th>\n",
       "      <th>Upholstery</th>\n",
       "      <th>Energy_Efficiency_Class</th>\n",
       "      <th>Age</th>\n",
       "      <th>power_kW</th>\n",
       "      <th>power_hp</th>\n",
       "      <th>Fuel_Consumption_comb</th>\n",
       "    </tr>\n",
       "  </thead>\n",
       "  <tbody>\n",
       "    <tr>\n",
       "      <th>20</th>\n",
       "      <td>Mercedes-Benz A 180</td>\n",
       "      <td>ES</td>\n",
       "      <td>21000.0</td>\n",
       "      <td>Compact</td>\n",
       "      <td>Used</td>\n",
       "      <td>5.0</td>\n",
       "      <td>172700.0</td>\n",
       "      <td>Automatic</td>\n",
       "      <td>Diesel</td>\n",
       "      <td>Dealer</td>\n",
       "      <td>5.0</td>\n",
       "      <td>1461.0</td>\n",
       "      <td>7.0</td>\n",
       "      <td>NaN</td>\n",
       "      <td>Front</td>\n",
       "      <td>4.0</td>\n",
       "      <td>Air conditioning, Electrical side mirrors, Pow...</td>\n",
       "      <td>NaN</td>\n",
       "      <td>ABS, Central door lock, Driver-side airbag, Is...</td>\n",
       "      <td>Sport seats</td>\n",
       "      <td>1425.0</td>\n",
       "      <td>No</td>\n",
       "      <td>NaN</td>\n",
       "      <td>NaN</td>\n",
       "      <td>4.0</td>\n",
       "      <td>80.0</td>\n",
       "      <td>109.0</td>\n",
       "      <td>3.7</td>\n",
       "    </tr>\n",
       "    <tr>\n",
       "      <th>25</th>\n",
       "      <td>Mercedes-Benz A 180</td>\n",
       "      <td>ES</td>\n",
       "      <td>21000.0</td>\n",
       "      <td>Compact</td>\n",
       "      <td>Used</td>\n",
       "      <td>5.0</td>\n",
       "      <td>172700.0</td>\n",
       "      <td>Automatic</td>\n",
       "      <td>Diesel</td>\n",
       "      <td>Dealer</td>\n",
       "      <td>5.0</td>\n",
       "      <td>1461.0</td>\n",
       "      <td>7.0</td>\n",
       "      <td>NaN</td>\n",
       "      <td>Front</td>\n",
       "      <td>4.0</td>\n",
       "      <td>Air conditioning, Electrical side mirrors, Pow...</td>\n",
       "      <td>NaN</td>\n",
       "      <td>ABS, Central door lock, Driver-side airbag, Is...</td>\n",
       "      <td>Sport seats</td>\n",
       "      <td>1425.0</td>\n",
       "      <td>No</td>\n",
       "      <td>NaN</td>\n",
       "      <td>NaN</td>\n",
       "      <td>4.0</td>\n",
       "      <td>80.0</td>\n",
       "      <td>109.0</td>\n",
       "      <td>3.7</td>\n",
       "    </tr>\n",
       "    <tr>\n",
       "      <th>34</th>\n",
       "      <td>Mercedes-Benz A 180</td>\n",
       "      <td>ES</td>\n",
       "      <td>18390.0</td>\n",
       "      <td>Compact</td>\n",
       "      <td>Used</td>\n",
       "      <td>5.0</td>\n",
       "      <td>63871.0</td>\n",
       "      <td>Automatic</td>\n",
       "      <td>Benzine</td>\n",
       "      <td>Dealer</td>\n",
       "      <td>5.0</td>\n",
       "      <td>1595.0</td>\n",
       "      <td>7.0</td>\n",
       "      <td>NaN</td>\n",
       "      <td>Front</td>\n",
       "      <td>4.0</td>\n",
       "      <td>Air conditioning, Electrical side mirrors, Pow...</td>\n",
       "      <td>NaN</td>\n",
       "      <td>ABS, Central door lock, Driver-side airbag, Is...</td>\n",
       "      <td>Alloy wheels</td>\n",
       "      <td>1395.0</td>\n",
       "      <td>No</td>\n",
       "      <td>NaN</td>\n",
       "      <td>NaN</td>\n",
       "      <td>5.0</td>\n",
       "      <td>90.0</td>\n",
       "      <td>122.0</td>\n",
       "      <td>5.4</td>\n",
       "    </tr>\n",
       "    <tr>\n",
       "      <th>40</th>\n",
       "      <td>Mercedes-Benz A 180</td>\n",
       "      <td>ES</td>\n",
       "      <td>20630.0</td>\n",
       "      <td>Compact</td>\n",
       "      <td>Used</td>\n",
       "      <td>5.0</td>\n",
       "      <td>98258.0</td>\n",
       "      <td>Manual</td>\n",
       "      <td>Diesel</td>\n",
       "      <td>Dealer</td>\n",
       "      <td>NaN</td>\n",
       "      <td>1461.0</td>\n",
       "      <td>NaN</td>\n",
       "      <td>NaN</td>\n",
       "      <td>NaN</td>\n",
       "      <td>NaN</td>\n",
       "      <td>NaN</td>\n",
       "      <td>NaN</td>\n",
       "      <td>NaN</td>\n",
       "      <td>NaN</td>\n",
       "      <td>NaN</td>\n",
       "      <td>No</td>\n",
       "      <td>NaN</td>\n",
       "      <td>NaN</td>\n",
       "      <td>3.0</td>\n",
       "      <td>85.0</td>\n",
       "      <td>116.0</td>\n",
       "      <td>4.2</td>\n",
       "    </tr>\n",
       "    <tr>\n",
       "      <th>43</th>\n",
       "      <td>Mercedes-Benz A 180</td>\n",
       "      <td>ES</td>\n",
       "      <td>23850.0</td>\n",
       "      <td>Compact</td>\n",
       "      <td>Used</td>\n",
       "      <td>5.0</td>\n",
       "      <td>71098.0</td>\n",
       "      <td>Automatic</td>\n",
       "      <td>Diesel</td>\n",
       "      <td>Dealer</td>\n",
       "      <td>5.0</td>\n",
       "      <td>1461.0</td>\n",
       "      <td>7.0</td>\n",
       "      <td>NaN</td>\n",
       "      <td>Front</td>\n",
       "      <td>4.0</td>\n",
       "      <td>Air conditioning, Electrical side mirrors, Pow...</td>\n",
       "      <td>Bluetooth</td>\n",
       "      <td>ABS, Central door lock, Driver-side airbag, Is...</td>\n",
       "      <td>Sport seats</td>\n",
       "      <td>1425.0</td>\n",
       "      <td>No</td>\n",
       "      <td>NaN</td>\n",
       "      <td>NaN</td>\n",
       "      <td>4.0</td>\n",
       "      <td>80.0</td>\n",
       "      <td>109.0</td>\n",
       "      <td>3.7</td>\n",
       "    </tr>\n",
       "    <tr>\n",
       "      <th>...</th>\n",
       "      <td>...</td>\n",
       "      <td>...</td>\n",
       "      <td>...</td>\n",
       "      <td>...</td>\n",
       "      <td>...</td>\n",
       "      <td>...</td>\n",
       "      <td>...</td>\n",
       "      <td>...</td>\n",
       "      <td>...</td>\n",
       "      <td>...</td>\n",
       "      <td>...</td>\n",
       "      <td>...</td>\n",
       "      <td>...</td>\n",
       "      <td>...</td>\n",
       "      <td>...</td>\n",
       "      <td>...</td>\n",
       "      <td>...</td>\n",
       "      <td>...</td>\n",
       "      <td>...</td>\n",
       "      <td>...</td>\n",
       "      <td>...</td>\n",
       "      <td>...</td>\n",
       "      <td>...</td>\n",
       "      <td>...</td>\n",
       "      <td>...</td>\n",
       "      <td>...</td>\n",
       "      <td>...</td>\n",
       "      <td>...</td>\n",
       "    </tr>\n",
       "    <tr>\n",
       "      <th>28616</th>\n",
       "      <td>Volvo S90</td>\n",
       "      <td>ES</td>\n",
       "      <td>27190.0</td>\n",
       "      <td>Sedan</td>\n",
       "      <td>Used</td>\n",
       "      <td>4.0</td>\n",
       "      <td>93757.0</td>\n",
       "      <td>Automatic</td>\n",
       "      <td>Diesel</td>\n",
       "      <td>Dealer</td>\n",
       "      <td>5.0</td>\n",
       "      <td>1969.0</td>\n",
       "      <td>8.0</td>\n",
       "      <td>NaN</td>\n",
       "      <td>Front</td>\n",
       "      <td>4.0</td>\n",
       "      <td>Air conditioning, Automatic climate control, M...</td>\n",
       "      <td>Hands-free equipment, USB</td>\n",
       "      <td>ABS, Central door lock, Driver-side airbag, El...</td>\n",
       "      <td>Alloy wheels</td>\n",
       "      <td>1683.0</td>\n",
       "      <td>No</td>\n",
       "      <td>NaN</td>\n",
       "      <td>NaN</td>\n",
       "      <td>4.0</td>\n",
       "      <td>140.0</td>\n",
       "      <td>190.0</td>\n",
       "      <td>NaN</td>\n",
       "    </tr>\n",
       "    <tr>\n",
       "      <th>28617</th>\n",
       "      <td>Volvo S90</td>\n",
       "      <td>ES</td>\n",
       "      <td>27190.0</td>\n",
       "      <td>Sedan</td>\n",
       "      <td>Used</td>\n",
       "      <td>4.0</td>\n",
       "      <td>93757.0</td>\n",
       "      <td>Automatic</td>\n",
       "      <td>Diesel</td>\n",
       "      <td>Dealer</td>\n",
       "      <td>5.0</td>\n",
       "      <td>1969.0</td>\n",
       "      <td>8.0</td>\n",
       "      <td>NaN</td>\n",
       "      <td>Front</td>\n",
       "      <td>4.0</td>\n",
       "      <td>Air conditioning, Automatic climate control, M...</td>\n",
       "      <td>Hands-free equipment, USB</td>\n",
       "      <td>ABS, Central door lock, Driver-side airbag, El...</td>\n",
       "      <td>Alloy wheels</td>\n",
       "      <td>1683.0</td>\n",
       "      <td>No</td>\n",
       "      <td>NaN</td>\n",
       "      <td>NaN</td>\n",
       "      <td>4.0</td>\n",
       "      <td>140.0</td>\n",
       "      <td>190.0</td>\n",
       "      <td>NaN</td>\n",
       "    </tr>\n",
       "    <tr>\n",
       "      <th>28621</th>\n",
       "      <td>Volvo S90</td>\n",
       "      <td>ES</td>\n",
       "      <td>27190.0</td>\n",
       "      <td>Sedan</td>\n",
       "      <td>Used</td>\n",
       "      <td>4.0</td>\n",
       "      <td>93757.0</td>\n",
       "      <td>Automatic</td>\n",
       "      <td>Diesel</td>\n",
       "      <td>Dealer</td>\n",
       "      <td>5.0</td>\n",
       "      <td>1969.0</td>\n",
       "      <td>8.0</td>\n",
       "      <td>NaN</td>\n",
       "      <td>Front</td>\n",
       "      <td>4.0</td>\n",
       "      <td>Air conditioning, Automatic climate control, M...</td>\n",
       "      <td>Hands-free equipment, USB</td>\n",
       "      <td>ABS, Central door lock, Driver-side airbag, El...</td>\n",
       "      <td>Alloy wheels</td>\n",
       "      <td>1683.0</td>\n",
       "      <td>No</td>\n",
       "      <td>NaN</td>\n",
       "      <td>NaN</td>\n",
       "      <td>4.0</td>\n",
       "      <td>140.0</td>\n",
       "      <td>190.0</td>\n",
       "      <td>NaN</td>\n",
       "    </tr>\n",
       "    <tr>\n",
       "      <th>28622</th>\n",
       "      <td>Volvo S90</td>\n",
       "      <td>ES</td>\n",
       "      <td>27190.0</td>\n",
       "      <td>Sedan</td>\n",
       "      <td>Used</td>\n",
       "      <td>4.0</td>\n",
       "      <td>93757.0</td>\n",
       "      <td>Automatic</td>\n",
       "      <td>Diesel</td>\n",
       "      <td>Dealer</td>\n",
       "      <td>5.0</td>\n",
       "      <td>1969.0</td>\n",
       "      <td>8.0</td>\n",
       "      <td>NaN</td>\n",
       "      <td>Front</td>\n",
       "      <td>4.0</td>\n",
       "      <td>Air conditioning, Automatic climate control, M...</td>\n",
       "      <td>Hands-free equipment, USB</td>\n",
       "      <td>ABS, Central door lock, Driver-side airbag, El...</td>\n",
       "      <td>Alloy wheels</td>\n",
       "      <td>1683.0</td>\n",
       "      <td>No</td>\n",
       "      <td>NaN</td>\n",
       "      <td>NaN</td>\n",
       "      <td>4.0</td>\n",
       "      <td>140.0</td>\n",
       "      <td>190.0</td>\n",
       "      <td>NaN</td>\n",
       "    </tr>\n",
       "    <tr>\n",
       "      <th>28625</th>\n",
       "      <td>Volvo S90</td>\n",
       "      <td>ES</td>\n",
       "      <td>37600.0</td>\n",
       "      <td>Sedan</td>\n",
       "      <td>Used</td>\n",
       "      <td>4.0</td>\n",
       "      <td>40345.0</td>\n",
       "      <td>Automatic</td>\n",
       "      <td>NaN</td>\n",
       "      <td>Dealer</td>\n",
       "      <td>4.0</td>\n",
       "      <td>1969.0</td>\n",
       "      <td>8.0</td>\n",
       "      <td>NaN</td>\n",
       "      <td>4WD</td>\n",
       "      <td>4.0</td>\n",
       "      <td>Air conditioning, Automatic climate control, M...</td>\n",
       "      <td>Bluetooth, USB</td>\n",
       "      <td>ABS, Central door lock, Driver-side airbag, El...</td>\n",
       "      <td>Alloy wheels</td>\n",
       "      <td>2077.0</td>\n",
       "      <td>No</td>\n",
       "      <td>NaN</td>\n",
       "      <td>NaN</td>\n",
       "      <td>3.0</td>\n",
       "      <td>288.0</td>\n",
       "      <td>392.0</td>\n",
       "      <td>NaN</td>\n",
       "    </tr>\n",
       "  </tbody>\n",
       "</table>\n",
       "<p>1611 rows × 28 columns</p>\n",
       "</div>"
      ],
      "text/plain": [
       "                Make_Model Location    Price Body_Type  Type  Doors   Mileage  \\\n",
       "20     Mercedes-Benz A 180       ES  21000.0   Compact  Used    5.0  172700.0   \n",
       "25     Mercedes-Benz A 180       ES  21000.0   Compact  Used    5.0  172700.0   \n",
       "34     Mercedes-Benz A 180       ES  18390.0   Compact  Used    5.0   63871.0   \n",
       "40     Mercedes-Benz A 180       ES  20630.0   Compact  Used    5.0   98258.0   \n",
       "43     Mercedes-Benz A 180       ES  23850.0   Compact  Used    5.0   71098.0   \n",
       "...                    ...      ...      ...       ...   ...    ...       ...   \n",
       "28616            Volvo S90       ES  27190.0     Sedan  Used    4.0   93757.0   \n",
       "28617            Volvo S90       ES  27190.0     Sedan  Used    4.0   93757.0   \n",
       "28621            Volvo S90       ES  27190.0     Sedan  Used    4.0   93757.0   \n",
       "28622            Volvo S90       ES  27190.0     Sedan  Used    4.0   93757.0   \n",
       "28625            Volvo S90       ES  37600.0     Sedan  Used    4.0   40345.0   \n",
       "\n",
       "         Gearbox Fuel_Type  Seller  Seats  Engine_Size  Gears  CO2_Emissions  \\\n",
       "20     Automatic    Diesel  Dealer    5.0       1461.0    7.0            NaN   \n",
       "25     Automatic    Diesel  Dealer    5.0       1461.0    7.0            NaN   \n",
       "34     Automatic   Benzine  Dealer    5.0       1595.0    7.0            NaN   \n",
       "40        Manual    Diesel  Dealer    NaN       1461.0    NaN            NaN   \n",
       "43     Automatic    Diesel  Dealer    5.0       1461.0    7.0            NaN   \n",
       "...          ...       ...     ...    ...          ...    ...            ...   \n",
       "28616  Automatic    Diesel  Dealer    5.0       1969.0    8.0            NaN   \n",
       "28617  Automatic    Diesel  Dealer    5.0       1969.0    8.0            NaN   \n",
       "28621  Automatic    Diesel  Dealer    5.0       1969.0    8.0            NaN   \n",
       "28622  Automatic    Diesel  Dealer    5.0       1969.0    8.0            NaN   \n",
       "28625  Automatic       NaN  Dealer    4.0       1969.0    8.0            NaN   \n",
       "\n",
       "      Drivetrain  Cylinders  \\\n",
       "20         Front        4.0   \n",
       "25         Front        4.0   \n",
       "34         Front        4.0   \n",
       "40           NaN        NaN   \n",
       "43         Front        4.0   \n",
       "...          ...        ...   \n",
       "28616      Front        4.0   \n",
       "28617      Front        4.0   \n",
       "28621      Front        4.0   \n",
       "28622      Front        4.0   \n",
       "28625        4WD        4.0   \n",
       "\n",
       "                                     Comfort_Convenience  \\\n",
       "20     Air conditioning, Electrical side mirrors, Pow...   \n",
       "25     Air conditioning, Electrical side mirrors, Pow...   \n",
       "34     Air conditioning, Electrical side mirrors, Pow...   \n",
       "40                                                   NaN   \n",
       "43     Air conditioning, Electrical side mirrors, Pow...   \n",
       "...                                                  ...   \n",
       "28616  Air conditioning, Automatic climate control, M...   \n",
       "28617  Air conditioning, Automatic climate control, M...   \n",
       "28621  Air conditioning, Automatic climate control, M...   \n",
       "28622  Air conditioning, Automatic climate control, M...   \n",
       "28625  Air conditioning, Automatic climate control, M...   \n",
       "\n",
       "             Entertainment_Media  \\\n",
       "20                           NaN   \n",
       "25                           NaN   \n",
       "34                           NaN   \n",
       "40                           NaN   \n",
       "43                     Bluetooth   \n",
       "...                          ...   \n",
       "28616  Hands-free equipment, USB   \n",
       "28617  Hands-free equipment, USB   \n",
       "28621  Hands-free equipment, USB   \n",
       "28622  Hands-free equipment, USB   \n",
       "28625             Bluetooth, USB   \n",
       "\n",
       "                                         Safety_Security        Extras  \\\n",
       "20     ABS, Central door lock, Driver-side airbag, Is...   Sport seats   \n",
       "25     ABS, Central door lock, Driver-side airbag, Is...   Sport seats   \n",
       "34     ABS, Central door lock, Driver-side airbag, Is...  Alloy wheels   \n",
       "40                                                   NaN           NaN   \n",
       "43     ABS, Central door lock, Driver-side airbag, Is...   Sport seats   \n",
       "...                                                  ...           ...   \n",
       "28616  ABS, Central door lock, Driver-side airbag, El...  Alloy wheels   \n",
       "28617  ABS, Central door lock, Driver-side airbag, El...  Alloy wheels   \n",
       "28621  ABS, Central door lock, Driver-side airbag, El...  Alloy wheels   \n",
       "28622  ABS, Central door lock, Driver-side airbag, El...  Alloy wheels   \n",
       "28625  ABS, Central door lock, Driver-side airbag, El...  Alloy wheels   \n",
       "\n",
       "       Empty_Weight Full_Service_History Upholstery Energy_Efficiency_Class  \\\n",
       "20           1425.0                   No        NaN                     NaN   \n",
       "25           1425.0                   No        NaN                     NaN   \n",
       "34           1395.0                   No        NaN                     NaN   \n",
       "40              NaN                   No        NaN                     NaN   \n",
       "43           1425.0                   No        NaN                     NaN   \n",
       "...             ...                  ...        ...                     ...   \n",
       "28616        1683.0                   No        NaN                     NaN   \n",
       "28617        1683.0                   No        NaN                     NaN   \n",
       "28621        1683.0                   No        NaN                     NaN   \n",
       "28622        1683.0                   No        NaN                     NaN   \n",
       "28625        2077.0                   No        NaN                     NaN   \n",
       "\n",
       "       Age  power_kW  power_hp  Fuel_Consumption_comb  \n",
       "20     4.0      80.0     109.0                    3.7  \n",
       "25     4.0      80.0     109.0                    3.7  \n",
       "34     5.0      90.0     122.0                    5.4  \n",
       "40     3.0      85.0     116.0                    4.2  \n",
       "43     4.0      80.0     109.0                    3.7  \n",
       "...    ...       ...       ...                    ...  \n",
       "28616  4.0     140.0     190.0                    NaN  \n",
       "28617  4.0     140.0     190.0                    NaN  \n",
       "28621  4.0     140.0     190.0                    NaN  \n",
       "28622  4.0     140.0     190.0                    NaN  \n",
       "28625  3.0     288.0     392.0                    NaN  \n",
       "\n",
       "[1611 rows x 28 columns]"
      ]
     },
     "execution_count": 9,
     "metadata": {},
     "output_type": "execute_result"
    }
   ],
   "source": [
    "df[df.duplicated(keep=False)]"
   ]
  },
  {
   "cell_type": "markdown",
   "id": "cbaf0f54-a39d-4a2a-a036-9425260c6a88",
   "metadata": {
    "tags": []
   },
   "source": [
    "### User Defined Functions (DEFs) to fill the missing values"
   ]
  },
  {
   "cell_type": "code",
   "execution_count": 10,
   "id": "d015eb9c-36df-4801-9fab-2b6617e2126f",
   "metadata": {},
   "outputs": [],
   "source": [
    "# User Defined Function for first-looking to the features/columns\n",
    "\n",
    "def first_looking(col):\n",
    "    print(\"COLUMN NAME    : \", col)\n",
    "    print(\"--------------------------------\")\n",
    "    print(\"per_of_nulls   : \", \"%\", round(df[col].isnull().sum()*100 / df.shape[0], 2))\n",
    "    print(\"num_of_nulls   : \", df[col].isnull().sum())\n",
    "    print(\"num_of_uniques : \", df[col].nunique())\n",
    "    print(\"--------------------------------\")\n",
    "    print(df[col].value_counts(dropna = False))"
   ]
  },
  {
   "cell_type": "code",
   "execution_count": 11,
   "id": "4c3086b6",
   "metadata": {},
   "outputs": [],
   "source": [
    "def fill_most_freq(df, group_col, col_name):\n",
    "    \n",
    "    '''Fills the missing values with the most existing value (mode) in the relevant column according to single-stage grouping'''\n",
    "    \n",
    "    for group in list(df[group_col].unique()):\n",
    "        cond = df[group_col]==group\n",
    "        mode = list(df[cond][col_name].mode())\n",
    "        if mode != []:\n",
    "            df.loc[cond, col_name] = df.loc[cond, col_name].fillna(df[cond][col_name].mode()[0])\n",
    "        else:\n",
    "            df.loc[cond, col_name] = df.loc[cond, col_name].fillna(df[col_name].mode()[0])\n",
    "    print(\"Number of NaN : \", df[col_name].isnull().sum())\n",
    "    print(\"------------------\")\n",
    "    print(df[col_name].value_counts(dropna=False))"
   ]
  },
  {
   "cell_type": "code",
   "execution_count": 12,
   "id": "bfa648f6",
   "metadata": {},
   "outputs": [],
   "source": [
    "def fill_prop(df, group_col, col_name):\n",
    "    \n",
    "    '''Fills the missing values with \"ffill and bfill method\" according to single-stage grouping'''\n",
    "    \n",
    "    for group in list(df[group_col].unique()):\n",
    "        cond = df[group_col]==group\n",
    "        df.loc[cond, col_name] = df.loc[cond, col_name].fillna(method=\"ffill\").fillna(method=\"bfill\")\n",
    "    df[col_name] = df[col_name].fillna(method=\"ffill\").fillna(method=\"bfill\")\n",
    "    print(\"Number of NaN : \", df[col_name].isnull().sum())\n",
    "    print(\"------------------\")\n",
    "    print(df[col_name].value_counts(dropna=False))"
   ]
  },
  {
   "cell_type": "code",
   "execution_count": 13,
   "id": "e619891b",
   "metadata": {},
   "outputs": [],
   "source": [
    "# method can be either \"mode\" or \"mean\" or \"median\" or \"ffill\"\n",
    "\n",
    "def fill(df, group_col1, group_col2, col_name, method): \n",
    "    \n",
    "    '''Fills the missing values with \"mode/mean/median/ffill/bfill method\" according to double-stage grouping'''\n",
    "    \n",
    "    if method == \"mode\":\n",
    "        for group1 in list(df[group_col1].unique()):\n",
    "            for group2 in list(df[group_col2].unique()):\n",
    "                cond1 = df[group_col1]==group1\n",
    "                cond2 = (df[group_col1]==group1) & (df[group_col2]==group2)\n",
    "                mode1 = list(df[cond1][col_name].mode())\n",
    "                mode2 = list(df[cond2][col_name].mode())\n",
    "                if mode2 != []:\n",
    "                    df.loc[cond2, col_name] = df.loc[cond2, col_name].fillna(df[cond2][col_name].mode()[0])\n",
    "                elif mode1 != []:\n",
    "                    df.loc[cond2, col_name] = df.loc[cond2, col_name].fillna(df[cond1][col_name].mode()[0])\n",
    "                else:\n",
    "                    df.loc[cond2, col_name] = df.loc[cond2, col_name].fillna(df[col_name].mode()[0])\n",
    "\n",
    "    elif method == \"mean\":\n",
    "        df[col_name].fillna(df.groupby([group_col1, group_col2])[col_name].transform(\"mean\"), inplace = True)\n",
    "        df[col_name].fillna(df.groupby(group_col1)[col_name].transform(\"mean\"), inplace = True)\n",
    "        df[col_name].fillna(df[col_name].mean(), inplace = True)\n",
    "        \n",
    "    elif method == \"median\":\n",
    "        df[col_name].fillna(df.groupby([group_col1, group_col2])[col_name].transform(\"median\"), inplace = True)\n",
    "        df[col_name].fillna(df.groupby(group_col1)[col_name].transform(\"median\"), inplace = True)\n",
    "        df[col_name].fillna(df[col_name].median(), inplace = True)\n",
    "        \n",
    "    elif method == \"ffill\":           \n",
    "        for group1 in list(df[group_col1].unique()):\n",
    "            for group2 in list(df[group_col2].unique()):\n",
    "                cond2 = (df[group_col1]==group1) & (df[group_col2]==group2)\n",
    "                df.loc[cond2, col_name] = df.loc[cond2, col_name].fillna(method=\"ffill\").fillna(method=\"bfill\")\n",
    "                \n",
    "        for group1 in list(df[group_col1].unique()):\n",
    "            cond1 = df[group_col1]==group1\n",
    "            df.loc[cond1, col_name] = df.loc[cond1, col_name].fillna(method=\"ffill\").fillna(method=\"bfill\")            \n",
    "           \n",
    "        df[col_name] = df[col_name].fillna(method=\"ffill\").fillna(method=\"bfill\")\n",
    "    \n",
    "    print(\"Number of NaN : \",df[col_name].isnull().sum())\n",
    "    print(\"------------------\")\n",
    "    print(df[col_name].value_counts(dropna=False))"
   ]
  },
  {
   "cell_type": "markdown",
   "id": "38f573db",
   "metadata": {
    "tags": []
   },
   "source": [
    "### The Examination of Missing Values in the Columns"
   ]
  },
  {
   "cell_type": "markdown",
   "id": "234ee72b-38bf-44f0-811b-16c9205a2cf2",
   "metadata": {},
   "source": [
    "According to the Domain Knowledge I obtained in this analysis,\n",
    "I will use the make_model & body_type properties to fill in the missing values because\n",
    "I think these properties have a direct or indirect effect on the formation of other properties."
   ]
  },
  {
   "cell_type": "code",
   "execution_count": 14,
   "id": "a108698e-0a7d-4f96-8ca1-a44e13eff2c6",
   "metadata": {},
   "outputs": [
    {
     "data": {
      "text/plain": [
       "Index(['Make_Model', 'Location', 'Price', 'Body_Type', 'Type', 'Seller',\n",
       "       'Full_Service_History'],\n",
       "      dtype='object')"
      ]
     },
     "execution_count": 14,
     "metadata": {},
     "output_type": "execute_result"
    }
   ],
   "source": [
    "df_notnull = df[df.columns[~df.isnull().any()]]\n",
    "df_notnull.columns"
   ]
  },
  {
   "cell_type": "markdown",
   "id": "0e5d30e8",
   "metadata": {},
   "source": [
    "### Make_Model"
   ]
  },
  {
   "cell_type": "code",
   "execution_count": 15,
   "id": "9c457dfa",
   "metadata": {},
   "outputs": [
    {
     "name": "stdout",
     "output_type": "stream",
     "text": [
      "COLUMN NAME    :  Make_Model\n",
      "--------------------------------\n",
      "per_of_nulls   :  % 0.0\n",
      "num_of_nulls   :  0\n",
      "num_of_uniques :  611\n",
      "--------------------------------\n",
      "Renault Megane     863\n",
      "SEAT Leon          787\n",
      "Volvo V40          740\n",
      "Dacia Sandero      730\n",
      "Hyundai i30        706\n",
      "                  ... \n",
      "Toyota GR86          1\n",
      "Toyota Tacoma        1\n",
      "Toyota Tundra        1\n",
      "Toyota 4-Runner      1\n",
      "Volvo 244            1\n",
      "Name: Make_Model, Length: 611, dtype: int64\n"
     ]
    }
   ],
   "source": [
    "first_looking(\"Make_Model\")"
   ]
  },
  {
   "cell_type": "markdown",
   "id": "98329134",
   "metadata": {},
   "source": [
    "### Body_Type"
   ]
  },
  {
   "cell_type": "code",
   "execution_count": 16,
   "id": "06195e62",
   "metadata": {},
   "outputs": [
    {
     "name": "stdout",
     "output_type": "stream",
     "text": [
      "COLUMN NAME    :  Body_Type\n",
      "--------------------------------\n",
      "per_of_nulls   :  % 0.0\n",
      "num_of_nulls   :  0\n",
      "num_of_uniques :  6\n",
      "--------------------------------\n",
      "Station wagon       5448\n",
      "Off-Road/Pick-up    5415\n",
      "Compact             5387\n",
      "Sedan               5043\n",
      "Coupe               4009\n",
      "Convertible         3328\n",
      "Name: Body_Type, dtype: int64\n"
     ]
    }
   ],
   "source": [
    "first_looking(\"Body_Type\")"
   ]
  },
  {
   "cell_type": "markdown",
   "id": "8e189b2f",
   "metadata": {},
   "source": [
    "### Engine_Size"
   ]
  },
  {
   "cell_type": "code",
   "execution_count": 17,
   "id": "5f7cfb11",
   "metadata": {},
   "outputs": [
    {
     "name": "stdout",
     "output_type": "stream",
     "text": [
      "COLUMN NAME    :  Engine_Size\n",
      "--------------------------------\n",
      "per_of_nulls   :  % 4.9\n",
      "num_of_nulls   :  1403\n",
      "num_of_uniques :  467\n",
      "--------------------------------\n",
      "1598.0    2099\n",
      "999.0     2068\n",
      "1969.0    1929\n",
      "NaN       1403\n",
      "1461.0    1110\n",
      "          ... \n",
      "2753.0       1\n",
      "2495.0       1\n",
      "200.0        1\n",
      "3224.0       1\n",
      "2473.0       1\n",
      "Name: Engine_Size, Length: 468, dtype: int64\n"
     ]
    }
   ],
   "source": [
    "first_looking(\"Engine_Size\")"
   ]
  },
  {
   "cell_type": "code",
   "execution_count": 18,
   "id": "3e6de539",
   "metadata": {},
   "outputs": [],
   "source": [
    "df[\"Engine_Size\"].fillna(\"-\", inplace=True)"
   ]
  },
  {
   "cell_type": "markdown",
   "id": "a5e4a853-eb78-4616-ac71-2fb8d519fffd",
   "metadata": {
    "tags": []
   },
   "source": [
    "describe() returns nothing for NaN values. If the column/property I'm interested in has \"Nan\" I should replace those nan values with something else. In this case, I replaced the \"NaN\" values with \"-\" so that I could implement the define() method."
   ]
  },
  {
   "cell_type": "code",
   "execution_count": 20,
   "id": "89ded73e-460e-4048-bc44-c9ee2f411268",
   "metadata": {},
   "outputs": [
    {
     "data": {
      "text/html": [
       "<div>\n",
       "<style scoped>\n",
       "    .dataframe tbody tr th:only-of-type {\n",
       "        vertical-align: middle;\n",
       "    }\n",
       "\n",
       "    .dataframe tbody tr th {\n",
       "        vertical-align: top;\n",
       "    }\n",
       "\n",
       "    .dataframe thead th {\n",
       "        text-align: right;\n",
       "    }\n",
       "</style>\n",
       "<table border=\"1\" class=\"dataframe\">\n",
       "  <thead>\n",
       "    <tr style=\"text-align: right;\">\n",
       "      <th></th>\n",
       "      <th></th>\n",
       "      <th></th>\n",
       "      <th>count</th>\n",
       "      <th>mean</th>\n",
       "      <th>std</th>\n",
       "      <th>min</th>\n",
       "      <th>25%</th>\n",
       "      <th>50%</th>\n",
       "      <th>75%</th>\n",
       "      <th>max</th>\n",
       "    </tr>\n",
       "    <tr>\n",
       "      <th>Make_Model</th>\n",
       "      <th>Body_Type</th>\n",
       "      <th>Engine_Size</th>\n",
       "      <th></th>\n",
       "      <th></th>\n",
       "      <th></th>\n",
       "      <th></th>\n",
       "      <th></th>\n",
       "      <th></th>\n",
       "      <th></th>\n",
       "      <th></th>\n",
       "    </tr>\n",
       "  </thead>\n",
       "  <tbody>\n",
       "    <tr>\n",
       "      <th rowspan=\"4\" valign=\"top\">Dacia</th>\n",
       "      <th rowspan=\"2\" valign=\"top\">Compact</th>\n",
       "      <th>0.0</th>\n",
       "      <td>1.0</td>\n",
       "      <td>19515.0</td>\n",
       "      <td>NaN</td>\n",
       "      <td>19515.0</td>\n",
       "      <td>19515.0</td>\n",
       "      <td>19515.0</td>\n",
       "      <td>19515.0</td>\n",
       "      <td>19515.0</td>\n",
       "    </tr>\n",
       "    <tr>\n",
       "      <th>-</th>\n",
       "      <td>2.0</td>\n",
       "      <td>22389.0</td>\n",
       "      <td>127.279221</td>\n",
       "      <td>22299.0</td>\n",
       "      <td>22344.0</td>\n",
       "      <td>22389.0</td>\n",
       "      <td>22434.0</td>\n",
       "      <td>22479.0</td>\n",
       "    </tr>\n",
       "    <tr>\n",
       "      <th>Sedan</th>\n",
       "      <th>1289.0</th>\n",
       "      <td>1.0</td>\n",
       "      <td>9999.0</td>\n",
       "      <td>NaN</td>\n",
       "      <td>9999.0</td>\n",
       "      <td>9999.0</td>\n",
       "      <td>9999.0</td>\n",
       "      <td>9999.0</td>\n",
       "      <td>9999.0</td>\n",
       "    </tr>\n",
       "    <tr>\n",
       "      <th>Station wagon</th>\n",
       "      <th>999.0</th>\n",
       "      <td>1.0</td>\n",
       "      <td>21799.0</td>\n",
       "      <td>NaN</td>\n",
       "      <td>21799.0</td>\n",
       "      <td>21799.0</td>\n",
       "      <td>21799.0</td>\n",
       "      <td>21799.0</td>\n",
       "      <td>21799.0</td>\n",
       "    </tr>\n",
       "    <tr>\n",
       "      <th>Dacia Break</th>\n",
       "      <th>Station wagon</th>\n",
       "      <th>-</th>\n",
       "      <td>1.0</td>\n",
       "      <td>20500.0</td>\n",
       "      <td>NaN</td>\n",
       "      <td>20500.0</td>\n",
       "      <td>20500.0</td>\n",
       "      <td>20500.0</td>\n",
       "      <td>20500.0</td>\n",
       "      <td>20500.0</td>\n",
       "    </tr>\n",
       "    <tr>\n",
       "      <th>...</th>\n",
       "      <th>...</th>\n",
       "      <th>...</th>\n",
       "      <td>...</td>\n",
       "      <td>...</td>\n",
       "      <td>...</td>\n",
       "      <td>...</td>\n",
       "      <td>...</td>\n",
       "      <td>...</td>\n",
       "      <td>...</td>\n",
       "      <td>...</td>\n",
       "    </tr>\n",
       "    <tr>\n",
       "      <th rowspan=\"5\" valign=\"top\">Volvo XC90</th>\n",
       "      <th rowspan=\"2\" valign=\"top\">Off-Road/Pick-up</th>\n",
       "      <th>2922.0</th>\n",
       "      <td>2.0</td>\n",
       "      <td>16990.0</td>\n",
       "      <td>0.000000</td>\n",
       "      <td>16990.0</td>\n",
       "      <td>16990.0</td>\n",
       "      <td>16990.0</td>\n",
       "      <td>16990.0</td>\n",
       "      <td>16990.0</td>\n",
       "    </tr>\n",
       "    <tr>\n",
       "      <th>-</th>\n",
       "      <td>2.0</td>\n",
       "      <td>55900.0</td>\n",
       "      <td>0.000000</td>\n",
       "      <td>55900.0</td>\n",
       "      <td>55900.0</td>\n",
       "      <td>55900.0</td>\n",
       "      <td>55900.0</td>\n",
       "      <td>55900.0</td>\n",
       "    </tr>\n",
       "    <tr>\n",
       "      <th rowspan=\"2\" valign=\"top\">Sedan</th>\n",
       "      <th>1969.0</th>\n",
       "      <td>2.0</td>\n",
       "      <td>48100.0</td>\n",
       "      <td>565.685425</td>\n",
       "      <td>47700.0</td>\n",
       "      <td>47900.0</td>\n",
       "      <td>48100.0</td>\n",
       "      <td>48300.0</td>\n",
       "      <td>48500.0</td>\n",
       "    </tr>\n",
       "    <tr>\n",
       "      <th>-</th>\n",
       "      <td>1.0</td>\n",
       "      <td>84900.0</td>\n",
       "      <td>NaN</td>\n",
       "      <td>84900.0</td>\n",
       "      <td>84900.0</td>\n",
       "      <td>84900.0</td>\n",
       "      <td>84900.0</td>\n",
       "      <td>84900.0</td>\n",
       "    </tr>\n",
       "    <tr>\n",
       "      <th>Station wagon</th>\n",
       "      <th>1969.0</th>\n",
       "      <td>4.0</td>\n",
       "      <td>32750.0</td>\n",
       "      <td>3752.776750</td>\n",
       "      <td>29500.0</td>\n",
       "      <td>29500.0</td>\n",
       "      <td>32750.0</td>\n",
       "      <td>36000.0</td>\n",
       "      <td>36000.0</td>\n",
       "    </tr>\n",
       "  </tbody>\n",
       "</table>\n",
       "<p>3890 rows × 8 columns</p>\n",
       "</div>"
      ],
      "text/plain": [
       "                                          count     mean          std  \\\n",
       "Make_Model  Body_Type        Engine_Size                                \n",
       "Dacia       Compact          0.0            1.0  19515.0          NaN   \n",
       "                             -              2.0  22389.0   127.279221   \n",
       "            Sedan            1289.0         1.0   9999.0          NaN   \n",
       "            Station wagon    999.0          1.0  21799.0          NaN   \n",
       "Dacia Break Station wagon    -              1.0  20500.0          NaN   \n",
       "...                                         ...      ...          ...   \n",
       "Volvo XC90  Off-Road/Pick-up 2922.0         2.0  16990.0     0.000000   \n",
       "                             -              2.0  55900.0     0.000000   \n",
       "            Sedan            1969.0         2.0  48100.0   565.685425   \n",
       "                             -              1.0  84900.0          NaN   \n",
       "            Station wagon    1969.0         4.0  32750.0  3752.776750   \n",
       "\n",
       "                                              min      25%      50%      75%  \\\n",
       "Make_Model  Body_Type        Engine_Size                                       \n",
       "Dacia       Compact          0.0          19515.0  19515.0  19515.0  19515.0   \n",
       "                             -            22299.0  22344.0  22389.0  22434.0   \n",
       "            Sedan            1289.0        9999.0   9999.0   9999.0   9999.0   \n",
       "            Station wagon    999.0        21799.0  21799.0  21799.0  21799.0   \n",
       "Dacia Break Station wagon    -            20500.0  20500.0  20500.0  20500.0   \n",
       "...                                           ...      ...      ...      ...   \n",
       "Volvo XC90  Off-Road/Pick-up 2922.0       16990.0  16990.0  16990.0  16990.0   \n",
       "                             -            55900.0  55900.0  55900.0  55900.0   \n",
       "            Sedan            1969.0       47700.0  47900.0  48100.0  48300.0   \n",
       "                             -            84900.0  84900.0  84900.0  84900.0   \n",
       "            Station wagon    1969.0       29500.0  29500.0  32750.0  36000.0   \n",
       "\n",
       "                                              max  \n",
       "Make_Model  Body_Type        Engine_Size           \n",
       "Dacia       Compact          0.0          19515.0  \n",
       "                             -            22479.0  \n",
       "            Sedan            1289.0        9999.0  \n",
       "            Station wagon    999.0        21799.0  \n",
       "Dacia Break Station wagon    -            20500.0  \n",
       "...                                           ...  \n",
       "Volvo XC90  Off-Road/Pick-up 2922.0       16990.0  \n",
       "                             -            55900.0  \n",
       "            Sedan            1969.0       48500.0  \n",
       "                             -            84900.0  \n",
       "            Station wagon    1969.0       36000.0  \n",
       "\n",
       "[3890 rows x 8 columns]"
      ]
     },
     "execution_count": 20,
     "metadata": {},
     "output_type": "execute_result"
    }
   ],
   "source": [
    "df.groupby([\"Make_Model\", \"Body_Type\",\"Engine_Size\"]).Price.describe()"
   ]
  },
  {
   "cell_type": "markdown",
   "id": "2ec12d35-e410-42a2-b831-15c44caf7a6c",
   "metadata": {},
   "source": [
    "The engine_size of cars changes by their make_models & body_type most of the time. So it is more beneficial to decide to fill missing values with mode value of related group."
   ]
  },
  {
   "cell_type": "code",
   "execution_count": 21,
   "id": "383ff2b0-2788-4ed3-b9f5-7e7a719ac096",
   "metadata": {},
   "outputs": [],
   "source": [
    "df[\"Engine_Size\"].replace(\"-\", np.nan, inplace=True)"
   ]
  },
  {
   "cell_type": "code",
   "execution_count": 22,
   "id": "c279da43-ea2d-495f-b006-f9a4515d28ea",
   "metadata": {},
   "outputs": [
    {
     "name": "stdout",
     "output_type": "stream",
     "text": [
      "Number of NaN :  0\n",
      "------------------\n",
      "1598.0     2255\n",
      "999.0      2145\n",
      "1969.0     1967\n",
      "1461.0     1144\n",
      "1998.0     1056\n",
      "           ... \n",
      "1196.0        1\n",
      "16998.0       1\n",
      "1489.0        1\n",
      "2645.0        1\n",
      "2473.0        1\n",
      "Name: Engine_Size, Length: 467, dtype: int64\n"
     ]
    }
   ],
   "source": [
    "fill(df, \"Make_Model\", \"Body_Type\", \"Engine_Size\", \"mode\")"
   ]
  },
  {
   "cell_type": "markdown",
   "id": "eb139b12",
   "metadata": {},
   "source": [
    "### Age"
   ]
  },
  {
   "cell_type": "code",
   "execution_count": 23,
   "id": "3440d1e9",
   "metadata": {},
   "outputs": [
    {
     "name": "stdout",
     "output_type": "stream",
     "text": [
      "COLUMN NAME    :  Age\n",
      "--------------------------------\n",
      "per_of_nulls   :  % 0.01\n",
      "num_of_nulls   :  2\n",
      "num_of_uniques :  83\n",
      "--------------------------------\n",
      " 3.0      3667\n",
      " 4.0      3492\n",
      " 0.0      3086\n",
      " 1.0      2870\n",
      " 2.0      2473\n",
      "          ... \n",
      "-1.0         1\n",
      " 93.0        1\n",
      " 72.0        1\n",
      " 94.0        1\n",
      "-180.0       1\n",
      "Name: Age, Length: 84, dtype: int64\n"
     ]
    }
   ],
   "source": [
    "first_looking(\"Age\")"
   ]
  },
  {
   "cell_type": "code",
   "execution_count": 24,
   "id": "9a4edcdb",
   "metadata": {},
   "outputs": [],
   "source": [
    "df['Age'].fillna('-', inplace=True)"
   ]
  },
  {
   "cell_type": "code",
   "execution_count": 25,
   "id": "8e7da7ab",
   "metadata": {
    "tags": []
   },
   "outputs": [
    {
     "data": {
      "text/html": [
       "<div>\n",
       "<style scoped>\n",
       "    .dataframe tbody tr th:only-of-type {\n",
       "        vertical-align: middle;\n",
       "    }\n",
       "\n",
       "    .dataframe tbody tr th {\n",
       "        vertical-align: top;\n",
       "    }\n",
       "\n",
       "    .dataframe thead th {\n",
       "        text-align: right;\n",
       "    }\n",
       "</style>\n",
       "<table border=\"1\" class=\"dataframe\">\n",
       "  <thead>\n",
       "    <tr style=\"text-align: right;\">\n",
       "      <th></th>\n",
       "      <th>count</th>\n",
       "      <th>mean</th>\n",
       "      <th>std</th>\n",
       "      <th>min</th>\n",
       "      <th>25%</th>\n",
       "      <th>50%</th>\n",
       "      <th>75%</th>\n",
       "      <th>max</th>\n",
       "    </tr>\n",
       "    <tr>\n",
       "      <th>Age</th>\n",
       "      <th></th>\n",
       "      <th></th>\n",
       "      <th></th>\n",
       "      <th></th>\n",
       "      <th></th>\n",
       "      <th></th>\n",
       "      <th></th>\n",
       "      <th></th>\n",
       "    </tr>\n",
       "  </thead>\n",
       "  <tbody>\n",
       "    <tr>\n",
       "      <th>-180.0</th>\n",
       "      <td>1.0</td>\n",
       "      <td>20926.000000</td>\n",
       "      <td>NaN</td>\n",
       "      <td>20926.0</td>\n",
       "      <td>20926.00</td>\n",
       "      <td>20926.0</td>\n",
       "      <td>20926.00</td>\n",
       "      <td>20926.0</td>\n",
       "    </tr>\n",
       "    <tr>\n",
       "      <th>-3.0</th>\n",
       "      <td>1.0</td>\n",
       "      <td>59629.000000</td>\n",
       "      <td>NaN</td>\n",
       "      <td>59629.0</td>\n",
       "      <td>59629.00</td>\n",
       "      <td>59629.0</td>\n",
       "      <td>59629.00</td>\n",
       "      <td>59629.0</td>\n",
       "    </tr>\n",
       "    <tr>\n",
       "      <th>-1.0</th>\n",
       "      <td>1.0</td>\n",
       "      <td>147985.000000</td>\n",
       "      <td>NaN</td>\n",
       "      <td>147985.0</td>\n",
       "      <td>147985.00</td>\n",
       "      <td>147985.0</td>\n",
       "      <td>147985.00</td>\n",
       "      <td>147985.0</td>\n",
       "    </tr>\n",
       "    <tr>\n",
       "      <th>0.0</th>\n",
       "      <td>3085.0</td>\n",
       "      <td>3043.333874</td>\n",
       "      <td>4697.710410</td>\n",
       "      <td>0.0</td>\n",
       "      <td>10.00</td>\n",
       "      <td>400.0</td>\n",
       "      <td>5000.00</td>\n",
       "      <td>46500.0</td>\n",
       "    </tr>\n",
       "    <tr>\n",
       "      <th>1.0</th>\n",
       "      <td>2870.0</td>\n",
       "      <td>15009.230314</td>\n",
       "      <td>12832.031943</td>\n",
       "      <td>0.0</td>\n",
       "      <td>5806.00</td>\n",
       "      <td>12175.0</td>\n",
       "      <td>21493.50</td>\n",
       "      <td>94000.0</td>\n",
       "    </tr>\n",
       "    <tr>\n",
       "      <th>...</th>\n",
       "      <td>...</td>\n",
       "      <td>...</td>\n",
       "      <td>...</td>\n",
       "      <td>...</td>\n",
       "      <td>...</td>\n",
       "      <td>...</td>\n",
       "      <td>...</td>\n",
       "      <td>...</td>\n",
       "    </tr>\n",
       "    <tr>\n",
       "      <th>92.0</th>\n",
       "      <td>2.0</td>\n",
       "      <td>30616.500000</td>\n",
       "      <td>41554.544210</td>\n",
       "      <td>1233.0</td>\n",
       "      <td>15924.75</td>\n",
       "      <td>30616.5</td>\n",
       "      <td>45308.25</td>\n",
       "      <td>60000.0</td>\n",
       "    </tr>\n",
       "    <tr>\n",
       "      <th>93.0</th>\n",
       "      <td>1.0</td>\n",
       "      <td>65515.000000</td>\n",
       "      <td>NaN</td>\n",
       "      <td>65515.0</td>\n",
       "      <td>65515.00</td>\n",
       "      <td>65515.0</td>\n",
       "      <td>65515.00</td>\n",
       "      <td>65515.0</td>\n",
       "    </tr>\n",
       "    <tr>\n",
       "      <th>94.0</th>\n",
       "      <td>1.0</td>\n",
       "      <td>5000.000000</td>\n",
       "      <td>NaN</td>\n",
       "      <td>5000.0</td>\n",
       "      <td>5000.00</td>\n",
       "      <td>5000.0</td>\n",
       "      <td>5000.00</td>\n",
       "      <td>5000.0</td>\n",
       "    </tr>\n",
       "    <tr>\n",
       "      <th>122.0</th>\n",
       "      <td>2.0</td>\n",
       "      <td>14985.500000</td>\n",
       "      <td>21178.555203</td>\n",
       "      <td>10.0</td>\n",
       "      <td>7497.75</td>\n",
       "      <td>14985.5</td>\n",
       "      <td>22473.25</td>\n",
       "      <td>29961.0</td>\n",
       "    </tr>\n",
       "    <tr>\n",
       "      <th>-</th>\n",
       "      <td>2.0</td>\n",
       "      <td>3175.000000</td>\n",
       "      <td>963.079436</td>\n",
       "      <td>2494.0</td>\n",
       "      <td>2834.50</td>\n",
       "      <td>3175.0</td>\n",
       "      <td>3515.50</td>\n",
       "      <td>3856.0</td>\n",
       "    </tr>\n",
       "  </tbody>\n",
       "</table>\n",
       "<p>84 rows × 8 columns</p>\n",
       "</div>"
      ],
      "text/plain": [
       "         count           mean           std       min        25%       50%  \\\n",
       "Age                                                                          \n",
       "-180.0     1.0   20926.000000           NaN   20926.0   20926.00   20926.0   \n",
       "-3.0       1.0   59629.000000           NaN   59629.0   59629.00   59629.0   \n",
       "-1.0       1.0  147985.000000           NaN  147985.0  147985.00  147985.0   \n",
       "0.0     3085.0    3043.333874   4697.710410       0.0      10.00     400.0   \n",
       "1.0     2870.0   15009.230314  12832.031943       0.0    5806.00   12175.0   \n",
       "...        ...            ...           ...       ...        ...       ...   \n",
       "92.0       2.0   30616.500000  41554.544210    1233.0   15924.75   30616.5   \n",
       "93.0       1.0   65515.000000           NaN   65515.0   65515.00   65515.0   \n",
       "94.0       1.0    5000.000000           NaN    5000.0    5000.00    5000.0   \n",
       "122.0      2.0   14985.500000  21178.555203      10.0    7497.75   14985.5   \n",
       "-          2.0    3175.000000    963.079436    2494.0    2834.50    3175.0   \n",
       "\n",
       "              75%       max  \n",
       "Age                          \n",
       "-180.0   20926.00   20926.0  \n",
       "-3.0     59629.00   59629.0  \n",
       "-1.0    147985.00  147985.0  \n",
       "0.0       5000.00   46500.0  \n",
       "1.0      21493.50   94000.0  \n",
       "...           ...       ...  \n",
       "92.0     45308.25   60000.0  \n",
       "93.0     65515.00   65515.0  \n",
       "94.0      5000.00    5000.0  \n",
       "122.0    22473.25   29961.0  \n",
       "-         3515.50    3856.0  \n",
       "\n",
       "[84 rows x 8 columns]"
      ]
     },
     "execution_count": 25,
     "metadata": {},
     "output_type": "execute_result"
    }
   ],
   "source": [
    "df.groupby(\"Age\").Mileage.describe()"
   ]
  },
  {
   "cell_type": "code",
   "execution_count": 26,
   "id": "c3251d7c-34c3-455e-ba1a-072f67ebf8f7",
   "metadata": {},
   "outputs": [
    {
     "data": {
      "text/plain": [
       "3856.0    1\n",
       "2494.0    1\n",
       "Name: Mileage, dtype: int64"
      ]
     },
     "execution_count": 26,
     "metadata": {},
     "output_type": "execute_result"
    }
   ],
   "source": [
    "df[df[\"Age\"] == \"-\"][\"Mileage\"].value_counts(dropna=False)"
   ]
  },
  {
   "cell_type": "code",
   "execution_count": null,
   "id": "ae8bb04f-dbd6-442f-affb-4d4774da2e85",
   "metadata": {},
   "outputs": [],
   "source": [
    "# I will use replace() function to fill missing values at \"age\" column with proper values."
   ]
  },
  {
   "cell_type": "code",
   "execution_count": 27,
   "id": "0cdb3d12-ccb4-470f-ac1d-f08fc91293b2",
   "metadata": {},
   "outputs": [],
   "source": [
    "condition_age1 = (df['Mileage'] < 10000)\n",
    "\n",
    "df.loc[condition_age1,'Age'] = df.loc[condition_age1,'Age'].replace('-', 0)"
   ]
  },
  {
   "cell_type": "code",
   "execution_count": 28,
   "id": "7d0d802f-8fec-4895-ba44-081f8efc3ab7",
   "metadata": {},
   "outputs": [
    {
     "data": {
      "text/plain": [
       "Age\n",
       "-180.0     20926.000000\n",
       "-3.0       59629.000000\n",
       "-1.0      147985.000000\n",
       " 0.0        3043.419177\n",
       " 1.0       15009.230314\n",
       "              ...      \n",
       " 90.0      14700.000000\n",
       " 92.0      30616.500000\n",
       " 93.0      65515.000000\n",
       " 94.0       5000.000000\n",
       " 122.0     14985.500000\n",
       "Name: Mileage, Length: 83, dtype: float64"
      ]
     },
     "execution_count": 28,
     "metadata": {},
     "output_type": "execute_result"
    }
   ],
   "source": [
    "df.groupby('Age').Mileage.mean()"
   ]
  },
  {
   "cell_type": "code",
   "execution_count": 29,
   "id": "c87f0072-9a0d-4ebe-a8ea-36e88318862e",
   "metadata": {},
   "outputs": [
    {
     "name": "stdout",
     "output_type": "stream",
     "text": [
      "COLUMN NAME    :  Age\n",
      "--------------------------------\n",
      "per_of_nulls   :  % 0.0\n",
      "num_of_nulls   :  0\n",
      "num_of_uniques :  83\n",
      "--------------------------------\n",
      " 3.0      3667\n",
      " 4.0      3492\n",
      " 0.0      3088\n",
      " 1.0      2870\n",
      " 2.0      2473\n",
      "          ... \n",
      " 93.0        1\n",
      " 66.0        1\n",
      "-180.0       1\n",
      " 94.0        1\n",
      " 72.0        1\n",
      "Name: Age, Length: 83, dtype: int64\n"
     ]
    }
   ],
   "source": [
    "first_looking(\"Age\")"
   ]
  },
  {
   "cell_type": "markdown",
   "id": "2e855c19",
   "metadata": {},
   "source": [
    "### Mileage"
   ]
  },
  {
   "cell_type": "code",
   "execution_count": 31,
   "id": "8afbf891",
   "metadata": {},
   "outputs": [
    {
     "name": "stdout",
     "output_type": "stream",
     "text": [
      "COLUMN NAME    :  Mileage\n",
      "--------------------------------\n",
      "per_of_nulls   :  % 0.0\n",
      "num_of_nulls   :  1\n",
      "num_of_uniques :  14183\n",
      "--------------------------------\n",
      "10.0        586\n",
      "1.0         172\n",
      "50.0        133\n",
      "100.0       119\n",
      "5000.0      118\n",
      "           ... \n",
      "141589.0      1\n",
      "59821.0       1\n",
      "123500.0      1\n",
      "29781.0       1\n",
      "230047.0      1\n",
      "Name: Mileage, Length: 14184, dtype: int64\n"
     ]
    }
   ],
   "source": [
    "first_looking(\"Mileage\")"
   ]
  },
  {
   "cell_type": "code",
   "execution_count": 32,
   "id": "20082085",
   "metadata": {},
   "outputs": [
    {
     "data": {
      "text/plain": [
       "Age\n",
       "-180.0     20926.000000\n",
       "-3.0       59629.000000\n",
       "-1.0      147985.000000\n",
       " 0.0        3043.419177\n",
       " 1.0       15009.230314\n",
       "              ...      \n",
       " 90.0      14700.000000\n",
       " 92.0      30616.500000\n",
       " 93.0      65515.000000\n",
       " 94.0       5000.000000\n",
       " 122.0     14985.500000\n",
       "Name: Mileage, Length: 83, dtype: float64"
      ]
     },
     "execution_count": 32,
     "metadata": {},
     "output_type": "execute_result"
    }
   ],
   "source": [
    "df.groupby(\"Age\").Mileage.mean()"
   ]
  },
  {
   "cell_type": "code",
   "execution_count": 33,
   "id": "77c33891-d6fa-4152-ba6a-c1d5e3e0ac5a",
   "metadata": {},
   "outputs": [
    {
     "data": {
      "text/html": [
       "<div>\n",
       "<style scoped>\n",
       "    .dataframe tbody tr th:only-of-type {\n",
       "        vertical-align: middle;\n",
       "    }\n",
       "\n",
       "    .dataframe tbody tr th {\n",
       "        vertical-align: top;\n",
       "    }\n",
       "\n",
       "    .dataframe thead th {\n",
       "        text-align: right;\n",
       "    }\n",
       "</style>\n",
       "<table border=\"1\" class=\"dataframe\">\n",
       "  <thead>\n",
       "    <tr style=\"text-align: right;\">\n",
       "      <th></th>\n",
       "      <th>Age</th>\n",
       "      <th>Mileage</th>\n",
       "    </tr>\n",
       "  </thead>\n",
       "  <tbody>\n",
       "    <tr>\n",
       "      <th>10753</th>\n",
       "      <td>0.0</td>\n",
       "      <td>NaN</td>\n",
       "    </tr>\n",
       "  </tbody>\n",
       "</table>\n",
       "</div>"
      ],
      "text/plain": [
       "       Age  Mileage\n",
       "10753  0.0      NaN"
      ]
     },
     "execution_count": 33,
     "metadata": {},
     "output_type": "execute_result"
    }
   ],
   "source": [
    "df[df[\"Mileage\"].isna()][[\"Age\", \"Mileage\"]]"
   ]
  },
  {
   "cell_type": "code",
   "execution_count": 34,
   "id": "b3f34bdb-22ff-4530-9ed4-e6cf8e87e290",
   "metadata": {},
   "outputs": [],
   "source": [
    "# I will use transform() function to fill missing values at \"km\" column with \"mean\"."
   ]
  },
  {
   "cell_type": "code",
   "execution_count": 35,
   "id": "738b1964-290c-4053-8ea8-a51bb7f69315",
   "metadata": {},
   "outputs": [
    {
     "data": {
      "text/plain": [
       "0         83995.415882\n",
       "1          3043.419177\n",
       "2         30711.259604\n",
       "3         30711.259604\n",
       "4         98250.392078\n",
       "             ...      \n",
       "28625     50955.461685\n",
       "28626    174932.939271\n",
       "28627    134643.419003\n",
       "28628     77484.786480\n",
       "28629    154393.181818\n",
       "Name: Mileage, Length: 28630, dtype: float64"
      ]
     },
     "execution_count": 35,
     "metadata": {},
     "output_type": "execute_result"
    }
   ],
   "source": [
    "df.groupby(\"Age\").Mileage.transform(\"mean\")"
   ]
  },
  {
   "cell_type": "code",
   "execution_count": 36,
   "id": "50270fca-7ccf-4df3-a484-790e20557ae9",
   "metadata": {},
   "outputs": [],
   "source": [
    "df[\"Mileage\"].fillna(df.groupby(\"Age\").Mileage.transform(\"mean\"), inplace=True)\n",
    "\n",
    "# Using transform()function, we have filled missing values at \"mileage\" column with the \"mean\" of the each \"age\" group."
   ]
  },
  {
   "cell_type": "code",
   "execution_count": 37,
   "id": "5c0e5c81-7f82-439f-8522-7609608526b9",
   "metadata": {},
   "outputs": [
    {
     "name": "stdout",
     "output_type": "stream",
     "text": [
      "COLUMN NAME    :  Mileage\n",
      "--------------------------------\n",
      "per_of_nulls   :  % 0.0\n",
      "num_of_nulls   :  0\n",
      "num_of_uniques :  14184\n",
      "--------------------------------\n",
      "10.0        586\n",
      "1.0         172\n",
      "50.0        133\n",
      "100.0       119\n",
      "5000.0      118\n",
      "           ... \n",
      "141589.0      1\n",
      "59821.0       1\n",
      "123500.0      1\n",
      "29781.0       1\n",
      "230047.0      1\n",
      "Name: Mileage, Length: 14184, dtype: int64\n"
     ]
    }
   ],
   "source": [
    "first_looking(\"Mileage\")"
   ]
  },
  {
   "cell_type": "markdown",
   "id": "5bfc8566",
   "metadata": {},
   "source": [
    "### Doors"
   ]
  },
  {
   "cell_type": "code",
   "execution_count": 38,
   "id": "660e9372",
   "metadata": {
    "tags": []
   },
   "outputs": [
    {
     "name": "stdout",
     "output_type": "stream",
     "text": [
      "COLUMN NAME    :  Doors\n",
      "--------------------------------\n",
      "per_of_nulls   :  % 1.25\n",
      "num_of_nulls   :  359\n",
      "num_of_uniques :  6\n",
      "--------------------------------\n",
      "5.0    17481\n",
      "2.0     5523\n",
      "4.0     3001\n",
      "3.0     2259\n",
      "NaN      359\n",
      "6.0        5\n",
      "1.0        2\n",
      "Name: Doors, dtype: int64\n"
     ]
    }
   ],
   "source": [
    "first_looking(\"Doors\")"
   ]
  },
  {
   "cell_type": "code",
   "execution_count": null,
   "id": "5c4431b3-07d0-48a6-b79a-f180eb331c83",
   "metadata": {},
   "outputs": [],
   "source": [
    "#The number of doors of cars changes by theirs make_models and body_types. \n",
    "#So I have decided to fill missing values with mode value of related group."
   ]
  },
  {
   "cell_type": "code",
   "execution_count": 40,
   "id": "00364df9-57f9-4c52-a841-8345380dd244",
   "metadata": {},
   "outputs": [],
   "source": [
    "for group1 in list(df[\"Make_Model\"].unique()):\n",
    "    for group2 in list(df[\"Body_Type\"].unique()):\n",
    "        cond1 = df[\"Make_Model\"]==group1\n",
    "        cond2 = (df[\"Make_Model\"]==group1) & (df[\"Body_Type\"]==group2)\n",
    "        mode1 = list(df[cond1][\"Doors\"].mode())\n",
    "        mode2 = list(df[cond2][\"Doors\"].mode())\n",
    "        if mode2 != []:\n",
    "            df.loc[cond2, \"Doors\"] = df.loc[cond2, \"Doors\"].fillna(df[cond2][\"Doors\"].mode()[0])\n",
    "        elif mode1 != []:\n",
    "            df.loc[cond2, \"Doors\"] = df.loc[cond2, \"Doors\"].fillna(df[cond1][\"Doors\"].mode()[0])\n",
    "        else:\n",
    "            df.loc[cond2, \"Doors\"] = df.loc[cond2, \"Doors\"].fillna(df[\"Doors\"].mode()[0])"
   ]
  },
  {
   "cell_type": "code",
   "execution_count": 41,
   "id": "e89ba931-b88d-425a-a688-9600c7cb9ae3",
   "metadata": {
    "tags": []
   },
   "outputs": [
    {
     "data": {
      "text/plain": [
       "5.0    17637\n",
       "2.0     5669\n",
       "4.0     3013\n",
       "3.0     2304\n",
       "6.0        5\n",
       "1.0        2\n",
       "Name: Doors, dtype: int64"
      ]
     },
     "execution_count": 41,
     "metadata": {},
     "output_type": "execute_result"
    }
   ],
   "source": [
    "df[\"Doors\"].value_counts(dropna=False)"
   ]
  },
  {
   "cell_type": "markdown",
   "id": "d0e30872",
   "metadata": {},
   "source": [
    "### Gears"
   ]
  },
  {
   "cell_type": "code",
   "execution_count": 44,
   "id": "d0431fc2",
   "metadata": {},
   "outputs": [
    {
     "name": "stdout",
     "output_type": "stream",
     "text": [
      "COLUMN NAME    :  Gears\n",
      "--------------------------------\n",
      "per_of_nulls   :  % 33.8\n",
      "num_of_nulls   :  9676\n",
      "num_of_uniques :  11\n",
      "--------------------------------\n",
      "NaN     9676\n",
      "6.0     8412\n",
      "5.0     5335\n",
      "7.0     1738\n",
      "8.0     1690\n",
      "1.0      712\n",
      "9.0      642\n",
      "4.0      256\n",
      "10.0     112\n",
      "0.0       31\n",
      "3.0       24\n",
      "2.0        2\n",
      "Name: Gears, dtype: int64\n"
     ]
    }
   ],
   "source": [
    "first_looking(\"Gears\")"
   ]
  },
  {
   "cell_type": "code",
   "execution_count": 45,
   "id": "85739b9a",
   "metadata": {},
   "outputs": [
    {
     "data": {
      "text/plain": [
       "NaN    100\n",
       "1.0     77\n",
       "6.0      4\n",
       "0.0      3\n",
       "5.0      2\n",
       "9.0      1\n",
       "7.0      1\n",
       "Name: Gears, dtype: int64"
      ]
     },
     "execution_count": 45,
     "metadata": {},
     "output_type": "execute_result"
    }
   ],
   "source": [
    "df[df[\"Fuel_Type\"]==\"Electric\"].Gears.value_counts(dropna=False)"
   ]
  },
  {
   "cell_type": "code",
   "execution_count": 46,
   "id": "1547fb4b",
   "metadata": {},
   "outputs": [],
   "source": [
    "df[\"Gears\"].fillna(\"-\", inplace=True)"
   ]
  },
  {
   "cell_type": "code",
   "execution_count": 48,
   "id": "baf79076",
   "metadata": {
    "tags": []
   },
   "outputs": [
    {
     "data": {
      "text/html": [
       "<div>\n",
       "<style scoped>\n",
       "    .dataframe tbody tr th:only-of-type {\n",
       "        vertical-align: middle;\n",
       "    }\n",
       "\n",
       "    .dataframe tbody tr th {\n",
       "        vertical-align: top;\n",
       "    }\n",
       "\n",
       "    .dataframe thead th {\n",
       "        text-align: right;\n",
       "    }\n",
       "</style>\n",
       "<table border=\"1\" class=\"dataframe\">\n",
       "  <thead>\n",
       "    <tr style=\"text-align: right;\">\n",
       "      <th></th>\n",
       "      <th></th>\n",
       "      <th></th>\n",
       "      <th></th>\n",
       "      <th>count</th>\n",
       "      <th>mean</th>\n",
       "      <th>std</th>\n",
       "      <th>min</th>\n",
       "      <th>25%</th>\n",
       "      <th>50%</th>\n",
       "      <th>75%</th>\n",
       "      <th>max</th>\n",
       "    </tr>\n",
       "    <tr>\n",
       "      <th>Make_Model</th>\n",
       "      <th>Body_Type</th>\n",
       "      <th>Gearbox</th>\n",
       "      <th>Gears</th>\n",
       "      <th></th>\n",
       "      <th></th>\n",
       "      <th></th>\n",
       "      <th></th>\n",
       "      <th></th>\n",
       "      <th></th>\n",
       "      <th></th>\n",
       "      <th></th>\n",
       "    </tr>\n",
       "  </thead>\n",
       "  <tbody>\n",
       "    <tr>\n",
       "      <th rowspan=\"4\" valign=\"top\">Dacia</th>\n",
       "      <th rowspan=\"2\" valign=\"top\">Compact</th>\n",
       "      <th rowspan=\"2\" valign=\"top\">Automatic</th>\n",
       "      <th>1.0</th>\n",
       "      <td>1.0</td>\n",
       "      <td>19515.000000</td>\n",
       "      <td>NaN</td>\n",
       "      <td>19515.0</td>\n",
       "      <td>19515.0</td>\n",
       "      <td>19515.0</td>\n",
       "      <td>19515.0</td>\n",
       "      <td>19515.0</td>\n",
       "    </tr>\n",
       "    <tr>\n",
       "      <th>-</th>\n",
       "      <td>2.0</td>\n",
       "      <td>22389.000000</td>\n",
       "      <td>127.279221</td>\n",
       "      <td>22299.0</td>\n",
       "      <td>22344.0</td>\n",
       "      <td>22389.0</td>\n",
       "      <td>22434.0</td>\n",
       "      <td>22479.0</td>\n",
       "    </tr>\n",
       "    <tr>\n",
       "      <th>Sedan</th>\n",
       "      <th>Manual</th>\n",
       "      <th>4.0</th>\n",
       "      <td>1.0</td>\n",
       "      <td>9999.000000</td>\n",
       "      <td>NaN</td>\n",
       "      <td>9999.0</td>\n",
       "      <td>9999.0</td>\n",
       "      <td>9999.0</td>\n",
       "      <td>9999.0</td>\n",
       "      <td>9999.0</td>\n",
       "    </tr>\n",
       "    <tr>\n",
       "      <th>Station wagon</th>\n",
       "      <th>Manual</th>\n",
       "      <th>-</th>\n",
       "      <td>1.0</td>\n",
       "      <td>21799.000000</td>\n",
       "      <td>NaN</td>\n",
       "      <td>21799.0</td>\n",
       "      <td>21799.0</td>\n",
       "      <td>21799.0</td>\n",
       "      <td>21799.0</td>\n",
       "      <td>21799.0</td>\n",
       "    </tr>\n",
       "    <tr>\n",
       "      <th>Dacia Break</th>\n",
       "      <th>Station wagon</th>\n",
       "      <th>Manual</th>\n",
       "      <th>-</th>\n",
       "      <td>1.0</td>\n",
       "      <td>20500.000000</td>\n",
       "      <td>NaN</td>\n",
       "      <td>20500.0</td>\n",
       "      <td>20500.0</td>\n",
       "      <td>20500.0</td>\n",
       "      <td>20500.0</td>\n",
       "      <td>20500.0</td>\n",
       "    </tr>\n",
       "    <tr>\n",
       "      <th>...</th>\n",
       "      <th>...</th>\n",
       "      <th>...</th>\n",
       "      <th>...</th>\n",
       "      <td>...</td>\n",
       "      <td>...</td>\n",
       "      <td>...</td>\n",
       "      <td>...</td>\n",
       "      <td>...</td>\n",
       "      <td>...</td>\n",
       "      <td>...</td>\n",
       "      <td>...</td>\n",
       "    </tr>\n",
       "    <tr>\n",
       "      <th rowspan=\"5\" valign=\"top\">Volvo XC90</th>\n",
       "      <th rowspan=\"2\" valign=\"top\">Off-Road/Pick-up</th>\n",
       "      <th rowspan=\"2\" valign=\"top\">Manual</th>\n",
       "      <th>6.0</th>\n",
       "      <td>2.0</td>\n",
       "      <td>6799.000000</td>\n",
       "      <td>0.000000</td>\n",
       "      <td>6799.0</td>\n",
       "      <td>6799.0</td>\n",
       "      <td>6799.0</td>\n",
       "      <td>6799.0</td>\n",
       "      <td>6799.0</td>\n",
       "    </tr>\n",
       "    <tr>\n",
       "      <th>-</th>\n",
       "      <td>2.0</td>\n",
       "      <td>7600.000000</td>\n",
       "      <td>0.000000</td>\n",
       "      <td>7600.0</td>\n",
       "      <td>7600.0</td>\n",
       "      <td>7600.0</td>\n",
       "      <td>7600.0</td>\n",
       "      <td>7600.0</td>\n",
       "    </tr>\n",
       "    <tr>\n",
       "      <th>Sedan</th>\n",
       "      <th>Automatic</th>\n",
       "      <th>-</th>\n",
       "      <td>3.0</td>\n",
       "      <td>60366.666667</td>\n",
       "      <td>21250.254900</td>\n",
       "      <td>47700.0</td>\n",
       "      <td>48100.0</td>\n",
       "      <td>48500.0</td>\n",
       "      <td>66700.0</td>\n",
       "      <td>84900.0</td>\n",
       "    </tr>\n",
       "    <tr>\n",
       "      <th rowspan=\"2\" valign=\"top\">Station wagon</th>\n",
       "      <th>Automatic</th>\n",
       "      <th>8.0</th>\n",
       "      <td>2.0</td>\n",
       "      <td>29500.000000</td>\n",
       "      <td>0.000000</td>\n",
       "      <td>29500.0</td>\n",
       "      <td>29500.0</td>\n",
       "      <td>29500.0</td>\n",
       "      <td>29500.0</td>\n",
       "      <td>29500.0</td>\n",
       "    </tr>\n",
       "    <tr>\n",
       "      <th>Semi-automatic</th>\n",
       "      <th>8.0</th>\n",
       "      <td>2.0</td>\n",
       "      <td>36000.000000</td>\n",
       "      <td>0.000000</td>\n",
       "      <td>36000.0</td>\n",
       "      <td>36000.0</td>\n",
       "      <td>36000.0</td>\n",
       "      <td>36000.0</td>\n",
       "      <td>36000.0</td>\n",
       "    </tr>\n",
       "  </tbody>\n",
       "</table>\n",
       "<p>3181 rows × 8 columns</p>\n",
       "</div>"
      ],
      "text/plain": [
       "                                                   count          mean  \\\n",
       "Make_Model  Body_Type        Gearbox        Gears                        \n",
       "Dacia       Compact          Automatic      1.0      1.0  19515.000000   \n",
       "                                            -        2.0  22389.000000   \n",
       "            Sedan            Manual         4.0      1.0   9999.000000   \n",
       "            Station wagon    Manual         -        1.0  21799.000000   \n",
       "Dacia Break Station wagon    Manual         -        1.0  20500.000000   \n",
       "...                                                  ...           ...   \n",
       "Volvo XC90  Off-Road/Pick-up Manual         6.0      2.0   6799.000000   \n",
       "                                            -        2.0   7600.000000   \n",
       "            Sedan            Automatic      -        3.0  60366.666667   \n",
       "            Station wagon    Automatic      8.0      2.0  29500.000000   \n",
       "                             Semi-automatic 8.0      2.0  36000.000000   \n",
       "\n",
       "                                                            std      min  \\\n",
       "Make_Model  Body_Type        Gearbox        Gears                          \n",
       "Dacia       Compact          Automatic      1.0             NaN  19515.0   \n",
       "                                            -        127.279221  22299.0   \n",
       "            Sedan            Manual         4.0             NaN   9999.0   \n",
       "            Station wagon    Manual         -               NaN  21799.0   \n",
       "Dacia Break Station wagon    Manual         -               NaN  20500.0   \n",
       "...                                                         ...      ...   \n",
       "Volvo XC90  Off-Road/Pick-up Manual         6.0        0.000000   6799.0   \n",
       "                                            -          0.000000   7600.0   \n",
       "            Sedan            Automatic      -      21250.254900  47700.0   \n",
       "            Station wagon    Automatic      8.0        0.000000  29500.0   \n",
       "                             Semi-automatic 8.0        0.000000  36000.0   \n",
       "\n",
       "                                                       25%      50%      75%  \\\n",
       "Make_Model  Body_Type        Gearbox        Gears                              \n",
       "Dacia       Compact          Automatic      1.0    19515.0  19515.0  19515.0   \n",
       "                                            -      22344.0  22389.0  22434.0   \n",
       "            Sedan            Manual         4.0     9999.0   9999.0   9999.0   \n",
       "            Station wagon    Manual         -      21799.0  21799.0  21799.0   \n",
       "Dacia Break Station wagon    Manual         -      20500.0  20500.0  20500.0   \n",
       "...                                                    ...      ...      ...   \n",
       "Volvo XC90  Off-Road/Pick-up Manual         6.0     6799.0   6799.0   6799.0   \n",
       "                                            -       7600.0   7600.0   7600.0   \n",
       "            Sedan            Automatic      -      48100.0  48500.0  66700.0   \n",
       "            Station wagon    Automatic      8.0    29500.0  29500.0  29500.0   \n",
       "                             Semi-automatic 8.0    36000.0  36000.0  36000.0   \n",
       "\n",
       "                                                       max  \n",
       "Make_Model  Body_Type        Gearbox        Gears           \n",
       "Dacia       Compact          Automatic      1.0    19515.0  \n",
       "                                            -      22479.0  \n",
       "            Sedan            Manual         4.0     9999.0  \n",
       "            Station wagon    Manual         -      21799.0  \n",
       "Dacia Break Station wagon    Manual         -      20500.0  \n",
       "...                                                    ...  \n",
       "Volvo XC90  Off-Road/Pick-up Manual         6.0     6799.0  \n",
       "                                            -       7600.0  \n",
       "            Sedan            Automatic      -      84900.0  \n",
       "            Station wagon    Automatic      8.0    29500.0  \n",
       "                             Semi-automatic 8.0    36000.0  \n",
       "\n",
       "[3181 rows x 8 columns]"
      ]
     },
     "execution_count": 48,
     "metadata": {},
     "output_type": "execute_result"
    }
   ],
   "source": [
    "df.groupby([\"Make_Model\", \"Body_Type\", \"Gearbox\", \"Gears\"]).Price.describe()"
   ]
  },
  {
   "cell_type": "code",
   "execution_count": null,
   "id": "bf5218c0-0294-4dc5-a301-26668c2f98ea",
   "metadata": {},
   "outputs": [],
   "source": [
    "#The number of gears of cars changes by their make_models, body_type and gearbox most of the time. \n",
    "#So it is more beneficial to decide to fill missing values with mode value of related group."
   ]
  },
  {
   "cell_type": "code",
   "execution_count": 49,
   "id": "0993e265-2540-4464-94ce-aecab1a5922e",
   "metadata": {},
   "outputs": [],
   "source": [
    "df[\"Gears\"].replace(\"-\", np.nan, inplace=True)"
   ]
  },
  {
   "cell_type": "code",
   "execution_count": 50,
   "id": "7d1c3b46",
   "metadata": {},
   "outputs": [],
   "source": [
    "for group1 in list(df[\"Make_Model\"].unique()):\n",
    "    for group2 in list(df[\"Body_Type\"].unique()):\n",
    "        for group3 in list(df[\"Gearbox\"].unique()):\n",
    "            cond1 = df[\"Make_Model\"]==group1\n",
    "            cond2 = (df[\"Make_Model\"]==group1) & (df[\"Body_Type\"]==group2)\n",
    "            cond3 = (df[\"Make_Model\"]==group1) & (df[\"Body_Type\"]==group2) & (df0[\"Gearbox\"]==group3)\n",
    "            mode1 = list(df[cond1][\"Gears\"].mode())\n",
    "            mode2 = list(df[cond2][\"Gears\"].mode())\n",
    "            mode3 = list(df[cond3][\"Gears\"].mode())\n",
    "            if mode3 != []:\n",
    "                df.loc[cond3, \"Gears\"] = df.loc[cond3, \"Gears\"].fillna(df[cond3][\"Gears\"].mode()[0])\n",
    "            elif mode2 != []:\n",
    "                df.loc[cond3, \"Gears\"] = df.loc[cond3, \"Gears\"].fillna(df[cond2][\"Gears\"].mode()[0])\n",
    "            elif mode1 != []:\n",
    "                df.loc[cond3, \"Gears\"] = df.loc[cond3, \"Gears\"].fillna(df[cond1][\"Gears\"].mode()[0])\n",
    "            else:\n",
    "                df.loc[cond3, \"Gears\"] = df.loc[cond3, \"Gears\"].fillna(df[\"Gears\"].mode()[0])"
   ]
  },
  {
   "cell_type": "code",
   "execution_count": 51,
   "id": "d6ccfd66-05af-4f99-862a-f1a248196bdc",
   "metadata": {
    "tags": []
   },
   "outputs": [
    {
     "name": "stdout",
     "output_type": "stream",
     "text": [
      "COLUMN NAME    :  Gears\n",
      "--------------------------------\n",
      "per_of_nulls   :  % 0.68\n",
      "num_of_nulls   :  196\n",
      "num_of_uniques :  11\n",
      "--------------------------------\n",
      "6.0     12182\n",
      "5.0      7741\n",
      "8.0      2726\n",
      "7.0      2612\n",
      "1.0      1344\n",
      "9.0      1142\n",
      "4.0       359\n",
      "10.0      242\n",
      "NaN       196\n",
      "3.0        52\n",
      "0.0        31\n",
      "2.0         3\n",
      "Name: Gears, dtype: int64\n"
     ]
    }
   ],
   "source": [
    "first_looking(\"Gears\")"
   ]
  },
  {
   "cell_type": "code",
   "execution_count": null,
   "id": "c6ae054f-3f75-44a9-a39c-920b991b562a",
   "metadata": {},
   "outputs": [],
   "source": [
    "# However, there have still been some (196) missing values for gears "
   ]
  },
  {
   "cell_type": "markdown",
   "id": "e3c72603",
   "metadata": {},
   "source": [
    "### Gearbox"
   ]
  },
  {
   "cell_type": "code",
   "execution_count": 52,
   "id": "9793488f",
   "metadata": {
    "tags": []
   },
   "outputs": [
    {
     "name": "stdout",
     "output_type": "stream",
     "text": [
      "COLUMN NAME    :  Gearbox\n",
      "--------------------------------\n",
      "per_of_nulls   :  % 0.87\n",
      "num_of_nulls   :  248\n",
      "num_of_uniques :  3\n",
      "--------------------------------\n",
      "Manual            17023\n",
      "Automatic         11287\n",
      "NaN                 248\n",
      "Semi-automatic       72\n",
      "Name: Gearbox, dtype: int64\n"
     ]
    }
   ],
   "source": [
    "first_looking(\"Gearbox\")"
   ]
  },
  {
   "cell_type": "code",
   "execution_count": 54,
   "id": "d52c836f-0d70-4467-9715-f4cac0a68f7e",
   "metadata": {},
   "outputs": [
    {
     "data": {
      "text/plain": [
       "Automatic         181\n",
       "NaN                 3\n",
       "Manual              3\n",
       "Semi-automatic      1\n",
       "Name: Gearbox, dtype: int64"
      ]
     },
     "execution_count": 54,
     "metadata": {},
     "output_type": "execute_result"
    }
   ],
   "source": [
    "df[df[\"Fuel_Type\"]==\"Electric\"].Gearbox.value_counts(dropna=False)"
   ]
  },
  {
   "cell_type": "code",
   "execution_count": 55,
   "id": "b3e7ea26-5605-45b0-8a37-93d20b21b14d",
   "metadata": {},
   "outputs": [
    {
     "name": "stdout",
     "output_type": "stream",
     "text": [
      "Number of NaN :  0\n",
      "------------------\n",
      "Manual            17191\n",
      "Automatic         11367\n",
      "Semi-automatic       72\n",
      "Name: Gearbox, dtype: int64\n"
     ]
    }
   ],
   "source": [
    "fill(df, \"Make_Model\", \"Body_Type\", \"Gearbox\", \"mode\")"
   ]
  },
  {
   "cell_type": "code",
   "execution_count": 57,
   "id": "5b3cd039-e24f-49c3-b871-5952984342bc",
   "metadata": {
    "tags": []
   },
   "outputs": [
    {
     "name": "stdout",
     "output_type": "stream",
     "text": [
      "COLUMN NAME    :  Gearbox\n",
      "--------------------------------\n",
      "per_of_nulls   :  % 0.0\n",
      "num_of_nulls   :  0\n",
      "num_of_uniques :  3\n",
      "--------------------------------\n",
      "Manual            17191\n",
      "Automatic         11367\n",
      "Semi-automatic       72\n",
      "Name: Gearbox, dtype: int64\n"
     ]
    }
   ],
   "source": [
    "first_looking(\"Gearbox\")"
   ]
  },
  {
   "cell_type": "code",
   "execution_count": 134,
   "id": "abb678e5-4d9e-4619-a2e1-698a8d4a19a8",
   "metadata": {},
   "outputs": [],
   "source": [
    "# Let us take care of gears again:\n",
    "\n",
    "for group1 in df[\"Make_Model\"].unique():\n",
    "    for group2 in df[\"Body_Type\"].unique():\n",
    "        for group3 in df[\"Gearbox\"].unique():\n",
    "            cond1 = df[\"Make_Model\"] == group1\n",
    "            cond2 = (df[\"Make_Model\"] == group1) & (df[\"Body_Type\"] == group2)\n",
    "            cond3 = (df[\"Make_Model\"] == group1) & (df[\"Body_Type\"] == group2) & (df[\"Gearbox\"] == group3)\n",
    "            mode1 = list(df[cond1][\"Gears\"].mode())\n",
    "            mode2 = list(df[cond2][\"Gears\"].mode())\n",
    "            mode3 = list(df[cond3][\"Gears\"].mode())\n",
    "            if mode3 != []:\n",
    "                df.loc[cond3, \"Gears\"] = df.loc[cond3, \"Gears\"].fillna(df[cond3][\"Gears\"].mode()[0])\n",
    "            elif mode2 != []:\n",
    "                df.loc[cond3, \"Gears\"] = df.loc[cond3, \"Gears\"].fillna(df[cond2][\"Gears\"].mode()[0])\n",
    "            elif mode1 != []:\n",
    "                df.loc[cond3, \"Gears\"] = df.loc[cond3, \"Gears\"].fillna(df[cond1][\"Gears\"].mode()[0])\n",
    "            else:\n",
    "                df.loc[cond3, \"Gears\"] = df.loc[cond3, \"Gears\"].fillna(df[\"Gears\"].mode()[0])"
   ]
  },
  {
   "cell_type": "code",
   "execution_count": 135,
   "id": "c496b6fe-b5db-4023-b70d-db727883c6e9",
   "metadata": {},
   "outputs": [
    {
     "name": "stdout",
     "output_type": "stream",
     "text": [
      "COLUMN NAME    :  Gears\n",
      "--------------------------------\n",
      "per_of_nulls   :  % 0.0\n",
      "num_of_nulls   :  0\n",
      "num_of_uniques :  11\n",
      "--------------------------------\n",
      "6.0     12246\n",
      "5.0      7802\n",
      "8.0      2737\n",
      "7.0      2631\n",
      "1.0      1352\n",
      "9.0      1144\n",
      "4.0       380\n",
      "10.0      244\n",
      "3.0        60\n",
      "0.0        31\n",
      "2.0         3\n",
      "Name: Gears, dtype: int64\n"
     ]
    }
   ],
   "source": [
    "first_looking(\"Gears\")"
   ]
  },
  {
   "cell_type": "markdown",
   "id": "38cf4fac",
   "metadata": {},
   "source": [
    "### Fuel_Type"
   ]
  },
  {
   "cell_type": "code",
   "execution_count": 58,
   "id": "d788a7ff",
   "metadata": {
    "scrolled": true
   },
   "outputs": [
    {
     "name": "stdout",
     "output_type": "stream",
     "text": [
      "COLUMN NAME    :  Fuel_Type\n",
      "--------------------------------\n",
      "per_of_nulls   :  % 6.24\n",
      "num_of_nulls   :  1787\n",
      "num_of_uniques :  4\n",
      "--------------------------------\n",
      "Benzine               17549\n",
      "Diesel                 8727\n",
      "NaN                    1787\n",
      "Liquid/Natural Gas      379\n",
      "Electric                188\n",
      "Name: Fuel_Type, dtype: int64\n"
     ]
    }
   ],
   "source": [
    "first_looking(\"Fuel_Type\")"
   ]
  },
  {
   "cell_type": "code",
   "execution_count": 59,
   "id": "7e454269",
   "metadata": {},
   "outputs": [
    {
     "name": "stdout",
     "output_type": "stream",
     "text": [
      "Number of NaN :  0\n",
      "------------------\n",
      "Benzine               18705\n",
      "Diesel                 9102\n",
      "Electric                439\n",
      "Liquid/Natural Gas      384\n",
      "Name: Fuel_Type, dtype: int64\n"
     ]
    }
   ],
   "source": [
    "fill(df, \"Make_Model\", \"Gearbox\", \"Fuel_Type\", \"mode\")"
   ]
  },
  {
   "cell_type": "markdown",
   "id": "5ba19ab2",
   "metadata": {},
   "source": [
    "### Seats"
   ]
  },
  {
   "cell_type": "code",
   "execution_count": 60,
   "id": "9c7ae47f",
   "metadata": {},
   "outputs": [
    {
     "name": "stdout",
     "output_type": "stream",
     "text": [
      "COLUMN NAME    :  Seats\n",
      "--------------------------------\n",
      "per_of_nulls   :  % 10.92\n",
      "num_of_nulls   :  3125\n",
      "num_of_uniques :  11\n",
      "--------------------------------\n",
      "5.0     18308\n",
      "4.0      5390\n",
      "NaN      3125\n",
      "2.0      1186\n",
      "7.0       488\n",
      "8.0        43\n",
      "9.0        35\n",
      "3.0        25\n",
      "6.0        12\n",
      "0.0         9\n",
      "1.0         7\n",
      "17.0        2\n",
      "Name: Seats, dtype: int64\n"
     ]
    }
   ],
   "source": [
    "first_looking(\"Seats\")"
   ]
  },
  {
   "cell_type": "code",
   "execution_count": 61,
   "id": "2f561eda",
   "metadata": {},
   "outputs": [
    {
     "name": "stdout",
     "output_type": "stream",
     "text": [
      "Number of NaN :  0\n",
      "------------------\n",
      "5.0     20720\n",
      "4.0      5967\n",
      "2.0      1266\n",
      "7.0       542\n",
      "8.0        44\n",
      "9.0        35\n",
      "3.0        26\n",
      "6.0        12\n",
      "0.0         9\n",
      "1.0         7\n",
      "17.0        2\n",
      "Name: Seats, dtype: int64\n"
     ]
    }
   ],
   "source": [
    "fill(df, \"Make_Model\", \"Body_Type\", \"Seats\", \"mode\")"
   ]
  },
  {
   "cell_type": "markdown",
   "id": "8e96b2c2",
   "metadata": {},
   "source": [
    "### CO2_Emissions"
   ]
  },
  {
   "cell_type": "code",
   "execution_count": 62,
   "id": "53d238e6",
   "metadata": {},
   "outputs": [
    {
     "name": "stdout",
     "output_type": "stream",
     "text": [
      "COLUMN NAME    :  CO2_Emissions\n",
      "--------------------------------\n",
      "per_of_nulls   :  % 35.05\n",
      "num_of_nulls   :  10036\n",
      "num_of_uniques :  333\n",
      "--------------------------------\n",
      "NaN       10036\n",
      "0.0        1040\n",
      "119.0       393\n",
      "124.0       340\n",
      "129.0       319\n",
      "          ...  \n",
      "3.0           1\n",
      "1320.0        1\n",
      "343.0         1\n",
      "73.0          1\n",
      "53.0          1\n",
      "Name: CO2_Emissions, Length: 334, dtype: int64\n"
     ]
    }
   ],
   "source": [
    "first_looking(\"CO2_Emissions\")"
   ]
  },
  {
   "cell_type": "code",
   "execution_count": 63,
   "id": "f89df222",
   "metadata": {},
   "outputs": [],
   "source": [
    "df[\"CO2_Emissions\"].fillna(\"-\", inplace=True)"
   ]
  },
  {
   "cell_type": "code",
   "execution_count": 64,
   "id": "c771816e",
   "metadata": {},
   "outputs": [
    {
     "data": {
      "text/html": [
       "<div>\n",
       "<style scoped>\n",
       "    .dataframe tbody tr th:only-of-type {\n",
       "        vertical-align: middle;\n",
       "    }\n",
       "\n",
       "    .dataframe tbody tr th {\n",
       "        vertical-align: top;\n",
       "    }\n",
       "\n",
       "    .dataframe thead th {\n",
       "        text-align: right;\n",
       "    }\n",
       "</style>\n",
       "<table border=\"1\" class=\"dataframe\">\n",
       "  <thead>\n",
       "    <tr style=\"text-align: right;\">\n",
       "      <th></th>\n",
       "      <th></th>\n",
       "      <th></th>\n",
       "      <th></th>\n",
       "      <th>count</th>\n",
       "      <th>mean</th>\n",
       "      <th>std</th>\n",
       "      <th>min</th>\n",
       "      <th>25%</th>\n",
       "      <th>50%</th>\n",
       "      <th>75%</th>\n",
       "      <th>max</th>\n",
       "    </tr>\n",
       "    <tr>\n",
       "      <th>Make_Model</th>\n",
       "      <th>Body_Type</th>\n",
       "      <th>Fuel_Type</th>\n",
       "      <th>CO2_Emissions</th>\n",
       "      <th></th>\n",
       "      <th></th>\n",
       "      <th></th>\n",
       "      <th></th>\n",
       "      <th></th>\n",
       "      <th></th>\n",
       "      <th></th>\n",
       "      <th></th>\n",
       "    </tr>\n",
       "  </thead>\n",
       "  <tbody>\n",
       "    <tr>\n",
       "      <th rowspan=\"3\" valign=\"top\">Dacia</th>\n",
       "      <th>Compact</th>\n",
       "      <th>Benzine</th>\n",
       "      <th>-</th>\n",
       "      <td>3.0</td>\n",
       "      <td>21431.0</td>\n",
       "      <td>1661.743663</td>\n",
       "      <td>19515.0</td>\n",
       "      <td>20907.0</td>\n",
       "      <td>22299.0</td>\n",
       "      <td>22389.0</td>\n",
       "      <td>22479.0</td>\n",
       "    </tr>\n",
       "    <tr>\n",
       "      <th>Sedan</th>\n",
       "      <th>Benzine</th>\n",
       "      <th>-</th>\n",
       "      <td>1.0</td>\n",
       "      <td>9999.0</td>\n",
       "      <td>NaN</td>\n",
       "      <td>9999.0</td>\n",
       "      <td>9999.0</td>\n",
       "      <td>9999.0</td>\n",
       "      <td>9999.0</td>\n",
       "      <td>9999.0</td>\n",
       "    </tr>\n",
       "    <tr>\n",
       "      <th>Station wagon</th>\n",
       "      <th>Benzine</th>\n",
       "      <th>130.0</th>\n",
       "      <td>1.0</td>\n",
       "      <td>21799.0</td>\n",
       "      <td>NaN</td>\n",
       "      <td>21799.0</td>\n",
       "      <td>21799.0</td>\n",
       "      <td>21799.0</td>\n",
       "      <td>21799.0</td>\n",
       "      <td>21799.0</td>\n",
       "    </tr>\n",
       "    <tr>\n",
       "      <th>Dacia Break</th>\n",
       "      <th>Station wagon</th>\n",
       "      <th>Benzine</th>\n",
       "      <th>-</th>\n",
       "      <td>1.0</td>\n",
       "      <td>20500.0</td>\n",
       "      <td>NaN</td>\n",
       "      <td>20500.0</td>\n",
       "      <td>20500.0</td>\n",
       "      <td>20500.0</td>\n",
       "      <td>20500.0</td>\n",
       "      <td>20500.0</td>\n",
       "    </tr>\n",
       "    <tr>\n",
       "      <th>Dacia Dokker</th>\n",
       "      <th>Compact</th>\n",
       "      <th>Diesel</th>\n",
       "      <th>-</th>\n",
       "      <td>1.0</td>\n",
       "      <td>11930.0</td>\n",
       "      <td>NaN</td>\n",
       "      <td>11930.0</td>\n",
       "      <td>11930.0</td>\n",
       "      <td>11930.0</td>\n",
       "      <td>11930.0</td>\n",
       "      <td>11930.0</td>\n",
       "    </tr>\n",
       "    <tr>\n",
       "      <th>...</th>\n",
       "      <th>...</th>\n",
       "      <th>...</th>\n",
       "      <th>...</th>\n",
       "      <td>...</td>\n",
       "      <td>...</td>\n",
       "      <td>...</td>\n",
       "      <td>...</td>\n",
       "      <td>...</td>\n",
       "      <td>...</td>\n",
       "      <td>...</td>\n",
       "      <td>...</td>\n",
       "    </tr>\n",
       "    <tr>\n",
       "      <th rowspan=\"5\" valign=\"top\">Volvo XC90</th>\n",
       "      <th>Off-Road/Pick-up</th>\n",
       "      <th>Electric</th>\n",
       "      <th>0.0</th>\n",
       "      <td>4.0</td>\n",
       "      <td>64400.0</td>\n",
       "      <td>9814.954576</td>\n",
       "      <td>55900.0</td>\n",
       "      <td>55900.0</td>\n",
       "      <td>64400.0</td>\n",
       "      <td>72900.0</td>\n",
       "      <td>72900.0</td>\n",
       "    </tr>\n",
       "    <tr>\n",
       "      <th rowspan=\"2\" valign=\"top\">Sedan</th>\n",
       "      <th rowspan=\"2\" valign=\"top\">Diesel</th>\n",
       "      <th>47.0</th>\n",
       "      <td>1.0</td>\n",
       "      <td>84900.0</td>\n",
       "      <td>NaN</td>\n",
       "      <td>84900.0</td>\n",
       "      <td>84900.0</td>\n",
       "      <td>84900.0</td>\n",
       "      <td>84900.0</td>\n",
       "      <td>84900.0</td>\n",
       "    </tr>\n",
       "    <tr>\n",
       "      <th>-</th>\n",
       "      <td>2.0</td>\n",
       "      <td>48100.0</td>\n",
       "      <td>565.685425</td>\n",
       "      <td>47700.0</td>\n",
       "      <td>47900.0</td>\n",
       "      <td>48100.0</td>\n",
       "      <td>48300.0</td>\n",
       "      <td>48500.0</td>\n",
       "    </tr>\n",
       "    <tr>\n",
       "      <th rowspan=\"2\" valign=\"top\">Station wagon</th>\n",
       "      <th rowspan=\"2\" valign=\"top\">Diesel</th>\n",
       "      <th>149.0</th>\n",
       "      <td>2.0</td>\n",
       "      <td>29500.0</td>\n",
       "      <td>0.000000</td>\n",
       "      <td>29500.0</td>\n",
       "      <td>29500.0</td>\n",
       "      <td>29500.0</td>\n",
       "      <td>29500.0</td>\n",
       "      <td>29500.0</td>\n",
       "    </tr>\n",
       "    <tr>\n",
       "      <th>152.0</th>\n",
       "      <td>2.0</td>\n",
       "      <td>36000.0</td>\n",
       "      <td>0.000000</td>\n",
       "      <td>36000.0</td>\n",
       "      <td>36000.0</td>\n",
       "      <td>36000.0</td>\n",
       "      <td>36000.0</td>\n",
       "      <td>36000.0</td>\n",
       "    </tr>\n",
       "  </tbody>\n",
       "</table>\n",
       "<p>8231 rows × 8 columns</p>\n",
       "</div>"
      ],
      "text/plain": [
       "                                                       count     mean  \\\n",
       "Make_Model   Body_Type        Fuel_Type CO2_Emissions                   \n",
       "Dacia        Compact          Benzine   -                3.0  21431.0   \n",
       "             Sedan            Benzine   -                1.0   9999.0   \n",
       "             Station wagon    Benzine   130.0            1.0  21799.0   \n",
       "Dacia Break  Station wagon    Benzine   -                1.0  20500.0   \n",
       "Dacia Dokker Compact          Diesel    -                1.0  11930.0   \n",
       "...                                                      ...      ...   \n",
       "Volvo XC90   Off-Road/Pick-up Electric  0.0              4.0  64400.0   \n",
       "             Sedan            Diesel    47.0             1.0  84900.0   \n",
       "                                        -                2.0  48100.0   \n",
       "             Station wagon    Diesel    149.0            2.0  29500.0   \n",
       "                                        152.0            2.0  36000.0   \n",
       "\n",
       "                                                               std      min  \\\n",
       "Make_Model   Body_Type        Fuel_Type CO2_Emissions                         \n",
       "Dacia        Compact          Benzine   -              1661.743663  19515.0   \n",
       "             Sedan            Benzine   -                      NaN   9999.0   \n",
       "             Station wagon    Benzine   130.0                  NaN  21799.0   \n",
       "Dacia Break  Station wagon    Benzine   -                      NaN  20500.0   \n",
       "Dacia Dokker Compact          Diesel    -                      NaN  11930.0   \n",
       "...                                                            ...      ...   \n",
       "Volvo XC90   Off-Road/Pick-up Electric  0.0            9814.954576  55900.0   \n",
       "             Sedan            Diesel    47.0                   NaN  84900.0   \n",
       "                                        -               565.685425  47700.0   \n",
       "             Station wagon    Diesel    149.0             0.000000  29500.0   \n",
       "                                        152.0             0.000000  36000.0   \n",
       "\n",
       "                                                           25%      50%  \\\n",
       "Make_Model   Body_Type        Fuel_Type CO2_Emissions                     \n",
       "Dacia        Compact          Benzine   -              20907.0  22299.0   \n",
       "             Sedan            Benzine   -               9999.0   9999.0   \n",
       "             Station wagon    Benzine   130.0          21799.0  21799.0   \n",
       "Dacia Break  Station wagon    Benzine   -              20500.0  20500.0   \n",
       "Dacia Dokker Compact          Diesel    -              11930.0  11930.0   \n",
       "...                                                        ...      ...   \n",
       "Volvo XC90   Off-Road/Pick-up Electric  0.0            55900.0  64400.0   \n",
       "             Sedan            Diesel    47.0           84900.0  84900.0   \n",
       "                                        -              47900.0  48100.0   \n",
       "             Station wagon    Diesel    149.0          29500.0  29500.0   \n",
       "                                        152.0          36000.0  36000.0   \n",
       "\n",
       "                                                           75%      max  \n",
       "Make_Model   Body_Type        Fuel_Type CO2_Emissions                    \n",
       "Dacia        Compact          Benzine   -              22389.0  22479.0  \n",
       "             Sedan            Benzine   -               9999.0   9999.0  \n",
       "             Station wagon    Benzine   130.0          21799.0  21799.0  \n",
       "Dacia Break  Station wagon    Benzine   -              20500.0  20500.0  \n",
       "Dacia Dokker Compact          Diesel    -              11930.0  11930.0  \n",
       "...                                                        ...      ...  \n",
       "Volvo XC90   Off-Road/Pick-up Electric  0.0            72900.0  72900.0  \n",
       "             Sedan            Diesel    47.0           84900.0  84900.0  \n",
       "                                        -              48300.0  48500.0  \n",
       "             Station wagon    Diesel    149.0          29500.0  29500.0  \n",
       "                                        152.0          36000.0  36000.0  \n",
       "\n",
       "[8231 rows x 8 columns]"
      ]
     },
     "execution_count": 64,
     "metadata": {},
     "output_type": "execute_result"
    }
   ],
   "source": [
    "df.groupby([\"Make_Model\", \"Body_Type\", \"Fuel_Type\", \"CO2_Emissions\"]).Price.describe()"
   ]
  },
  {
   "cell_type": "code",
   "execution_count": 63,
   "id": "97c24d40",
   "metadata": {},
   "outputs": [],
   "source": [
    "# Let's first examine how CO2_Emission values for Electric cars differ from others."
   ]
  },
  {
   "cell_type": "code",
   "execution_count": 65,
   "id": "95538cb4-c320-42b1-aac2-01a040bb0474",
   "metadata": {},
   "outputs": [
    {
     "data": {
      "text/html": [
       "<div>\n",
       "<style scoped>\n",
       "    .dataframe tbody tr th:only-of-type {\n",
       "        vertical-align: middle;\n",
       "    }\n",
       "\n",
       "    .dataframe tbody tr th {\n",
       "        vertical-align: top;\n",
       "    }\n",
       "\n",
       "    .dataframe thead th {\n",
       "        text-align: right;\n",
       "    }\n",
       "</style>\n",
       "<table border=\"1\" class=\"dataframe\">\n",
       "  <thead>\n",
       "    <tr style=\"text-align: right;\">\n",
       "      <th></th>\n",
       "      <th></th>\n",
       "      <th></th>\n",
       "      <th>count</th>\n",
       "      <th>mean</th>\n",
       "      <th>std</th>\n",
       "      <th>min</th>\n",
       "      <th>25%</th>\n",
       "      <th>50%</th>\n",
       "      <th>75%</th>\n",
       "      <th>max</th>\n",
       "    </tr>\n",
       "    <tr>\n",
       "      <th>Make_Model</th>\n",
       "      <th>Body_Type</th>\n",
       "      <th>CO2_Emissions</th>\n",
       "      <th></th>\n",
       "      <th></th>\n",
       "      <th></th>\n",
       "      <th></th>\n",
       "      <th></th>\n",
       "      <th></th>\n",
       "      <th></th>\n",
       "      <th></th>\n",
       "    </tr>\n",
       "  </thead>\n",
       "  <tbody>\n",
       "    <tr>\n",
       "      <th rowspan=\"5\" valign=\"top\">Dacia Spring</th>\n",
       "      <th>Compact</th>\n",
       "      <th>-</th>\n",
       "      <td>27.0</td>\n",
       "      <td>22753.666667</td>\n",
       "      <td>912.015899</td>\n",
       "      <td>19269.0</td>\n",
       "      <td>22985.00</td>\n",
       "      <td>22985.0</td>\n",
       "      <td>22985.00</td>\n",
       "      <td>23090.0</td>\n",
       "    </tr>\n",
       "    <tr>\n",
       "      <th rowspan=\"2\" valign=\"top\">Off-Road/Pick-up</th>\n",
       "      <th>0.0</th>\n",
       "      <td>2.0</td>\n",
       "      <td>17494.500000</td>\n",
       "      <td>1407.849601</td>\n",
       "      <td>16499.0</td>\n",
       "      <td>16996.75</td>\n",
       "      <td>17494.5</td>\n",
       "      <td>17992.25</td>\n",
       "      <td>18490.0</td>\n",
       "    </tr>\n",
       "    <tr>\n",
       "      <th>-</th>\n",
       "      <td>1.0</td>\n",
       "      <td>22980.000000</td>\n",
       "      <td>NaN</td>\n",
       "      <td>22980.0</td>\n",
       "      <td>22980.00</td>\n",
       "      <td>22980.0</td>\n",
       "      <td>22980.00</td>\n",
       "      <td>22980.0</td>\n",
       "    </tr>\n",
       "    <tr>\n",
       "      <th rowspan=\"2\" valign=\"top\">Sedan</th>\n",
       "      <th>0.0</th>\n",
       "      <td>1.0</td>\n",
       "      <td>18400.000000</td>\n",
       "      <td>NaN</td>\n",
       "      <td>18400.0</td>\n",
       "      <td>18400.00</td>\n",
       "      <td>18400.0</td>\n",
       "      <td>18400.00</td>\n",
       "      <td>18400.0</td>\n",
       "    </tr>\n",
       "    <tr>\n",
       "      <th>-</th>\n",
       "      <td>8.0</td>\n",
       "      <td>21581.750000</td>\n",
       "      <td>2571.869067</td>\n",
       "      <td>18099.0</td>\n",
       "      <td>21074.25</td>\n",
       "      <td>21599.0</td>\n",
       "      <td>21607.00</td>\n",
       "      <td>27044.0</td>\n",
       "    </tr>\n",
       "    <tr>\n",
       "      <th>...</th>\n",
       "      <th>...</th>\n",
       "      <th>...</th>\n",
       "      <td>...</td>\n",
       "      <td>...</td>\n",
       "      <td>...</td>\n",
       "      <td>...</td>\n",
       "      <td>...</td>\n",
       "      <td>...</td>\n",
       "      <td>...</td>\n",
       "      <td>...</td>\n",
       "    </tr>\n",
       "    <tr>\n",
       "      <th>Skoda Enyaq</th>\n",
       "      <th>Sedan</th>\n",
       "      <th>-</th>\n",
       "      <td>1.0</td>\n",
       "      <td>61930.000000</td>\n",
       "      <td>NaN</td>\n",
       "      <td>61930.0</td>\n",
       "      <td>61930.00</td>\n",
       "      <td>61930.0</td>\n",
       "      <td>61930.00</td>\n",
       "      <td>61930.0</td>\n",
       "    </tr>\n",
       "    <tr>\n",
       "      <th>Toyota Proace</th>\n",
       "      <th>Station wagon</th>\n",
       "      <th>0.0</th>\n",
       "      <td>1.0</td>\n",
       "      <td>40999.000000</td>\n",
       "      <td>NaN</td>\n",
       "      <td>40999.0</td>\n",
       "      <td>40999.00</td>\n",
       "      <td>40999.0</td>\n",
       "      <td>40999.00</td>\n",
       "      <td>40999.0</td>\n",
       "    </tr>\n",
       "    <tr>\n",
       "      <th>Toyota RAV 4</th>\n",
       "      <th>Off-Road/Pick-up</th>\n",
       "      <th>0.0</th>\n",
       "      <td>4.0</td>\n",
       "      <td>46750.000000</td>\n",
       "      <td>0.000000</td>\n",
       "      <td>46750.0</td>\n",
       "      <td>46750.00</td>\n",
       "      <td>46750.0</td>\n",
       "      <td>46750.00</td>\n",
       "      <td>46750.0</td>\n",
       "    </tr>\n",
       "    <tr>\n",
       "      <th>Volvo S90</th>\n",
       "      <th>Sedan</th>\n",
       "      <th>0.0</th>\n",
       "      <td>2.0</td>\n",
       "      <td>51900.000000</td>\n",
       "      <td>0.000000</td>\n",
       "      <td>51900.0</td>\n",
       "      <td>51900.00</td>\n",
       "      <td>51900.0</td>\n",
       "      <td>51900.00</td>\n",
       "      <td>51900.0</td>\n",
       "    </tr>\n",
       "    <tr>\n",
       "      <th>Volvo XC90</th>\n",
       "      <th>Off-Road/Pick-up</th>\n",
       "      <th>0.0</th>\n",
       "      <td>4.0</td>\n",
       "      <td>64400.000000</td>\n",
       "      <td>9814.954576</td>\n",
       "      <td>55900.0</td>\n",
       "      <td>55900.00</td>\n",
       "      <td>64400.0</td>\n",
       "      <td>72900.00</td>\n",
       "      <td>72900.0</td>\n",
       "    </tr>\n",
       "  </tbody>\n",
       "</table>\n",
       "<p>86 rows × 8 columns</p>\n",
       "</div>"
      ],
      "text/plain": [
       "                                              count          mean  \\\n",
       "Make_Model    Body_Type        CO2_Emissions                        \n",
       "Dacia Spring  Compact          -               27.0  22753.666667   \n",
       "              Off-Road/Pick-up 0.0              2.0  17494.500000   \n",
       "                               -                1.0  22980.000000   \n",
       "              Sedan            0.0              1.0  18400.000000   \n",
       "                               -                8.0  21581.750000   \n",
       "...                                             ...           ...   \n",
       "Skoda Enyaq   Sedan            -                1.0  61930.000000   \n",
       "Toyota Proace Station wagon    0.0              1.0  40999.000000   \n",
       "Toyota RAV 4  Off-Road/Pick-up 0.0              4.0  46750.000000   \n",
       "Volvo S90     Sedan            0.0              2.0  51900.000000   \n",
       "Volvo XC90    Off-Road/Pick-up 0.0              4.0  64400.000000   \n",
       "\n",
       "                                                      std      min       25%  \\\n",
       "Make_Model    Body_Type        CO2_Emissions                                   \n",
       "Dacia Spring  Compact          -               912.015899  19269.0  22985.00   \n",
       "              Off-Road/Pick-up 0.0            1407.849601  16499.0  16996.75   \n",
       "                               -                      NaN  22980.0  22980.00   \n",
       "              Sedan            0.0                    NaN  18400.0  18400.00   \n",
       "                               -              2571.869067  18099.0  21074.25   \n",
       "...                                                   ...      ...       ...   \n",
       "Skoda Enyaq   Sedan            -                      NaN  61930.0  61930.00   \n",
       "Toyota Proace Station wagon    0.0                    NaN  40999.0  40999.00   \n",
       "Toyota RAV 4  Off-Road/Pick-up 0.0               0.000000  46750.0  46750.00   \n",
       "Volvo S90     Sedan            0.0               0.000000  51900.0  51900.00   \n",
       "Volvo XC90    Off-Road/Pick-up 0.0            9814.954576  55900.0  55900.00   \n",
       "\n",
       "                                                  50%       75%      max  \n",
       "Make_Model    Body_Type        CO2_Emissions                              \n",
       "Dacia Spring  Compact          -              22985.0  22985.00  23090.0  \n",
       "              Off-Road/Pick-up 0.0            17494.5  17992.25  18490.0  \n",
       "                               -              22980.0  22980.00  22980.0  \n",
       "              Sedan            0.0            18400.0  18400.00  18400.0  \n",
       "                               -              21599.0  21607.00  27044.0  \n",
       "...                                               ...       ...      ...  \n",
       "Skoda Enyaq   Sedan            -              61930.0  61930.00  61930.0  \n",
       "Toyota Proace Station wagon    0.0            40999.0  40999.00  40999.0  \n",
       "Toyota RAV 4  Off-Road/Pick-up 0.0            46750.0  46750.00  46750.0  \n",
       "Volvo S90     Sedan            0.0            51900.0  51900.00  51900.0  \n",
       "Volvo XC90    Off-Road/Pick-up 0.0            64400.0  72900.00  72900.0  \n",
       "\n",
       "[86 rows x 8 columns]"
      ]
     },
     "execution_count": 65,
     "metadata": {},
     "output_type": "execute_result"
    }
   ],
   "source": [
    "df.groupby([\"Fuel_Type\", \"Make_Model\", \"Body_Type\", \"CO2_Emissions\"]).Price.describe().loc[\"Electric\"]"
   ]
  },
  {
   "cell_type": "code",
   "execution_count": null,
   "id": "7976e9e0-7d03-49d3-93a2-b1544156b738",
   "metadata": {},
   "outputs": [],
   "source": [
    "# It seems more sensible to impute missing values in two stages:\n",
    "\n",
    "# With the Mode value of Electric feature for Electric cars.\n",
    "\n",
    "# With the Median values of related make_model, body_type and fuel_type features for the others."
   ]
  },
  {
   "cell_type": "code",
   "execution_count": 66,
   "id": "58b808a2-edb8-4538-93d8-27d9bccae9e4",
   "metadata": {},
   "outputs": [],
   "source": [
    "df[\"CO2_Emissions\"].replace(\"-\", np.nan, inplace=True)"
   ]
  },
  {
   "cell_type": "code",
   "execution_count": 67,
   "id": "ebd40d02-c65a-4781-a9de-cfb4ecac54b9",
   "metadata": {},
   "outputs": [
    {
     "data": {
      "text/plain": [
       "NaN      251\n",
       "0.0      185\n",
       "1.0        2\n",
       "132.0      1\n",
       "Name: CO2_Emissions, dtype: int64"
      ]
     },
     "execution_count": 67,
     "metadata": {},
     "output_type": "execute_result"
    }
   ],
   "source": [
    "df[df[\"Fuel_Type\"] == \"Electric\"][\"CO2_Emissions\"].value_counts(dropna=False)"
   ]
  },
  {
   "cell_type": "code",
   "execution_count": 68,
   "id": "55230de6-d17e-4d38-9a12-6507afe705a4",
   "metadata": {},
   "outputs": [
    {
     "data": {
      "text/plain": [
       "NaN       6020\n",
       "0.0        673\n",
       "124.0      241\n",
       "119.0      235\n",
       "114.0      217\n",
       "          ... \n",
       "1320.0       1\n",
       "272.0        1\n",
       "332.0        1\n",
       "343.0        1\n",
       "53.0         1\n",
       "Name: CO2_Emissions, Length: 327, dtype: int64"
      ]
     },
     "execution_count": 68,
     "metadata": {},
     "output_type": "execute_result"
    }
   ],
   "source": [
    "df[df[\"Fuel_Type\"] == \"Benzine\"][\"CO2_Emissions\"].value_counts(dropna=False)"
   ]
  },
  {
   "cell_type": "code",
   "execution_count": 69,
   "id": "919d9606-8b9a-45c7-b5f3-3c139c50cdc3",
   "metadata": {},
   "outputs": [
    {
     "data": {
      "text/plain": [
       "1        0.0\n",
       "93       NaN\n",
       "94       NaN\n",
       "108      NaN\n",
       "1213     0.0\n",
       "        ... \n",
       "26985    0.0\n",
       "27338    0.0\n",
       "27367    0.0\n",
       "28340    0.0\n",
       "28528    0.0\n",
       "Name: CO2_Emissions, Length: 439, dtype: float64"
      ]
     },
     "execution_count": 69,
     "metadata": {},
     "output_type": "execute_result"
    }
   ],
   "source": [
    "df.loc[df[\"Fuel_Type\"] == \"Electric\", \"CO2_Emissions\"]"
   ]
  },
  {
   "cell_type": "code",
   "execution_count": 70,
   "id": "804ab566-d7c7-4d0d-83f4-512637e7900f",
   "metadata": {},
   "outputs": [
    {
     "data": {
      "text/plain": [
       "1        0.0\n",
       "93       0.0\n",
       "94       0.0\n",
       "108      0.0\n",
       "1213     0.0\n",
       "        ... \n",
       "26985    0.0\n",
       "27338    0.0\n",
       "27367    0.0\n",
       "28340    0.0\n",
       "28528    0.0\n",
       "Name: CO2_Emissions, Length: 439, dtype: float64"
      ]
     },
     "execution_count": 70,
     "metadata": {},
     "output_type": "execute_result"
    }
   ],
   "source": [
    "df.loc[df[\"Fuel_Type\"] == \"Electric\", \"CO2_Emissions\"] = df.loc[df[\"Fuel_Type\"] == \"Electric\", \"CO2_Emissions\"].fillna(df.loc[df[\"Fuel_Type\"] == \"Electric\", \"CO2_Emissions\"].mode()[0])\n",
    "df.loc[df[\"Fuel_Type\"] == \"Electric\", \"CO2_Emissions\"]"
   ]
  },
  {
   "cell_type": "code",
   "execution_count": 71,
   "id": "adc43384-7652-4f7b-a307-bb8d0a1e847c",
   "metadata": {},
   "outputs": [
    {
     "data": {
      "text/html": [
       "<div>\n",
       "<style scoped>\n",
       "    .dataframe tbody tr th:only-of-type {\n",
       "        vertical-align: middle;\n",
       "    }\n",
       "\n",
       "    .dataframe tbody tr th {\n",
       "        vertical-align: top;\n",
       "    }\n",
       "\n",
       "    .dataframe thead th {\n",
       "        text-align: right;\n",
       "    }\n",
       "</style>\n",
       "<table border=\"1\" class=\"dataframe\">\n",
       "  <thead>\n",
       "    <tr style=\"text-align: right;\">\n",
       "      <th></th>\n",
       "      <th>Fuel_Type</th>\n",
       "      <th>CO2_Emissions</th>\n",
       "    </tr>\n",
       "  </thead>\n",
       "  <tbody>\n",
       "    <tr>\n",
       "      <th>5831</th>\n",
       "      <td>Electric</td>\n",
       "      <td>132.0</td>\n",
       "    </tr>\n",
       "    <tr>\n",
       "      <th>9102</th>\n",
       "      <td>Electric</td>\n",
       "      <td>1.0</td>\n",
       "    </tr>\n",
       "    <tr>\n",
       "      <th>20582</th>\n",
       "      <td>Electric</td>\n",
       "      <td>1.0</td>\n",
       "    </tr>\n",
       "  </tbody>\n",
       "</table>\n",
       "</div>"
      ],
      "text/plain": [
       "      Fuel_Type  CO2_Emissions\n",
       "5831   Electric          132.0\n",
       "9102   Electric            1.0\n",
       "20582  Electric            1.0"
      ]
     },
     "execution_count": 71,
     "metadata": {},
     "output_type": "execute_result"
    }
   ],
   "source": [
    "df.loc[(df[\"Fuel_Type\"] == \"Electric\") & (df[\"CO2_Emissions\"] != 0)][[\"Fuel_Type\", \"CO2_Emissions\"]]"
   ]
  },
  {
   "cell_type": "code",
   "execution_count": 72,
   "id": "29939bc9-25f6-4a45-b5b9-074d1bd1220a",
   "metadata": {},
   "outputs": [
    {
     "data": {
      "text/plain": [
       "Make_Model                                                    Renault Arkana\n",
       "Location                                                                  IT\n",
       "Price                                                                27500.0\n",
       "Body_Type                                                              Coupe\n",
       "Type                                                          Pre-registered\n",
       "Doors                                                                    5.0\n",
       "Mileage                                                                 10.0\n",
       "Gearbox                                                            Automatic\n",
       "Fuel_Type                                                           Electric\n",
       "Seller                                                                Dealer\n",
       "Seats                                                                    5.0\n",
       "Engine_Size                                                           1333.0\n",
       "Gears                                                                    7.0\n",
       "CO2_Emissions                                                          132.0\n",
       "Drivetrain                                                             Front\n",
       "Cylinders                                                                4.0\n",
       "Comfort_Convenience        Air conditioning, Armrest, Automatic climate c...\n",
       "Entertainment_Media                    Apple CarPlay, Digital cockpit, Radio\n",
       "Safety_Security            ABS, Adaptive Cruise Control, Blind spot monit...\n",
       "Extras                     Alloy wheels (18\"), Automatically dimming inte...\n",
       "Empty_Weight                                                          1336.0\n",
       "Full_Service_History                                                      No\n",
       "Upholstery                                                               NaN\n",
       "Energy_Efficiency_Class                                                  NaN\n",
       "Age                                                                      0.0\n",
       "power_kW                                                               103.0\n",
       "power_hp                                                               140.0\n",
       "Fuel_Consumption_comb                                                    6.5\n",
       "Name: 5831, dtype: object"
      ]
     },
     "execution_count": 72,
     "metadata": {},
     "output_type": "execute_result"
    }
   ],
   "source": [
    "df.iloc[5831]"
   ]
  },
  {
   "cell_type": "code",
   "execution_count": 73,
   "id": "a12c7748-cb92-47d8-b34f-e21e5d6752ef",
   "metadata": {},
   "outputs": [
    {
     "data": {
      "text/html": [
       "<div>\n",
       "<style scoped>\n",
       "    .dataframe tbody tr th:only-of-type {\n",
       "        vertical-align: middle;\n",
       "    }\n",
       "\n",
       "    .dataframe tbody tr th {\n",
       "        vertical-align: top;\n",
       "    }\n",
       "\n",
       "    .dataframe thead th {\n",
       "        text-align: right;\n",
       "    }\n",
       "</style>\n",
       "<table border=\"1\" class=\"dataframe\">\n",
       "  <thead>\n",
       "    <tr style=\"text-align: right;\">\n",
       "      <th></th>\n",
       "      <th>Gearbox</th>\n",
       "      <th>Fuel_Type</th>\n",
       "      <th>Gears</th>\n",
       "      <th>CO2_Emissions</th>\n",
       "    </tr>\n",
       "  </thead>\n",
       "  <tbody>\n",
       "    <tr>\n",
       "      <th>5612</th>\n",
       "      <td>Automatic</td>\n",
       "      <td>Benzine</td>\n",
       "      <td>7.0</td>\n",
       "      <td>NaN</td>\n",
       "    </tr>\n",
       "    <tr>\n",
       "      <th>5615</th>\n",
       "      <td>Automatic</td>\n",
       "      <td>Benzine</td>\n",
       "      <td>7.0</td>\n",
       "      <td>NaN</td>\n",
       "    </tr>\n",
       "    <tr>\n",
       "      <th>5618</th>\n",
       "      <td>Automatic</td>\n",
       "      <td>Benzine</td>\n",
       "      <td>7.0</td>\n",
       "      <td>NaN</td>\n",
       "    </tr>\n",
       "    <tr>\n",
       "      <th>5622</th>\n",
       "      <td>Automatic</td>\n",
       "      <td>Benzine</td>\n",
       "      <td>7.0</td>\n",
       "      <td>NaN</td>\n",
       "    </tr>\n",
       "    <tr>\n",
       "      <th>5623</th>\n",
       "      <td>Automatic</td>\n",
       "      <td>Benzine</td>\n",
       "      <td>7.0</td>\n",
       "      <td>NaN</td>\n",
       "    </tr>\n",
       "    <tr>\n",
       "      <th>...</th>\n",
       "      <td>...</td>\n",
       "      <td>...</td>\n",
       "      <td>...</td>\n",
       "      <td>...</td>\n",
       "    </tr>\n",
       "    <tr>\n",
       "      <th>6321</th>\n",
       "      <td>Automatic</td>\n",
       "      <td>Benzine</td>\n",
       "      <td>7.0</td>\n",
       "      <td>NaN</td>\n",
       "    </tr>\n",
       "    <tr>\n",
       "      <th>6788</th>\n",
       "      <td>Automatic</td>\n",
       "      <td>Benzine</td>\n",
       "      <td>7.0</td>\n",
       "      <td>124.0</td>\n",
       "    </tr>\n",
       "    <tr>\n",
       "      <th>6797</th>\n",
       "      <td>Automatic</td>\n",
       "      <td>Benzine</td>\n",
       "      <td>7.0</td>\n",
       "      <td>124.0</td>\n",
       "    </tr>\n",
       "    <tr>\n",
       "      <th>6838</th>\n",
       "      <td>Automatic</td>\n",
       "      <td>Benzine</td>\n",
       "      <td>7.0</td>\n",
       "      <td>124.0</td>\n",
       "    </tr>\n",
       "    <tr>\n",
       "      <th>7074</th>\n",
       "      <td>Automatic</td>\n",
       "      <td>Benzine</td>\n",
       "      <td>7.0</td>\n",
       "      <td>121.0</td>\n",
       "    </tr>\n",
       "  </tbody>\n",
       "</table>\n",
       "<p>64 rows × 4 columns</p>\n",
       "</div>"
      ],
      "text/plain": [
       "        Gearbox Fuel_Type  Gears  CO2_Emissions\n",
       "5612  Automatic   Benzine    7.0            NaN\n",
       "5615  Automatic   Benzine    7.0            NaN\n",
       "5618  Automatic   Benzine    7.0            NaN\n",
       "5622  Automatic   Benzine    7.0            NaN\n",
       "5623  Automatic   Benzine    7.0            NaN\n",
       "...         ...       ...    ...            ...\n",
       "6321  Automatic   Benzine    7.0            NaN\n",
       "6788  Automatic   Benzine    7.0          124.0\n",
       "6797  Automatic   Benzine    7.0          124.0\n",
       "6838  Automatic   Benzine    7.0          124.0\n",
       "7074  Automatic   Benzine    7.0          121.0\n",
       "\n",
       "[64 rows x 4 columns]"
      ]
     },
     "execution_count": 73,
     "metadata": {},
     "output_type": "execute_result"
    }
   ],
   "source": [
    "df.loc[df[\"Make_Model\"] == \"Renault Arkana\"][[\"Gearbox\", \"Fuel_Type\", \"Gears\", \"CO2_Emissions\"]]"
   ]
  },
  {
   "cell_type": "code",
   "execution_count": 74,
   "id": "74d79466-c157-4d5f-ae3d-c63d221d2295",
   "metadata": {},
   "outputs": [],
   "source": [
    "df.iloc[5831, df.columns.get_loc(\"Fuel_Type\")] = \"Benzine\" "
   ]
  },
  {
   "cell_type": "code",
   "execution_count": 75,
   "id": "a6020b4d-2929-4284-a595-eed27d41110f",
   "metadata": {},
   "outputs": [
    {
     "data": {
      "text/plain": [
       "'Benzine'"
      ]
     },
     "execution_count": 75,
     "metadata": {},
     "output_type": "execute_result"
    }
   ],
   "source": [
    "df.loc[5831][\"Fuel_Type\"]"
   ]
  },
  {
   "cell_type": "code",
   "execution_count": 76,
   "id": "be725ae7-2153-4937-b303-3dadb452b427",
   "metadata": {},
   "outputs": [],
   "source": [
    "def fill_median(df, group_col1, group_col2, group_col3, col_name):\n",
    "    \n",
    "    df[col_name].fillna(df.groupby([group_col1, group_col2, group_col3])[col_name].transform(\"median\"), inplace = True)\n",
    "    df[col_name].fillna(df.groupby([group_col1, group_col2])[col_name].transform(\"median\"), inplace = True)\n",
    "    df[col_name].fillna(df.groupby(group_col1)[col_name].transform(\"median\"), inplace = True)\n",
    "    df[col_name].fillna(df[col_name].median(), inplace = True)\n",
    "\n",
    "    print(\"column name    : \", col_name)\n",
    "    print(\"--------------------------------\")\n",
    "    print(\"per_of_nulls   : \", \"%\", round(df[col_name].isnull().sum()*100 / df.shape[0], 2))\n",
    "    print(\"num_of_nulls   : \", df[col_name].isnull().sum())\n",
    "    print(\"num_of_uniques : \", df[col_name].nunique())\n",
    "    print(\"--------------------------------\")\n",
    "    print(df[col_name].value_counts(dropna = False))"
   ]
  },
  {
   "cell_type": "code",
   "execution_count": 77,
   "id": "8db9a966-ee7c-4e52-9c4d-84e5a9d56936",
   "metadata": {},
   "outputs": [
    {
     "name": "stdout",
     "output_type": "stream",
     "text": [
      "column name    :  CO2_Emissions\n",
      "--------------------------------\n",
      "per_of_nulls   :  % 0.0\n",
      "num_of_nulls   :  0\n",
      "num_of_uniques :  397\n",
      "--------------------------------\n",
      "0.0      1410\n",
      "124.0    1057\n",
      "115.0     622\n",
      "99.0      588\n",
      "119.0     574\n",
      "         ... \n",
      "13.0        1\n",
      "345.0       1\n",
      "19.0        1\n",
      "108.5       1\n",
      "53.0        1\n",
      "Name: CO2_Emissions, Length: 397, dtype: int64\n"
     ]
    }
   ],
   "source": [
    "fill_median(df, \"Make_Model\", \"Body_Type\", \"Fuel_Type\", \"CO2_Emissions\")"
   ]
  },
  {
   "cell_type": "markdown",
   "id": "091a71ec",
   "metadata": {},
   "source": [
    "### Cylinders"
   ]
  },
  {
   "cell_type": "code",
   "execution_count": 78,
   "id": "c9ca5c90",
   "metadata": {},
   "outputs": [
    {
     "name": "stdout",
     "output_type": "stream",
     "text": [
      "COLUMN NAME    :  Cylinders\n",
      "--------------------------------\n",
      "per_of_nulls   :  % 34.15\n",
      "num_of_nulls   :  9778\n",
      "num_of_uniques :  12\n",
      "--------------------------------\n",
      "4.0     13068\n",
      "NaN      9778\n",
      "3.0      3258\n",
      "6.0      1013\n",
      "5.0       799\n",
      "8.0       539\n",
      "2.0       103\n",
      "0.0        35\n",
      "1.0        21\n",
      "12.0        8\n",
      "7.0         6\n",
      "26.0        1\n",
      "16.0        1\n",
      "Name: Cylinders, dtype: int64\n"
     ]
    }
   ],
   "source": [
    "first_looking(\"Cylinders\")"
   ]
  },
  {
   "cell_type": "code",
   "execution_count": 79,
   "id": "8963a63c-fea6-48b4-8495-7a4aba6ee412",
   "metadata": {},
   "outputs": [
    {
     "name": "stdout",
     "output_type": "stream",
     "text": [
      "Number of NaN :  0\n",
      "------------------\n",
      "4.0     19798\n",
      "3.0      5148\n",
      "6.0      1322\n",
      "5.0       970\n",
      "8.0       943\n",
      "0.0       187\n",
      "1.0       136\n",
      "2.0       107\n",
      "12.0       11\n",
      "7.0         6\n",
      "26.0        1\n",
      "16.0        1\n",
      "Name: Cylinders, dtype: int64\n"
     ]
    }
   ],
   "source": [
    "fill(df, \"Make_Model\", \"Body_Type\", \"Cylinders\", \"mode\")"
   ]
  },
  {
   "cell_type": "code",
   "execution_count": null,
   "id": "f124d6d4-f076-4443-a4de-0c8011532265",
   "metadata": {},
   "outputs": [],
   "source": [
    "# I drop the cylinder attribute in this analysis as there are some other attributes that have less missing values\n",
    "# such as \"hp, engine_size, empty_weight\" and give similar insights"
   ]
  },
  {
   "cell_type": "code",
   "execution_count": 80,
   "id": "7b6aa8c6-9eb5-468d-9518-ed02ff186511",
   "metadata": {},
   "outputs": [
    {
     "data": {
      "text/plain": [
       "(28630, 28)"
      ]
     },
     "execution_count": 80,
     "metadata": {},
     "output_type": "execute_result"
    }
   ],
   "source": [
    "df.shape"
   ]
  },
  {
   "cell_type": "code",
   "execution_count": 81,
   "id": "b4fb973d-d3ae-4db0-8630-6c07f512709e",
   "metadata": {},
   "outputs": [],
   "source": [
    "df.drop(\"Cylinders\", axis=1, inplace=True)"
   ]
  },
  {
   "cell_type": "code",
   "execution_count": 82,
   "id": "729b3a6e-7bb4-416f-81a4-9a8449b7d759",
   "metadata": {},
   "outputs": [
    {
     "data": {
      "text/plain": [
       "(28630, 27)"
      ]
     },
     "execution_count": 82,
     "metadata": {},
     "output_type": "execute_result"
    }
   ],
   "source": [
    "df.shape"
   ]
  },
  {
   "cell_type": "markdown",
   "id": "6ecf3d37-f247-4776-9f36-da77fbf181d1",
   "metadata": {},
   "source": [
    "### power_kW"
   ]
  },
  {
   "cell_type": "code",
   "execution_count": 84,
   "id": "1929d91d-0e1c-4899-b8ed-30ea5e089cb0",
   "metadata": {},
   "outputs": [
    {
     "name": "stdout",
     "output_type": "stream",
     "text": [
      "COLUMN NAME    :  power_kW\n",
      "--------------------------------\n",
      "per_of_nulls   :  % 2.0\n",
      "num_of_nulls   :  572\n",
      "num_of_uniques :  351\n",
      "--------------------------------\n",
      "110.0    1992\n",
      "96.0     1356\n",
      "88.0     1182\n",
      "81.0     1166\n",
      "66.0     1110\n",
      "         ... \n",
      "746.0       1\n",
      "570.0       1\n",
      "471.0       1\n",
      "179.0       1\n",
      "26.0        1\n",
      "Name: power_kW, Length: 352, dtype: int64\n"
     ]
    }
   ],
   "source": [
    "first_looking(\"power_kW\")"
   ]
  },
  {
   "cell_type": "code",
   "execution_count": 85,
   "id": "525041ea-f561-42b2-ae51-b184e85f0c3e",
   "metadata": {
    "tags": []
   },
   "outputs": [
    {
     "name": "stdout",
     "output_type": "stream",
     "text": [
      "Number of NaN :  0\n",
      "------------------\n",
      "110.0    2018\n",
      "96.0     1426\n",
      "88.0     1202\n",
      "81.0     1186\n",
      "66.0     1152\n",
      "         ... \n",
      "570.0       1\n",
      "471.0       1\n",
      "179.0       1\n",
      "284.0       1\n",
      "26.0        1\n",
      "Name: power_kW, Length: 351, dtype: int64\n"
     ]
    }
   ],
   "source": [
    "fill(df, \"Make_Model\", \"Body_Type\", \"power_kW\", \"mode\")"
   ]
  },
  {
   "cell_type": "markdown",
   "id": "2a82a563-bb69-45dc-a49a-8eae6d881c24",
   "metadata": {},
   "source": [
    "### power_hp"
   ]
  },
  {
   "cell_type": "code",
   "execution_count": 86,
   "id": "6d6da03e-b03f-419c-928c-b8db993f8964",
   "metadata": {},
   "outputs": [
    {
     "name": "stdout",
     "output_type": "stream",
     "text": [
      "COLUMN NAME    :  power_hp\n",
      "--------------------------------\n",
      "per_of_nulls   :  % 2.0\n",
      "num_of_nulls   :  572\n",
      "num_of_uniques :  347\n",
      "--------------------------------\n",
      "150.0    1992\n",
      "131.0    1356\n",
      "120.0    1182\n",
      "110.0    1166\n",
      "90.0     1110\n",
      "         ... \n",
      "465.0       1\n",
      "412.0       1\n",
      "670.0       1\n",
      "506.0       1\n",
      "33.0        1\n",
      "Name: power_hp, Length: 348, dtype: int64\n"
     ]
    }
   ],
   "source": [
    "first_looking(\"power_hp\")"
   ]
  },
  {
   "cell_type": "code",
   "execution_count": null,
   "id": "1baaff9b-ea06-471d-8d7f-648fd4b53e24",
   "metadata": {},
   "outputs": [],
   "source": [
    "# The hp of cars changes by their make_models & body_type most of the time.\n",
    "# So, I will fill in the missing values with the mod value of the related group."
   ]
  },
  {
   "cell_type": "code",
   "execution_count": 87,
   "id": "47a7e4a3-67ff-4d7d-87d7-1aedb1566fbb",
   "metadata": {
    "tags": []
   },
   "outputs": [
    {
     "name": "stdout",
     "output_type": "stream",
     "text": [
      "Number of NaN :  0\n",
      "------------------\n",
      "150.0    2018\n",
      "131.0    1426\n",
      "120.0    1202\n",
      "110.0    1186\n",
      "90.0     1152\n",
      "         ... \n",
      "412.0       1\n",
      "670.0       1\n",
      "451.0       1\n",
      "775.0       1\n",
      "33.0        1\n",
      "Name: power_hp, Length: 347, dtype: int64\n"
     ]
    }
   ],
   "source": [
    "fill(df, \"Make_Model\", \"Body_Type\", \"power_hp\", \"mode\")"
   ]
  },
  {
   "cell_type": "code",
   "execution_count": null,
   "id": "c4fa48c9-0bd5-4591-b635-392f81392f4d",
   "metadata": {},
   "outputs": [],
   "source": [
    "# Since \"kW\" is used as a consumption indicator in electric vehicles, I drop the \"hp\" feature from the analysis."
   ]
  },
  {
   "cell_type": "code",
   "execution_count": 88,
   "id": "4f9a00d9-ee94-4c07-a566-4254c34fa3cf",
   "metadata": {},
   "outputs": [],
   "source": [
    "df.drop(\"power_hp\", axis=1, inplace=True)"
   ]
  },
  {
   "cell_type": "code",
   "execution_count": 89,
   "id": "79986fa3-df3f-44d1-b483-33054201ac8f",
   "metadata": {},
   "outputs": [
    {
     "data": {
      "text/plain": [
       "(28630, 26)"
      ]
     },
     "execution_count": 89,
     "metadata": {},
     "output_type": "execute_result"
    }
   ],
   "source": [
    "df.shape"
   ]
  },
  {
   "cell_type": "markdown",
   "id": "acfb8126-5c64-4dfc-81b5-156c427e64ef",
   "metadata": {},
   "source": [
    "### Fuel_Consumption_comb"
   ]
  },
  {
   "cell_type": "code",
   "execution_count": 91,
   "id": "5c17993f-ba76-418c-97a2-6b326ea415c4",
   "metadata": {},
   "outputs": [
    {
     "name": "stdout",
     "output_type": "stream",
     "text": [
      "COLUMN NAME    :  Fuel_Consumption_comb\n",
      "--------------------------------\n",
      "per_of_nulls   :  % 20.61\n",
      "num_of_nulls   :  5902\n",
      "num_of_uniques :  161\n",
      "--------------------------------\n",
      "NaN     5902\n",
      "5.0      801\n",
      "4.9      784\n",
      "4.5      671\n",
      "0.0      629\n",
      "        ... \n",
      "16.0       1\n",
      "57.0       1\n",
      "61.0       1\n",
      "14.5       1\n",
      "44.0       1\n",
      "Name: Fuel_Consumption_comb, Length: 162, dtype: int64\n"
     ]
    }
   ],
   "source": [
    "first_looking(\"Fuel_Consumption_comb\")"
   ]
  },
  {
   "cell_type": "code",
   "execution_count": 92,
   "id": "9ef91692-01e5-438c-84cf-5eb22777a78a",
   "metadata": {},
   "outputs": [
    {
     "data": {
      "text/html": [
       "<div>\n",
       "<style scoped>\n",
       "    .dataframe tbody tr th:only-of-type {\n",
       "        vertical-align: middle;\n",
       "    }\n",
       "\n",
       "    .dataframe tbody tr th {\n",
       "        vertical-align: top;\n",
       "    }\n",
       "\n",
       "    .dataframe thead th {\n",
       "        text-align: right;\n",
       "    }\n",
       "</style>\n",
       "<table border=\"1\" class=\"dataframe\">\n",
       "  <thead>\n",
       "    <tr style=\"text-align: right;\">\n",
       "      <th></th>\n",
       "      <th>Fuel_Consumption_comb</th>\n",
       "    </tr>\n",
       "  </thead>\n",
       "  <tbody>\n",
       "    <tr>\n",
       "      <th>1</th>\n",
       "      <td>NaN</td>\n",
       "    </tr>\n",
       "    <tr>\n",
       "      <th>93</th>\n",
       "      <td>NaN</td>\n",
       "    </tr>\n",
       "    <tr>\n",
       "      <th>94</th>\n",
       "      <td>NaN</td>\n",
       "    </tr>\n",
       "    <tr>\n",
       "      <th>108</th>\n",
       "      <td>NaN</td>\n",
       "    </tr>\n",
       "    <tr>\n",
       "      <th>1213</th>\n",
       "      <td>NaN</td>\n",
       "    </tr>\n",
       "    <tr>\n",
       "      <th>...</th>\n",
       "      <td>...</td>\n",
       "    </tr>\n",
       "    <tr>\n",
       "      <th>26985</th>\n",
       "      <td>5.3</td>\n",
       "    </tr>\n",
       "    <tr>\n",
       "      <th>27338</th>\n",
       "      <td>5.2</td>\n",
       "    </tr>\n",
       "    <tr>\n",
       "      <th>27367</th>\n",
       "      <td>5.6</td>\n",
       "    </tr>\n",
       "    <tr>\n",
       "      <th>28340</th>\n",
       "      <td>NaN</td>\n",
       "    </tr>\n",
       "    <tr>\n",
       "      <th>28528</th>\n",
       "      <td>NaN</td>\n",
       "    </tr>\n",
       "  </tbody>\n",
       "</table>\n",
       "<p>438 rows × 1 columns</p>\n",
       "</div>"
      ],
      "text/plain": [
       "       Fuel_Consumption_comb\n",
       "1                        NaN\n",
       "93                       NaN\n",
       "94                       NaN\n",
       "108                      NaN\n",
       "1213                     NaN\n",
       "...                      ...\n",
       "26985                    5.3\n",
       "27338                    5.2\n",
       "27367                    5.6\n",
       "28340                    NaN\n",
       "28528                    NaN\n",
       "\n",
       "[438 rows x 1 columns]"
      ]
     },
     "execution_count": 92,
     "metadata": {},
     "output_type": "execute_result"
    }
   ],
   "source": [
    "df.loc[df[\"Fuel_Type\"] == \"Electric\"][[\"Fuel_Consumption_comb\"]]"
   ]
  },
  {
   "cell_type": "code",
   "execution_count": 93,
   "id": "9f552912-0bd6-4f96-9736-897c5501a3ec",
   "metadata": {},
   "outputs": [
    {
     "name": "stdout",
     "output_type": "stream",
     "text": [
      "column name    :  Fuel_Consumption_comb\n",
      "--------------------------------\n",
      "per_of_nulls   :  % 0.0\n",
      "num_of_nulls   :  0\n",
      "num_of_uniques :  236\n",
      "--------------------------------\n",
      "4.90    1214\n",
      "5.00    1131\n",
      "4.80     902\n",
      "5.10     894\n",
      "5.40     801\n",
      "        ... \n",
      "4.45       1\n",
      "4.95       1\n",
      "0.50       1\n",
      "0.65       1\n",
      "8.65       1\n",
      "Name: Fuel_Consumption_comb, Length: 236, dtype: int64\n"
     ]
    }
   ],
   "source": [
    "fill_median(df, \"Make_Model\", \"Body_Type\", \"Fuel_Type\", \"Fuel_Consumption_comb\")"
   ]
  },
  {
   "cell_type": "markdown",
   "id": "5b716d08-70d9-4385-8797-49ca3bc03e1f",
   "metadata": {},
   "source": [
    "### Drivetrain"
   ]
  },
  {
   "cell_type": "code",
   "execution_count": 94,
   "id": "e3b58d0b-f898-4f8a-9d4e-6c62b78038b7",
   "metadata": {},
   "outputs": [
    {
     "name": "stdout",
     "output_type": "stream",
     "text": [
      "COLUMN NAME    :  Drivetrain\n",
      "--------------------------------\n",
      "per_of_nulls   :  % 41.0\n",
      "num_of_nulls   :  11737\n",
      "num_of_uniques :  3\n",
      "--------------------------------\n",
      "Front    12066\n",
      "NaN      11737\n",
      "4WD       3252\n",
      "Rear      1575\n",
      "Name: Drivetrain, dtype: int64\n"
     ]
    }
   ],
   "source": [
    "first_looking(\"Drivetrain\")"
   ]
  },
  {
   "cell_type": "code",
   "execution_count": 95,
   "id": "f0d006c8-a463-43de-96a5-b3d3f5990141",
   "metadata": {
    "tags": []
   },
   "outputs": [
    {
     "name": "stdout",
     "output_type": "stream",
     "text": [
      "Number of NaN :  0\n",
      "------------------\n",
      "Front    21492\n",
      "4WD       4321\n",
      "Rear      2817\n",
      "Name: Drivetrain, dtype: int64\n"
     ]
    }
   ],
   "source": [
    "fill(df, \"Make_Model\", \"Body_Type\", \"Drivetrain\", \"mode\")"
   ]
  },
  {
   "cell_type": "markdown",
   "id": "dfc111c0-00bb-49e1-9a18-7bde217ab212",
   "metadata": {},
   "source": [
    "### Empty_Weight"
   ]
  },
  {
   "cell_type": "code",
   "execution_count": 96,
   "id": "778a7ba1-cb1d-4465-bffb-f7f63cf1ba9f",
   "metadata": {
    "tags": []
   },
   "outputs": [
    {
     "name": "stdout",
     "output_type": "stream",
     "text": [
      "COLUMN NAME    :  Empty_Weight\n",
      "--------------------------------\n",
      "per_of_nulls   :  % 37.97\n",
      "num_of_nulls   :  10872\n",
      "num_of_uniques :  1218\n",
      "--------------------------------\n",
      "NaN       10872\n",
      "1395.0      233\n",
      "1055.0      224\n",
      "1423.0      216\n",
      "1165.0      200\n",
      "          ...  \n",
      "1877.0        1\n",
      "1011.0        1\n",
      "1069.0        1\n",
      "983.0         1\n",
      "1391.0        1\n",
      "Name: Empty_Weight, Length: 1219, dtype: int64\n"
     ]
    }
   ],
   "source": [
    "first_looking(\"Empty_Weight\")"
   ]
  },
  {
   "cell_type": "code",
   "execution_count": null,
   "id": "b1da4ce0-69c5-4bbe-958d-4b4d40cb4e34",
   "metadata": {},
   "outputs": [],
   "source": [
    "# The empty_weight of cars changes by their make_models & body_type most of the time.\n",
    "# So I decide to fill missing values with mode value of related group."
   ]
  },
  {
   "cell_type": "code",
   "execution_count": 97,
   "id": "844492ba-5858-40ec-96be-ef62d992d4bd",
   "metadata": {},
   "outputs": [
    {
     "name": "stdout",
     "output_type": "stream",
     "text": [
      "Number of NaN :  0\n",
      "------------------\n",
      "1320.0    724\n",
      "1280.0    518\n",
      "1055.0    474\n",
      "1395.0    461\n",
      "1165.0    392\n",
      "         ... \n",
      "944.0       1\n",
      "1019.0      1\n",
      "2156.0      1\n",
      "2232.0      1\n",
      "1391.0      1\n",
      "Name: Empty_Weight, Length: 1218, dtype: int64\n"
     ]
    }
   ],
   "source": [
    "fill(df, \"Make_Model\", \"Body_Type\", \"Empty_Weight\", \"mode\")"
   ]
  },
  {
   "cell_type": "markdown",
   "id": "10058770-d33f-4640-b809-a6883e547944",
   "metadata": {},
   "source": [
    "### Energy_Efficiency_Class "
   ]
  },
  {
   "cell_type": "code",
   "execution_count": 99,
   "id": "85a2fe97-f42d-43ff-ada1-4ea9da13451d",
   "metadata": {},
   "outputs": [
    {
     "name": "stdout",
     "output_type": "stream",
     "text": [
      "COLUMN NAME    :  Energy_Efficiency_Class\n",
      "--------------------------------\n",
      "per_of_nulls   :  % 72.74\n",
      "num_of_nulls   :  20826\n",
      "num_of_uniques :  2\n",
      "--------------------------------\n",
      "NaN            20826\n",
      "efficient       5308\n",
      "unefficient     2496\n",
      "Name: Energy_Efficiency_Class, dtype: int64\n"
     ]
    }
   ],
   "source": [
    "first_looking(\"Energy_Efficiency_Class\")"
   ]
  },
  {
   "cell_type": "code",
   "execution_count": 100,
   "id": "d9b09408-2d1a-4e9f-a55b-ce0005901966",
   "metadata": {},
   "outputs": [
    {
     "name": "stdout",
     "output_type": "stream",
     "text": [
      "Number of NaN :  0\n",
      "------------------\n",
      "efficient      18613\n",
      "unefficient    10017\n",
      "Name: Energy_Efficiency_Class, dtype: int64\n"
     ]
    }
   ],
   "source": [
    "fill(df, \"Make_Model\", \"Age\", \"Energy_Efficiency_Class\", \"mode\")"
   ]
  },
  {
   "cell_type": "code",
   "execution_count": 102,
   "id": "4ac4c987-d616-4cc8-ac28-576497f8b15a",
   "metadata": {},
   "outputs": [
    {
     "data": {
      "text/plain": [
       "Index(['Make_Model', 'Location', 'Price', 'Body_Type', 'Type', 'Doors',\n",
       "       'Mileage', 'Gearbox', 'Fuel_Type', 'Seller', 'Seats', 'Engine_Size',\n",
       "       'Gears', 'CO2_Emissions', 'Drivetrain', 'Comfort_Convenience',\n",
       "       'Entertainment_Media', 'Safety_Security', 'Extras', 'Empty_Weight',\n",
       "       'Full_Service_History', 'Upholstery', 'Energy_Efficiency_Class', 'Age',\n",
       "       'power_kW', 'Fuel_Consumption_comb'],\n",
       "      dtype='object')"
      ]
     },
     "execution_count": 102,
     "metadata": {},
     "output_type": "execute_result"
    }
   ],
   "source": [
    "df.columns"
   ]
  },
  {
   "cell_type": "markdown",
   "id": "219dc516-22a9-46f7-ada7-7e46e5f5408b",
   "metadata": {},
   "source": [
    "### Upholstery"
   ]
  },
  {
   "cell_type": "code",
   "execution_count": 103,
   "id": "6d345b12-f256-4128-98c5-cc4a7c5fcb2a",
   "metadata": {
    "tags": []
   },
   "outputs": [
    {
     "name": "stdout",
     "output_type": "stream",
     "text": [
      "COLUMN NAME    :  Upholstery\n",
      "--------------------------------\n",
      "per_of_nulls   :  % 35.0\n",
      "num_of_nulls   :  10020\n",
      "num_of_uniques :  6\n",
      "--------------------------------\n",
      "NaN             10020\n",
      "Cloth            8736\n",
      "Full leather     5439\n",
      "Part leather     2835\n",
      "alcantara         764\n",
      "Other             628\n",
      "Velour            208\n",
      "Name: Upholstery, dtype: int64\n"
     ]
    }
   ],
   "source": [
    "first_looking(\"Upholstery\")"
   ]
  },
  {
   "cell_type": "code",
   "execution_count": null,
   "id": "73f5d0d6-842e-413b-bdcd-bb208c9eb193",
   "metadata": {
    "tags": []
   },
   "outputs": [
    {
     "name": "stdout",
     "output_type": "stream",
     "text": [
      "Number of NaN :  0\n",
      "------------------\n",
      "Cloth           14160\n",
      "Full leather     7763\n",
      "Part leather     4291\n",
      "alcantara        1067\n",
      "Other             997\n",
      "Velour            352\n",
      "Name: Upholstery, dtype: int64\n"
     ]
    }
   ],
   "source": [
    "fill(df, \"Make_Model\", \"Body_Type\", \"Upholstery\", \"mode\")"
   ]
  },
  {
   "cell_type": "code",
   "execution_count": 107,
   "id": "6aafff94-8044-4f1b-90bf-cbe4427f4167",
   "metadata": {},
   "outputs": [
    {
     "data": {
      "text/plain": [
       "Cloth                14512\n",
       "Part/Full Leather    13121\n",
       "Other                  997\n",
       "Name: Upholstery, dtype: int64"
      ]
     },
     "execution_count": 107,
     "metadata": {},
     "output_type": "execute_result"
    }
   ],
   "source": [
    "df[\"Upholstery\"].replace([\"Velour\", \"alcantara\", \"Part leather\", \"Full leather\"],\n",
    "                         [\"Cloth\", \"Part/Full Leather\", \"Part/Full Leather\", \"Part/Full Leather\"], inplace=True)\n",
    "df[\"Upholstery\"].value_counts(dropna=False)"
   ]
  },
  {
   "cell_type": "code",
   "execution_count": 108,
   "id": "c1370105-90a2-4218-99b6-9cdd5f11b3d6",
   "metadata": {},
   "outputs": [],
   "source": [
    "df[\"Upholstery\"].replace(\"Other\", np.nan, inplace=True)"
   ]
  },
  {
   "cell_type": "code",
   "execution_count": 109,
   "id": "545e57eb-b043-44f4-924f-e060cdfca7ea",
   "metadata": {},
   "outputs": [
    {
     "name": "stdout",
     "output_type": "stream",
     "text": [
      "Number of NaN :  0\n",
      "------------------\n",
      "Cloth                15132\n",
      "Part/Full Leather    13498\n",
      "Name: Upholstery, dtype: int64\n"
     ]
    }
   ],
   "source": [
    "fill(df, \"Make_Model\", \"Body_Type\", \"Upholstery\", \"mode\")"
   ]
  },
  {
   "cell_type": "markdown",
   "id": "d2f06a03-ea22-4253-b756-ff1259075ed1",
   "metadata": {},
   "source": [
    "### Comfort_Convenience "
   ]
  },
  {
   "cell_type": "code",
   "execution_count": 110,
   "id": "d68ea841-5b74-449e-8ba1-7b3fca7a5739",
   "metadata": {},
   "outputs": [
    {
     "name": "stdout",
     "output_type": "stream",
     "text": [
      "COLUMN NAME    :  Comfort_Convenience\n",
      "--------------------------------\n",
      "per_of_nulls   :  % 11.17\n",
      "num_of_nulls   :  3197\n",
      "num_of_uniques :  14438\n",
      "--------------------------------\n",
      "NaN                                                                                                                                                                                                                                                                                                                                                                                                            3197\n",
      "Air conditioning, Automatic climate control, Electrical side mirrors, Multi-function steering wheel, Power windows                                                                                                                                                                                                                                                                                              244\n",
      "Air conditioning, Automatic climate control, Cruise control                                                                                                                                                                                                                                                                                                                                                     171\n",
      "Air conditioning, Automatic climate control, Cruise control, Electrical side mirrors, Multi-function steering wheel, Power windows                                                                                                                                                                                                                                                                              168\n",
      "Air conditioning                                                                                                                                                                                                                                                                                                                                                                                                157\n",
      "                                                                                                                                                                                                                                                                                                                                                                                                               ... \n",
      "Armrest, Automatic climate control, 2 zones, Cruise control, Fold flat passenger seat, Hill Holder, Leather steering wheel, Light sensor, Lumbar support, Multi-function steering wheel, Navigation system, Parking assist system sensors rear, Power windows, Rain sensor, Seat heating, Split rear seats, Start-stop system                                                                                     1\n",
      "Air conditioning, Armrest, Automatic climate control, Cruise control, Electric tailgate, Electrical side mirrors, Hill Holder, Keyless central door lock, Leather steering wheel, Light sensor, Multi-function steering wheel, Navigation system, Parking assist system sensors front, Parking assist system sensors rear, Power windows, Rain sensor, Seat heating                                               1\n",
      "Armrest, Automatic climate control, 2 zones, Cruise control, Electrical side mirrors, Fold flat passenger seat, Hill Holder, Leather steering wheel, Light sensor, Lumbar support, Multi-function steering wheel, Navigation system, Parking assist system sensors front, Parking assist system sensors rear, Power windows, Rain sensor, Seat heating, Split rear seats, Start-stop system, Tinted windows       1\n",
      "Armrest, Automatic climate control, 2 zones, Cruise control, Electrical side mirrors, Hill Holder, Keyless central door lock, Leather steering wheel, Light sensor, Multi-function steering wheel, Parking assist system camera, Parking assist system sensors front, Parking assist system sensors rear, Power windows, Rain sensor, Seat heating, Split rear seats, Start-stop system, Tinted windows           1\n",
      "Air conditioning, Armrest, Cruise control, Electrical side mirrors, Leather steering wheel, Lumbar support, Multi-function steering wheel, Navigation system, Power windows, Seat heating, Tinted windows                                                                                                                                                                                                         1\n",
      "Name: Comfort_Convenience, Length: 14439, dtype: int64\n"
     ]
    }
   ],
   "source": [
    "first_looking(\"Comfort_Convenience\")"
   ]
  },
  {
   "cell_type": "code",
   "execution_count": 111,
   "id": "245fd336-9381-45c0-bd75-2fe9e2233100",
   "metadata": {},
   "outputs": [
    {
     "name": "stdout",
     "output_type": "stream",
     "text": [
      "Number of NaN :  0\n",
      "------------------\n",
      "Air conditioning, Automatic climate control, Electrical side mirrors, Multi-function steering wheel, Power windows                                                                                           347\n",
      "Cruise control                                                                                                                                                                                               316\n",
      "Air conditioning                                                                                                                                                                                             259\n",
      "Air conditioning, Automatic climate control, Cruise control                                                                                                                                                  256\n",
      "Air conditioning, Electrical side mirrors, Power windows                                                                                                                                                     242\n",
      "                                                                                                                                                                                                            ... \n",
      "Air conditioning, Automatic climate control, Electrical side mirrors, Hill Holder, Panorama roof, Power windows, Start-stop system, Tinted windows                                                             1\n",
      "Armrest, Cruise control, Electrical side mirrors, Leather steering wheel, Parking assist system sensors rear, Power windows, Rain sensor, Tinted windows                                                       1\n",
      "Air conditioning, Armrest, Automatic climate control, Electrical side mirrors, Hill Holder, Multi-function steering wheel, Power windows, Rain sensor, Start-stop system                                       1\n",
      "Air conditioning, Armrest, Automatic climate control, Electrical side mirrors, Light sensor, Lumbar support, Parking assist system sensors rear, Power windows, Rain sensor                                    1\n",
      "Air conditioning, Armrest, Cruise control, Electrical side mirrors, Leather steering wheel, Lumbar support, Multi-function steering wheel, Navigation system, Power windows, Seat heating, Tinted windows      1\n",
      "Name: Comfort_Convenience, Length: 14438, dtype: int64\n"
     ]
    }
   ],
   "source": [
    "fill(df, \"Make_Model\", \"Body_Type\", \"Comfort_Convenience\", \"mode\")"
   ]
  },
  {
   "cell_type": "code",
   "execution_count": 112,
   "id": "8550853d-12f0-45f6-9455-57c5c2bb4e16",
   "metadata": {},
   "outputs": [
    {
     "data": {
      "text/plain": [
       "Standard        19707\n",
       "Premium          8829\n",
       "Premium Plus       94\n",
       "Name: Comfort_Convenience, dtype: int64"
      ]
     },
     "execution_count": 112,
     "metadata": {},
     "output_type": "execute_result"
    }
   ],
   "source": [
    "premium = [\"Electrical side mirrors\", \"Parking assist\", \"Air conditioning\", \"Hill Holder\", \"Power windows\"]\n",
    "premium_plus = [\"Multi-function\", \"Navigation \", \"Keyless central door lock\", \"Heads-up\", \"Massage seats\", \"heating\", \"Automatic climate control\", \"Heated\"]\n",
    "\n",
    "comfort_package = df['Comfort_Convenience'].apply(lambda sentence: \"Premium Plus\" if all(word in sentence for word in premium_plus) else (\"Premium\" if all(word in sentence for word in premium) else \"Standard\"))\n",
    "comfort_package.value_counts()"
   ]
  },
  {
   "cell_type": "code",
   "execution_count": 113,
   "id": "35ffe002-00ef-4801-865c-b172cf9a0a81",
   "metadata": {},
   "outputs": [
    {
     "data": {
      "text/html": [
       "<div>\n",
       "<style scoped>\n",
       "    .dataframe tbody tr th:only-of-type {\n",
       "        vertical-align: middle;\n",
       "    }\n",
       "\n",
       "    .dataframe tbody tr th {\n",
       "        vertical-align: top;\n",
       "    }\n",
       "\n",
       "    .dataframe thead th {\n",
       "        text-align: right;\n",
       "    }\n",
       "</style>\n",
       "<table border=\"1\" class=\"dataframe\">\n",
       "  <thead>\n",
       "    <tr style=\"text-align: right;\">\n",
       "      <th></th>\n",
       "      <th>Make_Model</th>\n",
       "      <th>Location</th>\n",
       "      <th>Price</th>\n",
       "      <th>Body_Type</th>\n",
       "      <th>Type</th>\n",
       "      <th>Doors</th>\n",
       "      <th>Mileage</th>\n",
       "      <th>Gearbox</th>\n",
       "      <th>Fuel_Type</th>\n",
       "      <th>Seller</th>\n",
       "      <th>Seats</th>\n",
       "      <th>Engine_Size</th>\n",
       "      <th>Gears</th>\n",
       "      <th>CO2_Emissions</th>\n",
       "      <th>Drivetrain</th>\n",
       "      <th>Comfort_Convenience</th>\n",
       "      <th>Entertainment_Media</th>\n",
       "      <th>Safety_Security</th>\n",
       "      <th>Extras</th>\n",
       "      <th>Empty_Weight</th>\n",
       "      <th>Full_Service_History</th>\n",
       "      <th>Upholstery</th>\n",
       "      <th>Energy_Efficiency_Class</th>\n",
       "      <th>Age</th>\n",
       "      <th>power_kW</th>\n",
       "      <th>Fuel_Consumption_comb</th>\n",
       "      <th>Comfort_Convenience_Package</th>\n",
       "    </tr>\n",
       "  </thead>\n",
       "  <tbody>\n",
       "    <tr>\n",
       "      <th>0</th>\n",
       "      <td>Mercedes-Benz A 160</td>\n",
       "      <td>ES</td>\n",
       "      <td>16950.0</td>\n",
       "      <td>Compact</td>\n",
       "      <td>Used</td>\n",
       "      <td>5.0</td>\n",
       "      <td>120200.0</td>\n",
       "      <td>Manual</td>\n",
       "      <td>Diesel</td>\n",
       "      <td>Dealer</td>\n",
       "      <td>5.0</td>\n",
       "      <td>1595.0</td>\n",
       "      <td>5.0</td>\n",
       "      <td>98.0</td>\n",
       "      <td>Front</td>\n",
       "      <td>Air conditioning, Armrest, Automatic climate c...</td>\n",
       "      <td>NaN</td>\n",
       "      <td>NaN</td>\n",
       "      <td>NaN</td>\n",
       "      <td>1270.0</td>\n",
       "      <td>No</td>\n",
       "      <td>Cloth</td>\n",
       "      <td>efficient</td>\n",
       "      <td>6.0</td>\n",
       "      <td>75.0</td>\n",
       "      <td>3.80</td>\n",
       "      <td>Standard</td>\n",
       "    </tr>\n",
       "    <tr>\n",
       "      <th>1</th>\n",
       "      <td>Mercedes-Benz EQE 350</td>\n",
       "      <td>ES</td>\n",
       "      <td>80900.0</td>\n",
       "      <td>Compact</td>\n",
       "      <td>Pre-registered</td>\n",
       "      <td>4.0</td>\n",
       "      <td>5000.0</td>\n",
       "      <td>Automatic</td>\n",
       "      <td>Electric</td>\n",
       "      <td>Dealer</td>\n",
       "      <td>5.0</td>\n",
       "      <td>1.0</td>\n",
       "      <td>9.0</td>\n",
       "      <td>0.0</td>\n",
       "      <td>4WD</td>\n",
       "      <td>Air conditioning, Air suspension, Armrest, Aut...</td>\n",
       "      <td>NaN</td>\n",
       "      <td>NaN</td>\n",
       "      <td>NaN</td>\n",
       "      <td>2355.0</td>\n",
       "      <td>No</td>\n",
       "      <td>Part/Full Leather</td>\n",
       "      <td>efficient</td>\n",
       "      <td>0.0</td>\n",
       "      <td>215.0</td>\n",
       "      <td>4.50</td>\n",
       "      <td>Premium</td>\n",
       "    </tr>\n",
       "    <tr>\n",
       "      <th>2</th>\n",
       "      <td>Mercedes-Benz A 45 AMG</td>\n",
       "      <td>ES</td>\n",
       "      <td>69900.0</td>\n",
       "      <td>Compact</td>\n",
       "      <td>Used</td>\n",
       "      <td>5.0</td>\n",
       "      <td>18900.0</td>\n",
       "      <td>Automatic</td>\n",
       "      <td>Benzine</td>\n",
       "      <td>Dealer</td>\n",
       "      <td>5.0</td>\n",
       "      <td>1991.0</td>\n",
       "      <td>8.0</td>\n",
       "      <td>162.0</td>\n",
       "      <td>4WD</td>\n",
       "      <td>Air conditioning, Electrical side mirrors, Mul...</td>\n",
       "      <td>NaN</td>\n",
       "      <td>NaN</td>\n",
       "      <td>NaN</td>\n",
       "      <td>1555.0</td>\n",
       "      <td>No</td>\n",
       "      <td>Part/Full Leather</td>\n",
       "      <td>unefficient</td>\n",
       "      <td>2.0</td>\n",
       "      <td>310.0</td>\n",
       "      <td>8.40</td>\n",
       "      <td>Standard</td>\n",
       "    </tr>\n",
       "    <tr>\n",
       "      <th>3</th>\n",
       "      <td>Mercedes-Benz A 35 AMG</td>\n",
       "      <td>ES</td>\n",
       "      <td>46990.0</td>\n",
       "      <td>Compact</td>\n",
       "      <td>Used</td>\n",
       "      <td>5.0</td>\n",
       "      <td>18995.0</td>\n",
       "      <td>Automatic</td>\n",
       "      <td>Benzine</td>\n",
       "      <td>Dealer</td>\n",
       "      <td>5.0</td>\n",
       "      <td>1991.0</td>\n",
       "      <td>7.0</td>\n",
       "      <td>169.0</td>\n",
       "      <td>4WD</td>\n",
       "      <td>Air conditioning, Automatic climate control, P...</td>\n",
       "      <td>USB</td>\n",
       "      <td>ABS, Central door lock, Driver-side airbag, El...</td>\n",
       "      <td>Sport seats</td>\n",
       "      <td>1455.0</td>\n",
       "      <td>No</td>\n",
       "      <td>Part/Full Leather</td>\n",
       "      <td>unefficient</td>\n",
       "      <td>2.0</td>\n",
       "      <td>225.0</td>\n",
       "      <td>7.30</td>\n",
       "      <td>Standard</td>\n",
       "    </tr>\n",
       "    <tr>\n",
       "      <th>4</th>\n",
       "      <td>Mercedes-Benz A 45 AMG</td>\n",
       "      <td>ES</td>\n",
       "      <td>16800.0</td>\n",
       "      <td>Compact</td>\n",
       "      <td>Used</td>\n",
       "      <td>5.0</td>\n",
       "      <td>197000.0</td>\n",
       "      <td>Automatic</td>\n",
       "      <td>Diesel</td>\n",
       "      <td>Dealer</td>\n",
       "      <td>5.0</td>\n",
       "      <td>2143.0</td>\n",
       "      <td>7.0</td>\n",
       "      <td>162.0</td>\n",
       "      <td>4WD</td>\n",
       "      <td>Air conditioning, Electrical side mirrors, Mul...</td>\n",
       "      <td>Bluetooth, CD player, MP3, USB</td>\n",
       "      <td>ABS, Central door lock, Driver-side airbag, El...</td>\n",
       "      <td>NaN</td>\n",
       "      <td>1545.0</td>\n",
       "      <td>No</td>\n",
       "      <td>Part/Full Leather</td>\n",
       "      <td>unefficient</td>\n",
       "      <td>7.0</td>\n",
       "      <td>100.0</td>\n",
       "      <td>4.90</td>\n",
       "      <td>Standard</td>\n",
       "    </tr>\n",
       "    <tr>\n",
       "      <th>...</th>\n",
       "      <td>...</td>\n",
       "      <td>...</td>\n",
       "      <td>...</td>\n",
       "      <td>...</td>\n",
       "      <td>...</td>\n",
       "      <td>...</td>\n",
       "      <td>...</td>\n",
       "      <td>...</td>\n",
       "      <td>...</td>\n",
       "      <td>...</td>\n",
       "      <td>...</td>\n",
       "      <td>...</td>\n",
       "      <td>...</td>\n",
       "      <td>...</td>\n",
       "      <td>...</td>\n",
       "      <td>...</td>\n",
       "      <td>...</td>\n",
       "      <td>...</td>\n",
       "      <td>...</td>\n",
       "      <td>...</td>\n",
       "      <td>...</td>\n",
       "      <td>...</td>\n",
       "      <td>...</td>\n",
       "      <td>...</td>\n",
       "      <td>...</td>\n",
       "      <td>...</td>\n",
       "      <td>...</td>\n",
       "    </tr>\n",
       "    <tr>\n",
       "      <th>28625</th>\n",
       "      <td>Volvo S90</td>\n",
       "      <td>ES</td>\n",
       "      <td>37600.0</td>\n",
       "      <td>Sedan</td>\n",
       "      <td>Used</td>\n",
       "      <td>4.0</td>\n",
       "      <td>40345.0</td>\n",
       "      <td>Automatic</td>\n",
       "      <td>Diesel</td>\n",
       "      <td>Dealer</td>\n",
       "      <td>4.0</td>\n",
       "      <td>1969.0</td>\n",
       "      <td>8.0</td>\n",
       "      <td>127.0</td>\n",
       "      <td>4WD</td>\n",
       "      <td>Air conditioning, Automatic climate control, M...</td>\n",
       "      <td>Bluetooth, USB</td>\n",
       "      <td>ABS, Central door lock, Driver-side airbag, El...</td>\n",
       "      <td>Alloy wheels</td>\n",
       "      <td>2077.0</td>\n",
       "      <td>No</td>\n",
       "      <td>Part/Full Leather</td>\n",
       "      <td>efficient</td>\n",
       "      <td>3.0</td>\n",
       "      <td>288.0</td>\n",
       "      <td>6.30</td>\n",
       "      <td>Standard</td>\n",
       "    </tr>\n",
       "    <tr>\n",
       "      <th>28626</th>\n",
       "      <td>Volvo S40</td>\n",
       "      <td>NL</td>\n",
       "      <td>5499.0</td>\n",
       "      <td>Sedan</td>\n",
       "      <td>Used</td>\n",
       "      <td>4.0</td>\n",
       "      <td>145000.0</td>\n",
       "      <td>Automatic</td>\n",
       "      <td>Benzine</td>\n",
       "      <td>Dealer</td>\n",
       "      <td>5.0</td>\n",
       "      <td>2435.0</td>\n",
       "      <td>5.0</td>\n",
       "      <td>217.0</td>\n",
       "      <td>Front</td>\n",
       "      <td>Air conditioning, Armrest, Automatic climate c...</td>\n",
       "      <td>On-board computer, Radio</td>\n",
       "      <td>ABS, Central door lock, Central door lock with...</td>\n",
       "      <td>Alloy wheels (16\"), Trailer hitch</td>\n",
       "      <td>1357.0</td>\n",
       "      <td>Yes</td>\n",
       "      <td>Cloth</td>\n",
       "      <td>efficient</td>\n",
       "      <td>18.0</td>\n",
       "      <td>125.0</td>\n",
       "      <td>9.55</td>\n",
       "      <td>Standard</td>\n",
       "    </tr>\n",
       "    <tr>\n",
       "      <th>28627</th>\n",
       "      <td>Volvo C30</td>\n",
       "      <td>BE</td>\n",
       "      <td>7300.0</td>\n",
       "      <td>Sedan</td>\n",
       "      <td>Used</td>\n",
       "      <td>3.0</td>\n",
       "      <td>96000.0</td>\n",
       "      <td>Manual</td>\n",
       "      <td>Diesel</td>\n",
       "      <td>Dealer</td>\n",
       "      <td>4.0</td>\n",
       "      <td>1560.0</td>\n",
       "      <td>6.0</td>\n",
       "      <td>99.0</td>\n",
       "      <td>Front</td>\n",
       "      <td>Air conditioning, Armrest, Automatic climate c...</td>\n",
       "      <td>Bluetooth, CD player, Hands-free equipment, MP...</td>\n",
       "      <td>ABS, Alarm system, Central door lock with remo...</td>\n",
       "      <td>Alloy wheels, Automatically dimming interior m...</td>\n",
       "      <td>1356.0</td>\n",
       "      <td>Yes</td>\n",
       "      <td>Cloth</td>\n",
       "      <td>unefficient</td>\n",
       "      <td>11.0</td>\n",
       "      <td>84.0</td>\n",
       "      <td>5.90</td>\n",
       "      <td>Standard</td>\n",
       "    </tr>\n",
       "    <tr>\n",
       "      <th>28628</th>\n",
       "      <td>Volvo S90</td>\n",
       "      <td>NL</td>\n",
       "      <td>29900.0</td>\n",
       "      <td>Sedan</td>\n",
       "      <td>Used</td>\n",
       "      <td>4.0</td>\n",
       "      <td>94343.0</td>\n",
       "      <td>Automatic</td>\n",
       "      <td>Benzine</td>\n",
       "      <td>Dealer</td>\n",
       "      <td>5.0</td>\n",
       "      <td>1969.0</td>\n",
       "      <td>8.0</td>\n",
       "      <td>149.0</td>\n",
       "      <td>4WD</td>\n",
       "      <td>Air conditioning, Armrest, Automatic climate c...</td>\n",
       "      <td>Android Auto, Apple CarPlay, Bluetooth, Hands-...</td>\n",
       "      <td>Adaptive Cruise Control, Adaptive headlights, ...</td>\n",
       "      <td>Alloy wheels (18\"), Automatically dimming inte...</td>\n",
       "      <td>1617.0</td>\n",
       "      <td>Yes</td>\n",
       "      <td>Part/Full Leather</td>\n",
       "      <td>efficient</td>\n",
       "      <td>5.0</td>\n",
       "      <td>187.0</td>\n",
       "      <td>6.30</td>\n",
       "      <td>Standard</td>\n",
       "    </tr>\n",
       "    <tr>\n",
       "      <th>28629</th>\n",
       "      <td>Volvo S80</td>\n",
       "      <td>NL</td>\n",
       "      <td>4440.0</td>\n",
       "      <td>Sedan</td>\n",
       "      <td>Used</td>\n",
       "      <td>4.0</td>\n",
       "      <td>230047.0</td>\n",
       "      <td>Automatic</td>\n",
       "      <td>Benzine</td>\n",
       "      <td>Dealer</td>\n",
       "      <td>5.0</td>\n",
       "      <td>2922.0</td>\n",
       "      <td>6.0</td>\n",
       "      <td>251.0</td>\n",
       "      <td>Front</td>\n",
       "      <td>Air conditioning, Armrest, Cruise control, Ele...</td>\n",
       "      <td>On-board computer</td>\n",
       "      <td>ABS, Alarm system, Central door lock, Central ...</td>\n",
       "      <td>Alloy wheels, Automatically dimming interior m...</td>\n",
       "      <td>1573.0</td>\n",
       "      <td>No</td>\n",
       "      <td>Part/Full Leather</td>\n",
       "      <td>unefficient</td>\n",
       "      <td>20.0</td>\n",
       "      <td>147.0</td>\n",
       "      <td>5.90</td>\n",
       "      <td>Standard</td>\n",
       "    </tr>\n",
       "  </tbody>\n",
       "</table>\n",
       "<p>28630 rows × 27 columns</p>\n",
       "</div>"
      ],
      "text/plain": [
       "                   Make_Model Location    Price Body_Type            Type  \\\n",
       "0         Mercedes-Benz A 160       ES  16950.0   Compact            Used   \n",
       "1       Mercedes-Benz EQE 350       ES  80900.0   Compact  Pre-registered   \n",
       "2      Mercedes-Benz A 45 AMG       ES  69900.0   Compact            Used   \n",
       "3      Mercedes-Benz A 35 AMG       ES  46990.0   Compact            Used   \n",
       "4      Mercedes-Benz A 45 AMG       ES  16800.0   Compact            Used   \n",
       "...                       ...      ...      ...       ...             ...   \n",
       "28625               Volvo S90       ES  37600.0     Sedan            Used   \n",
       "28626               Volvo S40       NL   5499.0     Sedan            Used   \n",
       "28627               Volvo C30       BE   7300.0     Sedan            Used   \n",
       "28628               Volvo S90       NL  29900.0     Sedan            Used   \n",
       "28629               Volvo S80       NL   4440.0     Sedan            Used   \n",
       "\n",
       "       Doors   Mileage    Gearbox Fuel_Type  Seller  Seats  Engine_Size  \\\n",
       "0        5.0  120200.0     Manual    Diesel  Dealer    5.0       1595.0   \n",
       "1        4.0    5000.0  Automatic  Electric  Dealer    5.0          1.0   \n",
       "2        5.0   18900.0  Automatic   Benzine  Dealer    5.0       1991.0   \n",
       "3        5.0   18995.0  Automatic   Benzine  Dealer    5.0       1991.0   \n",
       "4        5.0  197000.0  Automatic    Diesel  Dealer    5.0       2143.0   \n",
       "...      ...       ...        ...       ...     ...    ...          ...   \n",
       "28625    4.0   40345.0  Automatic    Diesel  Dealer    4.0       1969.0   \n",
       "28626    4.0  145000.0  Automatic   Benzine  Dealer    5.0       2435.0   \n",
       "28627    3.0   96000.0     Manual    Diesel  Dealer    4.0       1560.0   \n",
       "28628    4.0   94343.0  Automatic   Benzine  Dealer    5.0       1969.0   \n",
       "28629    4.0  230047.0  Automatic   Benzine  Dealer    5.0       2922.0   \n",
       "\n",
       "       Gears  CO2_Emissions Drivetrain  \\\n",
       "0        5.0           98.0      Front   \n",
       "1        9.0            0.0        4WD   \n",
       "2        8.0          162.0        4WD   \n",
       "3        7.0          169.0        4WD   \n",
       "4        7.0          162.0        4WD   \n",
       "...      ...            ...        ...   \n",
       "28625    8.0          127.0        4WD   \n",
       "28626    5.0          217.0      Front   \n",
       "28627    6.0           99.0      Front   \n",
       "28628    8.0          149.0        4WD   \n",
       "28629    6.0          251.0      Front   \n",
       "\n",
       "                                     Comfort_Convenience  \\\n",
       "0      Air conditioning, Armrest, Automatic climate c...   \n",
       "1      Air conditioning, Air suspension, Armrest, Aut...   \n",
       "2      Air conditioning, Electrical side mirrors, Mul...   \n",
       "3      Air conditioning, Automatic climate control, P...   \n",
       "4      Air conditioning, Electrical side mirrors, Mul...   \n",
       "...                                                  ...   \n",
       "28625  Air conditioning, Automatic climate control, M...   \n",
       "28626  Air conditioning, Armrest, Automatic climate c...   \n",
       "28627  Air conditioning, Armrest, Automatic climate c...   \n",
       "28628  Air conditioning, Armrest, Automatic climate c...   \n",
       "28629  Air conditioning, Armrest, Cruise control, Ele...   \n",
       "\n",
       "                                     Entertainment_Media  \\\n",
       "0                                                    NaN   \n",
       "1                                                    NaN   \n",
       "2                                                    NaN   \n",
       "3                                                    USB   \n",
       "4                         Bluetooth, CD player, MP3, USB   \n",
       "...                                                  ...   \n",
       "28625                                     Bluetooth, USB   \n",
       "28626                           On-board computer, Radio   \n",
       "28627  Bluetooth, CD player, Hands-free equipment, MP...   \n",
       "28628  Android Auto, Apple CarPlay, Bluetooth, Hands-...   \n",
       "28629                                  On-board computer   \n",
       "\n",
       "                                         Safety_Security  \\\n",
       "0                                                    NaN   \n",
       "1                                                    NaN   \n",
       "2                                                    NaN   \n",
       "3      ABS, Central door lock, Driver-side airbag, El...   \n",
       "4      ABS, Central door lock, Driver-side airbag, El...   \n",
       "...                                                  ...   \n",
       "28625  ABS, Central door lock, Driver-side airbag, El...   \n",
       "28626  ABS, Central door lock, Central door lock with...   \n",
       "28627  ABS, Alarm system, Central door lock with remo...   \n",
       "28628  Adaptive Cruise Control, Adaptive headlights, ...   \n",
       "28629  ABS, Alarm system, Central door lock, Central ...   \n",
       "\n",
       "                                                  Extras  Empty_Weight  \\\n",
       "0                                                    NaN        1270.0   \n",
       "1                                                    NaN        2355.0   \n",
       "2                                                    NaN        1555.0   \n",
       "3                                            Sport seats        1455.0   \n",
       "4                                                    NaN        1545.0   \n",
       "...                                                  ...           ...   \n",
       "28625                                       Alloy wheels        2077.0   \n",
       "28626                  Alloy wheels (16\"), Trailer hitch        1357.0   \n",
       "28627  Alloy wheels, Automatically dimming interior m...        1356.0   \n",
       "28628  Alloy wheels (18\"), Automatically dimming inte...        1617.0   \n",
       "28629  Alloy wheels, Automatically dimming interior m...        1573.0   \n",
       "\n",
       "      Full_Service_History         Upholstery Energy_Efficiency_Class   Age  \\\n",
       "0                       No              Cloth               efficient   6.0   \n",
       "1                       No  Part/Full Leather               efficient   0.0   \n",
       "2                       No  Part/Full Leather             unefficient   2.0   \n",
       "3                       No  Part/Full Leather             unefficient   2.0   \n",
       "4                       No  Part/Full Leather             unefficient   7.0   \n",
       "...                    ...                ...                     ...   ...   \n",
       "28625                   No  Part/Full Leather               efficient   3.0   \n",
       "28626                  Yes              Cloth               efficient  18.0   \n",
       "28627                  Yes              Cloth             unefficient  11.0   \n",
       "28628                  Yes  Part/Full Leather               efficient   5.0   \n",
       "28629                   No  Part/Full Leather             unefficient  20.0   \n",
       "\n",
       "       power_kW  Fuel_Consumption_comb Comfort_Convenience_Package  \n",
       "0          75.0                   3.80                    Standard  \n",
       "1         215.0                   4.50                     Premium  \n",
       "2         310.0                   8.40                    Standard  \n",
       "3         225.0                   7.30                    Standard  \n",
       "4         100.0                   4.90                    Standard  \n",
       "...         ...                    ...                         ...  \n",
       "28625     288.0                   6.30                    Standard  \n",
       "28626     125.0                   9.55                    Standard  \n",
       "28627      84.0                   5.90                    Standard  \n",
       "28628     187.0                   6.30                    Standard  \n",
       "28629     147.0                   5.90                    Standard  \n",
       "\n",
       "[28630 rows x 27 columns]"
      ]
     },
     "execution_count": 113,
     "metadata": {},
     "output_type": "execute_result"
    }
   ],
   "source": [
    "premium = [\"Electrical side mirrors\", \"Parking assist\", \"Air conditioning\", \"Hill Holder\", \"Power windows\"]\n",
    "premium_plus = [\"Multi-function\", \"Navigation \", \"Keyless central door lock\", \"Heads-up\", \"Massage seats\", \"heating\", \"Automatic climate control\", \"Heated\"]\n",
    "\n",
    "df['Comfort_Convenience_Package'] = df['Comfort_Convenience'].apply(lambda sentence: \"Premium Plus\" if all(word in sentence for word in premium_plus) else (\"Premium\" if all(word in sentence for word in premium) else \"Standard\"))\n",
    "df"
   ]
  },
  {
   "cell_type": "code",
   "execution_count": 114,
   "id": "78cb2457-cb8a-4156-9561-442d213ffe98",
   "metadata": {
    "tags": []
   },
   "outputs": [
    {
     "data": {
      "text/plain": [
       "Standard        19707\n",
       "Premium          8829\n",
       "Premium Plus       94\n",
       "Name: Comfort_Convenience_Package, dtype: int64"
      ]
     },
     "execution_count": 114,
     "metadata": {},
     "output_type": "execute_result"
    }
   ],
   "source": [
    "df['Comfort_Convenience_Package'].value_counts(dropna=False)"
   ]
  },
  {
   "cell_type": "code",
   "execution_count": 115,
   "id": "e88422c6-0676-4d63-a41b-bd71d470e746",
   "metadata": {},
   "outputs": [
    {
     "data": {
      "text/plain": [
       "(28630, 27)"
      ]
     },
     "execution_count": 115,
     "metadata": {},
     "output_type": "execute_result"
    }
   ],
   "source": [
    "df.shape"
   ]
  },
  {
   "cell_type": "code",
   "execution_count": 116,
   "id": "305c0310-a9cc-4f0c-bf1c-67b3322356c1",
   "metadata": {
    "tags": []
   },
   "outputs": [],
   "source": [
    "df.drop(\"Comfort_Convenience\", axis=1, inplace=True)"
   ]
  },
  {
   "cell_type": "code",
   "execution_count": 117,
   "id": "2a7f348e-9830-4bf0-b7ee-319f983c59f6",
   "metadata": {},
   "outputs": [
    {
     "data": {
      "text/plain": [
       "(28630, 26)"
      ]
     },
     "execution_count": 117,
     "metadata": {},
     "output_type": "execute_result"
    }
   ],
   "source": [
    "df.shape"
   ]
  },
  {
   "cell_type": "markdown",
   "id": "41d87309",
   "metadata": {},
   "source": [
    "### Entertainment_Media"
   ]
  },
  {
   "cell_type": "code",
   "execution_count": 118,
   "id": "26af6015",
   "metadata": {},
   "outputs": [
    {
     "name": "stdout",
     "output_type": "stream",
     "text": [
      "COLUMN NAME    :  Entertainment_Media\n",
      "--------------------------------\n",
      "per_of_nulls   :  % 17.42\n",
      "num_of_nulls   :  4986\n",
      "num_of_uniques :  1944\n",
      "--------------------------------\n",
      "NaN                                                                                                                                                                        4986\n",
      "Bluetooth, USB                                                                                                                                                              753\n",
      "Bluetooth                                                                                                                                                                   665\n",
      "On-board computer                                                                                                                                                           662\n",
      "CD player, On-board computer, Radio                                                                                                                                         644\n",
      "                                                                                                                                                                           ... \n",
      "Android Auto, Apple CarPlay, Bluetooth, Digital cockpit, Digital radio, Induction charging for smartphones, On-board computer, Radio, Sound system, WLAN / WiFi hotspot       1\n",
      "Bluetooth, CD player, Digital cockpit, Digital radio, Hands-free equipment, Integrated music streaming, On-board computer, Sound system, USB, WLAN / WiFi hotspot             1\n",
      "Digital cockpit, Digital radio, On-board computer, Radio                                                                                                                      1\n",
      "Android Auto, Apple CarPlay, Digital radio, On-board computer, Radio, Sound system, USB, WLAN / WiFi hotspot                                                                  1\n",
      "Hands-free equipment, Integrated music streaming, On-board computer, Radio, USB                                                                                               1\n",
      "Name: Entertainment_Media, Length: 1945, dtype: int64\n"
     ]
    }
   ],
   "source": [
    "first_looking(\"Entertainment_Media\")"
   ]
  },
  {
   "cell_type": "code",
   "execution_count": 119,
   "id": "ea2e3b91",
   "metadata": {},
   "outputs": [],
   "source": [
    "def equipment(x):\n",
    "    if type(x) != float:\n",
    "         if all(i in x for i in [\"Apple CarPlay\",\"Bluetooth\",\"USB\",\"Android Auto\",\"WLAN / WiFi hotspot\"]):\n",
    "            return \"Premium\"\n",
    "         else:\n",
    "            return \"Standard\"\n",
    "    else:\n",
    "        return \"No info\""
   ]
  },
  {
   "cell_type": "code",
   "execution_count": 120,
   "id": "1f4e78b9",
   "metadata": {},
   "outputs": [],
   "source": [
    "df['Entertainment_Media'] = df.Entertainment_Media.apply(equipment)"
   ]
  },
  {
   "cell_type": "code",
   "execution_count": 121,
   "id": "68748037",
   "metadata": {},
   "outputs": [
    {
     "data": {
      "text/plain": [
       "Standard    22026\n",
       "No info      4986\n",
       "Premium      1618\n",
       "Name: Entertainment_Media, dtype: int64"
      ]
     },
     "execution_count": 121,
     "metadata": {},
     "output_type": "execute_result"
    }
   ],
   "source": [
    "df['Entertainment_Media'].value_counts(dropna=False)"
   ]
  },
  {
   "cell_type": "markdown",
   "id": "2f50632b",
   "metadata": {},
   "source": [
    "### Safety_Security"
   ]
  },
  {
   "cell_type": "code",
   "execution_count": 74,
   "id": "26771d5b",
   "metadata": {},
   "outputs": [
    {
     "data": {
      "text/html": [
       "<div>\n",
       "<style scoped>\n",
       "    .dataframe tbody tr th:only-of-type {\n",
       "        vertical-align: middle;\n",
       "    }\n",
       "\n",
       "    .dataframe tbody tr th {\n",
       "        vertical-align: top;\n",
       "    }\n",
       "\n",
       "    .dataframe thead th {\n",
       "        text-align: right;\n",
       "    }\n",
       "</style>\n",
       "<table border=\"1\" class=\"dataframe\">\n",
       "  <thead>\n",
       "    <tr style=\"text-align: right;\">\n",
       "      <th></th>\n",
       "      <th>Safety_Security</th>\n",
       "    </tr>\n",
       "  </thead>\n",
       "  <tbody>\n",
       "    <tr>\n",
       "      <th>0</th>\n",
       "      <td>NaN</td>\n",
       "    </tr>\n",
       "    <tr>\n",
       "      <th>1</th>\n",
       "      <td>NaN</td>\n",
       "    </tr>\n",
       "    <tr>\n",
       "      <th>2</th>\n",
       "      <td>NaN</td>\n",
       "    </tr>\n",
       "    <tr>\n",
       "      <th>3</th>\n",
       "      <td>ABS, Central door lock, Driver-side airbag, El...</td>\n",
       "    </tr>\n",
       "    <tr>\n",
       "      <th>4</th>\n",
       "      <td>ABS, Central door lock, Driver-side airbag, El...</td>\n",
       "    </tr>\n",
       "    <tr>\n",
       "      <th>...</th>\n",
       "      <td>...</td>\n",
       "    </tr>\n",
       "    <tr>\n",
       "      <th>28625</th>\n",
       "      <td>ABS, Central door lock, Driver-side airbag, El...</td>\n",
       "    </tr>\n",
       "    <tr>\n",
       "      <th>28626</th>\n",
       "      <td>ABS, Central door lock, Central door lock with...</td>\n",
       "    </tr>\n",
       "    <tr>\n",
       "      <th>28627</th>\n",
       "      <td>ABS, Alarm system, Central door lock with remo...</td>\n",
       "    </tr>\n",
       "    <tr>\n",
       "      <th>28628</th>\n",
       "      <td>Adaptive Cruise Control, Adaptive headlights, ...</td>\n",
       "    </tr>\n",
       "    <tr>\n",
       "      <th>28629</th>\n",
       "      <td>ABS, Alarm system, Central door lock, Central ...</td>\n",
       "    </tr>\n",
       "  </tbody>\n",
       "</table>\n",
       "<p>28630 rows × 1 columns</p>\n",
       "</div>"
      ],
      "text/plain": [
       "                                         Safety_Security\n",
       "0                                                    NaN\n",
       "1                                                    NaN\n",
       "2                                                    NaN\n",
       "3      ABS, Central door lock, Driver-side airbag, El...\n",
       "4      ABS, Central door lock, Driver-side airbag, El...\n",
       "...                                                  ...\n",
       "28625  ABS, Central door lock, Driver-side airbag, El...\n",
       "28626  ABS, Central door lock, Central door lock with...\n",
       "28627  ABS, Alarm system, Central door lock with remo...\n",
       "28628  Adaptive Cruise Control, Adaptive headlights, ...\n",
       "28629  ABS, Alarm system, Central door lock, Central ...\n",
       "\n",
       "[28630 rows x 1 columns]"
      ]
     },
     "execution_count": 74,
     "metadata": {},
     "output_type": "execute_result"
    }
   ],
   "source": [
    "first_looking(\"safety_&_security\")"
   ]
  },
  {
   "cell_type": "code",
   "execution_count": 122,
   "id": "93865245",
   "metadata": {},
   "outputs": [],
   "source": [
    "def Security(x):\n",
    "    if type(x) != float:\n",
    "        if all(i in x for i in [\"ABS\", \"Alarm system\", \"Driver-side airbag\", \"Central door lock\", \n",
    "                                \"Emergency system\",\"Head airbag\"]):\n",
    "            return \"High_security\"\n",
    "        elif any(i in x for i in [\"Blind spot monitor\", \"Fog lights\",\"High beam assist\"]):\n",
    "            return \"Medium_security\"\n",
    "        else:\n",
    "            return \"Low_security\"\n",
    "    else:\n",
    "        return x"
   ]
  },
  {
   "cell_type": "code",
   "execution_count": 123,
   "id": "78433595",
   "metadata": {},
   "outputs": [],
   "source": [
    "df.Safety_Security = df.Safety_Security.apply(Security)"
   ]
  },
  {
   "cell_type": "code",
   "execution_count": 124,
   "id": "baf7e497",
   "metadata": {},
   "outputs": [
    {
     "data": {
      "text/plain": [
       "Medium_security    17137\n",
       "Low_security        7544\n",
       "NaN                 3215\n",
       "High_security        734\n",
       "Name: Safety_Security, dtype: int64"
      ]
     },
     "execution_count": 124,
     "metadata": {},
     "output_type": "execute_result"
    }
   ],
   "source": [
    "df.Safety_Security.value_counts(dropna=False)"
   ]
  },
  {
   "cell_type": "code",
   "execution_count": 125,
   "id": "92444a07",
   "metadata": {},
   "outputs": [],
   "source": [
    "for group in list(df[\"Make_Model\"].unique()):\n",
    "    cond = df[\"Make_Model\"] == group\n",
    "    df.loc[cond, \"Safety_Security\"] = df.loc[cond, \"Safety_Security\"].fillna(method= \"ffill\").fillna(method= \"bfill\")\n",
    "df.Safety_Security = df.Safety_Security.fillna(method= \"ffill\").fillna(method= \"bfill\")"
   ]
  },
  {
   "cell_type": "code",
   "execution_count": 126,
   "id": "725b49b5",
   "metadata": {},
   "outputs": [
    {
     "data": {
      "text/plain": [
       "0"
      ]
     },
     "execution_count": 126,
     "metadata": {},
     "output_type": "execute_result"
    }
   ],
   "source": [
    "df.Safety_Security.isnull().sum()"
   ]
  },
  {
   "cell_type": "markdown",
   "id": "ba641e9a",
   "metadata": {},
   "source": [
    "### Extras"
   ]
  },
  {
   "cell_type": "code",
   "execution_count": 127,
   "id": "4a00b915",
   "metadata": {},
   "outputs": [
    {
     "name": "stdout",
     "output_type": "stream",
     "text": [
      "COLUMN NAME    :  Extras\n",
      "--------------------------------\n",
      "per_of_nulls   :  % 17.99\n",
      "num_of_nulls   :  5150\n",
      "num_of_uniques :  9360\n",
      "--------------------------------\n",
      "NaN                                                                                                                                                                                                                                                                 5150\n",
      "Alloy wheels                                                                                                                                                                                                                                                        3408\n",
      "Alloy wheels, Roof rack                                                                                                                                                                                                                                              380\n",
      "Alloy wheels, Sport seats                                                                                                                                                                                                                                            372\n",
      "Alloy wheels, Touch screen                                                                                                                                                                                                                                           231\n",
      "                                                                                                                                                                                                                                                                    ... \n",
      "Alloy wheels (18\"), Spoiler, Summer tyres, Trailer hitch                                                                                                                                                                                                               1\n",
      "All season tyres, Alloy wheels, Automatically dimming interior mirror, Catalytic Converter, Headlight washer system, Ski bag, Sport seats, Trailer hitch, Winter tyres                                                                                                 1\n",
      "Alloy wheels, Automatically dimming interior mirror, Headlight washer system, Sport package, Sport seats, Summer tyres                                                                                                                                                 1\n",
      "Alloy wheels (19\"), Ambient lighting, Automatically dimming interior mirror, Catalytic Converter, E10-enabled, Emergency tyre repair kit, Headlight washer system, Spoiler, Sport package, Sport seats, Sport suspension, Summer tyres, Tuned car, Voice Control       1\n",
      "Alloy wheels, Automatically dimming interior mirror, Ski bag, Trailer hitch                                                                                                                                                                                            1\n",
      "Name: Extras, Length: 9361, dtype: int64\n"
     ]
    }
   ],
   "source": [
    "first_looking(\"Extras\")"
   ]
  },
  {
   "cell_type": "code",
   "execution_count": 128,
   "id": "062ed5df",
   "metadata": {},
   "outputs": [],
   "source": [
    "def Extras_Classification(x):\n",
    "    if x is np.nan : return np.nan\n",
    "    elif 'Steel wheels' in x or 'Voice Control' in x or 'Touch screen' in x : return \"Premium\"\n",
    "    else : return \"Standard\""
   ]
  },
  {
   "cell_type": "code",
   "execution_count": 129,
   "id": "a4bf870d",
   "metadata": {},
   "outputs": [],
   "source": [
    "df.Extras = df.Extras.apply(Extras_Classification)"
   ]
  },
  {
   "cell_type": "code",
   "execution_count": 130,
   "id": "e5be15b6",
   "metadata": {},
   "outputs": [
    {
     "data": {
      "text/plain": [
       "Premium     12167\n",
       "Standard    11313\n",
       "NaN          5150\n",
       "Name: Extras, dtype: int64"
      ]
     },
     "execution_count": 130,
     "metadata": {},
     "output_type": "execute_result"
    }
   ],
   "source": [
    "df.Extras.value_counts(dropna=False)"
   ]
  },
  {
   "cell_type": "code",
   "execution_count": 131,
   "id": "87b5df8b",
   "metadata": {
    "tags": []
   },
   "outputs": [
    {
     "name": "stdout",
     "output_type": "stream",
     "text": [
      "Number of NaN :  0\n",
      "------------------\n",
      "Premium     14725\n",
      "Standard    13905\n",
      "Name: Extras, dtype: int64\n"
     ]
    }
   ],
   "source": [
    "fill(df, \"Make_Model\", \"Body_Type\", \"Extras\", \"mode\")"
   ]
  },
  {
   "cell_type": "code",
   "execution_count": 132,
   "id": "52a76072-0ebd-4e76-8903-9bbed88aa035",
   "metadata": {},
   "outputs": [
    {
     "data": {
      "text/plain": [
       "(28630, 26)"
      ]
     },
     "execution_count": 132,
     "metadata": {},
     "output_type": "execute_result"
    }
   ],
   "source": [
    "df.shape"
   ]
  },
  {
   "cell_type": "code",
   "execution_count": 136,
   "id": "93b2e50d-46d2-4b54-873f-fb99836a0800",
   "metadata": {},
   "outputs": [
    {
     "data": {
      "text/plain": [
       "Make_Model                     0.0\n",
       "Location                       0.0\n",
       "Price                          0.0\n",
       "Body_Type                      0.0\n",
       "Type                           0.0\n",
       "Doors                          0.0\n",
       "Mileage                        0.0\n",
       "Gearbox                        0.0\n",
       "Fuel_Type                      0.0\n",
       "Seller                         0.0\n",
       "Seats                          0.0\n",
       "Engine_Size                    0.0\n",
       "Gears                          0.0\n",
       "CO2_Emissions                  0.0\n",
       "Drivetrain                     0.0\n",
       "Entertainment_Media            0.0\n",
       "Safety_Security                0.0\n",
       "Extras                         0.0\n",
       "Empty_Weight                   0.0\n",
       "Full_Service_History           0.0\n",
       "Upholstery                     0.0\n",
       "Energy_Efficiency_Class        0.0\n",
       "Age                            0.0\n",
       "power_kW                       0.0\n",
       "Fuel_Consumption_comb          0.0\n",
       "Comfort_Convenience_Package    0.0\n",
       "dtype: float64"
      ]
     },
     "execution_count": 136,
     "metadata": {},
     "output_type": "execute_result"
    }
   ],
   "source": [
    "df.isnull().sum()*100 / df.shape[0]"
   ]
  },
  {
   "cell_type": "code",
   "execution_count": null,
   "id": "0a879f1a-842b-4e7b-afc6-de5f0fd2b329",
   "metadata": {},
   "outputs": [],
   "source": [
    "## I'll save the dataset with a csv extension in the following notebook for further analysis (Handling Outliers):"
   ]
  },
  {
   "cell_type": "code",
   "execution_count": 137,
   "id": "7ea29c43",
   "metadata": {},
   "outputs": [],
   "source": [
    "df.to_csv(\"Autoscout_Missing_Value.csv\", index=False)"
   ]
  }
 ],
 "metadata": {
  "kernelspec": {
   "display_name": "Python 3 (ipykernel)",
   "language": "python",
   "name": "python3"
  },
  "language_info": {
   "codemirror_mode": {
    "name": "ipython",
    "version": 3
   },
   "file_extension": ".py",
   "mimetype": "text/x-python",
   "name": "python",
   "nbconvert_exporter": "python",
   "pygments_lexer": "ipython3",
   "version": "3.9.12"
  }
 },
 "nbformat": 4,
 "nbformat_minor": 5
}
